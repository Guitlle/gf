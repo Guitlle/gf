{
 "cells": [
  {
   "cell_type": "code",
   "execution_count": 1,
   "metadata": {},
   "outputs": [],
   "source": [
    "from IPython.display import display, HTML\n",
    "\n",
    "import pandas as pd\n",
    "import numpy as np\n",
    "import seaborn as sb\n",
    "import matplotlib as mlp\n",
    "import matplotlib.pyplot as plt\n",
    "import geopandas as gp\n",
    "import os\n",
    "\n",
    "%matplotlib inline\n",
    "plt.style.use('ggplot')"
   ]
  },
  {
   "cell_type": "code",
   "execution_count": 2,
   "metadata": {},
   "outputs": [],
   "source": [
    "plt.rcParams[\"figure.facecolor\"] = \"w\"\n",
    "plt.rcParams[\"figure.dpi\"] = 120\n",
    "pd.options.display.max_columns = 1000"
   ]
  },
  {
   "cell_type": "code",
   "execution_count": 3,
   "metadata": {},
   "outputs": [],
   "source": [
    "os.chdir(\"../../core\")\n",
    "import GT_helper_functions as hf\n",
    "import GT_load_data as data"
   ]
  },
  {
   "cell_type": "code",
   "execution_count": 4,
   "metadata": {},
   "outputs": [],
   "source": [
    "base_dir = \"../../Outcome Measurement Data/MULTI/\""
   ]
  },
  {
   "cell_type": "code",
   "execution_count": 5,
   "metadata": {},
   "outputs": [],
   "source": [
    "gbd17 = pd.read_csv(\"../../Outcome Measurement Data/MULTI/GBD-2017/IHME-GBD_2017_DATA-3f789f48-1.csv\")"
   ]
  },
  {
   "cell_type": "code",
   "execution_count": 10,
   "metadata": {},
   "outputs": [
    {
     "data": {
      "text/plain": [
       "Index(['measure', 'location', 'sex', 'age', 'cause', 'metric', 'year', 'val',\n",
       "       'upper', 'lower'],\n",
       "      dtype='object')"
      ]
     },
     "execution_count": 10,
     "metadata": {},
     "output_type": "execute_result"
    }
   ],
   "source": [
    "gbd17.columns"
   ]
  },
  {
   "cell_type": "code",
   "execution_count": 44,
   "metadata": {},
   "outputs": [],
   "source": [
    "#gbd17.age.value_counts()\n",
    "# All ages :\n",
    "allages = [\"Under 5\", \"5-14 years\", \"15-49 years\", \"50-69 years\", \"70+ years\"]"
   ]
  },
  {
   "cell_type": "code",
   "execution_count": 46,
   "metadata": {},
   "outputs": [
    {
     "data": {
      "text/html": [
       "<div>\n",
       "<style scoped>\n",
       "    .dataframe tbody tr th:only-of-type {\n",
       "        vertical-align: middle;\n",
       "    }\n",
       "\n",
       "    .dataframe tbody tr th {\n",
       "        vertical-align: top;\n",
       "    }\n",
       "\n",
       "    .dataframe thead th {\n",
       "        text-align: right;\n",
       "    }\n",
       "</style>\n",
       "<table border=\"1\" class=\"dataframe\">\n",
       "  <thead>\n",
       "    <tr style=\"text-align: right;\">\n",
       "      <th></th>\n",
       "      <th></th>\n",
       "      <th></th>\n",
       "      <th></th>\n",
       "      <th>val</th>\n",
       "      <th>upper</th>\n",
       "      <th>lower</th>\n",
       "    </tr>\n",
       "    <tr>\n",
       "      <th>cause</th>\n",
       "      <th>year</th>\n",
       "      <th>location</th>\n",
       "      <th>measure</th>\n",
       "      <th></th>\n",
       "      <th></th>\n",
       "      <th></th>\n",
       "    </tr>\n",
       "  </thead>\n",
       "  <tbody>\n",
       "    <tr>\n",
       "      <th rowspan=\"5\" valign=\"top\">Tuberculosis</th>\n",
       "      <th rowspan=\"2\" valign=\"top\">2016</th>\n",
       "      <th rowspan=\"2\" valign=\"top\">Guatemala</th>\n",
       "      <th>Incidence</th>\n",
       "      <td>2.818198e+03</td>\n",
       "      <td>3.287203e+03</td>\n",
       "      <td>2.398425e+03</td>\n",
       "    </tr>\n",
       "    <tr>\n",
       "      <th>Prevalence</th>\n",
       "      <td>4.477704e+06</td>\n",
       "      <td>5.606287e+06</td>\n",
       "      <td>3.559467e+06</td>\n",
       "    </tr>\n",
       "    <tr>\n",
       "      <th rowspan=\"3\" valign=\"top\">2017</th>\n",
       "      <th rowspan=\"3\" valign=\"top\">Guatemala</th>\n",
       "      <th>Deaths</th>\n",
       "      <td>4.081677e+02</td>\n",
       "      <td>5.608047e+02</td>\n",
       "      <td>3.164495e+02</td>\n",
       "    </tr>\n",
       "    <tr>\n",
       "      <th>Incidence</th>\n",
       "      <td>2.881179e+03</td>\n",
       "      <td>3.370483e+03</td>\n",
       "      <td>2.444302e+03</td>\n",
       "    </tr>\n",
       "    <tr>\n",
       "      <th>Prevalence</th>\n",
       "      <td>4.538343e+06</td>\n",
       "      <td>5.692189e+06</td>\n",
       "      <td>3.602212e+06</td>\n",
       "    </tr>\n",
       "  </tbody>\n",
       "</table>\n",
       "</div>"
      ],
      "text/plain": [
       "                                                 val         upper  \\\n",
       "cause        year location  measure                                  \n",
       "Tuberculosis 2016 Guatemala Incidence   2.818198e+03  3.287203e+03   \n",
       "                            Prevalence  4.477704e+06  5.606287e+06   \n",
       "             2017 Guatemala Deaths      4.081677e+02  5.608047e+02   \n",
       "                            Incidence   2.881179e+03  3.370483e+03   \n",
       "                            Prevalence  4.538343e+06  5.692189e+06   \n",
       "\n",
       "                                               lower  \n",
       "cause        year location  measure                   \n",
       "Tuberculosis 2016 Guatemala Incidence   2.398425e+03  \n",
       "                            Prevalence  3.559467e+06  \n",
       "             2017 Guatemala Deaths      3.164495e+02  \n",
       "                            Incidence   2.444302e+03  \n",
       "                            Prevalence  3.602212e+06  "
      ]
     },
     "execution_count": 46,
     "metadata": {},
     "output_type": "execute_result"
    }
   ],
   "source": [
    "gbd17[(gbd17.metric== \"Number\") & \n",
    "      (gbd17.location == \"Guatemala\") &\n",
    "      (gbd17.age.isin(allages))]\\\n",
    "    .groupby([\"cause\", \"year\", \"location\", \"measure\"]).agg({\n",
    "            \"val\": \"sum\", \"upper\": \"sum\", \"lower\": \"sum\"\n",
    "        }).tail()"
   ]
  },
  {
   "cell_type": "code",
   "execution_count": 39,
   "metadata": {},
   "outputs": [],
   "source": [
    "gbd15_17pop = pd.read_csv(\"../../Outcome Measurement Data/MULTI/GBD-2017/IHME_GBD_2017_POP_2015_2017_Y2018M11D08.CSV\")\n",
    "gbd10_14pop = pd.read_csv(\"../../Outcome Measurement Data/MULTI/GBD-2017/IHME_GBD_2017_POP_2010_2014_Y2018M11D08.CSV\")\n",
    "gbd05_09pop = pd.read_csv(\"../../Outcome Measurement Data/MULTI/GBD-2017/IHME_GBD_2017_POP_2005_2009_Y2018M11D08.CSV\")\n",
    "gbd00_04pop = pd.read_csv(\"../../Outcome Measurement Data/MULTI/GBD-2017/IHME_GBD_2017_POP_2000_2004_Y2018M11D08.CSV\")"
   ]
  },
  {
   "cell_type": "code",
   "execution_count": 37,
   "metadata": {},
   "outputs": [
    {
     "data": {
      "text/plain": [
       "Both      187131\n",
       "Female    187131\n",
       "Male      187131\n",
       "Name: sex_name, dtype: int64"
      ]
     },
     "execution_count": 37,
     "metadata": {},
     "output_type": "execute_result"
    }
   ],
   "source": [
    "gbd15_17pop.sex_name.value_counts()"
   ]
  },
  {
   "cell_type": "code",
   "execution_count": 40,
   "metadata": {},
   "outputs": [],
   "source": [
    "def aggGtPop(dataframe):\n",
    "    return dataframe[dataframe.age_group_name.isin(allages) & \n",
    "                (dataframe.location_name == \"Guatemala\") &\n",
    "                (dataframe.sex_name == \"Both\")\n",
    "               ].groupby(\"year_id\").agg({\n",
    "        \"val\": \"sum\",\n",
    "        \"upper\": \"sum\",\n",
    "        \"lower\": \"sum\"\n",
    "    })"
   ]
  },
  {
   "cell_type": "code",
   "execution_count": 41,
   "metadata": {},
   "outputs": [],
   "source": [
    "GtPop = pd.concat([\n",
    "    aggGtPop(gbd15_17pop),\n",
    "    aggGtPop(gbd10_14pop),\n",
    "    aggGtPop(gbd05_09pop),\n",
    "    aggGtPop(gbd00_04pop)\n",
    "          ])"
   ]
  },
  {
   "cell_type": "code",
   "execution_count": 47,
   "metadata": {},
   "outputs": [
    {
     "data": {
      "text/html": [
       "<div>\n",
       "<style scoped>\n",
       "    .dataframe tbody tr th:only-of-type {\n",
       "        vertical-align: middle;\n",
       "    }\n",
       "\n",
       "    .dataframe tbody tr th {\n",
       "        vertical-align: top;\n",
       "    }\n",
       "\n",
       "    .dataframe thead th {\n",
       "        text-align: right;\n",
       "    }\n",
       "</style>\n",
       "<table border=\"1\" class=\"dataframe\">\n",
       "  <thead>\n",
       "    <tr style=\"text-align: right;\">\n",
       "      <th></th>\n",
       "      <th>val</th>\n",
       "      <th>upper</th>\n",
       "      <th>lower</th>\n",
       "    </tr>\n",
       "    <tr>\n",
       "      <th>year_id</th>\n",
       "      <th></th>\n",
       "      <th></th>\n",
       "      <th></th>\n",
       "    </tr>\n",
       "  </thead>\n",
       "  <tbody>\n",
       "    <tr>\n",
       "      <th>2000</th>\n",
       "      <td>1.093944e+07</td>\n",
       "      <td>1.183010e+07</td>\n",
       "      <td>1.010558e+07</td>\n",
       "    </tr>\n",
       "    <tr>\n",
       "      <th>2001</th>\n",
       "      <td>1.128742e+07</td>\n",
       "      <td>1.214730e+07</td>\n",
       "      <td>1.046162e+07</td>\n",
       "    </tr>\n",
       "    <tr>\n",
       "      <th>2002</th>\n",
       "      <td>1.164147e+07</td>\n",
       "      <td>1.245544e+07</td>\n",
       "      <td>1.083104e+07</td>\n",
       "    </tr>\n",
       "    <tr>\n",
       "      <th>2003</th>\n",
       "      <td>1.199778e+07</td>\n",
       "      <td>1.295235e+07</td>\n",
       "      <td>1.110808e+07</td>\n",
       "    </tr>\n",
       "    <tr>\n",
       "      <th>2004</th>\n",
       "      <td>1.235307e+07</td>\n",
       "      <td>1.328605e+07</td>\n",
       "      <td>1.139675e+07</td>\n",
       "    </tr>\n",
       "    <tr>\n",
       "      <th>2005</th>\n",
       "      <td>1.270121e+07</td>\n",
       "      <td>1.373576e+07</td>\n",
       "      <td>1.162490e+07</td>\n",
       "    </tr>\n",
       "    <tr>\n",
       "      <th>2006</th>\n",
       "      <td>1.304212e+07</td>\n",
       "      <td>1.429803e+07</td>\n",
       "      <td>1.184061e+07</td>\n",
       "    </tr>\n",
       "    <tr>\n",
       "      <th>2007</th>\n",
       "      <td>1.338471e+07</td>\n",
       "      <td>1.482579e+07</td>\n",
       "      <td>1.203974e+07</td>\n",
       "    </tr>\n",
       "    <tr>\n",
       "      <th>2008</th>\n",
       "      <td>1.373260e+07</td>\n",
       "      <td>1.516473e+07</td>\n",
       "      <td>1.220957e+07</td>\n",
       "    </tr>\n",
       "    <tr>\n",
       "      <th>2009</th>\n",
       "      <td>1.408140e+07</td>\n",
       "      <td>1.561625e+07</td>\n",
       "      <td>1.257531e+07</td>\n",
       "    </tr>\n",
       "    <tr>\n",
       "      <th>2010</th>\n",
       "      <td>1.442743e+07</td>\n",
       "      <td>1.611088e+07</td>\n",
       "      <td>1.276386e+07</td>\n",
       "    </tr>\n",
       "    <tr>\n",
       "      <th>2011</th>\n",
       "      <td>1.476934e+07</td>\n",
       "      <td>1.673171e+07</td>\n",
       "      <td>1.297215e+07</td>\n",
       "    </tr>\n",
       "    <tr>\n",
       "      <th>2012</th>\n",
       "      <td>1.511247e+07</td>\n",
       "      <td>1.706396e+07</td>\n",
       "      <td>1.307236e+07</td>\n",
       "    </tr>\n",
       "    <tr>\n",
       "      <th>2013</th>\n",
       "      <td>1.546285e+07</td>\n",
       "      <td>1.770391e+07</td>\n",
       "      <td>1.322592e+07</td>\n",
       "    </tr>\n",
       "    <tr>\n",
       "      <th>2014</th>\n",
       "      <td>1.581853e+07</td>\n",
       "      <td>1.814921e+07</td>\n",
       "      <td>1.351589e+07</td>\n",
       "    </tr>\n",
       "    <tr>\n",
       "      <th>2015</th>\n",
       "      <td>1.617964e+07</td>\n",
       "      <td>1.854916e+07</td>\n",
       "      <td>1.377633e+07</td>\n",
       "    </tr>\n",
       "    <tr>\n",
       "      <th>2016</th>\n",
       "      <td>1.654824e+07</td>\n",
       "      <td>1.913560e+07</td>\n",
       "      <td>1.423157e+07</td>\n",
       "    </tr>\n",
       "    <tr>\n",
       "      <th>2017</th>\n",
       "      <td>1.692421e+07</td>\n",
       "      <td>1.963475e+07</td>\n",
       "      <td>1.422989e+07</td>\n",
       "    </tr>\n",
       "  </tbody>\n",
       "</table>\n",
       "</div>"
      ],
      "text/plain": [
       "                  val         upper         lower\n",
       "year_id                                          \n",
       "2000     1.093944e+07  1.183010e+07  1.010558e+07\n",
       "2001     1.128742e+07  1.214730e+07  1.046162e+07\n",
       "2002     1.164147e+07  1.245544e+07  1.083104e+07\n",
       "2003     1.199778e+07  1.295235e+07  1.110808e+07\n",
       "2004     1.235307e+07  1.328605e+07  1.139675e+07\n",
       "2005     1.270121e+07  1.373576e+07  1.162490e+07\n",
       "2006     1.304212e+07  1.429803e+07  1.184061e+07\n",
       "2007     1.338471e+07  1.482579e+07  1.203974e+07\n",
       "2008     1.373260e+07  1.516473e+07  1.220957e+07\n",
       "2009     1.408140e+07  1.561625e+07  1.257531e+07\n",
       "2010     1.442743e+07  1.611088e+07  1.276386e+07\n",
       "2011     1.476934e+07  1.673171e+07  1.297215e+07\n",
       "2012     1.511247e+07  1.706396e+07  1.307236e+07\n",
       "2013     1.546285e+07  1.770391e+07  1.322592e+07\n",
       "2014     1.581853e+07  1.814921e+07  1.351589e+07\n",
       "2015     1.617964e+07  1.854916e+07  1.377633e+07\n",
       "2016     1.654824e+07  1.913560e+07  1.423157e+07\n",
       "2017     1.692421e+07  1.963475e+07  1.422989e+07"
      ]
     },
     "execution_count": 47,
     "metadata": {},
     "output_type": "execute_result"
    }
   ],
   "source": [
    "GtPop.sort_index()"
   ]
  },
  {
   "cell_type": "code",
   "execution_count": null,
   "metadata": {},
   "outputs": [],
   "source": []
  }
 ],
 "metadata": {
  "kernelspec": {
   "display_name": "Python 3",
   "language": "python",
   "name": "python3"
  },
  "language_info": {
   "codemirror_mode": {
    "name": "ipython",
    "version": 3
   },
   "file_extension": ".py",
   "mimetype": "text/x-python",
   "name": "python",
   "nbconvert_exporter": "python",
   "pygments_lexer": "ipython3",
   "version": "3.6.3"
  }
 },
 "nbformat": 4,
 "nbformat_minor": 2
}
