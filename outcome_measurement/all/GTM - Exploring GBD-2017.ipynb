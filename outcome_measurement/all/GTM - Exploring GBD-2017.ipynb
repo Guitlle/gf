{
 "cells": [
  {
   "cell_type": "code",
   "execution_count": null,
   "metadata": {},
   "outputs": [],
   "source": [
    "from IPython.display import display, HTML\n",
    "\n",
    "import pandas as pd\n",
    "import numpy as np\n",
    "import seaborn as sb\n",
    "import matplotlib as mlp\n",
    "import matplotlib.pyplot as plt\n",
    "import geopandas as gp\n",
    "import os\n",
    "\n",
    "%matplotlib inline\n",
    "plt.style.use('seaborn-whitegrid')"
   ]
  },
  {
   "cell_type": "code",
   "execution_count": null,
   "metadata": {},
   "outputs": [],
   "source": [
    "plt.rcParams[\"figure.facecolor\"] = \"w\"\n",
    "plt.rcParams[\"figure.dpi\"] = 120\n",
    "pd.options.display.max_columns = 1000"
   ]
  },
  {
   "cell_type": "code",
   "execution_count": null,
   "metadata": {},
   "outputs": [],
   "source": [
    "os.chdir(\"../../core\")\n",
    "import GT_helper_functions as hf\n",
    "import GT_load_data as data"
   ]
  },
  {
   "cell_type": "code",
   "execution_count": null,
   "metadata": {},
   "outputs": [],
   "source": [
    "base_dir = \"../../Outcome Measurement Data/MULTI/\""
   ]
  },
  {
   "cell_type": "code",
   "execution_count": null,
   "metadata": {},
   "outputs": [],
   "source": [
    "gbd17 = pd.read_csv(\"../../Outcome Measurement Data/MULTI/GBD-2017/IHME-GBD_2017_DATA-3f789f48-1.csv\")"
   ]
  },
  {
   "cell_type": "code",
   "execution_count": null,
   "metadata": {},
   "outputs": [],
   "source": [
    "gbd17.columns"
   ]
  },
  {
   "cell_type": "code",
   "execution_count": null,
   "metadata": {},
   "outputs": [],
   "source": [
    "#gbd17.age.value_counts()\n",
    "# All ages :\n",
    "allages = [\"Under 5\", \"5-14 years\", \"15-49 years\", \"50-69 years\", \"70+ years\"]\n",
    "countries = [\"Guatemala\", \"El Salvador\", \"Mexico\", \"Honduras\"]\n"
   ]
  },
  {
   "cell_type": "code",
   "execution_count": null,
   "metadata": {},
   "outputs": [],
   "source": [
    "gbdCounts = gbd17[(gbd17.metric== \"Number\") & \n",
    "      (gbd17.location.isin(countries)) &\n",
    "      (gbd17.age.isin(allages))]\\\n",
    "    .groupby([\"cause\", \"year\", \"location\", \"measure\"]).agg({\n",
    "            \"val\": \"sum\", \"upper\": \"sum\", \"lower\": \"sum\"\n",
    "        })"
   ]
  },
  {
   "cell_type": "code",
   "execution_count": null,
   "metadata": {},
   "outputs": [],
   "source": [
    "gbd15_17pop = pd.read_csv(\"../../Outcome Measurement Data/MULTI/GBD-2017/IHME_GBD_2017_POP_2015_2017_Y2018M11D08.CSV\")\n",
    "gbd10_14pop = pd.read_csv(\"../../Outcome Measurement Data/MULTI/GBD-2017/IHME_GBD_2017_POP_2010_2014_Y2018M11D08.CSV\")\n",
    "gbd05_09pop = pd.read_csv(\"../../Outcome Measurement Data/MULTI/GBD-2017/IHME_GBD_2017_POP_2005_2009_Y2018M11D08.CSV\")\n",
    "gbd00_04pop = pd.read_csv(\"../../Outcome Measurement Data/MULTI/GBD-2017/IHME_GBD_2017_POP_2000_2004_Y2018M11D08.CSV\")"
   ]
  },
  {
   "cell_type": "code",
   "execution_count": null,
   "metadata": {},
   "outputs": [],
   "source": [
    "gbd15_17pop.sex_name.value_counts()"
   ]
  },
  {
   "cell_type": "code",
   "execution_count": null,
   "metadata": {},
   "outputs": [],
   "source": [
    "def aggPop(dataframe):\n",
    "    return dataframe[dataframe.age_group_name.isin(allages) & \n",
    "                (dataframe.location_name.isin(countries)) &\n",
    "                (dataframe.sex_name == \"Both\")\n",
    "               ].groupby([\"year_id\",\"location_name\"]).agg({\n",
    "        \"val\": \"sum\",\n",
    "        \"upper\": \"sum\",\n",
    "        \"lower\": \"sum\"\n",
    "    })"
   ]
  },
  {
   "cell_type": "code",
   "execution_count": null,
   "metadata": {},
   "outputs": [],
   "source": [
    "pops = pd.concat([\n",
    "    aggPop(gbd15_17pop),\n",
    "    aggPop(gbd10_14pop),\n",
    "    aggPop(gbd05_09pop),\n",
    "    aggPop(gbd00_04pop)\n",
    "          ]).sort_index()"
   ]
  },
  {
   "cell_type": "code",
   "execution_count": null,
   "metadata": {},
   "outputs": [],
   "source": [
    "pops/1000000"
   ]
  },
  {
   "cell_type": "code",
   "execution_count": null,
   "metadata": {},
   "outputs": [],
   "source": [
    "gbdCounts = gbdCounts.reset_index()"
   ]
  },
  {
   "cell_type": "code",
   "execution_count": null,
   "metadata": {},
   "outputs": [],
   "source": [
    "gbdCounts[\"cause2\"] = gbdCounts.cause.map(lambda x: \"TB\" if \"Tuberculosis\" in x else \"HIV\" if \"HIV\" in x else \"Malaria\" if \"Malaria\" in x else \"\")\n",
    "# This still is not taking in to account coinfection of hiv and tb."
   ]
  },
  {
   "cell_type": "code",
   "execution_count": null,
   "metadata": {},
   "outputs": [],
   "source": [
    "summary = gbdCounts[gbdCounts.year >= 2000].groupby([\"year\", \"cause2\", \"measure\", \"location\"])\\\n",
    "    .apply(lambda x: 100000*x.val.sum()/pops.loc[(slice(x[\"year\"].values[0], x[\"year\"].values[0]), slice(x[\"location\"].values[0], x[\"location\"].values[0])), ].val.values[0])\\\n",
    "    .round(5).unstack(2)\n",
    "gbdCounts.location\n",
    "summary.to_csv(\"../../Outcome Measurement Data/MULTI/GBD-2017/summary.csv\")"
   ]
  },
  {
   "cell_type": "code",
   "execution_count": null,
   "metadata": {},
   "outputs": [],
   "source": [
    "mlp.rcParams[\"figure.figsize\"] = (8, 4)\n",
    "mlp.rcParams[\"figure.dpi\"] = 200\n",
    "def tsPlot(disease, measure, prefix, ax = None):\n",
    "    temp = summary.loc[(slice(2000,2017), slice(disease, disease)),measure].unstack(2)\n",
    "    temp.columns = temp.columns.values\n",
    "    temp.plot(ax = ax)\n",
    "    plt.xlabel(\"\")\n",
    "    plt.ylabel(prefix + \" rate x 100,000\")\n",
    "    #plt.xticks(range(0,18), range(2000,2018), rotation=\"90\")\n"
   ]
  },
  {
   "cell_type": "code",
   "execution_count": null,
   "metadata": {},
   "outputs": [],
   "source": [
    "mlp.rcParams[\"figure.figsize\"] = (11, 9)\n",
    "ax = plt.subplot(3, 2, 1)\n",
    "tsPlot(\"HIV\", \"Incidence\", \"HIV Incidence\", ax)\n",
    "plt.legend().remove()\n",
    "ax = plt.subplot(3, 2, 2)\n",
    "tsPlot(\"HIV\", \"Deaths\", \"HIV Mortality\", ax)\n",
    "plt.legend().remove()\n",
    "ax = plt.subplot(3, 2, 3)\n",
    "tsPlot(\"Malaria\", \"Incidence\", \"Malaria Incidence\", ax)\n",
    "plt.legend().remove()\n",
    "ax = plt.subplot(3, 2, 4)\n",
    "tsPlot(\"Malaria\", \"Deaths\", \"Malaria Mortality\", ax)\n",
    "plt.legend().remove()\n",
    "ax = plt.subplot(3, 2, 5)\n",
    "tsPlot(\"TB\", \"Incidence\", \"TB Incidence\", ax)\n",
    "ax = plt.subplot(3, 2, 6)\n",
    "tsPlot(\"TB\", \"Deaths\", \"TB Mortality\", ax)\n",
    "plt.legend().remove()\n",
    "plt.tight_layout()"
   ]
  },
  {
   "cell_type": "code",
   "execution_count": null,
   "metadata": {},
   "outputs": [],
   "source": [
    "summary.loc[(slice(2015,2017), slice(None)), ].unstack(1).round(2)"
   ]
  },
  {
   "cell_type": "code",
   "execution_count": null,
   "metadata": {},
   "outputs": [],
   "source": [
    "gbdCounts[(gbdCounts.year==2016) & (gbdCounts.cause.map(lambda x: \"Tuberculosis\" in x)) & (gbdCounts.location == \"El Salvador\") &\n",
    "          (gbdCounts.measure == \"Incidence\")].val.sum()"
   ]
  },
  {
   "cell_type": "code",
   "execution_count": null,
   "metadata": {},
   "outputs": [],
   "source": []
  }
 ],
 "metadata": {
  "kernelspec": {
   "display_name": "Python 3",
   "language": "python",
   "name": "python3"
  },
  "language_info": {
   "codemirror_mode": {
    "name": "ipython",
    "version": 3
   },
   "file_extension": ".py",
   "mimetype": "text/x-python",
   "name": "python",
   "nbconvert_exporter": "python",
   "pygments_lexer": "ipython3",
   "version": "3.5.1"
  }
 },
 "nbformat": 4,
 "nbformat_minor": 2
}
