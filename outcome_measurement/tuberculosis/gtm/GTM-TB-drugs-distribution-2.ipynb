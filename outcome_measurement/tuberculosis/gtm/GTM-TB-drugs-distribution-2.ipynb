{
 "cells": [
  {
   "cell_type": "code",
   "execution_count": 1,
   "metadata": {},
   "outputs": [],
   "source": [
    "import pandas as pd\n",
    "import numpy as np\n",
    "import seaborn as sb\n",
    "import matplotlib as mlp\n",
    "import re\n",
    "import matplotlib.pyplot as plt\n",
    "\n",
    "%matplotlib inline"
   ]
  },
  {
   "cell_type": "code",
   "execution_count": 2,
   "metadata": {},
   "outputs": [],
   "source": [
    "tbdistr = pd.read_csv(\"../Outcome Measurement Data/TUBERCULOSIS/GTM-TB-distribution-2013-2017.csv\", \n",
    "                      index_col = \"Unnamed: 0\")"
   ]
  },
  {
   "cell_type": "code",
   "execution_count": 4,
   "metadata": {},
   "outputs": [
    {
     "data": {
      "text/html": [
       "<div>\n",
       "<style scoped>\n",
       "    .dataframe tbody tr th:only-of-type {\n",
       "        vertical-align: middle;\n",
       "    }\n",
       "\n",
       "    .dataframe tbody tr th {\n",
       "        vertical-align: top;\n",
       "    }\n",
       "\n",
       "    .dataframe thead th {\n",
       "        text-align: right;\n",
       "    }\n",
       "</style>\n",
       "<table border=\"1\" class=\"dataframe\">\n",
       "  <thead>\n",
       "    <tr style=\"text-align: right;\">\n",
       "      <th></th>\n",
       "      <th>Program</th>\n",
       "      <th>Product</th>\n",
       "      <th>Supplier</th>\n",
       "      <th>Department</th>\n",
       "      <th>Year</th>\n",
       "      <th>Month</th>\n",
       "      <th>Ammount</th>\n",
       "      <th>MG</th>\n",
       "      <th>Medicine</th>\n",
       "      <th>ML</th>\n",
       "      <th>code_dept</th>\n",
       "    </tr>\n",
       "  </thead>\n",
       "  <tbody>\n",
       "    <tr>\n",
       "      <th>0</th>\n",
       "      <td>PROGRAMA NACIONAL DE TUBERCULOSIS</td>\n",
       "      <td>ISONIAZIDA, TABLETA DE 300 MG.</td>\n",
       "      <td>RESCO, SOCIEDAD ANONIMA/ OPS</td>\n",
       "      <td>ALTA VERAPAZ</td>\n",
       "      <td>2013</td>\n",
       "      <td>1</td>\n",
       "      <td>0.0</td>\n",
       "      <td>300</td>\n",
       "      <td>ISONIAZIDA</td>\n",
       "      <td>0.0</td>\n",
       "      <td>16</td>\n",
       "    </tr>\n",
       "    <tr>\n",
       "      <th>1</th>\n",
       "      <td>PROGRAMA NACIONAL DE TUBERCULOSIS</td>\n",
       "      <td>ISONIAZIDA, TABLETA DE 300 MG.</td>\n",
       "      <td>RESCO, SOCIEDAD ANONIMA/ OPS</td>\n",
       "      <td>ALTA VERAPAZ</td>\n",
       "      <td>2013</td>\n",
       "      <td>2</td>\n",
       "      <td>2740.0</td>\n",
       "      <td>300</td>\n",
       "      <td>ISONIAZIDA</td>\n",
       "      <td>0.0</td>\n",
       "      <td>16</td>\n",
       "    </tr>\n",
       "    <tr>\n",
       "      <th>2</th>\n",
       "      <td>PROGRAMA NACIONAL DE TUBERCULOSIS</td>\n",
       "      <td>ISONIAZIDA, TABLETA DE 300 MG.</td>\n",
       "      <td>RESCO, SOCIEDAD ANONIMA/ OPS</td>\n",
       "      <td>ALTA VERAPAZ</td>\n",
       "      <td>2013</td>\n",
       "      <td>3</td>\n",
       "      <td>0.0</td>\n",
       "      <td>300</td>\n",
       "      <td>ISONIAZIDA</td>\n",
       "      <td>0.0</td>\n",
       "      <td>16</td>\n",
       "    </tr>\n",
       "    <tr>\n",
       "      <th>3</th>\n",
       "      <td>PROGRAMA NACIONAL DE TUBERCULOSIS</td>\n",
       "      <td>ISONIAZIDA, TABLETA DE 300 MG.</td>\n",
       "      <td>RESCO, SOCIEDAD ANONIMA/ OPS</td>\n",
       "      <td>ALTA VERAPAZ</td>\n",
       "      <td>2013</td>\n",
       "      <td>4</td>\n",
       "      <td>0.0</td>\n",
       "      <td>300</td>\n",
       "      <td>ISONIAZIDA</td>\n",
       "      <td>0.0</td>\n",
       "      <td>16</td>\n",
       "    </tr>\n",
       "    <tr>\n",
       "      <th>4</th>\n",
       "      <td>PROGRAMA NACIONAL DE TUBERCULOSIS</td>\n",
       "      <td>ISONIAZIDA, TABLETA DE 300 MG.</td>\n",
       "      <td>RESCO, SOCIEDAD ANONIMA/ OPS</td>\n",
       "      <td>ALTA VERAPAZ</td>\n",
       "      <td>2013</td>\n",
       "      <td>5</td>\n",
       "      <td>3376.0</td>\n",
       "      <td>300</td>\n",
       "      <td>ISONIAZIDA</td>\n",
       "      <td>0.0</td>\n",
       "      <td>16</td>\n",
       "    </tr>\n",
       "  </tbody>\n",
       "</table>\n",
       "</div>"
      ],
      "text/plain": [
       "                             Program                         Product  \\\n",
       "0  PROGRAMA NACIONAL DE TUBERCULOSIS  ISONIAZIDA, TABLETA DE 300 MG.   \n",
       "1  PROGRAMA NACIONAL DE TUBERCULOSIS  ISONIAZIDA, TABLETA DE 300 MG.   \n",
       "2  PROGRAMA NACIONAL DE TUBERCULOSIS  ISONIAZIDA, TABLETA DE 300 MG.   \n",
       "3  PROGRAMA NACIONAL DE TUBERCULOSIS  ISONIAZIDA, TABLETA DE 300 MG.   \n",
       "4  PROGRAMA NACIONAL DE TUBERCULOSIS  ISONIAZIDA, TABLETA DE 300 MG.   \n",
       "\n",
       "                       Supplier    Department  Year  Month  Ammount   MG  \\\n",
       "0  RESCO, SOCIEDAD ANONIMA/ OPS  ALTA VERAPAZ  2013      1      0.0  300   \n",
       "1  RESCO, SOCIEDAD ANONIMA/ OPS  ALTA VERAPAZ  2013      2   2740.0  300   \n",
       "2  RESCO, SOCIEDAD ANONIMA/ OPS  ALTA VERAPAZ  2013      3      0.0  300   \n",
       "3  RESCO, SOCIEDAD ANONIMA/ OPS  ALTA VERAPAZ  2013      4      0.0  300   \n",
       "4  RESCO, SOCIEDAD ANONIMA/ OPS  ALTA VERAPAZ  2013      5   3376.0  300   \n",
       "\n",
       "     Medicine   ML  code_dept  \n",
       "0  ISONIAZIDA  0.0         16  \n",
       "1  ISONIAZIDA  0.0         16  \n",
       "2  ISONIAZIDA  0.0         16  \n",
       "3  ISONIAZIDA  0.0         16  \n",
       "4  ISONIAZIDA  0.0         16  "
      ]
     },
     "execution_count": 4,
     "metadata": {},
     "output_type": "execute_result"
    }
   ],
   "source": [
    "tbdistr.head()"
   ]
  },
  {
   "cell_type": "code",
   "execution_count": 5,
   "metadata": {},
   "outputs": [
    {
     "data": {
      "text/plain": [
       "RIFAMPICINA SUSPENSION 100MG/5ML., FRASCO DE 120 ML.         1740\n",
       "ISONIAZIDA, TABLETA DE 100 MG.                               1740\n",
       "KANAMICINA, VIAL DE 1 GRAMO                                  1740\n",
       "ETHIONAMIDA, COMPRIMIDO DE 250 MG.                           1740\n",
       "LEVOFLOXACINA, COMPRIMIDO DE 250 MG.                         1740\n",
       "ETAMBUTOL, TABLETA DE 400 MG.                                1740\n",
       "ISONIAZIDA, TAB LETA DE 300 MG.                              1392\n",
       "CLOFAZIMINE, CAPSULA DE 50 MG.                               1392\n",
       "PIRAZINAMIDA, TABLET DE 500 MG.                              1392\n",
       "RIFAMPICINA, TABLETA DE 300 MG.                              1044\n",
       "AMOXICILINA/ACIDO CLAVULANICO, COMPRIMIDO DE 875MG/125MG.    1044\n",
       "CICLOCERINA, CAPSULA DE 250 MG.                              1044\n",
       "MOXIFLOXACINA, TABLETA DE 400 MG.                            1044\n",
       "CICLOSERINA, CAPSULA DE 250 MG.                               696\n",
       "RIFAMPICINA, CAPSULA DE 300 MG.                               696\n",
       "TUBERCULINA, VIAL PPD 2 T.U. 1.5 ML.                          696\n",
       "TUBERCULINA, VIAL PPD 2 T.U. 1 ML.                            696\n",
       "ESTREPTOMICINA, VIAL/FRSCO DE 1 GRAMO                         696\n",
       "ISONIAZIDA, TABLETA DE 300 MG.                                348\n",
       "CAPREOMICINA VIAL 1 G                                         348\n",
       "TUBERCULINA, VIAL PPD 5 T.U. 1 ML.                            348\n",
       "LINEZOLID 600 MG TABLETA                                      348\n",
       "ESTREPTOMICINA, VIAL/FRASCO DE 1 GRAMO                        348\n",
       "IMIPENEM/CILASTATINA 1 GRAMOS                                 348\n",
       "PIRAZINAMIDA, TABLETA DE 500 MG.                              348\n",
       "ACIDO PARAAMINOSALICILICO SOBRE DE 4 GRAMOS                   348\n",
       "Name: Product, dtype: int64"
      ]
     },
     "execution_count": 5,
     "metadata": {},
     "output_type": "execute_result"
    }
   ],
   "source": [
    "tbdistr.Product.value_counts()"
   ]
  },
  {
   "cell_type": "code",
   "execution_count": 12,
   "metadata": {},
   "outputs": [],
   "source": [
    "# https://www.ncbi.nlm.nih.gov/pmc/articles/PMC1168716/\n",
    "# https://www.nature.com/articles/nrdp201676/tables/4\n",
    "# https://www.sciencedirect.com/science/article/pii/S1201971216312103\n",
    "# https://www.intechopen.com/books/tuberculosis-current-issues-in-diagnosis-and-management/first-and-second-line-drugs-and-drug-resistance\n",
    "drugclass = pd.DataFrame(data = [\n",
    "    [\"RIFAMPICINA\", \"FIRSTLINE\"],\n",
    "    [\"ISONIAZIDA\", \"FIRSTLINE\"],\n",
    "    [\"ETHIONAMIDA\", \"SECONDLINE\"],\n",
    "    [\"PIRAZINAMIDA\", \"FIRSTLINE\"],\n",
    "    [\"TUBERCULINA\", \"DX\"],\n",
    "    [\"KANAMICINA\", \"SECONDLINE\"],\n",
    "    [\"LEVOFLOXACINA\", \"SECONDLINE\"],\n",
    "    [\"ETAMBUTOL\", \"FIRSTLINE\"],\n",
    "    [\"CLOFAZIMINE\", \"SECONDLINE\"],\n",
    "    [\"AMOXICILINA/ACIDO CLAVULANICO\", \"MDR\"],\n",
    "    [\"CICLOCERINA\", \"SECONDLINE\"],\n",
    "    [\"ESTREPTOMICINA\", \"FIRSTLINE\"],\n",
    "    [\"MOXIFLOXACINA\", \"SECONDLINE\"],\n",
    "    [\"ACIDO PARAAMINOSALICILICO\", \"SECONDLINE\"],\n",
    "    [\"CAPREOMICINA\", \"SECONDLINE\"],\n",
    "    [\"LINEZOLID\", \"SECONDLINE\"],\n",
    "    [\"IMIPENEM/CILASTATINA\", \"MDR\"]\n",
    "], columns= [\"drug\", \"class\"])"
   ]
  },
  {
   "cell_type": "code",
   "execution_count": 14,
   "metadata": {},
   "outputs": [],
   "source": [
    "tbdistr = tbdistr.merge(drugclass, left_on=\"Medicine\", right_on = \"drug\", how=\"outer\")"
   ]
  },
  {
   "cell_type": "code",
   "execution_count": 15,
   "metadata": {},
   "outputs": [
    {
     "data": {
      "text/plain": [
       "Index(['Program', 'Product', 'Supplier', 'Department', 'Year', 'Month',\n",
       "       'Ammount', 'MG', 'Medicine', 'ML', 'code_dept', 'drug', 'class'],\n",
       "      dtype='object')"
      ]
     },
     "execution_count": 15,
     "metadata": {},
     "output_type": "execute_result"
    }
   ],
   "source": [
    "tbdistr.columns"
   ]
  },
  {
   "cell_type": "code",
   "execution_count": 43,
   "metadata": {},
   "outputs": [],
   "source": [
    "tbdistrAgg = tbdistr.groupby([\"code_dept\", \"class\", \"Year\"]).Ammount.sum().reset_index()"
   ]
  },
  {
   "cell_type": "code",
   "execution_count": 48,
   "metadata": {},
   "outputs": [
    {
     "data": {
      "text/plain": [
       "<matplotlib.axes._subplots.AxesSubplot at 0x7f70c678d588>"
      ]
     },
     "execution_count": 48,
     "metadata": {},
     "output_type": "execute_result"
    },
    {
     "data": {
      "image/png": "[encoded data removed]",
      "text/plain": [
       "<Figure size 432x288 with 1 Axes>"
      ]
     },
     "metadata": {},
     "output_type": "display_data"
    }
   ],
   "source": [
    "tbdistrAgg[tbdistrAgg[\"class\"]==\"FIRSTLINE\"].groupby(\"Year\").Ammount.sum().plot()\n",
    "plt.title(\"\")"
   ]
  },
  {
   "cell_type": "code",
   "execution_count": null,
   "metadata": {},
   "outputs": [],
   "source": []
  }
 ],
 "metadata": {
  "kernelspec": {
   "display_name": "Python 3",
   "language": "python",
   "name": "python3"
  },
  "language_info": {
   "codemirror_mode": {
    "name": "ipython",
    "version": 3
   },
   "file_extension": ".py",
   "mimetype": "text/x-python",
   "name": "python",
   "nbconvert_exporter": "python",
   "pygments_lexer": "ipython3",
   "version": "3.6.3"
  }
 },
 "nbformat": 4,
 "nbformat_minor": 2
}
