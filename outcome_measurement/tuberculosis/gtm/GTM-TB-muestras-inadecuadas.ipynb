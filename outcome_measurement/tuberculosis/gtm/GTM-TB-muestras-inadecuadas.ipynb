{
 "cells": [
  {
   "cell_type": "code",
   "execution_count": 32,
   "metadata": {},
   "outputs": [],
   "source": [
    "import pandas as pd\n",
    "import altair as alt\n",
    "import datetime\n",
    "import numpy as np"
   ]
  },
  {
   "cell_type": "code",
   "execution_count": 2,
   "metadata": {},
   "outputs": [
    {
     "name": "stdout",
     "output_type": "stream",
     "text": [
      "'Copia de informacion solicitada FM.xlsx'\n",
      " das_muestras_inadc_2016-2018.csv\n",
      "'das - muestras incd, baciloscopias-A.png'\n",
      "'das - muestras incd, baciloscopias-A.svg'\n",
      "'das - muestras incd, baciloscopias-B.png'\n",
      "'das - muestras incd, baciloscopias-B.svg'\n",
      "'das - muestras incd, baciloscopias.svg.png'\n",
      " das_muestras_indc_2016-2018.csv\n",
      "'Herramienta de Muestreo.xlsx'\n",
      " LIBROLA2.REC\n",
      "'Libro laboratorio Reu.xlsx'\n",
      "'Libro Laboratorio.xlsx'\n",
      " LIBROLAB.REC\n",
      " mapa-muestras-2017-munis.png\n",
      " mapa-muestras-2017-munis.svg\n",
      "'Muestras inadecuadas  por DAS y distrito.xlsx'\n",
      " p_muestras_inadecuadas_2017.csv\n"
     ]
    }
   ],
   "source": [
    "! ls \"../../../../Outcome Measurement Data/TUBERCULOSIS/muestras inadecuadas/\""
   ]
  },
  {
   "cell_type": "code",
   "execution_count": 4,
   "metadata": {},
   "outputs": [],
   "source": [
    "data = pd.read_excel(\"../../../../Outcome Measurement Data/TUBERCULOSIS/muestras inadecuadas/Libro Laboratorio.xlsx\")"
   ]
  },
  {
   "cell_type": "code",
   "execution_count": 5,
   "metadata": {},
   "outputs": [
    {
     "data": {
      "text/plain": [
       "Index(['REGISTRONO', 'AREADESALU', 'MUNICIPIO', 'SERVICIODE', 'FECHADEREC',\n",
       "       'MESREGISTR', 'AÑOREGISTR', 'FECHADER01', 'NODESERIED', 'NODECORREL',\n",
       "       'SEXOFEMENI', 'FECHADENAC', 'AREA', 'DISTRITO', 'SERVICIO',\n",
       "       'NUMERODESE', 'CALIDADDEM', 'FECHADEMUE', 'LAMINA', 'RESULTADOP',\n",
       "       'CALIDADD01', 'FECHADEM01', 'LAMINA01', 'RESULTAD01', 'CALIDADD02',\n",
       "       'FECHADEM02', 'LAMINA02', 'RESULTAD02', 'FECHADEM03', 'LAMINA03', 'NO',\n",
       "       'RESULTAD03', 'FECHADERES', 'H', 'R', 'E', 'Z', 'S', 'Q', 'OTRO',\n",
       "       'FECHADEM04', 'TIPODEPRUE', 'RESULTAD04', 'FECHADER02'],\n",
       "      dtype='object')"
      ]
     },
     "execution_count": 5,
     "metadata": {},
     "output_type": "execute_result"
    }
   ],
   "source": [
    "data.columns"
   ]
  },
  {
   "cell_type": "code",
   "execution_count": 6,
   "metadata": {},
   "outputs": [
    {
     "data": {
      "text/plain": [
       "2    1455\n",
       "1     541\n",
       "Name: SERVICIODE, dtype: int64"
      ]
     },
     "execution_count": 6,
     "metadata": {},
     "output_type": "execute_result"
    }
   ],
   "source": [
    "data.SERVICIODE.value_counts()"
   ]
  },
  {
   "cell_type": "code",
   "execution_count": 48,
   "metadata": {},
   "outputs": [],
   "source": [
    "data[\"EDAD\"] = data.FECHADENAC.map(lambda x: - (x - datetime.datetime.now()).days / 365).map(lambda x: int(x) if x>0 else np.NaN)"
   ]
  },
  {
   "cell_type": "code",
   "execution_count": 57,
   "metadata": {},
   "outputs": [],
   "source": [
    "data[\"EDADRANGO\"] = data.EDAD.map(lambda x: 1 if x<15 else 2 if x<30 else 3 if x < 45 else 4 if x > 0 else np.NaN)"
   ]
  },
  {
   "cell_type": "code",
   "execution_count": 58,
   "metadata": {},
   "outputs": [
    {
     "data": {
      "text/plain": [
       "NaN    910\n",
       "4.0    510\n",
       "3.0    270\n",
       "2.0    228\n",
       "1.0     78\n",
       "Name: EDADRANGO, dtype: int64"
      ]
     },
     "execution_count": 58,
     "metadata": {},
     "output_type": "execute_result"
    }
   ],
   "source": [
    "data.EDADRANGO.value_counts(dropna=False)"
   ]
  },
  {
   "cell_type": "code",
   "execution_count": 65,
   "metadata": {},
   "outputs": [
    {
     "data": {
      "text/plain": [
       "(1    929\n",
       " 9    562\n",
       " 3    447\n",
       " 2     35\n",
       " 4     15\n",
       " 7      5\n",
       " 6      2\n",
       " 5      1\n",
       " Name: CALIDADDEM, dtype: int64, 9    855\n",
       " 1    814\n",
       " 3    304\n",
       " 2     21\n",
       " 4      2\n",
       " Name: CALIDADD01, dtype: int64, 9    1153\n",
       " 1     615\n",
       " 3     208\n",
       " 2      19\n",
       " 4       1\n",
       " Name: CALIDADD02, dtype: int64)"
      ]
     },
     "execution_count": 65,
     "metadata": {},
     "output_type": "execute_result"
    }
   ],
   "source": [
    "data.CALIDADDEM.value_counts(dropna=False), data.CALIDADD01.value_counts(dropna=False), data.CALIDADD02.value_counts(dropna=False)"
   ]
  },
  {
   "cell_type": "code",
   "execution_count": null,
   "metadata": {},
   "outputs": [],
   "source": []
  },
  {
   "cell_type": "code",
   "execution_count": null,
   "metadata": {},
   "outputs": [],
   "source": []
  }
 ],
 "metadata": {
  "kernelspec": {
   "display_name": "Python 3",
   "language": "python",
   "name": "python3"
  },
  "language_info": {
   "codemirror_mode": {
    "name": "ipython",
    "version": 3
   },
   "file_extension": ".py",
   "mimetype": "text/x-python",
   "name": "python",
   "nbconvert_exporter": "python",
   "pygments_lexer": "ipython3",
   "version": "3.6.8"
  }
 },
 "nbformat": 4,
 "nbformat_minor": 4
}
