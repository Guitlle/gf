{
 "cells": [
  {
   "cell_type": "code",
   "execution_count": 1,
   "metadata": {},
   "outputs": [],
   "source": [
    "import pandas as pd\n",
    "import matplotlib as mlp\n",
    "import seaborn as sb\n",
    "import matplotlib.pyplot as plt\n",
    "%matplotlib inline"
   ]
  },
  {
   "cell_type": "code",
   "execution_count": 28,
   "metadata": {},
   "outputs": [],
   "source": [
    "gbd = pd.read_csv(\"../../../../Documentos/TB/GBD export/IHME-GBD_2016_DATA-42733deb-1.csv\")"
   ]
  },
  {
   "cell_type": "code",
   "execution_count": 29,
   "metadata": {},
   "outputs": [
    {
     "data": {
      "text/plain": [
       "Index(['measure', 'location', 'sex', 'age', 'cause', 'metric', 'year', 'val',\n",
       "       'upper', 'lower'],\n",
       "      dtype='object')"
      ]
     },
     "execution_count": 29,
     "metadata": {},
     "output_type": "execute_result"
    }
   ],
   "source": [
    "gbd.columns"
   ]
  },
  {
   "cell_type": "code",
   "execution_count": 30,
   "metadata": {},
   "outputs": [],
   "source": [
    "cases = gbd[(gbd[\"measure\"]==\"Incidence\") & \n",
    "    (gbd.location == \"Guatemala\") & \n",
    "    (gbd.metric == \"Number\") & \n",
    "    (gbd.cause.isin([\"All causes\"]) == False)\n",
    "   ].groupby([\"year\"]).val.sum()"
   ]
  },
  {
   "cell_type": "code",
   "execution_count": 31,
   "metadata": {},
   "outputs": [],
   "source": [
    "pop = gbd[(gbd[\"measure\"]==\"Incidence\") & \n",
    "    (gbd.location == \"Guatemala\") & \n",
    "    (gbd.metric.isin([\"Rate\", \"Number\"])) & \n",
    "    (gbd.cause.isin([\"Tuberculosis\"]))\n",
    "   ].groupby([\"year\", \"metric\"]).val.sum().unstack(1).assign(N = lambda x: x.Number/x.Rate*100000)[\"N\"]"
   ]
  },
  {
   "cell_type": "code",
   "execution_count": 57,
   "metadata": {},
   "outputs": [
    {
     "data": {
      "image/png": "[encoded data removed]",
      "text/plain": [
       "<Figure size 684x360 with 1 Axes>"
      ]
     },
     "metadata": {},
     "output_type": "display_data"
    }
   ],
   "source": [
    "plt.rcParams[\"figure.figsize\"] = (9.5,5)\n",
    "plt.rcParams[\"lines.linewidth\"] = 5\n",
    "plt.rcParams[\"lines.markersize\"] = 20\n",
    "(100000 * cases / pop).plot(style=\".-\")\n",
    "plt.ylim(0,30)\n",
    "plt.grid(False)"
   ]
  },
  {
   "cell_type": "code",
   "execution_count": 58,
   "metadata": {},
   "outputs": [
    {
     "data": {
      "text/plain": [
       "year\n",
       "2000    2604.533497\n",
       "2001    3243.989453\n",
       "2002    3344.494824\n",
       "2003    3457.077932\n",
       "2004    3581.596189\n",
       "2005    2905.743292\n",
       "2006    2863.479522\n",
       "2007    3573.939103\n",
       "2008    3500.232660\n",
       "2009    3435.421960\n",
       "2010    2733.783261\n",
       "2011    3386.951245\n",
       "2012    3393.744716\n",
       "2013    3404.159454\n",
       "2014    3419.524265\n",
       "2015    3440.225214\n",
       "2016    2877.380430\n",
       "Name: val, dtype: float64"
      ]
     },
     "execution_count": 58,
     "metadata": {},
     "output_type": "execute_result"
    }
   ],
   "source": [
    "cases"
   ]
  },
  {
   "cell_type": "code",
   "execution_count": null,
   "metadata": {},
   "outputs": [],
   "source": []
  }
 ],
 "metadata": {
  "kernelspec": {
   "display_name": "Python 3",
   "language": "python",
   "name": "python3"
  },
  "language_info": {
   "codemirror_mode": {
    "name": "ipython",
    "version": 3
   },
   "file_extension": ".py",
   "mimetype": "text/x-python",
   "name": "python",
   "nbconvert_exporter": "python",
   "pygments_lexer": "ipython3",
   "version": "3.6.3"
  }
 },
 "nbformat": 4,
 "nbformat_minor": 2
}
