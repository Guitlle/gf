{
 "cells": [
  {
   "cell_type": "code",
   "execution_count": 13,
   "metadata": {},
   "outputs": [],
   "source": [
    "import pandas as pd\n",
    "import numpy as np\n",
    "from xml.dom import minidom\n",
    "import seaborn as sb\n",
    "import matplotlib as mlp\n",
    "import matplotlib.pyplot. as plt\n",
    "%matplotlib inline"
   ]
  },
  {
   "cell_type": "code",
   "execution_count": 14,
   "metadata": {},
   "outputs": [],
   "source": [
    "proyeccionesTB = minidom.parse('../Outcome Measurement Data/TUBERCULOSIS/Proyeccion diciembre 2016.qtb')"
   ]
  },
  {
   "cell_type": "code",
   "execution_count": 19,
   "metadata": {},
   "outputs": [],
   "source": [
    "regimes = proyeccionesTB.getElementsByTagName(\"ns2:regimes\")"
   ]
  },
  {
   "cell_type": "code",
   "execution_count": 51,
   "metadata": {},
   "outputs": [],
   "source": [
    "projections = []\n",
    "for r in regimes:\n",
    "    name = r.getElementsByTagName(\"name\")[0].firstChild.data\n",
    "    projection = [(name, c.getElementsByTagName(\"ns2:iQuantity\")[0].firstChild.data,\n",
    "                   c.getElementsByTagName(\"ns2:Year\")[0].firstChild.data,\n",
    "                  c.getElementsByTagName(\"ns2:Month\")[0].firstChild.data) for c in r.getElementsByTagName(\"ns2:newCases\")]\n",
    "    projections.extend(projection)"
   ]
  },
  {
   "cell_type": "code",
   "execution_count": 56,
   "metadata": {},
   "outputs": [],
   "source": [
    "dfprojs = pd.DataFrame(projections, columns=[ \"regime\", \"quantity\", \"year\", \"month\" ])"
   ]
  },
  {
   "cell_type": "code",
   "execution_count": 97,
   "metadata": {},
   "outputs": [],
   "source": [
    "dfprojs[\"quantity\"] = dfprojs.quantity.astype(int)\n",
    "dfprojs[\"YearMonth\"] = dfprojs.year + dfprojs.month"
   ]
  },
  {
   "cell_type": "code",
   "execution_count": 110,
   "metadata": {},
   "outputs": [
    {
     "data": {
      "text/plain": [
       "regime\n",
       "MDR-TB Regimen 1 (weight 51-70kg)      72\n",
       "Monoresistente                         26\n",
       "Pediatrico                            365\n",
       "Quimioprofilaxis                     1210\n",
       "TB sensible adulto                   3270\n",
       "XDR                                     6\n",
       "Name: 2017, dtype: int64"
      ]
     },
     "execution_count": 110,
     "metadata": {},
     "output_type": "execute_result"
    }
   ],
   "source": [
    "mlp.rcParams[\"figure.figsize\"] = (10,10)\n",
    "dfregimes = dfprojs.groupby([\"regime\", \"year\"]).quantity.sum()\n",
    "dfregimes.unstack(1)[\"2017\"]"
   ]
  },
  {
   "cell_type": "code",
   "execution_count": 116,
   "metadata": {},
   "outputs": [],
   "source": [
    "meds = []\n",
    "for r in regimes:\n",
    "    name = r.getElementsByTagName(\"name\")[0].firstChild.data\n",
    "    for med in r.getElementsByTagName(\"medications\"):\n",
    "        medname = med.getElementsByTagName(\"name\")[0].firstChild.data\n",
    "        medstr = med.getElementsByTagName(\"strength\")[0].firstChild.data\n",
    "        medab = med.getElementsByTagName(\"abbrevName\")[0].firstChild.data\n",
    "        meddrt = med.getElementsByTagName(\"duration\")[0].firstChild.data\n",
    "        meddsg = med.getElementsByTagName(\"dosage\")[1].firstChild.data\n",
    "        meddaysw = med.getElementsByTagName(\"daysPerWeek\")[0].firstChild.data\n",
    "        meds.append( (name, medname, medstr, medab, meddrt, meddsg, meddaysw) )"
   ]
  },
  {
   "cell_type": "code",
   "execution_count": 122,
   "metadata": {},
   "outputs": [],
   "source": [
    "dfmeds = pd.DataFrame( meds, columns = [\"regime\", \"medicine\", \"strength\", \"abbreviation\", \"months_duration\", \"dosage_day\", \"days_week\"])"
   ]
  },
  {
   "cell_type": "code",
   "execution_count": 120,
   "metadata": {},
   "outputs": [],
   "source": [
    "dfprojs.to_csv(\"../Outcome Measurement Data/TUBERCULOSIS/GTM - QuanTB projections Dec 2016 - Aug 2018.csv\")"
   ]
  },
  {
   "cell_type": "code",
   "execution_count": 123,
   "metadata": {},
   "outputs": [],
   "source": [
    "dfmeds.to_csv(\"../Outcome Measurement Data/TUBERCULOSIS/GTM - QuanTB meds regimes.csv\")"
   ]
  },
  {
   "cell_type": "code",
   "execution_count": null,
   "metadata": {},
   "outputs": [],
   "source": []
  }
 ],
 "metadata": {
  "kernelspec": {
   "display_name": "Python 3",
   "language": "python",
   "name": "python3"
  },
  "language_info": {
   "codemirror_mode": {
    "name": "ipython",
    "version": 3
   },
   "file_extension": ".py",
   "mimetype": "text/x-python",
   "name": "python",
   "nbconvert_exporter": "python",
   "pygments_lexer": "ipython3",
   "version": "3.6.3"
  }
 },
 "nbformat": 4,
 "nbformat_minor": 2
}
