{
 "cells": [
  {
   "cell_type": "code",
   "execution_count": 1,
   "metadata": {},
   "outputs": [],
   "source": [
    "from IPython.display import display, HTML\n",
    "\n",
    "import pandas as pd\n",
    "import numpy as np\n",
    "import seaborn as sb\n",
    "import matplotlib as mlp\n",
    "import matplotlib.pyplot as plt\n",
    "import geopandas as gp\n",
    "import datetime\n",
    "import re\n",
    "\n",
    "import os\n",
    "\n",
    "os.chdir(\"../../../core\")\n",
    "import GT_helper_functions as hf\n",
    "import GT_load_data as data\n",
    "\n",
    "base_dir = \"../../Outcome Measurement Data/\""
   ]
  },
  {
   "cell_type": "code",
   "execution_count": 2,
   "metadata": {},
   "outputs": [],
   "source": [
    "%matplotlib inline\n",
    "plt.style.use('ggplot')\n",
    "mlp.rcParams[\"figure.facecolor\"] = \"white\"\n",
    "mlp.rcParams[\"figure.dpi\"] = 100\n",
    "mlp.rcParams[\"figure.figsize\"] = [10,7]\n",
    "pd.options.display.max_columns = 100\n",
    "pd.options.display.max_rows = 100"
   ]
  },
  {
   "cell_type": "code",
   "execution_count": 3,
   "metadata": {},
   "outputs": [],
   "source": [
    "mdr14_16 = pd.read_excel(base_dir + \"TUBERCULOSIS/COHORTES/COHORTE TB - MDR 2014 - 2016.xls\", 0)\n",
    "mdr15_17 = pd.read_excel(base_dir + \"TUBERCULOSIS/COHORTES/COHORTE TB - MDR 2015 - 2017.xls\",0)\n",
    "mdr16_18 = pd.read_excel(base_dir + \"TUBERCULOSIS/COHORTES/COHORTE TB - MDR 2016 - 2018.xlsx\",0)"
   ]
  },
  {
   "cell_type": "code",
   "execution_count": 4,
   "metadata": {},
   "outputs": [],
   "source": [
    "def tryfun(_fun):\n",
    "    def inStr(inputValue):\n",
    "        try: \n",
    "            return _fun(inputValue)\n",
    "        except:\n",
    "            return np.NaN\n",
    "    return inStr\n",
    "\n",
    "def gen_inStr(values):\n",
    "    def inStr(inputStr):\n",
    "        if type(inputStr) == str:\n",
    "            inputStr = inputStr.lower()\n",
    "            return any([val in inputStr for val in values])\n",
    "        return False\n",
    "    return inStr\n",
    "\n",
    "depto2code = {\n",
    "    \"san marcos\": 12,\n",
    "    \"escuintla\": 5,\n",
    "    \"guatemala\": 1,\n",
    "    \"suchitepequez\": 10,\n",
    "    \"quetzaltenango\": 9,\n",
    "    \"huehuetenango\": 13,\n",
    "    \"mexico\": np.NaN,\n",
    "    \"retalhuleu\": 11,\n",
    "    \"izabal\": 18,\n",
    "    \"peten\": 17, \n",
    "    \"solola\": 7,\n",
    "    \"el progreso\": 2,\n",
    "    \"jutiapa\": 22,\n",
    "    \"nd\": np.NaN,\n",
    "    \"quiché\": 14,\n",
    "    \"petén\": 17,\n",
    "    \"jalapa\": 21,\n",
    "    \"sacatepequez\": 3,\n",
    "    \"baja verapaz\": 15,\n",
    "    \"santa rosa\": 7,\n",
    "    \"alta verapaz\": 16,\n",
    "    \"izabal\":  18,\n",
    "    \"totonicapan\": 8\n",
    "}"
   ]
  },
  {
   "cell_type": "code",
   "execution_count": 5,
   "metadata": {},
   "outputs": [],
   "source": [
    "mdr14_16.columns = ['ID', 'X_0', 'Gender', 'Age', 'X_1',\n",
    "       'Muni', 'Depto', 'DAS', 'PxNew', 'PxRelapse', 'PxLost',\n",
    "       'TxFailure', 'TBType', 'PDSDate', 'PDSResult',\n",
    "       'X_2', 'X_3', 'TxDate', 'DateBk_1',\n",
    "       'ResultBk_1', 'DateCulture_1', 'ResultCulture_1',\n",
    "       'DateCulture_2', 'ResultCulture_2', 'DateCulture_3',\n",
    "       'ResultCulture_3', 'DateCulture_4', 'ResultCulture_4',\n",
    "       'DateCulture_5', 'ResultCulture_5', 'DateCulture_6', 'ResultCulture_6',\n",
    "       'DateCulture_7', 'ResultCulture_7', 'DateCulture_8', 'ResultCulture_8',\n",
    "       'DateCulture_9', 'ResultCulture_9', 'DateCulture_10', 'ResultCulture_10',\n",
    "       'DateCulture_11', 'ResultCulture_11', 'DateCulture_12', 'ResultCulture_12',\n",
    "       'DateCulture_13', 'ResultCulture_13', 'DateCulture_14', 'ResultCulture_14',\n",
    "       'DateCulture_15', 'ResultCulture_15', 'DateCulture_16', 'ResultCulture_16',\n",
    "       'DateCulture_17', 'ResultCulture_17', 'DateCulture_18', 'ResultCulture_18',\n",
    "       'DateCulture_19', 'ResultCulture_19', 'DateCulture_20', 'ResultCulture_20',\n",
    "       'DateCulture_21', 'ResultCulture_21', 'DateCulture_22', 'ResultCulture_22',\n",
    "       'DateCulture_23', 'ResultCulture_23', 'DateCulture_24', 'ResultCulture_24',\n",
    "       'DiabetesMel', 'HIV', 'ExitCondition', 'ExitDate', 'Dead', 'Observations',\n",
    "       'Modifications', 'X_4']\n",
    "mdr14_16[\"BD_ID\"] = \"MDR14-16\""
   ]
  },
  {
   "cell_type": "code",
   "execution_count": 6,
   "metadata": {},
   "outputs": [],
   "source": [
    "mdr15_17.columns = ['ID', 'X_0', 'X_1', 'Gender',\n",
    "       'Age', 'X_2', 'Muni', 'Depto', 'DAS', 'DxDate', 'PxNew', 'PxRelapse', 'PxLost',\n",
    "       'TxFailure', 'Referred', 'TBType',\n",
    "       'TxDate', 'DateGXPERT', 'PDSDate', 'PDSResult', 'TTODate',\n",
    "       'DateBk_1', 'ResultBk_1', 'DateCulture_1', 'ResultCulture_1',\n",
    "       'DateCulture_2', 'ResultCulture_2', 'DateCulture_3', 'ResultCulture_3', 'DateCulture_4', 'ResultCulture_4',\n",
    "       'DateCulture_5', 'ResultCulture_5', 'DateCulture_6', 'ResultCulture_6', \n",
    "       'DateCulture_7', 'ResultCulture_7', 'DateCulture_8', 'ResultCulture_8',\n",
    "       'DateCulture_9', 'ResultCulture_9', 'DateCulture_10', 'ResultCulture_10',\n",
    "       'DateCulture_11', 'ResultCulture_11', 'DateCulture_12', 'ResultCulture_12',\n",
    "       'DateCulture_13', 'ResultCulture_13', 'DateCulture_14', 'ResultCulture_14',\n",
    "       'DateCulture_15', 'ResultCulture_15', 'DateCulture_16', 'ResultCulture_16',\n",
    "       'DateCulture_17', 'ResultCulture_17', 'DateCulture_18', 'ResultCulture_18',\n",
    "       'DateCulture_19', 'ResultCulture_19', 'DateCulture_20', 'ResultCulture_20',\n",
    "       'DateCulture_21', 'ResultCulture_21', 'DateCulture_22', 'ResultCulture_22',\n",
    "       'DateCulture_23', 'ResultCulture_23', 'DateCulture_24', 'ResultCulture_24',\n",
    "       'DiabetesMel', 'HIV', 'ExitCondition', 'ExitDate', 'Dead',\n",
    "       'Observations']\n",
    "mdr15_17[\"BD_ID\"] = \"MDR15-17\""
   ]
  },
  {
   "cell_type": "code",
   "execution_count": 7,
   "metadata": {},
   "outputs": [],
   "source": [
    "mdr16_18.columns = ['ID', 'Gender', 'Age', 'X_0', 'Muni',\n",
    "       'Depto', 'DAS', 'DxDate', 'PxCondition', 'TxFailure',\n",
    "       'TBPulmonar', 'TBExtrapulmonar', 'TxDate', 'DateGXPERT',\n",
    "       'GENOTYPE', 'ResistType', 'PDSDate', 'PDSResult',\n",
    "       'TxDate2', 'DateBk_1',\n",
    "       'ResultBk_1', 'DateCulture_1', 'ResultCulture_1',\n",
    "       'DateCulture_2', 'ResultCulture_2', 'DateCulture_3',\n",
    "       'ResultCulture_3', 'DateCulture_4', 'ResultCulture_4',\n",
    "       'DateCulture_5', 'ResultCulture_5', 'DateCulture_6', 'ResultCulture_6',\n",
    "       'DateCulture_7', 'ResultCulture_7', 'DateCulture_8', 'ResultCulture_8',\n",
    "       'DateCulture_9', 'ResultCulture_9', 'DateCulture_10', 'ResultCulture_10',\n",
    "       'DateCulture_11', 'ResultCulture_11', 'DateCulture_12', 'ResultCulture_12',\n",
    "       'DateCulture_13', 'ResultCulture_13', 'DateCulture_14', 'ResultCulture_14',\n",
    "       'DateCulture_15', 'ResultCulture_15', 'DateCulture_16', 'ResultCulture_16',\n",
    "       'DateCulture_17', 'ResultCulture_17', 'DateCulture_18', 'ResultCulture_18',\n",
    "       'DateCulture_19', 'ResultCulture_19', 'DateCulture_20', 'ResultCulture_20',\n",
    "       'DateCulture_21', 'ResultCulture_21', 'DateCulture_22', 'ResultCulture_22',\n",
    "       'DateCulture_23', 'ResultCulture_23', 'DateCulture_24', 'ResultCulture_24',\n",
    "       'DiabetesMel', 'HIV', 'ExitCondition', 'ExitDate', 'Dead', 'Observations',\n",
    "       'Modifications'] \n",
    "mdr16_18[\"BD_ID\"] = \"MDR16-18\""
   ]
  },
  {
   "cell_type": "code",
   "execution_count": 8,
   "metadata": {},
   "outputs": [],
   "source": [
    "mdrAll = pd.concat([mdr14_16, mdr15_17, mdr16_18], sort=False, ignore_index=True)"
   ]
  },
  {
   "cell_type": "code",
   "execution_count": 10,
   "metadata": {},
   "outputs": [],
   "source": [
    "def gen_inStr(values):\n",
    "    def inStr(inputStr):\n",
    "        if type(inputStr) == str:\n",
    "            inputStr = inputStr.lower()\n",
    "            return any([val in inputStr for val in values])\n",
    "        return False\n",
    "    return inStr\n",
    "\n",
    "mdrAll.loc[mdrAll.BD_ID == \"MDR16-18\", \"PxNew\"] = mdrAll[mdrAll.BD_ID == \"MDR16-18\"]\\\n",
    "    .PxCondition.map(gen_inStr([\"nuevo\"]))\n",
    "mdrAll.loc[mdrAll.BD_ID == \"MDR16-18\", \"PxRelapse\"] = mdrAll[mdrAll.BD_ID == \"MDR16-18\"]\\\n",
    "    .PxCondition.map(gen_inStr([\"recaída\", \"antes tratado\"]))\n",
    "mdrAll.loc[mdrAll.BD_ID == \"MDR16-18\", \"PxLost\"] = mdrAll[mdrAll.BD_ID == \"MDR16-18\"]\\\n",
    "    .PxCondition.map(gen_inStr([\"abandon\"]))\n",
    "mdrAll.loc[mdrAll.BD_ID == \"MDR16-18\", \"TxFailure\"] = mdrAll[mdrAll.BD_ID == \"MDR16-18\"]\\\n",
    "    .PxCondition.map(gen_inStr([\"fracaso\"]))"
   ]
  },
  {
   "cell_type": "code",
   "execution_count": 11,
   "metadata": {},
   "outputs": [],
   "source": [
    "mdrAll_valid = mdrAll[mdrAll.DAS.isna() == False].copy() # .loc[(mdrAll.BD_ID == \"MDR16-18\") & (mdrAll.ID.isna()== False), ]\n",
    "#mdrAll.ID.isna().sum()"
   ]
  },
  {
   "cell_type": "code",
   "execution_count": 12,
   "metadata": {},
   "outputs": [],
   "source": [
    "mdrAll_valid[\"Year\"] = mdrAll_valid.BD_ID.map(lambda x: int(x[3:5]))\n",
    "mdrAll_valid[\"TxDate_\"] = pd.to_datetime(mdrAll_valid.TxDate, errors=\"ignore\")\n",
    "mdrAll_valid[\"TxDate_Year\"] = mdrAll_valid.TxDate_.map(tryfun(lambda x: x.year))\n",
    "mdrAll_valid[\"DxDate_\"] = pd.to_datetime(mdrAll_valid.DxDate, errors=\"ignore\")\n",
    "mdrAll_valid[\"DxDate_Year\"] = mdrAll_valid.DxDate_.map(tryfun(lambda x: x.year))\n",
    "mdrAll_valid[\"ExitDate_\"] = pd.to_datetime(mdrAll_valid.ExitDate, errors=\"ignore\")\n",
    "mdrAll_valid[\"ExitDate_Year\"] = mdrAll_valid.ExitDate_.map(tryfun(lambda x: x.year))\n",
    "mdrAll_valid[\"PDSDate_\"] = mdrAll_valid.PDSDate.map(tryfun(lambda x: re.sub(\"[a-zA-Z\\,\\.]\", \"\", x).strip() if type(x) == str else x ))\\\n",
    "    .map(lambda x: pd.to_datetime(x, errors=\"ignore\"))\n",
    "mdrAll_valid[\"PDSDate_Year\"] = mdrAll_valid.PDSDate_.map(tryfun(lambda x: x.year))\n",
    "mdrAll_valid[\"GxDate_\"] = pd.to_datetime(mdrAll_valid.DateGXPERT, errors=\"ignore\")\n",
    "mdrAll_valid[\"deptocode\"] = mdrAll_valid.Depto.map(str.lower).map(str.strip).map(tryfun(depto2code.get))"
   ]
  },
  {
   "cell_type": "code",
   "execution_count": null,
   "metadata": {},
   "outputs": [],
   "source": [
    "mdrAll_valid.to_csv(\"../../Outcome Measurement Data/TUBERCULOSIS/COHORTES/GTM - TB MDR Cohort Data 2014-2016.csv\")"
   ]
  },
  {
   "cell_type": "code",
   "execution_count": null,
   "metadata": {},
   "outputs": [],
   "source": []
  }
 ],
 "metadata": {
  "kernelspec": {
   "display_name": "Python 3",
   "language": "python",
   "name": "python3"
  },
  "language_info": {
   "codemirror_mode": {
    "name": "ipython",
    "version": 3
   },
   "file_extension": ".py",
   "mimetype": "text/x-python",
   "name": "python",
   "nbconvert_exporter": "python",
   "pygments_lexer": "ipython3",
   "version": "3.6.8"
  }
 },
 "nbformat": 4,
 "nbformat_minor": 2
}
