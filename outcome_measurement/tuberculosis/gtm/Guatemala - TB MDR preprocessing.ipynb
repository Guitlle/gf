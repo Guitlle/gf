{
 "cells": [
  {
   "cell_type": "code",
   "execution_count": 1,
   "metadata": {},
   "outputs": [],
   "source": [
    "from IPython.display import display, HTML\n",
    "\n",
    "import pandas as pd\n",
    "import numpy as np\n",
    "import seaborn as sb\n",
    "import matplotlib as mlp\n",
    "import matplotlib.pyplot as plt\n",
    "import geopandas as gp\n",
    "\n",
    "import os\n",
    "\n",
    "os.chdir(\"../../../core\")\n",
    "import GT_helper_functions as hf\n",
    "import GT_load_data as data\n",
    "\n",
    "base_dir = \"../../Outcome Measurement Data/\""
   ]
  },
  {
   "cell_type": "code",
   "execution_count": 2,
   "metadata": {},
   "outputs": [],
   "source": [
    "%matplotlib inline\n",
    "plt.style.use('ggplot')\n",
    "mlp.rcParams[\"figure.facecolor\"] = \"white\"\n",
    "mlp.rcParams[\"figure.dpi\"] = 100\n",
    "mlp.rcParams[\"figure.figsize\"] = [10,7]"
   ]
  },
  {
   "cell_type": "code",
   "execution_count": 31,
   "metadata": {},
   "outputs": [],
   "source": [
    "mdr14_16 = pd.read_excel(base_dir + \"TUBERCULOSIS/COHORTES/COHORTE TB - MDR 2014 - 2016.xls\", 0)\n",
    "mdr15_17 = pd.read_excel(base_dir + \"TUBERCULOSIS/COHORTES/COHORTE TB - MDR 2015 - 2017.xls\",0)\n",
    "mdr16_18 = pd.read_excel(base_dir + \"TUBERCULOSIS/COHORTES/COHORTE TB - MDR 2016 - 2018.xlsx\",0)"
   ]
  },
  {
   "cell_type": "code",
   "execution_count": 32,
   "metadata": {},
   "outputs": [],
   "source": [
    "mdr14_16.columns = ['ID', 'X_0', 'Gender', 'Age', 'X_1',\n",
    "       'Muni', 'Depto', 'DAS', 'PxNew', 'PxRelapse', 'PxLost',\n",
    "       'TxFailure', 'TBType', 'PDSDate', 'PDSResult',\n",
    "       'X_2', 'X_3', 'DateTx', 'DateBk_1',\n",
    "       'ResultBk_1', 'DateCulture_1', 'ResultCulture_1',\n",
    "       'DateCulture_2', 'ResultCulture_2', 'DateCulture_3',\n",
    "       'ResultCulture_3', 'DateCulture_4', 'ResultCulture_4',\n",
    "       'DateCulture_5', 'ResultCulture_5', 'DateCulture_6', 'ResultCulture_6',\n",
    "       'DateCulture_7', 'ResultCulture_7', 'DateCulture_8', 'ResultCulture_8',\n",
    "       'DateCulture_9', 'ResultCulture_9', 'DateCulture_10', 'ResultCulture_10',\n",
    "       'DateCulture_11', 'ResultCulture_11', 'DateCulture_12', 'ResultCulture_12',\n",
    "       'DateCulture_13', 'ResultCulture_13', 'DateCulture_14', 'ResultCulture_14',\n",
    "       'DateCulture_15', 'ResultCulture_15', 'DateCulture_16', 'ResultCulture_16',\n",
    "       'DateCulture_17', 'ResultCulture_17', 'DateCulture_18', 'ResultCulture_18',\n",
    "       'DateCulture_19', 'ResultCulture_19', 'DateCulture_20', 'ResultCulture_20',\n",
    "       'DateCulture_21', 'ResultCulture_21', 'DateCulture_22', 'ResultCulture_22',\n",
    "       'DateCulture_23', 'ResultCulture_23', 'DateCulture_24', 'ResultCulture_24',\n",
    "       'DiabetesMel', 'HIV', 'ExitCondition', 'ExitDate', 'Dead', 'Observations',\n",
    "       'Modifications', 'X_4']\n",
    "mdr14_16[\"BD_ID\"] = \"MDR14-16\""
   ]
  },
  {
   "cell_type": "code",
   "execution_count": 33,
   "metadata": {},
   "outputs": [],
   "source": [
    "mdr15_17.columns = ['ID', 'X_0', 'X_1', 'Gender',\n",
    "       'Age', 'X_2', 'Muni', 'Depto', 'DAS', 'DxDate', 'PxNew', 'PxRelapse', 'PxLost',\n",
    "       'TxFailure', 'Referred', 'TBType',\n",
    "       'TxDate', 'GXPERTRR', 'PDSDate', 'PDSResult', 'TTODate',\n",
    "       'DateBk_1', 'ResultBk_1', 'DateCulture_1', 'ResultCulture_1',\n",
    "       'DateCulture_2', 'ResultCulture_2', 'DateCulture_3', 'ResultCulture_3', 'DateCulture_4', 'ResultCulture_4',\n",
    "       'DateCulture_5', 'ResultCulture_5', 'DateCulture_6', 'ResultCulture_6', \n",
    "       'DateCulture_7', 'ResultCulture_7', 'DateCulture_8', 'ResultCulture_8',\n",
    "       'DateCulture_9', 'ResultCulture_9', 'DateCulture_10', 'ResultCulture_10',\n",
    "       'DateCulture_11', 'ResultCulture_11', 'DateCulture_12', 'ResultCulture_12',\n",
    "       'DateCulture_13', 'ResultCulture_13', 'DateCulture_14', 'ResultCulture_14',\n",
    "       'DateCulture_15', 'ResultCulture_15', 'DateCulture_16', 'ResultCulture_16',\n",
    "       'DateCulture_17', 'ResultCulture_17', 'DateCulture_18', 'ResultCulture_18',\n",
    "       'DateCulture_19', 'ResultCulture_19', 'DateCulture_20', 'ResultCulture_20',\n",
    "       'DateCulture_21', 'ResultCulture_21', 'DateCulture_22', 'ResultCulture_22',\n",
    "       'DateCulture_23', 'ResultCulture_23', 'DateCulture_24', 'ResultCulture_24',\n",
    "       'DiabetesMel', 'HIV', 'ExitCondition', 'ExitDate', 'Dead',\n",
    "       'Observations']\n",
    "mdr15_17[\"BD_ID\"] = \"MDR15-17\""
   ]
  },
  {
   "cell_type": "code",
   "execution_count": 34,
   "metadata": {},
   "outputs": [],
   "source": [
    "mdr16_18.columns = ['ID', 'Gender', 'Age', 'X_0', 'Muni',\n",
    "       'Depto', 'DAS', 'DxDate', 'PxCondition', 'TxFailure',\n",
    "       'TBPulmonar', 'TBExtrapulmonar', 'TxDate', 'DateGXPERT',\n",
    "       'GENOTYPE', 'ResistType', 'PDSDate', 'PDSResult',\n",
    "       'TTODate', 'DateBk_1',\n",
    "       'ResultBk_1', 'DateCulture_1', 'ResultCulture_1',\n",
    "       'DateCulture_2', 'ResultCulture_2', 'DateCulture_3',\n",
    "       'ResultCulture_3', 'DateCulture_4', 'ResultCulture_4',\n",
    "       'DateCulture_5', 'ResultCulture_5', 'DateCulture_6', 'ResultCulture_6',\n",
    "       'DateCulture_7', 'ResultCulture_7', 'DateCulture_8', 'ResultCulture_8',\n",
    "       'DateCulture_9', 'ResultCulture_9', 'DateCulture_10', 'ResultCulture_10',\n",
    "       'DateCulture_11', 'ResultCulture_11', 'DateCulture_12', 'ResultCulture_12',\n",
    "       'DateCulture_13', 'ResultCulture_13', 'DateCulture_14', 'ResultCulture_14',\n",
    "       'DateCulture_15', 'ResultCulture_15', 'DateCulture_16', 'ResultCulture_16',\n",
    "       'DateCulture_17', 'ResultCulture_17', 'DateCulture_18', 'ResultCulture_18',\n",
    "       'DateCulture_19', 'ResultCulture_19', 'DateCulture_20', 'ResultCulture_20',\n",
    "       'DateCulture_21', 'ResultCulture_21', 'DateCulture_22', 'ResultCulture_22',\n",
    "       'DateCulture_23', 'ResultCulture_23', 'DateCulture_24', 'ResultCulture_24',\n",
    "       'DiabetesMel', 'HIV', 'ExitCondition', 'ExitDate', 'Dead', 'Observations',\n",
    "       'Modifications',] \n",
    "mdr16_18[\"BD_ID\"] = \"MDR16-18\""
   ]
  },
  {
   "cell_type": "code",
   "execution_count": 35,
   "metadata": {},
   "outputs": [
    {
     "name": "stderr",
     "output_type": "stream",
     "text": [
      "C:\\Anaconda3\\lib\\site-packages\\ipykernel_launcher.py:1: FutureWarning: Sorting because non-concatenation axis is not aligned. A future version\n",
      "of pandas will change to not sort by default.\n",
      "\n",
      "To accept the future behavior, pass 'sort=False'.\n",
      "\n",
      "To retain the current behavior and silence the warning, pass 'sort=True'.\n",
      "\n",
      "  \"\"\"Entry point for launching an IPython kernel.\n"
     ]
    }
   ],
   "source": [
    "mdrAll = pd.concat([mdr14_16, mdr15_17, mdr16_18])"
   ]
  },
  {
   "cell_type": "code",
   "execution_count": 45,
   "metadata": {},
   "outputs": [],
   "source": [
    "mdrAll.loc[mdrAll.BD_ID == \"MDR16-18\", \"PxNew\"] = mdrAll[mdrAll.BD_ID == \"MDR16-18\"]\\\n",
    "    .PxCondition.map(lambda x: \"nuevo\" in x.lower() if type(x) == str else x)"
   ]
  },
  {
   "cell_type": "code",
   "execution_count": 46,
   "metadata": {},
   "outputs": [
    {
     "data": {
      "text/plain": [
       "False    59\n",
       "True     17\n",
       "Name: PxNew, dtype: int64"
      ]
     },
     "execution_count": 46,
     "metadata": {},
     "output_type": "execute_result"
    }
   ],
   "source": [
    "mdrAll.loc[mdrAll.BD_ID == \"MDR16-18\", \"PxNew\"].value_counts()"
   ]
  },
  {
   "cell_type": "code",
   "execution_count": null,
   "metadata": {},
   "outputs": [],
   "source": []
  }
 ],
 "metadata": {
  "kernelspec": {
   "display_name": "Python 3",
   "language": "python",
   "name": "python3"
  },
  "language_info": {
   "codemirror_mode": {
    "name": "ipython",
    "version": 3
   },
   "file_extension": ".py",
   "mimetype": "text/x-python",
   "name": "python",
   "nbconvert_exporter": "python",
   "pygments_lexer": "ipython3",
   "version": "3.5.1"
  }
 },
 "nbformat": 4,
 "nbformat_minor": 2
}
