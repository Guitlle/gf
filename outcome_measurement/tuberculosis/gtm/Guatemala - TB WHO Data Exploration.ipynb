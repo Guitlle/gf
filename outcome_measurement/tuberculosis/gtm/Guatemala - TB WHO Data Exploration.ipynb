{
 "cells": [
  {
   "cell_type": "code",
   "execution_count": 1,
   "metadata": {},
   "outputs": [],
   "source": [
    "from IPython.display import display, HTML\n",
    "\n",
    "import pandas as pd\n",
    "import numpy as np\n",
    "import seaborn as sb\n",
    "import matplotlib as mlp\n",
    "import matplotlib.pyplot as plt\n",
    "import geopandas as gp\n",
    "\n",
    "import os\n",
    "\n",
    "os.chdir(\"../../../core\")\n",
    "import GT_helper_functions as hf\n",
    "import GT_load_data as data\n"
   ]
  },
  {
   "cell_type": "code",
   "execution_count": 2,
   "metadata": {},
   "outputs": [],
   "source": [
    "%matplotlib inline\n",
    "plt.style.use('ggplot')\n",
    "mlp.rcParams[\"figure.facecolor\"] = \"white\"\n",
    "mlp.rcParams[\"figure.dpi\"] = 200\n",
    "mlp.rcParams[\"figure.figsize\"] = [10,7]\n",
    "pd.options.display.max_columns = 100\n",
    "pd.options.display.max_seq_items = 200"
   ]
  },
  {
   "cell_type": "code",
   "execution_count": 3,
   "metadata": {},
   "outputs": [],
   "source": [
    "who_financial = pd.read_csv(\"../../Outcome Measurement Data/TUBERCULOSIS/WHO/TB_budget_2018-11-15.csv\")"
   ]
  },
  {
   "cell_type": "code",
   "execution_count": 4,
   "metadata": {},
   "outputs": [
    {
     "data": {
      "text/plain": [
       "Index(['country', 'iso2', 'iso3', 'iso_numeric', 'g_whoregion', 'year',\n",
       "       'tx_dstb', 'budget_cpp_dstb', 'tx_mdr', 'budget_cpp_mdr', 'tx_xdr',\n",
       "       'budget_cpp_xdr', 'budget_lab', 'cf_lab', 'budget_staff', 'cf_staff',\n",
       "       'budget_fld', 'cf_fld', 'budget_prog', 'cf_prog', 'budget_sld',\n",
       "       'cf_sld', 'budget_mdrmgt', 'cf_mdrmgt', 'budget_tbhiv', 'cf_tbhiv',\n",
       "       'budget_patsup', 'cf_patsup', 'budget_orsrvy', 'cf_orsrvy',\n",
       "       'budget_oth', 'cf_oth', 'budget_tot', 'cf_tot', 'cf_tot_domestic',\n",
       "       'cf_tot_gf', 'cf_tot_usaid', 'cf_tot_grnt', 'cf_tot_sources'],\n",
       "      dtype='object')"
      ]
     },
     "execution_count": 4,
     "metadata": {},
     "output_type": "execute_result"
    }
   ],
   "source": [
    "who_financial.columns"
   ]
  },
  {
   "cell_type": "code",
   "execution_count": 5,
   "metadata": {},
   "outputs": [],
   "source": [
    "cfvars = [\"cf_tot\",\n",
    "\"cf_tot_domestic\",\n",
    "\"cf_tot_gf\",\n",
    "\"cf_tot_grnt\",\n",
    "\"cf_tot_sources\",\n",
    "\"cf_tot_usaid\"]"
   ]
  },
  {
   "cell_type": "code",
   "execution_count": 6,
   "metadata": {},
   "outputs": [],
   "source": [
    "# who_financial # [who_financial.iso2 == \"GT\"]"
   ]
  },
  {
   "cell_type": "code",
   "execution_count": null,
   "metadata": {},
   "outputs": [],
   "source": []
  }
 ],
 "metadata": {
  "kernelspec": {
   "display_name": "Python 3",
   "language": "python",
   "name": "python3"
  },
  "language_info": {
   "codemirror_mode": {
    "name": "ipython",
    "version": 3
   },
   "file_extension": ".py",
   "mimetype": "text/x-python",
   "name": "python",
   "nbconvert_exporter": "python",
   "pygments_lexer": "ipython3",
   "version": "3.6.3"
  }
 },
 "nbformat": 4,
 "nbformat_minor": 2
}
