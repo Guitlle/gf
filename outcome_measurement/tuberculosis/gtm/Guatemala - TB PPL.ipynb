{
 "cells": [
  {
   "cell_type": "code",
   "execution_count": 1,
   "metadata": {},
   "outputs": [],
   "source": [
    "from IPython.display import display, HTML\n",
    "\n",
    "import xlrd\n",
    "import pandas as pd\n",
    "import geopandas\n",
    "import numpy as np\n",
    "import seaborn as sb\n",
    "import matplotlib as mlp\n",
    "import matplotlib.pyplot as plt\n",
    "\n",
    "import geopandas as gp\n",
    "\n",
    "%matplotlib inline\n",
    "plt.style.use('ggplot')\n",
    "mlp.rcParams['figure.figsize'] = [8.0, 8.0]"
   ]
  },
  {
   "cell_type": "code",
   "execution_count": 25,
   "metadata": {},
   "outputs": [],
   "source": [
    "basesppl = {\n",
    "    2014: pd.read_excel(\"../../../../Outcome Measurement Data/TUBERCULOSIS/PPL/BASE DE DATOS PPL 2014.xlsx\", 0, skiprows = 7),   \n",
    "    2015: pd.read_excel(\"../../../../Outcome Measurement Data/TUBERCULOSIS/PPL/BASEDE DATOS PPL 2015.xlsx\", 0, skiprows = 7),\n",
    "    2016: pd.read_excel(\"../../../../Outcome Measurement Data/TUBERCULOSIS/PPL/BASE DE DATOS 2016.xlsx\", 0, skiprows = 2),\n",
    "    2017: pd.read_excel(\"../../../../Outcome Measurement Data/TUBERCULOSIS/PPL/BASE DE DATOS PRIVADOS DE LIBERTAD 2017.xlsx\", 0, skiprows = 3)\n",
    "}"
   ]
  },
  {
   "cell_type": "code",
   "execution_count": 34,
   "metadata": {},
   "outputs": [
    {
     "name": "stdout",
     "output_type": "stream",
     "text": [
      "2016 Index(['No orden ', 'DAS', 'Centro Penal', 'Servicio', 'Sexo', 'Edad',\n",
      "       'Condicion de Ingreso', 'Clasificacio', 'Localizacion',\n",
      "       'FECHA DE INCIO DE TRATAMIENTO ', 'Fecha de Dg', 'Metodo Dg.', 'VIH',\n",
      "       'Unnamed: 13'],\n",
      "      dtype='object')\n",
      "2017 Index(['Unnamed: 0', 'Unnamed: 1', 'DAS', 'CENTRO PENAL', 'Distrito', 'Edad',\n",
      "       'Sexo', 'Condicion Caso', 'Tipo TB', 'Clasificación', 'Localización TB',\n",
      "       'Fecha Dx.', 'Método Dx.', 'Fecha Inicio Tx.', 'Condiciones Asociadas',\n",
      "       'VIH'],\n",
      "      dtype='object')\n",
      "2014 Index(['No.', 'EDAD', 'SEXO', 'DIRECCION', 'MUNICIPIO', 'DEPARTAMENTO',\n",
      "       'SERVICIO DE SALUD', 'CONDICION DE INGRESO', 'FECHA DE NOTIFICACION',\n",
      "       'FECHA INICIO TX', 'CLASIFICACION', 'VIH', 'ESQUEMA'],\n",
      "      dtype='object')\n",
      "2015 Index(['No.', 'EDAD', 'SEXO', 'DIRECCION', 'MUNICIPIO', 'DEPARTAMENTO',\n",
      "       'SERVICIO DE SALUD', 'CONDICION DE INGRESO', 'FECHA DE NOTIFICACION',\n",
      "       'FECHA INICIO TX', 'CLASIFICACION', 'VIH', 'ESQUEMA'],\n",
      "      dtype='object')\n"
     ]
    }
   ],
   "source": [
    "vih = []\n",
    "for i, b in basesppl.items(): \n",
    "    print(i, b.columns)\n",
    "    vih.append(b.VIH.value_counts(dropna=False).rename(i))"
   ]
  },
  {
   "cell_type": "code",
   "execution_count": 39,
   "metadata": {},
   "outputs": [
    {
     "name": "stderr",
     "output_type": "stream",
     "text": [
      "c:\\anaconda3\\lib\\site-packages\\ipykernel_launcher.py:1: FutureWarning: Sorting because non-concatenation axis is not aligned. A future version\n",
      "of pandas will change to not sort by default.\n",
      "\n",
      "To accept the future behavior, pass 'sort=False'.\n",
      "\n",
      "To retain the current behavior and silence the warning, pass 'sort=True'.\n",
      "\n",
      "  \"\"\"Entry point for launching an IPython kernel.\n"
     ]
    }
   ],
   "source": [
    "vih = pd.concat(vih, axis=1).fillna(0)"
   ]
  },
  {
   "cell_type": "code",
   "execution_count": 40,
   "metadata": {},
   "outputs": [
    {
     "data": {
      "text/html": [
       "<div>\n",
       "<style scoped>\n",
       "    .dataframe tbody tr th:only-of-type {\n",
       "        vertical-align: middle;\n",
       "    }\n",
       "\n",
       "    .dataframe tbody tr th {\n",
       "        vertical-align: top;\n",
       "    }\n",
       "\n",
       "    .dataframe thead th {\n",
       "        text-align: right;\n",
       "    }\n",
       "</style>\n",
       "<table border=\"1\" class=\"dataframe\">\n",
       "  <thead>\n",
       "    <tr style=\"text-align: right;\">\n",
       "      <th></th>\n",
       "      <th>2014</th>\n",
       "      <th>2015</th>\n",
       "      <th>2016</th>\n",
       "      <th>2017</th>\n",
       "    </tr>\n",
       "  </thead>\n",
       "  <tbody>\n",
       "    <tr>\n",
       "      <th>ND</th>\n",
       "      <td>0.0</td>\n",
       "      <td>0.0</td>\n",
       "      <td>17.0</td>\n",
       "      <td>0.0</td>\n",
       "    </tr>\n",
       "    <tr>\n",
       "      <th>NR</th>\n",
       "      <td>79.0</td>\n",
       "      <td>106.0</td>\n",
       "      <td>124.0</td>\n",
       "      <td>141.0</td>\n",
       "    </tr>\n",
       "    <tr>\n",
       "      <th>R</th>\n",
       "      <td>9.0</td>\n",
       "      <td>5.0</td>\n",
       "      <td>14.0</td>\n",
       "      <td>10.0</td>\n",
       "    </tr>\n",
       "    <tr>\n",
       "      <th>REHUSO</th>\n",
       "      <td>0.0</td>\n",
       "      <td>0.0</td>\n",
       "      <td>1.0</td>\n",
       "      <td>1.0</td>\n",
       "    </tr>\n",
       "    <tr>\n",
       "      <th>NaN</th>\n",
       "      <td>0.0</td>\n",
       "      <td>0.0</td>\n",
       "      <td>0.0</td>\n",
       "      <td>11.0</td>\n",
       "    </tr>\n",
       "  </tbody>\n",
       "</table>\n",
       "</div>"
      ],
      "text/plain": [
       "        2014   2015   2016   2017\n",
       "ND       0.0    0.0   17.0    0.0\n",
       "NR      79.0  106.0  124.0  141.0\n",
       "R        9.0    5.0   14.0   10.0\n",
       "REHUSO   0.0    0.0    1.0    1.0\n",
       "NaN      0.0    0.0    0.0   11.0"
      ]
     },
     "execution_count": 40,
     "metadata": {},
     "output_type": "execute_result"
    }
   ],
   "source": [
    "vih.sort_index(axis=1)"
   ]
  },
  {
   "cell_type": "code",
   "execution_count": null,
   "metadata": {},
   "outputs": [],
   "source": []
  }
 ],
 "metadata": {
  "kernelspec": {
   "display_name": "Python 3",
   "language": "python",
   "name": "python3"
  },
  "language_info": {
   "codemirror_mode": {
    "name": "ipython",
    "version": 3
   },
   "file_extension": ".py",
   "mimetype": "text/x-python",
   "name": "python",
   "nbconvert_exporter": "python",
   "pygments_lexer": "ipython3",
   "version": "3.5.1"
  }
 },
 "nbformat": 4,
 "nbformat_minor": 2
}
