{
 "cells": [
  {
   "cell_type": "code",
   "execution_count": 1,
   "metadata": {},
   "outputs": [],
   "source": [
    "import pandas as pd\n",
    "import datetime\n",
    "import numpy as np\n",
    "import re\n",
    "import seaborn as sb\n",
    "import matplotlib as mlp\n",
    "import matplotlib.pyplot as plt\n",
    "from hashlib import sha256\n",
    "\n",
    "%matplotlib inline"
   ]
  },
  {
   "cell_type": "code",
   "execution_count": 2,
   "metadata": {},
   "outputs": [],
   "source": [
    "pd.options.display.max_columns=1000\n",
    "mlp.rcParams[\"figure.dpi\"] = 200\n",
    "mlp.rcParams[\"figure.facecolor\"] = \"white\""
   ]
  },
  {
   "cell_type": "code",
   "execution_count": 5,
   "metadata": {},
   "outputs": [],
   "source": [
    "vinculacion = pd.read_excel(\"../../../../Outcome Measurement Data/HIV/SIGPRO_Raw/sigpro_f4_JanNov2018.xlsx\", 4)\n",
    "psico = pd.read_excel(\"../../../../Outcome Measurement Data/HIV/SIGPRO_Raw/sigpro_f4_JanNov2018.xlsx\", 8)\n",
    "its = pd.read_excel(\"../../../../Outcome Measurement Data/HIV/SIGPRO_Raw/sigpro_f4_JanNov2018.xlsx\", 6)\n",
    "aa = pd.read_excel(\"../../../../Outcome Measurement Data/HIV/SIGPRO_Raw/sigpro_f4_JanNov2018.xlsx\", 7)"
   ]
  },
  {
   "cell_type": "code",
   "execution_count": 22,
   "metadata": {},
   "outputs": [],
   "source": [
    "pb_tvc = pd.read_excel(\"../../../../Outcome Measurement Data/HIV/SIGPRO_Raw/sigpro_f4_JanNov2018.xlsx\", 5)"
   ]
  },
  {
   "cell_type": "code",
   "execution_count": 8,
   "metadata": {},
   "outputs": [],
   "source": [
    "# Unique IDs begin with a letter indicating either Male, Female or Trans. \n",
    "# Continue with 6 numbers indicating date of birth. Are followed by \n",
    "# 2 unknown numbers and 3 numbers standing for the municipality code, \n",
    "# then 4 or 3 letters that stand for the initials of the patient. \n",
    "# Finally two numbers of unknown meaning. Must convert dates to age,\n",
    "# obtain sex column and unique hash"
   ]
  },
  {
   "cell_type": "code",
   "execution_count": 21,
   "metadata": {},
   "outputs": [],
   "source": [
    "def FuncTry(f, debug_prefix = \"DEBUG\"):\n",
    "    def wrapper(data):\n",
    "        try:\n",
    "            return f(data)\n",
    "        except:\n",
    "            print(debug_prefix + \": Bad data:\", data)\n",
    "            return np.NaN\n",
    "    return wrapper\n",
    "\n",
    "def parseDate(input_str, format_ = \"%d%m%y\"):\n",
    "    try:\n",
    "        return datetime.datetime.strptime(input_str[1:7], \"%d%m%y\")\n",
    "    except:\n",
    "        print(\"DATE: Bad date\", input_str)\n",
    "        return pd.NaT\n",
    "\n",
    "muni_expr = re.compile(r\"(\\d{4})[A-Z]+\")\n",
    "def extractMunicode(input_str):\n",
    "    try:\n",
    "        return int(muni_expr.search(input_str).group(1))\n",
    "    except:\n",
    "        print(\"Bad municode:\", input_str)\n",
    "        return 0\n",
    "    \n",
    "def getAgeFuncGen(cui_field):\n",
    "    def getAge(row):\n",
    "        try:\n",
    "            return np.floor((row.Date - parseDate(row[cui_field]).date()).days/365.25)\n",
    "        except:\n",
    "            print(\"AGE: Bad dates:\", row.Date, row[cui_field])\n",
    "            return np.NaN\n",
    "    return getAge\n",
    "        \n",
    "def processDatabase(df, cui_field = \"codigounico\"):\n",
    "    df[\"Gender\"]  = df[cui_field].map(lambda x: x[0:1] if type(x) == str else np.NaN)\n",
    "    df[\"Age\"]     = df.apply(getAgeFuncGen(cui_field), axis=1)\n",
    "    df[\"municode\"]= df[cui_field].map(extractMunicode)\n",
    "    hashField(df, cui_field)\n",
    "    \n",
    "def hashField(df, hash_field):\n",
    "    df[hash_field]     = df[hash_field].map(\n",
    "        FuncTry(lambda x: sha256(x.encode()).hexdigest(), \"HASH\"))"
   ]
  },
  {
   "cell_type": "code",
   "execution_count": 23,
   "metadata": {},
   "outputs": [
    {
     "name": "stdout",
     "output_type": "stream",
     "text": [
      "AGE: Bad dates: NaT T07077811217DEPE00\n",
      "AGE: Bad dates: NaT T20029911107MIRA00\n",
      "AGE: Bad dates: NaT T31087949999ALAL00\n",
      "DATE: Bad date T01258911801BEMO00\n",
      "DATE: Bad date M113/012001MASO00\n",
      "AGE: Bad dates: NaT M03099210101LEME00\n",
      "AGE: Bad dates: NaT T20049111601PATZ00\n",
      "AGE: Bad dates: NaT T18029410101NICA00\n",
      "AGE: Bad dates: NaT T04018410101JUAV00\n",
      "AGE: Bad dates: NaT T08017812102VIVE00\n",
      "AGE: Bad dates: NaT T17066911904DELI00\n",
      "AGE: Bad dates: NaT T01015010101CUCA00\n",
      "AGE: Bad dates: NaT T24099210101SAPE00\n",
      "AGE: Bad dates: NaT T12099111801FEAL00\n",
      "AGE: Bad dates: NaT T14089010108SEGO00\n",
      "AGE: Bad dates: NaT T14089810108MAGO00\n",
      "AGE: Bad dates: NaT T15039010101MACA00\n",
      "AGE: Bad dates: NaT T25049010108CAGU00\n",
      "AGE: Bad dates: NaT T22049359999SAGO00\n",
      "AGE: Bad dates: NaT T15039310101DAQU00\n",
      "AGE: Bad dates: NaT T05118610101DADU00\n",
      "AGE: Bad dates: NaT T14129011501ROSU00\n",
      "AGE: Bad dates: NaT T16079110301JIED00\n",
      "AGE: Bad dates: NaT T31018810101BRGO00\n",
      "AGE: Bad dates: NaT T12028810101JOPE00\n",
      "AGE: Bad dates: NaT T12017810504MALO00\n",
      "AGE: Bad dates: NaT T31018610502GUSA00\n",
      "AGE: Bad dates: NaT T23039510202MASA00\n",
      "DATE: Bad date M01179310101JUGA00\n",
      "AGE: Bad dates: NaT M01068510101MAIB00\n",
      "DATE: Bad date T07259310101KEBR00\n",
      "DATE: Bad date M09169810117JOSA00\n",
      "DATE: Bad date M01/19810101FRMA00\n",
      "AGE: Bad dates: NaT M12119410901CALO00\n",
      "AGE: Bad dates: NaT M08079110901OMMO00\n",
      "AGE: Bad dates: NaT T10059711602CEPO00\n",
      "AGE: Bad dates: NaT T08088510101FAME00\n",
      "AGE: Bad dates: NaT T11127812205ASES00\n",
      "AGE: Bad dates: NaT T24129610101MELE00\n",
      "AGE: Bad dates: NaT T07089510101DAAL00\n",
      "AGE: Bad dates: NaT T12119510101CAHE00\n",
      "AGE: Bad dates: NaT T09019739999KEFE00\n",
      "AGE: Bad dates: NaT T06060129999CEGA00\n",
      "AGE: Bad dates: NaT T19078729999ALGA00\n",
      "AGE: Bad dates: NaT T28038710101CLBR00\n",
      "AGE: Bad dates: NaT M01017310613OVLO00\n",
      "DATE: Bad date M09179810706FRMA00\n",
      "HASH: Bad data: nan\n",
      "HASH: Bad data: nan\n",
      "HASH: Bad data: nan\n",
      "HASH: Bad data: nan\n",
      "HASH: Bad data: nan\n",
      "HASH: Bad data: nan\n",
      "HASH: Bad data: nan\n",
      "HASH: Bad data: nan\n",
      "HASH: Bad data: nan\n",
      "HASH: Bad data: nan\n",
      "HASH: Bad data: nan\n",
      "HASH: Bad data: nan\n",
      "HASH: Bad data: nan\n",
      "HASH: Bad data: nan\n",
      "HASH: Bad data: nan\n",
      "HASH: Bad data: nan\n",
      "HASH: Bad data: nan\n",
      "HASH: Bad data: nan\n",
      "HASH: Bad data: nan\n",
      "HASH: Bad data: nan\n",
      "HASH: Bad data: nan\n",
      "HASH: Bad data: nan\n",
      "HASH: Bad data: nan\n",
      "HASH: Bad data: nan\n",
      "HASH: Bad data: nan\n",
      "HASH: Bad data: nan\n",
      "HASH: Bad data: nan\n",
      "HASH: Bad data: nan\n",
      "HASH: Bad data: nan\n",
      "HASH: Bad data: nan\n",
      "HASH: Bad data: nan\n",
      "HASH: Bad data: nan\n",
      "HASH: Bad data: nan\n",
      "HASH: Bad data: nan\n",
      "HASH: Bad data: nan\n",
      "HASH: Bad data: nan\n",
      "HASH: Bad data: nan\n",
      "HASH: Bad data: nan\n",
      "HASH: Bad data: nan\n",
      "HASH: Bad data: nan\n",
      "HASH: Bad data: nan\n",
      "HASH: Bad data: nan\n",
      "HASH: Bad data: nan\n",
      "HASH: Bad data: nan\n",
      "HASH: Bad data: nan\n",
      "HASH: Bad data: nan\n",
      "HASH: Bad data: nan\n",
      "HASH: Bad data: nan\n",
      "HASH: Bad data: nan\n",
      "HASH: Bad data: nan\n",
      "HASH: Bad data: nan\n",
      "HASH: Bad data: nan\n",
      "HASH: Bad data: nan\n",
      "HASH: Bad data: nan\n",
      "HASH: Bad data: nan\n",
      "HASH: Bad data: nan\n",
      "HASH: Bad data: nan\n",
      "HASH: Bad data: nan\n",
      "HASH: Bad data: nan\n",
      "HASH: Bad data: nan\n",
      "HASH: Bad data: nan\n",
      "HASH: Bad data: nan\n",
      "HASH: Bad data: nan\n"
     ]
    }
   ],
   "source": [
    "pb_tvc[\"Date\"]    = pd.to_datetime(pb_tvc.fechareal, format = \"%d/%m/%Y\").map(lambda x: x.date())\n",
    "processDatabase(pb_tvc)\n",
    "hashField(pb_tvc, \"responsable\")\n",
    "hashField(pb_tvc, \"educador\")"
   ]
  },
  {
   "cell_type": "code",
   "execution_count": 33,
   "metadata": {},
   "outputs": [],
   "source": [
    "pb_tvc.to_csv(\"../../../../Outcome Measurement Data/HIV/SIGPRO/sigpro_f4_JanNov2018 - PB_TVC.csv\")"
   ]
  },
  {
   "cell_type": "code",
   "execution_count": 34,
   "metadata": {},
   "outputs": [
    {
     "data": {
      "text/plain": [
       "0    2018-01-01\n",
       "1    2018-01-01\n",
       "Name: Date, dtype: object"
      ]
     },
     "execution_count": 34,
     "metadata": {},
     "output_type": "execute_result"
    }
   ],
   "source": [
    "its[\"Date\"]    = its.apply(lambda x: datetime.date(int(x.codanno+2016), int(x.codmes), 1) if not np.isnan(x.codanno) else pd.NaT, axis=1)\n",
    "#its.iloc[6958]\n",
    "its.Date.head(2)"
   ]
  },
  {
   "cell_type": "code",
   "execution_count": 35,
   "metadata": {},
   "outputs": [
    {
     "data": {
      "text/plain": [
       "38.04517453798768"
      ]
     },
     "execution_count": 35,
     "metadata": {},
     "output_type": "execute_result"
    }
   ],
   "source": [
    "#np.floor((its.Date - \n",
    "r = its.iloc[1]\n",
    "(r.Date - parseDate(r[\"codigounico\"]).date()).days/365.25"
   ]
  },
  {
   "cell_type": "code",
   "execution_count": 36,
   "metadata": {},
   "outputs": [
    {
     "name": "stdout",
     "output_type": "stream",
     "text": [
      "DATE: Bad date M01/09912214ELRE00\n",
      "AGE: Bad dates: NaT M15116910501RUBA01\n",
      "AGE: Bad dates: NaT T05099229999JOSA00\n",
      "AGE: Bad dates: NaT T12099411002LIMO00\n",
      "DATE: Bad date M01/09912214ELRE00\n",
      "AGE: Bad dates: NaT T05099229999JOSA00\n",
      "AGE: Bad dates: NaT T12099411002LIMO00\n",
      "HASH: Bad data: nan\n",
      "HASH: Bad data: nan\n",
      "HASH: Bad data: nan\n",
      "HASH: Bad data: nan\n",
      "HASH: Bad data: nan\n",
      "HASH: Bad data: nan\n",
      "HASH: Bad data: nan\n",
      "HASH: Bad data: nan\n",
      "HASH: Bad data: nan\n",
      "HASH: Bad data: nan\n",
      "HASH: Bad data: nan\n",
      "HASH: Bad data: nan\n"
     ]
    }
   ],
   "source": [
    "processDatabase(its)\n",
    "hashField(its, \"responsable\")\n",
    "its.to_csv(\"../../../../Outcome Measurement Data/HIV/SIGPRO/sigpro_f4_JanNov2018 - ITS.csv\")"
   ]
  },
  {
   "cell_type": "code",
   "execution_count": 37,
   "metadata": {},
   "outputs": [
    {
     "data": {
      "text/plain": [
       "0    2018-01-01\n",
       "1    2018-01-01\n",
       "Name: Date, dtype: object"
      ]
     },
     "execution_count": 37,
     "metadata": {},
     "output_type": "execute_result"
    }
   ],
   "source": [
    "aa[\"Date\"]    = aa.apply(lambda x: datetime.date(int(x.codanno+2016), int(x.codmes), 1) if not np.isnan(x.codanno) else pd.NaT, axis=1)\n",
    "aa.Date.head(2)"
   ]
  },
  {
   "cell_type": "code",
   "execution_count": 38,
   "metadata": {},
   "outputs": [
    {
     "data": {
      "text/plain": [
       "<class 'str'>      17641\n",
       "<class 'float'>        1\n",
       "Name: codigounico, dtype: int64"
      ]
     },
     "execution_count": 38,
     "metadata": {},
     "output_type": "execute_result"
    }
   ],
   "source": [
    "aa.codigounico.map(lambda x: type(x)).value_counts()"
   ]
  },
  {
   "cell_type": "code",
   "execution_count": 39,
   "metadata": {},
   "outputs": [
    {
     "name": "stdout",
     "output_type": "stream",
     "text": [
      "DATE: Bad date M01/09912214ELRE00\n",
      "AGE: Bad dates: NaT M15116910501RUBA01\n",
      "DATE: Bad date nan\n",
      "DATE: Bad date HSH MAYORES DE 18 AÃ‘OS\n",
      "AGE: Bad dates: NaT T05099229999JOSA00\n",
      "DATE: Bad date TRANS TRABAJADORAS SEXUALES\n",
      "AGE: Bad dates: NaT T12099411002LIMO00\n",
      "DATE: Bad date TRANS MAYORES DE 18 AÃ‘OS\n",
      "DATE: Bad date M01/09912214ELRE00\n",
      "AGE: Bad dates: NaT T05099229999JOSA00\n",
      "DATE: Bad date TRANS TRABAJADORAS SEXUALES\n",
      "AGE: Bad dates: NaT T12099411002LIMO00\n",
      "DATE: Bad date TRANS MAYORES DE 18 AÃ‘OS\n",
      "Bad municode: nan\n",
      "Bad municode: HSH MAYORES DE 18 AÃ‘OS\n",
      "Bad municode: TRANS TRABAJADORAS SEXUALES\n",
      "Bad municode: TRANS MAYORES DE 18 AÃ‘OS\n",
      "Bad municode: TRANS TRABAJADORAS SEXUALES\n",
      "Bad municode: TRANS MAYORES DE 18 AÃ‘OS\n",
      "HASH: Bad data: nan\n",
      "HASH: Bad data: nan\n",
      "HASH: Bad data: nan\n",
      "HASH: Bad data: nan\n",
      "HASH: Bad data: nan\n",
      "HASH: Bad data: nan\n",
      "HASH: Bad data: nan\n",
      "HASH: Bad data: nan\n",
      "HASH: Bad data: nan\n",
      "HASH: Bad data: nan\n",
      "HASH: Bad data: nan\n",
      "HASH: Bad data: nan\n",
      "HASH: Bad data: nan\n",
      "HASH: Bad data: nan\n",
      "HASH: Bad data: nan\n",
      "HASH: Bad data: nan\n",
      "HASH: Bad data: nan\n",
      "HASH: Bad data: nan\n",
      "HASH: Bad data: nan\n"
     ]
    }
   ],
   "source": [
    "processDatabase(aa)\n",
    "hashField(aa, \"responsable\")\n",
    "aa.to_csv(\"../../../../Outcome Measurement Data/HIV/SIGPRO/sigpro_f4_JanNov2018 - AA.csv\")"
   ]
  },
  {
   "cell_type": "code",
   "execution_count": 40,
   "metadata": {},
   "outputs": [
    {
     "data": {
      "text/plain": [
       "0    2018-04-01\n",
       "1    2018-04-01\n",
       "Name: Date, dtype: object"
      ]
     },
     "execution_count": 40,
     "metadata": {},
     "output_type": "execute_result"
    }
   ],
   "source": [
    "psico[\"Date\"] = psico.apply(lambda x: datetime.date(int(x.codanno+2016), int(x.codmes), 1) if not np.isnan(x.codanno) else pd.NaT, axis=1)\n",
    "psico.Date.head(2)"
   ]
  },
  {
   "cell_type": "code",
   "execution_count": 41,
   "metadata": {},
   "outputs": [],
   "source": [
    "processDatabase(psico)\n",
    "hashField(psico, \"responsable\")\n",
    "psico.to_csv(\"../../../../Outcome Measurement Data/HIV/SIGPRO/sigpro_f4_JanNov2018 - Psico.csv\")"
   ]
  },
  {
   "cell_type": "code",
   "execution_count": 42,
   "metadata": {},
   "outputs": [
    {
     "data": {
      "text/plain": [
       "0    2018-02-01\n",
       "1    2018-03-01\n",
       "Name: Date, dtype: object"
      ]
     },
     "execution_count": 42,
     "metadata": {},
     "output_type": "execute_result"
    }
   ],
   "source": [
    "vinculacion[\"Date\"] = vinculacion.apply(lambda x: datetime.date(int(x.codanno+2016), int(x.codmes), 1) if not np.isnan(x.codanno) else pd.NaT, axis=1)\n",
    "vinculacion.Date.head(2)"
   ]
  },
  {
   "cell_type": "code",
   "execution_count": 43,
   "metadata": {},
   "outputs": [
    {
     "name": "stdout",
     "output_type": "stream",
     "text": [
      "HASH: Bad data: nan\n",
      "HASH: Bad data: nan\n",
      "HASH: Bad data: nan\n",
      "HASH: Bad data: nan\n",
      "HASH: Bad data: nan\n",
      "HASH: Bad data: nan\n",
      "HASH: Bad data: nan\n",
      "HASH: Bad data: nan\n",
      "HASH: Bad data: nan\n"
     ]
    }
   ],
   "source": [
    "processDatabase(vinculacion)\n",
    "hashField(vinculacion, \"responsable\")\n",
    "vinculacion.to_csv(\"../../../../Outcome Measurement Data/HIV/SIGPRO/sigpro_f4_JanNov2018 - Vinculacion.csv\")"
   ]
  },
  {
   "cell_type": "markdown",
   "metadata": {},
   "source": [
    "# Some exploring:\n"
   ]
  },
  {
   "cell_type": "code",
   "execution_count": 24,
   "metadata": {},
   "outputs": [
    {
     "data": {
      "text/plain": [
       "201801    23\n",
       "201802    37\n",
       "201803    24\n",
       "201804    61\n",
       "201805    65\n",
       "201806    51\n",
       "201807    59\n",
       "201808    79\n",
       "201809    72\n",
       "201810    56\n",
       "201811    54\n",
       "Name: Date, dtype: int64"
      ]
     },
     "execution_count": 24,
     "metadata": {},
     "output_type": "execute_result"
    }
   ],
   "source": [
    "vinculacion.Date.map(lambda x: x.year*100+x.month).value_counts().sort_index()"
   ]
  },
  {
   "cell_type": "code",
   "execution_count": null,
   "metadata": {},
   "outputs": [],
   "source": []
  }
 ],
 "metadata": {
  "kernelspec": {
   "display_name": "Python 3",
   "language": "python",
   "name": "python3"
  },
  "language_info": {
   "codemirror_mode": {
    "name": "ipython",
    "version": 3
   },
   "file_extension": ".py",
   "mimetype": "text/x-python",
   "name": "python",
   "nbconvert_exporter": "python",
   "pygments_lexer": "ipython3",
   "version": "3.6.3"
  }
 },
 "nbformat": 4,
 "nbformat_minor": 2
}
