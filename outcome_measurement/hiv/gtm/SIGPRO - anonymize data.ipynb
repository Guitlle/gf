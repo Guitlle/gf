{
 "cells": [
  {
   "cell_type": "code",
   "execution_count": 1,
   "metadata": {},
   "outputs": [],
   "source": [
    "import pandas as pd\n",
    "import datetime\n",
    "import numpy as np\n",
    "import re\n",
    "import seaborn as sb\n",
    "import matplotlib as mlp\n",
    "import matplotlib.pyplot as plt\n",
    "from hashlib import sha256\n",
    "\n",
    "%matplotlib inline"
   ]
  },
  {
   "cell_type": "code",
   "execution_count": 2,
   "metadata": {},
   "outputs": [],
   "source": [
    "pd.options.display.max_columns=1000\n",
    "mlp.rcParams[\"figure.dpi\"] = 200\n",
    "mlp.rcParams[\"figure.facecolor\"] = \"white\""
   ]
  },
  {
   "cell_type": "code",
   "execution_count": 3,
   "metadata": {},
   "outputs": [],
   "source": [
    "\n",
    "vinculacion = pd.read_excel(\"../../../../Outcome Measurement Data/HIV/SIGPRO/sigpro_f4_JanNov2018.xlsx\", 4)\n",
    "psico = pd.read_excel(\"../../../../Outcome Measurement Data/HIV/SIGPRO/sigpro_f4_JanNov2018.xlsx\", 8)\n",
    "its = pd.read_excel(\"../../../../Outcome Measurement Data/HIV/SIGPRO/sigpro_f4_JanNov2018.xlsx\", 6)\n",
    "aa = pd.read_excel(\"../../../../Outcome Measurement Data/HIV/SIGPRO/sigpro_f4_JanNov2018.xlsx\", 7)"
   ]
  },
  {
   "cell_type": "code",
   "execution_count": 9,
   "metadata": {},
   "outputs": [],
   "source": [
    "pb_tvc = pd.read_excel(\"../../../../Outcome Measurement Data/HIV/SIGPRO/sigpro_f4_JanNov2018.xlsx\", 5)"
   ]
  },
  {
   "cell_type": "code",
   "execution_count": 5,
   "metadata": {},
   "outputs": [],
   "source": [
    "# Unique IDs begin with a letter indicating either Male, Female or Trans. \n",
    "# Continue with 6 numbers indicating date of birth. Are followed by \n",
    "# 2 unknown numbers and 3 numbers standing for the municipality code, \n",
    "# then 4 or 3 letters that stand for the initials of the patient. \n",
    "# Finally two numbers of unknown meaning. Must convert dates to age,\n",
    "# obtain sex column and unique hash"
   ]
  },
  {
   "cell_type": "code",
   "execution_count": 6,
   "metadata": {},
   "outputs": [],
   "source": [
    "def FuncTry(f):\n",
    "    def wrapper(data):\n",
    "        try:\n",
    "            return f(data)\n",
    "        except:\n",
    "            print(\"Bad data:\", data)\n",
    "            return np.NaN\n",
    "    return wrapper\n",
    "\n",
    "def parseDate(input_str, format_ = \"%d%m%y\"):\n",
    "    try:\n",
    "        return datetime.datetime.strptime(input_str[1:7], \"%d%m%y\")\n",
    "    except:\n",
    "        print(\"Bad date\", input_str)\n",
    "        return pd.NaT\n",
    "\n",
    "muni_expr = re.compile(r\"(\\d{4})[A-Z]+\")\n",
    "def extractMunicode(input_str):\n",
    "    try:\n",
    "        return int(muni_expr.search(input_str).group(1))\n",
    "    except:\n",
    "        print(\"Bad municode:\", input_str)\n",
    "        return 0\n",
    "    \n",
    "def getAgeFuncGen(cui_field):\n",
    "    def getAge(row):\n",
    "        try:\n",
    "            return np.floor((row.Date - parseDate(row[cui_field]).date()).days/365.25)\n",
    "        except:\n",
    "            print(\"Bad dates:\", row.Date, row[cui_field])\n",
    "            return np.NaN\n",
    "    return getAge\n",
    "        \n",
    "def processDatabase(df, cui_field = \"codigounico\"):\n",
    "    df[\"Gender\"]  = df[cui_field].map(lambda x: x[0:1] if type(x) == str else np.NaN)\n",
    "    df[\"Age\"]     = df.apply(getAgeFuncGen(cui_field), axis=1)\n",
    "    df[\"municode\"]= df[cui_field].map(extractMunicode)\n",
    "    df[cui_field]     = hashField(df, cui_field)\n",
    "    \n",
    "def hashField(df, hash_field):\n",
    "    df[hash_field]     = df[hash_field].map(FuncTry(lambda x: sha256(hash_field.encode()).hexdigest()))"
   ]
  },
  {
   "cell_type": "code",
   "execution_count": 10,
   "metadata": {},
   "outputs": [
    {
     "name": "stdout",
     "output_type": "stream",
     "text": [
      "Bad date T01258911801BEMO00\n",
      "Bad date M113/012001MASO00\n",
      "Bad date M01179310101JUGA00\n",
      "Bad date T07259310101KEBR00\n",
      "Bad date M09169810117JOSA00\n",
      "Bad date M01/19810101FRMA00\n",
      "Bad date M09179810706FRMA00\n"
     ]
    },
    {
     "ename": "PermissionError",
     "evalue": "[Errno 13] Permission denied: '../../../../Outcome Measurement Data/HIV/SIGPRO/sigpro_f4_JanNov2018 - PB_TVC.csv'",
     "output_type": "error",
     "traceback": [
      "\u001b[1;31m---------------------------------------------------------------------------\u001b[0m",
      "\u001b[1;31mPermissionError\u001b[0m                           Traceback (most recent call last)",
      "\u001b[1;32m<ipython-input-10-c8e51ada7b9d>\u001b[0m in \u001b[0;36m<module>\u001b[1;34m()\u001b[0m\n\u001b[0;32m      3\u001b[0m \u001b[0mhashField\u001b[0m\u001b[1;33m(\u001b[0m\u001b[0mpb_tvc\u001b[0m\u001b[1;33m,\u001b[0m \u001b[1;34m\"responsable\"\u001b[0m\u001b[1;33m)\u001b[0m\u001b[1;33m\u001b[0m\u001b[0m\n\u001b[0;32m      4\u001b[0m \u001b[0mhashField\u001b[0m\u001b[1;33m(\u001b[0m\u001b[0mpb_tvc\u001b[0m\u001b[1;33m,\u001b[0m \u001b[1;34m\"educador\"\u001b[0m\u001b[1;33m)\u001b[0m\u001b[1;33m\u001b[0m\u001b[0m\n\u001b[1;32m----> 5\u001b[1;33m \u001b[0mpb_tvc\u001b[0m\u001b[1;33m.\u001b[0m\u001b[0mto_csv\u001b[0m\u001b[1;33m(\u001b[0m\u001b[1;34m\"../../../../Outcome Measurement Data/HIV/SIGPRO/sigpro_f4_JanNov2018 - PB_TVC.csv\"\u001b[0m\u001b[1;33m)\u001b[0m\u001b[1;33m\u001b[0m\u001b[0m\n\u001b[0m",
      "\u001b[1;32mC:\\Anaconda3\\lib\\site-packages\\pandas\\core\\frame.py\u001b[0m in \u001b[0;36mto_csv\u001b[1;34m(self, path_or_buf, sep, na_rep, float_format, columns, header, index, index_label, mode, encoding, compression, quoting, quotechar, line_terminator, chunksize, tupleize_cols, date_format, doublequote, escapechar, decimal)\u001b[0m\n\u001b[0;32m   1743\u001b[0m                                  \u001b[0mdoublequote\u001b[0m\u001b[1;33m=\u001b[0m\u001b[0mdoublequote\u001b[0m\u001b[1;33m,\u001b[0m\u001b[1;33m\u001b[0m\u001b[0m\n\u001b[0;32m   1744\u001b[0m                                  escapechar=escapechar, decimal=decimal)\n\u001b[1;32m-> 1745\u001b[1;33m         \u001b[0mformatter\u001b[0m\u001b[1;33m.\u001b[0m\u001b[0msave\u001b[0m\u001b[1;33m(\u001b[0m\u001b[1;33m)\u001b[0m\u001b[1;33m\u001b[0m\u001b[0m\n\u001b[0m\u001b[0;32m   1746\u001b[0m \u001b[1;33m\u001b[0m\u001b[0m\n\u001b[0;32m   1747\u001b[0m         \u001b[1;32mif\u001b[0m \u001b[0mpath_or_buf\u001b[0m \u001b[1;32mis\u001b[0m \u001b[1;32mNone\u001b[0m\u001b[1;33m:\u001b[0m\u001b[1;33m\u001b[0m\u001b[0m\n",
      "\u001b[1;32mC:\\Anaconda3\\lib\\site-packages\\pandas\\io\\formats\\csvs.py\u001b[0m in \u001b[0;36msave\u001b[1;34m(self)\u001b[0m\n\u001b[0;32m    154\u001b[0m             f, handles = _get_handle(self.path_or_buf, self.mode,\n\u001b[0;32m    155\u001b[0m                                      \u001b[0mencoding\u001b[0m\u001b[1;33m=\u001b[0m\u001b[0mencoding\u001b[0m\u001b[1;33m,\u001b[0m\u001b[1;33m\u001b[0m\u001b[0m\n\u001b[1;32m--> 156\u001b[1;33m                                      compression=self.compression)\n\u001b[0m\u001b[0;32m    157\u001b[0m             \u001b[0mclose\u001b[0m \u001b[1;33m=\u001b[0m \u001b[1;32mTrue\u001b[0m\u001b[1;33m\u001b[0m\u001b[0m\n\u001b[0;32m    158\u001b[0m \u001b[1;33m\u001b[0m\u001b[0m\n",
      "\u001b[1;32mC:\\Anaconda3\\lib\\site-packages\\pandas\\io\\common.py\u001b[0m in \u001b[0;36m_get_handle\u001b[1;34m(path_or_buf, mode, encoding, compression, memory_map, is_text)\u001b[0m\n\u001b[0;32m    398\u001b[0m         \u001b[1;32melif\u001b[0m \u001b[0mencoding\u001b[0m\u001b[1;33m:\u001b[0m\u001b[1;33m\u001b[0m\u001b[0m\n\u001b[0;32m    399\u001b[0m             \u001b[1;31m# Python 3 and encoding\u001b[0m\u001b[1;33m\u001b[0m\u001b[1;33m\u001b[0m\u001b[0m\n\u001b[1;32m--> 400\u001b[1;33m             \u001b[0mf\u001b[0m \u001b[1;33m=\u001b[0m \u001b[0mopen\u001b[0m\u001b[1;33m(\u001b[0m\u001b[0mpath_or_buf\u001b[0m\u001b[1;33m,\u001b[0m \u001b[0mmode\u001b[0m\u001b[1;33m,\u001b[0m \u001b[0mencoding\u001b[0m\u001b[1;33m=\u001b[0m\u001b[0mencoding\u001b[0m\u001b[1;33m)\u001b[0m\u001b[1;33m\u001b[0m\u001b[0m\n\u001b[0m\u001b[0;32m    401\u001b[0m         \u001b[1;32melif\u001b[0m \u001b[0mis_text\u001b[0m\u001b[1;33m:\u001b[0m\u001b[1;33m\u001b[0m\u001b[0m\n\u001b[0;32m    402\u001b[0m             \u001b[1;31m# Python 3 and no explicit encoding\u001b[0m\u001b[1;33m\u001b[0m\u001b[1;33m\u001b[0m\u001b[0m\n",
      "\u001b[1;31mPermissionError\u001b[0m: [Errno 13] Permission denied: '../../../../Outcome Measurement Data/HIV/SIGPRO/sigpro_f4_JanNov2018 - PB_TVC.csv'"
     ]
    }
   ],
   "source": [
    "pb_tvc[\"Date\"]    = pd.to_datetime(pb_tvc.fechareal, format = \"%d/%m/%Y\").map(lambda x: x.date())\n",
    "processDatabase(pb_tvc)\n",
    "hashField(pb_tvc, \"responsable\")\n",
    "hashField(pb_tvc, \"educador\")"
   ]
  },
  {
   "cell_type": "code",
   "execution_count": 11,
   "metadata": {},
   "outputs": [],
   "source": [
    "pb_tvc.to_csv(\"../../../../Outcome Measurement Data/HIV/SIGPRO/sigpro_f4_JanNov2018 - PB_TVC.csv\")"
   ]
  },
  {
   "cell_type": "code",
   "execution_count": 12,
   "metadata": {},
   "outputs": [
    {
     "data": {
      "text/plain": [
       "0    2018-01-01\n",
       "1    2018-01-01\n",
       "Name: Date, dtype: object"
      ]
     },
     "execution_count": 12,
     "metadata": {},
     "output_type": "execute_result"
    }
   ],
   "source": [
    "its[\"Date\"]    = its.apply(lambda x: datetime.date(int(x.codanno+2016), int(x.codmes), 1) if not np.isnan(x.codanno) else pd.NaT, axis=1)\n",
    "#its.iloc[6958]\n",
    "its.Date.head(2)"
   ]
  },
  {
   "cell_type": "code",
   "execution_count": 13,
   "metadata": {},
   "outputs": [
    {
     "data": {
      "text/plain": [
       "38.04517453798768"
      ]
     },
     "execution_count": 13,
     "metadata": {},
     "output_type": "execute_result"
    }
   ],
   "source": [
    "#np.floor((its.Date - \n",
    "r = its.iloc[1]\n",
    "(r.Date - parseDate(r[\"codigounico\"]).date()).days/365.25"
   ]
  },
  {
   "cell_type": "code",
   "execution_count": 14,
   "metadata": {},
   "outputs": [
    {
     "name": "stdout",
     "output_type": "stream",
     "text": [
      "Bad date M01/09912214ELRE00\n",
      "Bad date M01/09912214ELRE00\n"
     ]
    }
   ],
   "source": [
    "processDatabase(its)\n",
    "hashField(its, \"responsable\")\n",
    "its.to_csv(\"../../../../Outcome Measurement Data/HIV/SIGPRO/sigpro_f4_JanNov2018 - ITS.csv\")"
   ]
  },
  {
   "cell_type": "code",
   "execution_count": 15,
   "metadata": {},
   "outputs": [
    {
     "data": {
      "text/plain": [
       "0    2018-01-01\n",
       "1    2018-01-01\n",
       "Name: Date, dtype: object"
      ]
     },
     "execution_count": 15,
     "metadata": {},
     "output_type": "execute_result"
    }
   ],
   "source": [
    "aa[\"Date\"]    = aa.apply(lambda x: datetime.date(int(x.codanno+2016), int(x.codmes), 1) if not np.isnan(x.codanno) else pd.NaT, axis=1)\n",
    "aa.Date.head(2)"
   ]
  },
  {
   "cell_type": "code",
   "execution_count": 16,
   "metadata": {},
   "outputs": [
    {
     "data": {
      "text/plain": [
       "<class 'str'>      17641\n",
       "<class 'float'>        1\n",
       "Name: codigounico, dtype: int64"
      ]
     },
     "execution_count": 16,
     "metadata": {},
     "output_type": "execute_result"
    }
   ],
   "source": [
    "aa.codigounico.map(lambda x: type(x)).value_counts()"
   ]
  },
  {
   "cell_type": "code",
   "execution_count": 17,
   "metadata": {},
   "outputs": [
    {
     "name": "stdout",
     "output_type": "stream",
     "text": [
      "Bad date M01/09912214ELRE00\n",
      "Bad date nan\n",
      "Bad date HSH MAYORES DE 18 AÃ‘OS\n",
      "Bad date TRANS TRABAJADORAS SEXUALES\n",
      "Bad date TRANS MAYORES DE 18 AÃ‘OS\n",
      "Bad date M01/09912214ELRE00\n",
      "Bad date TRANS TRABAJADORAS SEXUALES\n",
      "Bad date TRANS MAYORES DE 18 AÃ‘OS\n",
      "Bad municode: nan\n",
      "Bad municode: HSH MAYORES DE 18 AÃ‘OS\n",
      "Bad municode: TRANS TRABAJADORAS SEXUALES\n",
      "Bad municode: TRANS MAYORES DE 18 AÃ‘OS\n",
      "Bad municode: TRANS TRABAJADORAS SEXUALES\n",
      "Bad municode: TRANS MAYORES DE 18 AÃ‘OS\n"
     ]
    }
   ],
   "source": [
    "processDatabase(aa)\n",
    "hashField(aa, \"responsable\")\n",
    "aa.to_csv(\"../../../../Outcome Measurement Data/HIV/SIGPRO/sigpro_f4_JanNov2018 - AA.csv\")"
   ]
  },
  {
   "cell_type": "code",
   "execution_count": 18,
   "metadata": {},
   "outputs": [
    {
     "data": {
      "text/plain": [
       "0    2018-04-01\n",
       "1    2018-04-01\n",
       "Name: Date, dtype: object"
      ]
     },
     "execution_count": 18,
     "metadata": {},
     "output_type": "execute_result"
    }
   ],
   "source": [
    "psico[\"Date\"] = psico.apply(lambda x: datetime.date(int(x.codanno+2016), int(x.codmes), 1) if not np.isnan(x.codanno) else pd.NaT, axis=1)\n",
    "psico.Date.head(2)"
   ]
  },
  {
   "cell_type": "code",
   "execution_count": 19,
   "metadata": {},
   "outputs": [],
   "source": [
    "processDatabase(psico)\n",
    "hashField(psico, \"responsable\")\n",
    "psico.to_csv(\"../../../../Outcome Measurement Data/HIV/SIGPRO/sigpro_f4_JanNov2018 - Psico.csv\")"
   ]
  },
  {
   "cell_type": "code",
   "execution_count": 20,
   "metadata": {},
   "outputs": [
    {
     "data": {
      "text/plain": [
       "0    2018-02-01\n",
       "1    2018-03-01\n",
       "Name: Date, dtype: object"
      ]
     },
     "execution_count": 20,
     "metadata": {},
     "output_type": "execute_result"
    }
   ],
   "source": [
    "vinculacion[\"Date\"] = vinculacion.apply(lambda x: datetime.date(int(x.codanno+2016), int(x.codmes), 1) if not np.isnan(x.codanno) else pd.NaT, axis=1)\n",
    "vinculacion.Date.head(2)"
   ]
  },
  {
   "cell_type": "code",
   "execution_count": 21,
   "metadata": {},
   "outputs": [],
   "source": [
    "processDatabase(vinculacion)\n",
    "hashField(vinculacion, \"responsable\")\n",
    "vinculacion.to_csv(\"../../../../Outcome Measurement Data/HIV/SIGPRO/sigpro_f4_JanNov2018 - Vinculacion.csv\")"
   ]
  },
  {
   "cell_type": "markdown",
   "metadata": {},
   "source": [
    "# Some exploring:\n"
   ]
  },
  {
   "cell_type": "code",
   "execution_count": 24,
   "metadata": {},
   "outputs": [
    {
     "data": {
      "text/plain": [
       "201801    23\n",
       "201802    37\n",
       "201803    24\n",
       "201804    61\n",
       "201805    65\n",
       "201806    51\n",
       "201807    59\n",
       "201808    79\n",
       "201809    72\n",
       "201810    56\n",
       "201811    54\n",
       "Name: Date, dtype: int64"
      ]
     },
     "execution_count": 24,
     "metadata": {},
     "output_type": "execute_result"
    }
   ],
   "source": [
    "vinculacion.Date.map(lambda x: x.year*100+x.month).value_counts().sort_index()"
   ]
  },
  {
   "cell_type": "code",
   "execution_count": null,
   "metadata": {},
   "outputs": [],
   "source": []
  }
 ],
 "metadata": {
  "kernelspec": {
   "display_name": "Python 3",
   "language": "python",
   "name": "python3"
  },
  "language_info": {
   "codemirror_mode": {
    "name": "ipython",
    "version": 3
   },
   "file_extension": ".py",
   "mimetype": "text/x-python",
   "name": "python",
   "nbconvert_exporter": "python",
   "pygments_lexer": "ipython3",
   "version": "3.5.1"
  }
 },
 "nbformat": 4,
 "nbformat_minor": 2
}
