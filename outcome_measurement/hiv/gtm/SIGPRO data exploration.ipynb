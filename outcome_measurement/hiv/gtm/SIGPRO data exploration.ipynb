{
 "cells": [
  {
   "cell_type": "code",
   "execution_count": 2,
   "metadata": {
    "collapsed": true,
    "deletable": true,
    "editable": true
   },
   "outputs": [],
   "source": [
    "import pandas as pd\n",
    "import numpy as np\n",
    "import re\n",
    "import seaborn as sb\n",
    "import matplotlib as mlp\n",
    "import matplotlib.pyplot as plt\n",
    "%matplotlib inline"
   ]
  },
  {
   "cell_type": "code",
   "execution_count": 4,
   "metadata": {
    "collapsed": false,
    "deletable": true,
    "editable": true
   },
   "outputs": [],
   "source": [
    "pb_tvc = pd.read_excel(\"../../../../Outcome Measurement Data/HIV/SIGPRO/sigpro_f4_completo.xlsx\", 0)\n",
    "its = pd.read_excel(\"../../../../Outcome Measurement Data/HIV/SIGPRO/sigpro_f4_completo.xlsx\", 1)\n",
    "aa = pd.read_excel(\"../../../../Outcome Measurement Data/HIV/SIGPRO/sigpro_f4_completo.xlsx\", 2)\n",
    "vinculacion = pd.read_excel(\"../../../../Outcome Measurement Data/HIV/SIGPRO/sigpro_f4_completo.xlsx\", 3)\n",
    "psico = pd.read_excel(\"../../../../Outcome Measurement Data/HIV/SIGPRO/sigpro_f4_completo.xlsx\", 4)"
   ]
  },
  {
   "cell_type": "code",
   "execution_count": 5,
   "metadata": {
    "collapsed": true,
    "deletable": true,
    "editable": true
   },
   "outputs": [],
   "source": [
    "ejecutores = {\n",
    "    \"NAC0401\": \"CAS\",\n",
    "    \"NAC0402\": \"OTRANS\",\n",
    "    \"NAC0403\": \"FUNDACION MARCO ANTONIO\", \n",
    "    \"NAC0404\": \"ASOCIACION IDEI\",\n",
    "    \"NAC0405\": \"FUNDACION FERNANCO ITURBIDE\",\n",
    "    \"NAC0101\": \"HIVOS\"\n",
    "}\n"
   ]
  },
  {
   "cell_type": "code",
   "execution_count": 6,
   "metadata": {
    "collapsed": false,
    "deletable": true,
    "editable": true
   },
   "outputs": [
    {
     "data": {
      "text/plain": [
       "Index(['numeroInforme', 'codigoActividad', 'codigounico', 'codgrupo',\n",
       "       'codsubgrupo', 'refervih', 'prePruebaVIH', 'pruebaVIH', 'postPruebaVIH',\n",
       "       'conoceResultadoVIH', 'codResultadoVIH', 'conoceResultadoSif',\n",
       "       'codResultadoSif', 'condonesMasculinos', 'condonesFemeninos',\n",
       "       'condonesSabores', 'lubriSachet', 'lubriTubo', 'impresos', 'grupo',\n",
       "       'subgrupo', 'resultadoVIH', 'codejecutor', 'codanno', 'codmes',\n",
       "       'codigoTipoActividad', 'tipoActividad', 'resultadoSif', 'codDepMun',\n",
       "       'lugar', 'direccion', 'responsable', 'educador', 'unmovil', 'fechareal',\n",
       "       'departamento', 'municipio', 'tema', 'Ejecutores', 'Mes'],\n",
       "      dtype='object')"
      ]
     },
     "execution_count": 6,
     "metadata": {},
     "output_type": "execute_result"
    }
   ],
   "source": [
    "pb_tvc[\"Ejecutores\"] = pb_tvc.codejecutor.replace(ejecutores)\n",
    "pb_tvc[\"Mes\"] = pb_tvc.fechareal.apply(lambda x: str(x)[0:7])\n",
    "pb_tvc.columns"
   ]
  },
  {
   "cell_type": "code",
   "execution_count": 7,
   "metadata": {
    "collapsed": false,
    "deletable": true,
    "editable": true
   },
   "outputs": [
    {
     "data": {
      "text/plain": [
       "<matplotlib.legend.Legend at 0x1c3a02e8>"
      ]
     },
     "execution_count": 7,
     "metadata": {},
     "output_type": "execute_result"
    },
    {
     "data": {
      "image/png": "[encoded data removed]",
      "text/plain": [
       "<Figure size 1008x432 with 1 Axes>"
      ]
     },
     "metadata": {},
     "output_type": "display_data"
    }
   ],
   "source": [
    "plt.rcParams[\"figure.figsize\"] = (14,6)\n",
    "temp = pb_tvc[pb_tvc.Mes != \"NaT\"].groupby([\"Ejecutores\", \"Mes\"]).numeroInforme.count()\n",
    "temp.unstack(0).plot.bar()\n",
    "plt.legend(loc=(0.9,0.5))"
   ]
  },
  {
   "cell_type": "code",
   "execution_count": null,
   "metadata": {
    "collapsed": false,
    "deletable": true,
    "editable": true
   },
   "outputs": [],
   "source": [
    "plt.rcParams[\"figure.figsize\"] = (14,6)\n",
    "temp = pb_tvc[(pb_tvc.Mes != \"NaT\") & (pb_tvc.Ejecutores.isin([\"FUNDACION FERNANCO ITURBIDE\", \"HIVOS\"])==False)]\\\n",
    "        .groupby([\"Ejecutores\", \"resultadoVIH\"]).numeroInforme\\\n",
    "        .count().unstack(1).fillna(0)\n",
    "temp[\"total\"] = temp.sum(axis=1)\n",
    "temp2 = temp.divide(temp.total, axis = 0)*100\n",
    "temp2[temp2.columns.tolist()[0:-1]].plot.bar()\n",
    "plt.legend(loc=(0.95,0.5))\n",
    "plt.grid()"
   ]
  },
  {
   "cell_type": "code",
   "execution_count": null,
   "metadata": {
    "collapsed": false,
    "deletable": true,
    "editable": true
   },
   "outputs": [],
   "source": [
    "plt.rcParams[\"figure.figsize\"] = (5,10)\n",
    "temp = pb_tvc[(pb_tvc.Mes != \"NaT\") ]\\\n",
    "        .groupby([\"subgrupo\", \"resultadoVIH\"]).numeroInforme\\\n",
    "        .count().unstack(1).fillna(0)\n",
    "temp[\"total\"] = temp.sum(axis=1)\n",
    "temp2 = temp.divide(temp.total, axis = 0)*100\n",
    "temp2"
   ]
  },
  {
   "cell_type": "code",
   "execution_count": 9,
   "metadata": {
    "collapsed": true,
    "deletable": true,
    "editable": true
   },
   "outputs": [],
   "source": [
    "merged = pb_tvc.merge(its, on = \"codigounico\", suffixes = (\"\", \"_its\"), how = \"outer\")\\\n",
    "        .merge(vinculacion, on = \"codigounico\", suffixes = (\"\", \"_vinc\"), how = \"outer\")"
   ]
  },
  {
   "cell_type": "code",
   "execution_count": 10,
   "metadata": {
    "collapsed": false,
    "deletable": true,
    "editable": true
   },
   "outputs": [
    {
     "name": "stdout",
     "output_type": "stream",
     "text": [
      "                              PB/TVC    ITS  VIH Reactivo  Vinculación\n",
      "subgrupo                                                              \n",
      "HSH ADOLESCENTES Y JOVENES     100.0  53.75          6.25         3.75\n",
      "HSH MAYORES DE 18 AÃ‘OS        100.0  43.56          3.03         2.03\n",
      "TRANS ADOLESCENTES Y JOVENES   100.0   0.00          0.00         0.00\n",
      "TRANS DE DIFERENTES PUEBLOS    100.0   9.89          7.14         4.95\n",
      "TRANS MAYORES DE 18 AÃ‘OS      100.0   9.78          1.52         0.91\n",
      "TRANS MIGRANTES                100.0   0.00          0.00         0.00\n",
      "TRANS TRABAJADORAS SEXUALES    100.0   8.70          0.00         0.00\n",
      "\n",
      "\n",
      "\n",
      "                              PB/TVC     ITS  VIH Reactivo  Vinculación\n",
      "subgrupo                                                               \n",
      "HSH ADOLESCENTES Y JOVENES      0.57    0.86          1.29         1.17\n",
      "HSH MAYORES DE 18 AÃ‘OS        74.71   92.29         82.47        83.59\n",
      "TRANS ADOLESCENTES Y JOVENES    0.02    0.00          0.00         0.00\n",
      "TRANS DE DIFERENTES PUEBLOS     1.29    0.36          3.35         3.52\n",
      "TRANS MAYORES DE 18 AÃ‘OS      23.24    6.45         12.89        11.72\n",
      "TRANS MIGRANTES                 0.01    0.00          0.00         0.00\n",
      "TRANS TRABAJADORAS SEXUALES     0.16    0.04          0.00         0.00\n",
      "total                         100.00  100.00        100.00       100.00\n",
      "\n",
      "\n",
      "\n"
     ]
    },
    {
     "data": {
      "text/html": [
       "<div>\n",
       "<style scoped>\n",
       "    .dataframe tbody tr th:only-of-type {\n",
       "        vertical-align: middle;\n",
       "    }\n",
       "\n",
       "    .dataframe tbody tr th {\n",
       "        vertical-align: top;\n",
       "    }\n",
       "\n",
       "    .dataframe thead th {\n",
       "        text-align: right;\n",
       "    }\n",
       "</style>\n",
       "<table border=\"1\" class=\"dataframe\">\n",
       "  <thead>\n",
       "    <tr style=\"text-align: right;\">\n",
       "      <th></th>\n",
       "      <th>PB/TVC</th>\n",
       "      <th>VIH Reactivo</th>\n",
       "      <th>Vinculación</th>\n",
       "    </tr>\n",
       "    <tr>\n",
       "      <th>subgrupo</th>\n",
       "      <th></th>\n",
       "      <th></th>\n",
       "      <th></th>\n",
       "    </tr>\n",
       "  </thead>\n",
       "  <tbody>\n",
       "    <tr>\n",
       "      <th>HSH ADOLESCENTES Y JOVENES</th>\n",
       "      <td>8000</td>\n",
       "      <td>6.2</td>\n",
       "      <td>60.0</td>\n",
       "    </tr>\n",
       "    <tr>\n",
       "      <th>HSH MAYORES DE 18 AÃ‘OS</th>\n",
       "      <td>1055200</td>\n",
       "      <td>3.0</td>\n",
       "      <td>66.9</td>\n",
       "    </tr>\n",
       "    <tr>\n",
       "      <th>TRANS ADOLESCENTES Y JOVENES</th>\n",
       "      <td>300</td>\n",
       "      <td>0.0</td>\n",
       "      <td>0.0</td>\n",
       "    </tr>\n",
       "    <tr>\n",
       "      <th>TRANS DE DIFERENTES PUEBLOS</th>\n",
       "      <td>18200</td>\n",
       "      <td>7.1</td>\n",
       "      <td>69.2</td>\n",
       "    </tr>\n",
       "    <tr>\n",
       "      <th>TRANS MAYORES DE 18 AÃ‘OS</th>\n",
       "      <td>328300</td>\n",
       "      <td>1.5</td>\n",
       "      <td>60.0</td>\n",
       "    </tr>\n",
       "    <tr>\n",
       "      <th>TRANS MIGRANTES</th>\n",
       "      <td>100</td>\n",
       "      <td>0.0</td>\n",
       "      <td>0.0</td>\n",
       "    </tr>\n",
       "    <tr>\n",
       "      <th>TRANS TRABAJADORAS SEXUALES</th>\n",
       "      <td>2300</td>\n",
       "      <td>0.0</td>\n",
       "      <td>0.0</td>\n",
       "    </tr>\n",
       "    <tr>\n",
       "      <th>total</th>\n",
       "      <td>1412400</td>\n",
       "      <td>2.7</td>\n",
       "      <td>66.0</td>\n",
       "    </tr>\n",
       "  </tbody>\n",
       "</table>\n",
       "</div>"
      ],
      "text/plain": [
       "                               PB/TVC  VIH Reactivo  Vinculación\n",
       "subgrupo                                                        \n",
       "HSH ADOLESCENTES Y JOVENES       8000           6.2         60.0\n",
       "HSH MAYORES DE 18 AÃ‘OS       1055200           3.0         66.9\n",
       "TRANS ADOLESCENTES Y JOVENES      300           0.0          0.0\n",
       "TRANS DE DIFERENTES PUEBLOS     18200           7.1         69.2\n",
       "TRANS MAYORES DE 18 AÃ‘OS      328300           1.5         60.0\n",
       "TRANS MIGRANTES                   100           0.0          0.0\n",
       "TRANS TRABAJADORAS SEXUALES      2300           0.0          0.0\n",
       "total                         1412400           2.7         66.0"
      ]
     },
     "execution_count": 10,
     "metadata": {},
     "output_type": "execute_result"
    }
   ],
   "source": [
    "def process(data):\n",
    "    return pd.Series(data = [\n",
    "        len(data), \n",
    "        (data.numeroInforme_its.isna()==False).sum(),\n",
    "        (data.resultadoVIH == \"REACTIVO\").sum(),\n",
    "        (data.numeroInforme_vinc.isna()==False).sum()\n",
    "    ], index=[\"PB/TVC\", \"ITS\", \"VIH Reactivo\", \"Vinculación\"])\n",
    "temp = merged[merged.subgrupo.apply(lambda x: x.startswith(\"PV \")==False if type(x) == str else True)]\\\n",
    "        .groupby(\"subgrupo\").apply(process).fillna(0)\n",
    "#temp[\"total\"] = temp.sum(axis=1)\n",
    "temp2 = temp.divide(temp[\"PB/TVC\"], axis = 0) * 100\n",
    "#temp.loc[\"total\"] = temp.sum(axis=0)\n",
    "print(temp2.round(2))\n",
    "temp.loc[\"total\"] = temp.sum(axis=0)\n",
    "print(\"\\n\\n\")\n",
    "print(temp.divide(temp.loc[\"total\"], axis = 1).round(4)*100)\n",
    "print(\"\\n\\n\")\n",
    "temp3 = temp[[\"PB/TVC\", \"VIH Reactivo\", \"Vinculación\"]].copy()\n",
    "temp3[\"VIH Reactivo\"] = temp3[\"VIH Reactivo\"]/temp3[\"PB/TVC\"]\n",
    "temp3[\"Vinculación\"] = temp3[\"Vinculación\"]/temp3[\"PB/TVC\"]/temp3[\"VIH Reactivo\"]\n",
    "\n",
    "temp3.round(3).fillna(0)*100\n",
    "    #print(temp.divide(temp.loc[\"total\"], axis = 1).round(4)*100)"
   ]
  },
  {
   "cell_type": "code",
   "execution_count": 15,
   "metadata": {
    "collapsed": false,
    "deletable": true,
    "editable": true
   },
   "outputs": [
    {
     "data": {
      "text/html": [
       "<div>\n",
       "<style scoped>\n",
       "    .dataframe tbody tr th:only-of-type {\n",
       "        vertical-align: middle;\n",
       "    }\n",
       "\n",
       "    .dataframe tbody tr th {\n",
       "        vertical-align: top;\n",
       "    }\n",
       "\n",
       "    .dataframe thead th {\n",
       "        text-align: right;\n",
       "    }\n",
       "</style>\n",
       "<table border=\"1\" class=\"dataframe\">\n",
       "  <thead>\n",
       "    <tr style=\"text-align: right;\">\n",
       "      <th></th>\n",
       "      <th>Ejecutores</th>\n",
       "      <th>subgrupo</th>\n",
       "      <th>PB/TVC</th>\n",
       "      <th>ITS</th>\n",
       "      <th>VIH Reactivo</th>\n",
       "      <th>Vinculación</th>\n",
       "    </tr>\n",
       "  </thead>\n",
       "  <tbody>\n",
       "    <tr>\n",
       "      <th>0</th>\n",
       "      <td>ASOCIACION IDEI</td>\n",
       "      <td>HSH ADOLESCENTES Y JOVENES</td>\n",
       "      <td>4</td>\n",
       "      <td>0</td>\n",
       "      <td>0</td>\n",
       "      <td>0</td>\n",
       "    </tr>\n",
       "    <tr>\n",
       "      <th>1</th>\n",
       "      <td>ASOCIACION IDEI</td>\n",
       "      <td>HSH MAYORES DE 18 AÃ‘OS</td>\n",
       "      <td>1481</td>\n",
       "      <td>354</td>\n",
       "      <td>14</td>\n",
       "      <td>11</td>\n",
       "    </tr>\n",
       "    <tr>\n",
       "      <th>2</th>\n",
       "      <td>ASOCIACION IDEI</td>\n",
       "      <td>TRANS MAYORES DE 18 AÃ‘OS</td>\n",
       "      <td>357</td>\n",
       "      <td>65</td>\n",
       "      <td>4</td>\n",
       "      <td>0</td>\n",
       "    </tr>\n",
       "    <tr>\n",
       "      <th>3</th>\n",
       "      <td>ASOCIACION IDEI</td>\n",
       "      <td>TRANS TRABAJADORAS SEXUALES</td>\n",
       "      <td>3</td>\n",
       "      <td>0</td>\n",
       "      <td>0</td>\n",
       "      <td>0</td>\n",
       "    </tr>\n",
       "    <tr>\n",
       "      <th>4</th>\n",
       "      <td>CAS</td>\n",
       "      <td>HSH ADOLESCENTES Y JOVENES</td>\n",
       "      <td>76</td>\n",
       "      <td>43</td>\n",
       "      <td>5</td>\n",
       "      <td>3</td>\n",
       "    </tr>\n",
       "    <tr>\n",
       "      <th>5</th>\n",
       "      <td>CAS</td>\n",
       "      <td>HSH MAYORES DE 18 AÃ‘OS</td>\n",
       "      <td>5360</td>\n",
       "      <td>3774</td>\n",
       "      <td>202</td>\n",
       "      <td>136</td>\n",
       "    </tr>\n",
       "    <tr>\n",
       "      <th>6</th>\n",
       "      <td>FUNDACION FERNANCO ITURBIDE</td>\n",
       "      <td>PV ABORDADA EN OTROS LUGARES</td>\n",
       "      <td>112</td>\n",
       "      <td>0</td>\n",
       "      <td>0</td>\n",
       "      <td>0</td>\n",
       "    </tr>\n",
       "    <tr>\n",
       "      <th>7</th>\n",
       "      <td>FUNDACION FERNANCO ITURBIDE</td>\n",
       "      <td>PV ABORDADA EN UAI</td>\n",
       "      <td>1</td>\n",
       "      <td>0</td>\n",
       "      <td>0</td>\n",
       "      <td>0</td>\n",
       "    </tr>\n",
       "    <tr>\n",
       "      <th>8</th>\n",
       "      <td>FUNDACION MARCO ANTONIO</td>\n",
       "      <td>HSH MAYORES DE 18 AÃ‘OS</td>\n",
       "      <td>3710</td>\n",
       "      <td>468</td>\n",
       "      <td>104</td>\n",
       "      <td>67</td>\n",
       "    </tr>\n",
       "    <tr>\n",
       "      <th>9</th>\n",
       "      <td>FUNDACION MARCO ANTONIO</td>\n",
       "      <td>TRANS DE DIFERENTES PUEBLOS</td>\n",
       "      <td>181</td>\n",
       "      <td>18</td>\n",
       "      <td>13</td>\n",
       "      <td>9</td>\n",
       "    </tr>\n",
       "    <tr>\n",
       "      <th>10</th>\n",
       "      <td>FUNDACION MARCO ANTONIO</td>\n",
       "      <td>TRANS MAYORES DE 18 AÃ‘OS</td>\n",
       "      <td>199</td>\n",
       "      <td>56</td>\n",
       "      <td>9</td>\n",
       "      <td>16</td>\n",
       "    </tr>\n",
       "    <tr>\n",
       "      <th>11</th>\n",
       "      <td>FUNDACION MARCO ANTONIO</td>\n",
       "      <td>TRANS MIGRANTES</td>\n",
       "      <td>1</td>\n",
       "      <td>0</td>\n",
       "      <td>0</td>\n",
       "      <td>0</td>\n",
       "    </tr>\n",
       "    <tr>\n",
       "      <th>12</th>\n",
       "      <td>HIVOS</td>\n",
       "      <td>HSH MAYORES DE 18 AÃ‘OS</td>\n",
       "      <td>1</td>\n",
       "      <td>0</td>\n",
       "      <td>0</td>\n",
       "      <td>0</td>\n",
       "    </tr>\n",
       "    <tr>\n",
       "      <th>13</th>\n",
       "      <td>HIVOS</td>\n",
       "      <td>TRANS MAYORES DE 18 AÃ‘OS</td>\n",
       "      <td>23</td>\n",
       "      <td>2</td>\n",
       "      <td>6</td>\n",
       "      <td>9</td>\n",
       "    </tr>\n",
       "    <tr>\n",
       "      <th>14</th>\n",
       "      <td>OTRANS</td>\n",
       "      <td>TRANS ADOLESCENTES Y JOVENES</td>\n",
       "      <td>3</td>\n",
       "      <td>0</td>\n",
       "      <td>0</td>\n",
       "      <td>0</td>\n",
       "    </tr>\n",
       "    <tr>\n",
       "      <th>15</th>\n",
       "      <td>OTRANS</td>\n",
       "      <td>TRANS DE DIFERENTES PUEBLOS</td>\n",
       "      <td>1</td>\n",
       "      <td>0</td>\n",
       "      <td>0</td>\n",
       "      <td>0</td>\n",
       "    </tr>\n",
       "    <tr>\n",
       "      <th>16</th>\n",
       "      <td>OTRANS</td>\n",
       "      <td>TRANS MAYORES DE 18 AÃ‘OS</td>\n",
       "      <td>2704</td>\n",
       "      <td>198</td>\n",
       "      <td>31</td>\n",
       "      <td>5</td>\n",
       "    </tr>\n",
       "    <tr>\n",
       "      <th>17</th>\n",
       "      <td>OTRANS</td>\n",
       "      <td>TRANS TRABAJADORAS SEXUALES</td>\n",
       "      <td>20</td>\n",
       "      <td>2</td>\n",
       "      <td>0</td>\n",
       "      <td>0</td>\n",
       "    </tr>\n",
       "  </tbody>\n",
       "</table>\n",
       "</div>"
      ],
      "text/plain": [
       "                     Ejecutores                      subgrupo  PB/TVC   ITS  \\\n",
       "0               ASOCIACION IDEI    HSH ADOLESCENTES Y JOVENES       4     0   \n",
       "1               ASOCIACION IDEI       HSH MAYORES DE 18 AÃ‘OS    1481   354   \n",
       "2               ASOCIACION IDEI     TRANS MAYORES DE 18 AÃ‘OS     357    65   \n",
       "3               ASOCIACION IDEI   TRANS TRABAJADORAS SEXUALES       3     0   \n",
       "4                           CAS    HSH ADOLESCENTES Y JOVENES      76    43   \n",
       "5                           CAS       HSH MAYORES DE 18 AÃ‘OS    5360  3774   \n",
       "6   FUNDACION FERNANCO ITURBIDE  PV ABORDADA EN OTROS LUGARES     112     0   \n",
       "7   FUNDACION FERNANCO ITURBIDE            PV ABORDADA EN UAI       1     0   \n",
       "8       FUNDACION MARCO ANTONIO       HSH MAYORES DE 18 AÃ‘OS    3710   468   \n",
       "9       FUNDACION MARCO ANTONIO   TRANS DE DIFERENTES PUEBLOS     181    18   \n",
       "10      FUNDACION MARCO ANTONIO     TRANS MAYORES DE 18 AÃ‘OS     199    56   \n",
       "11      FUNDACION MARCO ANTONIO               TRANS MIGRANTES       1     0   \n",
       "12                        HIVOS       HSH MAYORES DE 18 AÃ‘OS       1     0   \n",
       "13                        HIVOS     TRANS MAYORES DE 18 AÃ‘OS      23     2   \n",
       "14                       OTRANS  TRANS ADOLESCENTES Y JOVENES       3     0   \n",
       "15                       OTRANS   TRANS DE DIFERENTES PUEBLOS       1     0   \n",
       "16                       OTRANS     TRANS MAYORES DE 18 AÃ‘OS    2704   198   \n",
       "17                       OTRANS   TRANS TRABAJADORAS SEXUALES      20     2   \n",
       "\n",
       "    VIH Reactivo  Vinculación  \n",
       "0              0            0  \n",
       "1             14           11  \n",
       "2              4            0  \n",
       "3              0            0  \n",
       "4              5            3  \n",
       "5            202          136  \n",
       "6              0            0  \n",
       "7              0            0  \n",
       "8            104           67  \n",
       "9             13            9  \n",
       "10             9           16  \n",
       "11             0            0  \n",
       "12             0            0  \n",
       "13             6            9  \n",
       "14             0            0  \n",
       "15             0            0  \n",
       "16            31            5  \n",
       "17             0            0  "
      ]
     },
     "execution_count": 15,
     "metadata": {},
     "output_type": "execute_result"
    }
   ],
   "source": [
    "merged.groupby([\"Ejecutores\", \"subgrupo\"]).apply(process).fillna(0).reset_index()"
   ]
  },
  {
   "cell_type": "code",
   "execution_count": null,
   "metadata": {
    "collapsed": true,
    "deletable": true,
    "editable": true
   },
   "outputs": [],
   "source": []
  },
  {
   "cell_type": "code",
   "execution_count": null,
   "metadata": {
    "collapsed": true,
    "deletable": true,
    "editable": true
   },
   "outputs": [],
   "source": []
  },
  {
   "cell_type": "code",
   "execution_count": null,
   "metadata": {
    "collapsed": true,
    "deletable": true,
    "editable": true
   },
   "outputs": [],
   "source": []
  },
  {
   "cell_type": "code",
   "execution_count": null,
   "metadata": {
    "collapsed": true,
    "deletable": true,
    "editable": true
   },
   "outputs": [],
   "source": []
  },
  {
   "cell_type": "code",
   "execution_count": null,
   "metadata": {
    "collapsed": true,
    "deletable": true,
    "editable": true
   },
   "outputs": [],
   "source": []
  },
  {
   "cell_type": "code",
   "execution_count": null,
   "metadata": {
    "collapsed": true,
    "deletable": true,
    "editable": true
   },
   "outputs": [],
   "source": []
  },
  {
   "cell_type": "code",
   "execution_count": null,
   "metadata": {
    "collapsed": true,
    "deletable": true,
    "editable": true
   },
   "outputs": [],
   "source": []
  },
  {
   "cell_type": "code",
   "execution_count": null,
   "metadata": {
    "collapsed": true,
    "deletable": true,
    "editable": true
   },
   "outputs": [],
   "source": []
  },
  {
   "cell_type": "code",
   "execution_count": null,
   "metadata": {
    "collapsed": true,
    "deletable": true,
    "editable": true
   },
   "outputs": [],
   "source": []
  },
  {
   "cell_type": "code",
   "execution_count": null,
   "metadata": {
    "collapsed": true,
    "deletable": true,
    "editable": true
   },
   "outputs": [],
   "source": []
  },
  {
   "cell_type": "code",
   "execution_count": null,
   "metadata": {
    "collapsed": true,
    "deletable": true,
    "editable": true
   },
   "outputs": [],
   "source": []
  },
  {
   "cell_type": "code",
   "execution_count": null,
   "metadata": {
    "collapsed": true,
    "deletable": true,
    "editable": true
   },
   "outputs": [],
   "source": []
  },
  {
   "cell_type": "code",
   "execution_count": null,
   "metadata": {
    "collapsed": true,
    "deletable": true,
    "editable": true
   },
   "outputs": [],
   "source": []
  },
  {
   "cell_type": "code",
   "execution_count": 1,
   "metadata": {
    "collapsed": false,
    "deletable": true,
    "editable": true
   },
   "outputs": [
    {
     "data": {
      "text/plain": [
       "1"
      ]
     },
     "execution_count": 1,
     "metadata": {},
     "output_type": "execute_result"
    }
   ],
   "source": [
    "1"
   ]
  },
  {
   "cell_type": "code",
   "execution_count": null,
   "metadata": {
    "collapsed": true,
    "deletable": true,
    "editable": true
   },
   "outputs": [],
   "source": []
  },
  {
   "cell_type": "code",
   "execution_count": null,
   "metadata": {
    "collapsed": true,
    "deletable": true,
    "editable": true
   },
   "outputs": [],
   "source": []
  },
  {
   "cell_type": "code",
   "execution_count": null,
   "metadata": {
    "collapsed": true,
    "deletable": true,
    "editable": true
   },
   "outputs": [],
   "source": []
  }
 ],
 "metadata": {
  "kernelspec": {
   "display_name": "Python 3",
   "language": "python",
   "name": "python3"
  },
  "language_info": {
   "codemirror_mode": {
    "name": "ipython",
    "version": 3
   },
   "file_extension": ".py",
   "mimetype": "text/x-python",
   "name": "python",
   "nbconvert_exporter": "python",
   "pygments_lexer": "ipython3",
   "version": "3.5.1"
  }
 },
 "nbformat": 4,
 "nbformat_minor": 2
}
