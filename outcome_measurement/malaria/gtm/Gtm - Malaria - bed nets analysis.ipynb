{
 "cells": [
  {
   "cell_type": "code",
   "execution_count": null,
   "metadata": {
    "collapsed": true,
    "deletable": true,
    "editable": true
   },
   "outputs": [],
   "source": [
    "from IPython.display import display, HTML\n",
    "import pandas as pd\n",
    "import numpy as np\n",
    "import seaborn as sb\n",
    "import matplotlib as mlp\n",
    "import matplotlib.pyplot as plt\n",
    "import geopandas as gp\n",
    "import os\n",
    "\n",
    "%matplotlib inline\n",
    "plt.style.use('ggplot')\n"
   ]
  },
  {
   "cell_type": "code",
   "execution_count": null,
   "metadata": {
    "collapsed": true,
    "deletable": true,
    "editable": true
   },
   "outputs": [],
   "source": [
    "base_dir = \"../../../../Outcome Measurement Data/MALARIA/\"\n",
    "# Esto no incluye toda las áreas del país. Sólo las áreas vistas en la base de datos de notifs.\n",
    "notifs_das2depto = {\n",
    "    \"Escuintla\": 5,\n",
    "    \"Alta Verapaz\": 16,\n",
    "    \"Izabal\" : 18,\n",
    "    \"Suchitepéquez\" : 10,\n",
    "    \"Santa Rosa\" : 6,\n",
    "    \"Retalhuleu\" : 11,\n",
    "    \"Petén Norte\" : 17,\n",
    "    \"Petén SurOccidental\" : 17,\n",
    "    \"Huehuetenango\" : 13,\n",
    "    \"Quiché\" : 14,\n",
    "    \"Petén Sur Oriental\" : 17,\n",
    "    \"Baja Verapaz\" : 15,\n",
    "    \"Sololá\" : 7,\n",
    "    \"Zacapa\" : 18,\n",
    "    \"Ixcán\" : 14,\n",
    "    \"San Marcos\" : 12,\n",
    "    \"Chimaltenango\" : 4,\n",
    "    \"Guatemala Central\" : 1,\n",
    "    \"Guatemala Sur\" : 1,\n",
    "    \"Ixil\" : 14,\n",
    "    \"Jutiapa\" : 22,\n",
    "    \"Chiquimula\" : 20,\n",
    "    \"Ixcan\" : 14,\n",
    "    \"El Progreso\" : 2,\n",
    "    \"Guatemala Nororiental\" : 1,\n",
    "    \"Quetzaltenango\" : 9,\n",
    "}"
   ]
  },
  {
   "cell_type": "code",
   "execution_count": null,
   "metadata": {
    "collapsed": true
   },
   "outputs": [],
   "source": [
    "deptos = gp.read_file(\"../../../../Covariates and Other Data/GIS/GT-IGN-cartografia_basica-Departamentos.geojson\")\n",
    "deptos = deptos[lambda x: x.CODIGO.astype(int) <= 2200]"
   ]
  },
  {
   "cell_type": "code",
   "execution_count": null,
   "metadata": {
    "collapsed": false,
    "deletable": true,
    "editable": true
   },
   "outputs": [],
   "source": [
    "bednets = pd.read_csv(\"../../../../Outcome Measurement Data/MALARIA/GTM - Bednets Distr_1.tar.gz\", index_col = 0 )"
   ]
  },
  {
   "cell_type": "code",
   "execution_count": null,
   "metadata": {
    "collapsed": true
   },
   "outputs": [],
   "source": [
    "notifs = pd.read_excel(base_dir + \"Base de datos 2016 - 2018 NAD Consolidado 04.06.xlsx\")\n"
   ]
  },
  {
   "cell_type": "code",
   "execution_count": null,
   "metadata": {
    "collapsed": false
   },
   "outputs": [],
   "source": [
    "bednetsYears = bednets.groupby([\"year\", \"CodDepto_e\"]).Pabellones.sum().unstack(0).fillna(0)\n",
    "bednetsYears"
   ]
  },
  {
   "cell_type": "code",
   "execution_count": null,
   "metadata": {
    "collapsed": false
   },
   "outputs": [],
   "source": [
    "notifs[\"DAS\"] = notifs.AREA.map(str.strip).map(notifs_das2depto.get)"
   ]
  },
  {
   "cell_type": "code",
   "execution_count": null,
   "metadata": {
    "collapsed": false
   },
   "outputs": [],
   "source": [
    "notifsYear = notifs.groupby([\"Año\", \"DAS\"]).AREA.count().unstack(0).fillna(0)\n",
    "notifsYear"
   ]
  },
  {
   "cell_type": "code",
   "execution_count": null,
   "metadata": {
    "collapsed": false,
    "scrolled": true
   },
   "outputs": [],
   "source": [
    "def plotNotifsVsBednets(ax, year = 2015):\n",
    "    temp = pd.DataFrame(data = [bednetsYears[year], notifsYear[year]]).T.fillna(0)\n",
    "    temp = np.log10(temp)\n",
    "    corr = np.round(temp.corr().values[0][1], 2)\n",
    "    temp.columns = [\"Bednets (Log)\", \"Notifications (Log)\"]\n",
    "    temp.plot.scatter(\"Bednets (Log)\", \"Notifications (Log)\", \n",
    "                      title=\"Benets distributed vs Malaria Notifications\\nYear \"+ str(year),\n",
    "                          ax = ax)\n",
    "    plt.text(0.05,0.9, \"Correlation = \"+str(corr), transform=ax.transAxes)\n",
    "\n",
    "mlp.rcParams['figure.figsize'] = [17.0, 4.0]\n",
    "fig, axes = plt.subplots(1,3)\n",
    "plotNotifsVsBednets(axes[0], 2015)\n",
    "plotNotifsVsBednets(axes[1], 2016)\n",
    "plotNotifsVsBednets(axes[2], 2017)\n"
   ]
  },
  {
   "cell_type": "code",
   "execution_count": null,
   "metadata": {
    "collapsed": true
   },
   "outputs": [],
   "source": [
    "pblYears = bednetsYears.divide(1000).reset_index()\\\n",
    "                         .assign(deptocode=lambda x: (x.CodDepto_e * 100).astype(int).astype(str)\\\n",
    "                                 .map(lambda y: y if y != 1 else \"101\"))"
   ]
  },
  {
   "cell_type": "code",
   "execution_count": null,
   "metadata": {
    "collapsed": false,
    "scrolled": true
   },
   "outputs": [],
   "source": [
    "vmax = pblYears[list(range(2012,2018))].max().max()\n",
    "\n",
    "side = 8\n",
    "n = 7\n",
    "vmin = 0\n",
    "#vmax = 8\n",
    "f, axes = plt.subplots(int(np.ceil(n/2)), 2, figsize=(side*2*1.1, side*np.ceil(n/2) ))\n",
    "i = 2012\n",
    "for row in axes:\n",
    "    for ax in row:\n",
    "        if i not in pblYears:\n",
    "            ax.axis(\"off\")\n",
    "            continue\n",
    "        temp3 = deptos.merge(pblYears[[i, \"deptocode\"]], \n",
    "                             left_on=\"CODIGO\", right_on = \"deptocode\", how=\"left\" ).fillna(0)\n",
    "        temp3[temp3[i] == 0].plot(ax=ax, color=\"grey\")\n",
    "        if sum(temp3[i] > 0) > 0:\n",
    "            temp3[temp3[i] > 0].plot(i, ax = ax, cmap = \"Blues\", \n",
    "                                             legend=True, edgecolor=\"black\",\n",
    "                                             vmin = vmin, vmax = vmax)\n",
    "        ax.axis('off')\n",
    "        ax.set_title(\"Malaria bednets delivered\\nThousands by department for \"+ str(i))\n",
    "        i += 1"
   ]
  },
  {
   "cell_type": "code",
   "execution_count": null,
   "metadata": {
    "collapsed": true
   },
   "outputs": [],
   "source": []
  }
 ],
 "metadata": {
  "kernelspec": {
   "display_name": "Python 3",
   "language": "python",
   "name": "python3"
  },
  "language_info": {
   "codemirror_mode": {
    "name": "ipython",
    "version": 3
   },
   "file_extension": ".py",
   "mimetype": "text/x-python",
   "name": "python",
   "nbconvert_exporter": "python",
   "pygments_lexer": "ipython3",
   "version": "3.5.1"
  }
 },
 "nbformat": 4,
 "nbformat_minor": 2
}
