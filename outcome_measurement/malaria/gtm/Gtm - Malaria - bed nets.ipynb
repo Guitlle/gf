{
 "cells": [
  {
   "cell_type": "code",
   "execution_count": 2,
   "metadata": {
    "collapsed": true,
    "deletable": true,
    "editable": true,
    "scrolled": true
   },
   "outputs": [],
   "source": [
    "from IPython.display import display, HTML\n",
    "import pandas as pd\n",
    "import numpy as np\n",
    "import seaborn as sb\n",
    "import matplotlib as mlp\n",
    "import matplotlib.pyplot as plt\n",
    "import geopandas as gp\n",
    "import os\n",
    "\n",
    "%matplotlib inline\n",
    "plt.style.use('ggplot')\n",
    "mlp.rcParams['figure.figsize'] = [8.0, 8.0]"
   ]
  },
  {
   "cell_type": "code",
   "execution_count": 3,
   "metadata": {
    "collapsed": true,
    "deletable": true,
    "editable": true,
    "scrolled": true
   },
   "outputs": [],
   "source": [
    "base_dir = \"../../../../Outcome Measurement Data/MALARIA/Distribucion de MTILD/\""
   ]
  },
  {
   "cell_type": "code",
   "execution_count": 4,
   "metadata": {
    "collapsed": true,
    "deletable": true,
    "editable": true,
    "scrolled": true
   },
   "outputs": [],
   "source": [
    "entregas = None\n",
    "entregasDetalles = None\n",
    "for year in [2015, 2016, 2017, 2018]:\n",
    "    for (dirpath, dirnames, filenames) in os.walk(base_dir + \"BD \" + str(year) + \"/\"):\n",
    "        for filename in filenames:\n",
    "            if \"EntregaPIIs.\" in filename:\n",
    "                if (filename.endswith(\".csv\")):\n",
    "                    temp = pd.read_csv(dirpath + \"/\" + filename)\n",
    "                elif (filename.endswith(\".xlsx\")):\n",
    "                    temp = pd.read_excel(dirpath + \"/\" + filename, 0)\n",
    "                temp[\"bd_year\"] = year\n",
    "                if entregas is None:\n",
    "                    entregas = temp\n",
    "                else:\n",
    "                    entregas = pd.concat([entregas, temp]) \n",
    "            elif \"EntregaPIIsDetalle.\" in filename:\n",
    "                if (filename.endswith(\".csv\")):\n",
    "                    temp = pd.read_csv(dirpath + \"/\" + filename)\n",
    "                elif (filename.endswith(\".xlsx\")):\n",
    "                    temp = pd.read_excel(dirpath + \"/\" + filename, 0)\n",
    "                temp[\"bd_year\"] = year\n",
    "                if entregasDetalles is None:\n",
    "                    entregasDetalles = temp\n",
    "                else:\n",
    "                    entregasDetalles = pd.concat([entregasDetalles, temp]) "
   ]
  },
  {
   "cell_type": "code",
   "execution_count": 5,
   "metadata": {
    "collapsed": true,
    "deletable": true,
    "editable": true,
    "scrolled": true
   },
   "outputs": [],
   "source": [
    "entregas[\"year\"] = pd.to_numeric(entregas.FechaEnt.astype(str)\\\n",
    "            .map(lambda x: (x[0:4] if x.startswith(\"201\") else x[-4:])), errors= \"coerce\")\n",
    "entregas[\"month\"] = pd.to_numeric(entregas.FechaEnt.astype(str)\\\n",
    "            .map(lambda x: (x[5:7] if x.startswith(\"201\") else x[-7:-5])), errors= \"coerce\")"
   ]
  },
  {
   "cell_type": "code",
   "execution_count": 6,
   "metadata": {
    "collapsed": false,
    "deletable": true,
    "editable": true,
    "scrolled": false
   },
   "outputs": [
    {
     "data": {
      "text/plain": [
       " 6.0     21462\n",
       " 11.0    20715\n",
       " 10.0    20076\n",
       " 12.0    16650\n",
       " 5.0     16293\n",
       " 4.0     14963\n",
       " 9.0     14422\n",
       " 8.0     13125\n",
       " 7.0     12311\n",
       " 3.0      5159\n",
       " 2.0      4445\n",
       " 1.0      3853\n",
       "NaN        124\n",
       "Name: month, dtype: int64"
      ]
     },
     "execution_count": 6,
     "metadata": {},
     "output_type": "execute_result"
    }
   ],
   "source": [
    "entregas.month.value_counts(dropna=False)"
   ]
  },
  {
   "cell_type": "code",
   "execution_count": 7,
   "metadata": {
    "collapsed": false,
    "deletable": true,
    "editable": true,
    "scrolled": true
   },
   "outputs": [
    {
     "data": {
      "text/plain": [
       "16.0    2546\n",
       "17.0    1998\n",
       "5.0     1424\n",
       "18.0    1194\n",
       "11.0    1131\n",
       "12.0     975\n",
       "14.0     775\n",
       "21.0     584\n",
       "6.0      558\n",
       "9.0      522\n",
       "19.0     449\n",
       "10.0     138\n",
       "7.0       85\n",
       "22.0      74\n",
       "13.0      46\n",
       "4.0       14\n",
       "Name: CodDepto, dtype: int64"
      ]
     },
     "execution_count": 7,
     "metadata": {},
     "output_type": "execute_result"
    }
   ],
   "source": [
    "entregas[(entregas.year == 2016) & (entregas.bd_year == 2016)].CodDepto.value_counts()"
   ]
  },
  {
   "cell_type": "code",
   "execution_count": 8,
   "metadata": {},
   "outputs": [
    {
     "data": {
      "text/html": [
       "<div>\n",
       "<style scoped>\n",
       "    .dataframe tbody tr th:only-of-type {\n",
       "        vertical-align: middle;\n",
       "    }\n",
       "\n",
       "    .dataframe tbody tr th {\n",
       "        vertical-align: top;\n",
       "    }\n",
       "\n",
       "    .dataframe thead th {\n",
       "        text-align: right;\n",
       "    }\n",
       "</style>\n",
       "<table border=\"1\" class=\"dataframe\">\n",
       "  <thead>\n",
       "    <tr style=\"text-align: right;\">\n",
       "      <th></th>\n",
       "      <th>Apellido</th>\n",
       "      <th>Apellido_2</th>\n",
       "      <th>AñoProy</th>\n",
       "      <th>Camas</th>\n",
       "      <th>Categoria</th>\n",
       "      <th>Categoría</th>\n",
       "      <th>Cedula</th>\n",
       "      <th>CodBoleta</th>\n",
       "      <th>CodComun</th>\n",
       "      <th>CodDepto</th>\n",
       "      <th>...</th>\n",
       "      <th>Unnamed: 0</th>\n",
       "      <th>Unnamed: 0.1</th>\n",
       "      <th>Unnamed: 0.1.1</th>\n",
       "      <th>Unnamed: 0.1.1.1</th>\n",
       "      <th>Unnamed: 0.1.1.1.1</th>\n",
       "      <th>bd_year</th>\n",
       "      <th>lp</th>\n",
       "      <th>nomlp</th>\n",
       "      <th>year</th>\n",
       "      <th>month</th>\n",
       "    </tr>\n",
       "  </thead>\n",
       "  <tbody>\n",
       "  </tbody>\n",
       "</table>\n",
       "<p>0 rows × 35 columns</p>\n",
       "</div>"
      ],
      "text/plain": [
       "Empty DataFrame\n",
       "Columns: [Apellido, Apellido_2, AñoProy, Camas, Categoria, Categoría, Cedula, CodBoleta, CodComun, CodDepto, CodMuni, CodReg, FechaEnt, Firma, Huella, MEmbarazada, Menores5a, Nombre, Nombre_2, OID_, Pabellones, Personas, ProyectoMalaria, Responsable, Sustit, Unnamed: 0, Unnamed: 0.1, Unnamed: 0.1.1, Unnamed: 0.1.1.1, Unnamed: 0.1.1.1.1, bd_year, lp, nomlp, year, month]\n",
       "Index: []\n",
       "\n",
       "[0 rows x 35 columns]"
      ]
     },
     "execution_count": 8,
     "metadata": {},
     "output_type": "execute_result"
    }
   ],
   "source": [
    "entregas[entregas.Pabellones.isna() ==False]"
   ]
  },
  {
   "cell_type": "code",
   "execution_count": 9,
   "metadata": {
    "collapsed": false,
    "deletable": true,
    "editable": true,
    "scrolled": true
   },
   "outputs": [
    {
     "data": {
      "text/plain": [
       "16.0    2546\n",
       "17.0    1998\n",
       "5.0     1424\n",
       "18.0    1194\n",
       "14.0     775\n",
       "9.0      522\n",
       "19.0     456\n",
       "10.0     138\n",
       "7.0       85\n",
       "Name: CodDepto, dtype: int64"
      ]
     },
     "execution_count": 9,
     "metadata": {},
     "output_type": "execute_result"
    }
   ],
   "source": [
    "entregas[(entregas.year == 2016) & (entregas.bd_year == 2017)].CodDepto.value_counts()"
   ]
  },
  {
   "cell_type": "code",
   "execution_count": 10,
   "metadata": {
    "collapsed": false,
    "deletable": true,
    "editable": true,
    "scrolled": true
   },
   "outputs": [
    {
     "data": {
      "text/plain": [
       "Index(['Apellido', 'Apellido_2', 'AñoProy', 'Camas', 'Categoria', 'Categoría',\n",
       "       'Cedula', 'CodBoleta', 'CodComun', 'CodDepto', 'CodMuni', 'CodReg',\n",
       "       'FechaEnt', 'Firma', 'Huella', 'MEmbarazada', 'Menores5a', 'Nombre',\n",
       "       'Nombre_2', 'OID_', 'Pabellones', 'Personas', 'ProyectoMalaria',\n",
       "       'Responsable', 'Sustit', 'Unnamed: 0', 'Unnamed: 0.1', 'Unnamed: 0.1.1',\n",
       "       'Unnamed: 0.1.1.1', 'Unnamed: 0.1.1.1.1', 'bd_year', 'lp', 'nomlp',\n",
       "       'year', 'month'],\n",
       "      dtype='object')"
      ]
     },
     "execution_count": 10,
     "metadata": {},
     "output_type": "execute_result"
    }
   ],
   "source": [
    "entregas.columns"
   ]
  },
  {
   "cell_type": "code",
   "execution_count": 17,
   "metadata": {},
   "outputs": [],
   "source": [
    "entregas[\"uid\"] = entregas.CodComun.astype(str) +entregas.CodBoleta.astype(str) +\\\n",
    "                    entregas.FechaEnt.astype(str)"
   ]
  },
  {
   "cell_type": "code",
   "execution_count": 29,
   "metadata": {},
   "outputs": [],
   "source": [
    "entregas_dedup = entregas.drop_duplicates(\"uid\", keep = 'first')"
   ]
  },
  {
   "cell_type": "code",
   "execution_count": 40,
   "metadata": {
    "collapsed": true,
    "deletable": true,
    "editable": true,
    "scrolled": true
   },
   "outputs": [],
   "source": [
    "entregas_sub = entregas[((entregas.bd_year==2015) & (entregas.year <= 2015)) | \n",
    "                 ((entregas.bd_year==2016) & (entregas.year == 2016)) |\n",
    "                 ((entregas.bd_year==2017) & (entregas.year == 2017)) |\n",
    "                 ((entregas.bd_year==2018) & (entregas.year == 2018))]\n",
    "entregas_sub = entregas_sub.drop_duplicates(\"uid\", keep = 'first')"
   ]
  },
  {
   "cell_type": "code",
   "execution_count": 41,
   "metadata": {
    "collapsed": false,
    "deletable": true,
    "editable": true,
    "scrolled": true
   },
   "outputs": [
    {
     "data": {
      "text/plain": [
       "(2015    36587\n",
       " 2016    12173\n",
       " 2017     2851\n",
       " 2018     4573\n",
       " Name: bd_year, dtype: int64, 2015    37153\n",
       " 2016    18861\n",
       " 2017    11798\n",
       " 2018     4631\n",
       " Name: bd_year, dtype: int64)"
      ]
     },
     "execution_count": 41,
     "metadata": {},
     "output_type": "execute_result"
    }
   ],
   "source": [
    "(entregas_sub.bd_year).value_counts().sort_index(), \\\n",
    "(entregas_dedup.bd_year).value_counts().sort_index()"
   ]
  },
  {
   "cell_type": "code",
   "execution_count": 42,
   "metadata": {},
   "outputs": [
    {
     "data": {
      "text/plain": [
       "(2012.0    12001\n",
       " 2013.0     4519\n",
       " 2014.0     2226\n",
       " 2015.0    17841\n",
       " 2016.0    12173\n",
       " 2017.0     2851\n",
       " 2018.0     4573\n",
       " Name: year, dtype: int64, 2012.0    19856\n",
       " 2013.0     6210\n",
       " 2014.0     3314\n",
       " 2015.0    21901\n",
       " 2016.0    13659\n",
       " 2017.0     2852\n",
       " 2018.0     4573\n",
       " Name: year, dtype: int64)"
      ]
     },
     "execution_count": 42,
     "metadata": {},
     "output_type": "execute_result"
    }
   ],
   "source": [
    "(entregas_sub.year).value_counts().sort_index(), \\\n",
    "(entregas_dedup.year).value_counts().sort_index()"
   ]
  },
  {
   "cell_type": "code",
   "execution_count": 49,
   "metadata": {
    "collapsed": true,
    "deletable": true,
    "editable": true,
    "scrolled": true
   },
   "outputs": [],
   "source": [
    "eMerge = pd.merge(entregas_dedup[[\"CodDepto\", \"CodComun\", \"CodBoleta\", \"bd_year\", \"FechaEnt\", \"year\", \"month\"]], \n",
    "                  entregasDetalles[[\"CodDepto\", \"CodComun\", \"CodBoleta\", \"bd_year\", \n",
    "                                    \"Personas\", \"MEmbarazada\", \"Menores5a\", \"Camas\", \"Pabellones\", \"Sustit\"]], \n",
    "                  how=\"inner\", \n",
    "                  on=[\"CodComun\", \"CodBoleta\", \"bd_year\"], suffixes=(\"_e\", \"_eD\"))"
   ]
  },
  {
   "cell_type": "code",
   "execution_count": 45,
   "metadata": {
    "collapsed": false,
    "deletable": true,
    "editable": true,
    "scrolled": true
   },
   "outputs": [
    {
     "data": {
      "text/plain": [
       "(562366, 14)"
      ]
     },
     "execution_count": 45,
     "metadata": {},
     "output_type": "execute_result"
    }
   ],
   "source": [
    "eMerge.shape"
   ]
  },
  {
   "cell_type": "code",
   "execution_count": 46,
   "metadata": {
    "collapsed": false,
    "deletable": true,
    "editable": true,
    "scrolled": true
   },
   "outputs": [
    {
     "data": {
      "text/plain": [
       "(1530109, 30)"
      ]
     },
     "execution_count": 46,
     "metadata": {},
     "output_type": "execute_result"
    }
   ],
   "source": [
    "entregasDetalles.shape"
   ]
  },
  {
   "cell_type": "code",
   "execution_count": 55,
   "metadata": {
    "collapsed": false,
    "deletable": true,
    "editable": true,
    "scrolled": true
   },
   "outputs": [
    {
     "data": {
      "text/html": [
       "<div>\n",
       "<style scoped>\n",
       "    .dataframe tbody tr th:only-of-type {\n",
       "        vertical-align: middle;\n",
       "    }\n",
       "\n",
       "    .dataframe tbody tr th {\n",
       "        vertical-align: top;\n",
       "    }\n",
       "\n",
       "    .dataframe thead th {\n",
       "        text-align: right;\n",
       "    }\n",
       "</style>\n",
       "<table border=\"1\" class=\"dataframe\">\n",
       "  <thead>\n",
       "    <tr style=\"text-align: right;\">\n",
       "      <th></th>\n",
       "      <th>Apellido</th>\n",
       "      <th>Apellido_2</th>\n",
       "      <th>AñoProy</th>\n",
       "      <th>Camas</th>\n",
       "      <th>Categoria</th>\n",
       "      <th>Categoría</th>\n",
       "      <th>Cedula</th>\n",
       "      <th>CodBoleta</th>\n",
       "      <th>CodComun</th>\n",
       "      <th>CodDepto</th>\n",
       "      <th>...</th>\n",
       "      <th>Unnamed: 0.1</th>\n",
       "      <th>Unnamed: 0.1.1</th>\n",
       "      <th>Unnamed: 0.1.1.1</th>\n",
       "      <th>Unnamed: 0.1.1.1.1</th>\n",
       "      <th>bd_year</th>\n",
       "      <th>lp</th>\n",
       "      <th>nomlp</th>\n",
       "      <th>year</th>\n",
       "      <th>month</th>\n",
       "      <th>uid</th>\n",
       "    </tr>\n",
       "  </thead>\n",
       "  <tbody>\n",
       "    <tr>\n",
       "      <th>1360</th>\n",
       "      <td>NaN</td>\n",
       "      <td>NaN</td>\n",
       "      <td>NaN</td>\n",
       "      <td>NaN</td>\n",
       "      <td>NaN</td>\n",
       "      <td>NaN</td>\n",
       "      <td>NaN</td>\n",
       "      <td>0</td>\n",
       "      <td>0.0</td>\n",
       "      <td>12.0</td>\n",
       "      <td>...</td>\n",
       "      <td>1360.0</td>\n",
       "      <td>1360.0</td>\n",
       "      <td>NaN</td>\n",
       "      <td>NaN</td>\n",
       "      <td>2015</td>\n",
       "      <td>NaN</td>\n",
       "      <td>NaN</td>\n",
       "      <td>NaN</td>\n",
       "      <td>NaN</td>\n",
       "      <td>0.00nan</td>\n",
       "    </tr>\n",
       "    <tr>\n",
       "      <th>1</th>\n",
       "      <td>NaN</td>\n",
       "      <td>NaN</td>\n",
       "      <td>NaN</td>\n",
       "      <td>NaN</td>\n",
       "      <td>NaN</td>\n",
       "      <td>NaN</td>\n",
       "      <td>NaN</td>\n",
       "      <td>0</td>\n",
       "      <td>0.0</td>\n",
       "      <td>12.0</td>\n",
       "      <td>...</td>\n",
       "      <td>1.0</td>\n",
       "      <td>1.0</td>\n",
       "      <td>NaN</td>\n",
       "      <td>NaN</td>\n",
       "      <td>2016</td>\n",
       "      <td>NaN</td>\n",
       "      <td>NaN</td>\n",
       "      <td>NaN</td>\n",
       "      <td>NaN</td>\n",
       "      <td>0.00nan</td>\n",
       "    </tr>\n",
       "    <tr>\n",
       "      <th>1754</th>\n",
       "      <td>NaN</td>\n",
       "      <td>NaN</td>\n",
       "      <td>NaN</td>\n",
       "      <td>NaN</td>\n",
       "      <td>NaN</td>\n",
       "      <td>NaN</td>\n",
       "      <td>NaN</td>\n",
       "      <td>0</td>\n",
       "      <td>0.0</td>\n",
       "      <td>12.0</td>\n",
       "      <td>...</td>\n",
       "      <td>1754.0</td>\n",
       "      <td>1754.0</td>\n",
       "      <td>NaN</td>\n",
       "      <td>NaN</td>\n",
       "      <td>2016</td>\n",
       "      <td>NaN</td>\n",
       "      <td>NaN</td>\n",
       "      <td>NaN</td>\n",
       "      <td>NaN</td>\n",
       "      <td>0.00nan</td>\n",
       "    </tr>\n",
       "    <tr>\n",
       "      <th>3186</th>\n",
       "      <td>NaN</td>\n",
       "      <td>NaN</td>\n",
       "      <td>NaN</td>\n",
       "      <td>NaN</td>\n",
       "      <td>NaN</td>\n",
       "      <td>NaN</td>\n",
       "      <td>NaN</td>\n",
       "      <td>0</td>\n",
       "      <td>0.0</td>\n",
       "      <td>12.0</td>\n",
       "      <td>...</td>\n",
       "      <td>3186.0</td>\n",
       "      <td>3186.0</td>\n",
       "      <td>NaN</td>\n",
       "      <td>NaN</td>\n",
       "      <td>2016</td>\n",
       "      <td>NaN</td>\n",
       "      <td>NaN</td>\n",
       "      <td>NaN</td>\n",
       "      <td>NaN</td>\n",
       "      <td>0.00nan</td>\n",
       "    </tr>\n",
       "    <tr>\n",
       "      <th>3504</th>\n",
       "      <td>NaN</td>\n",
       "      <td>NaN</td>\n",
       "      <td>NaN</td>\n",
       "      <td>NaN</td>\n",
       "      <td>NaN</td>\n",
       "      <td>NaN</td>\n",
       "      <td>NaN</td>\n",
       "      <td>0</td>\n",
       "      <td>0.0</td>\n",
       "      <td>12.0</td>\n",
       "      <td>...</td>\n",
       "      <td>3504.0</td>\n",
       "      <td>3504.0</td>\n",
       "      <td>NaN</td>\n",
       "      <td>NaN</td>\n",
       "      <td>2016</td>\n",
       "      <td>NaN</td>\n",
       "      <td>NaN</td>\n",
       "      <td>NaN</td>\n",
       "      <td>NaN</td>\n",
       "      <td>0.00nan</td>\n",
       "    </tr>\n",
       "  </tbody>\n",
       "</table>\n",
       "<p>5 rows × 36 columns</p>\n",
       "</div>"
      ],
      "text/plain": [
       "      Apellido  Apellido_2  AñoProy  Camas  Categoria  Categoría  Cedula  \\\n",
       "1360       NaN         NaN      NaN    NaN        NaN        NaN     NaN   \n",
       "1          NaN         NaN      NaN    NaN        NaN        NaN     NaN   \n",
       "1754       NaN         NaN      NaN    NaN        NaN        NaN     NaN   \n",
       "3186       NaN         NaN      NaN    NaN        NaN        NaN     NaN   \n",
       "3504       NaN         NaN      NaN    NaN        NaN        NaN     NaN   \n",
       "\n",
       "      CodBoleta  CodComun  CodDepto   ...     Unnamed: 0.1  Unnamed: 0.1.1  \\\n",
       "1360          0       0.0      12.0   ...           1360.0          1360.0   \n",
       "1             0       0.0      12.0   ...              1.0             1.0   \n",
       "1754          0       0.0      12.0   ...           1754.0          1754.0   \n",
       "3186          0       0.0      12.0   ...           3186.0          3186.0   \n",
       "3504          0       0.0      12.0   ...           3504.0          3504.0   \n",
       "\n",
       "     Unnamed: 0.1.1.1 Unnamed: 0.1.1.1.1 bd_year  lp  nomlp  year  month  \\\n",
       "1360              NaN                NaN    2015 NaN    NaN   NaN    NaN   \n",
       "1                 NaN                NaN    2016 NaN    NaN   NaN    NaN   \n",
       "1754              NaN                NaN    2016 NaN    NaN   NaN    NaN   \n",
       "3186              NaN                NaN    2016 NaN    NaN   NaN    NaN   \n",
       "3504              NaN                NaN    2016 NaN    NaN   NaN    NaN   \n",
       "\n",
       "          uid  \n",
       "1360  0.00nan  \n",
       "1     0.00nan  \n",
       "1754  0.00nan  \n",
       "3186  0.00nan  \n",
       "3504  0.00nan  \n",
       "\n",
       "[5 rows x 36 columns]"
      ]
     },
     "execution_count": 55,
     "metadata": {},
     "output_type": "execute_result"
    }
   ],
   "source": [
    "entregas[entregas.CodComun.astype(str).map(lambda x: x[0]) != \n",
    "            entregas.CodDepto.astype(str).map(lambda x: x[0])]"
   ]
  },
  {
   "cell_type": "code",
   "execution_count": 50,
   "metadata": {
    "collapsed": true,
    "deletable": true,
    "editable": true,
    "scrolled": true
   },
   "outputs": [],
   "source": [
    "eMerge = eMerge[eMerge.year.isna() == False]"
   ]
  },
  {
   "cell_type": "code",
   "execution_count": 53,
   "metadata": {
    "collapsed": false,
    "deletable": true,
    "editable": true,
    "scrolled": true
   },
   "outputs": [
    {
     "data": {
      "text/html": [
       "<div>\n",
       "<style scoped>\n",
       "    .dataframe tbody tr th:only-of-type {\n",
       "        vertical-align: middle;\n",
       "    }\n",
       "\n",
       "    .dataframe tbody tr th {\n",
       "        vertical-align: top;\n",
       "    }\n",
       "\n",
       "    .dataframe thead th {\n",
       "        text-align: right;\n",
       "    }\n",
       "</style>\n",
       "<table border=\"1\" class=\"dataframe\">\n",
       "  <thead>\n",
       "    <tr style=\"text-align: right;\">\n",
       "      <th>year</th>\n",
       "      <th>2012.0</th>\n",
       "      <th>2013.0</th>\n",
       "      <th>2014.0</th>\n",
       "      <th>2015.0</th>\n",
       "      <th>2016.0</th>\n",
       "      <th>2017.0</th>\n",
       "      <th>2018.0</th>\n",
       "    </tr>\n",
       "    <tr>\n",
       "      <th>CodDepto_e</th>\n",
       "      <th></th>\n",
       "      <th></th>\n",
       "      <th></th>\n",
       "      <th></th>\n",
       "      <th></th>\n",
       "      <th></th>\n",
       "      <th></th>\n",
       "    </tr>\n",
       "  </thead>\n",
       "  <tbody>\n",
       "    <tr>\n",
       "      <th>2.0</th>\n",
       "      <td>0.0</td>\n",
       "      <td>0.0</td>\n",
       "      <td>0.0</td>\n",
       "      <td>5137.0</td>\n",
       "      <td>0.0</td>\n",
       "      <td>0.0</td>\n",
       "      <td>0.0</td>\n",
       "    </tr>\n",
       "    <tr>\n",
       "      <th>4.0</th>\n",
       "      <td>0.0</td>\n",
       "      <td>0.0</td>\n",
       "      <td>0.0</td>\n",
       "      <td>2500.0</td>\n",
       "      <td>346.0</td>\n",
       "      <td>0.0</td>\n",
       "      <td>0.0</td>\n",
       "    </tr>\n",
       "    <tr>\n",
       "      <th>5.0</th>\n",
       "      <td>63189.0</td>\n",
       "      <td>12661.0</td>\n",
       "      <td>15720.0</td>\n",
       "      <td>24268.0</td>\n",
       "      <td>25289.0</td>\n",
       "      <td>2103.0</td>\n",
       "      <td>5307.0</td>\n",
       "    </tr>\n",
       "    <tr>\n",
       "      <th>6.0</th>\n",
       "      <td>0.0</td>\n",
       "      <td>0.0</td>\n",
       "      <td>6243.0</td>\n",
       "      <td>8968.0</td>\n",
       "      <td>18250.0</td>\n",
       "      <td>0.0</td>\n",
       "      <td>0.0</td>\n",
       "    </tr>\n",
       "    <tr>\n",
       "      <th>7.0</th>\n",
       "      <td>0.0</td>\n",
       "      <td>0.0</td>\n",
       "      <td>0.0</td>\n",
       "      <td>6070.0</td>\n",
       "      <td>1936.0</td>\n",
       "      <td>422.0</td>\n",
       "      <td>0.0</td>\n",
       "    </tr>\n",
       "    <tr>\n",
       "      <th>9.0</th>\n",
       "      <td>0.0</td>\n",
       "      <td>0.0</td>\n",
       "      <td>0.0</td>\n",
       "      <td>19881.0</td>\n",
       "      <td>14228.0</td>\n",
       "      <td>446.0</td>\n",
       "      <td>1147.0</td>\n",
       "    </tr>\n",
       "    <tr>\n",
       "      <th>10.0</th>\n",
       "      <td>63792.0</td>\n",
       "      <td>47455.0</td>\n",
       "      <td>0.0</td>\n",
       "      <td>45613.0</td>\n",
       "      <td>57246.0</td>\n",
       "      <td>59.0</td>\n",
       "      <td>0.0</td>\n",
       "    </tr>\n",
       "    <tr>\n",
       "      <th>11.0</th>\n",
       "      <td>29612.0</td>\n",
       "      <td>28303.0</td>\n",
       "      <td>0.0</td>\n",
       "      <td>45595.0</td>\n",
       "      <td>28365.0</td>\n",
       "      <td>0.0</td>\n",
       "      <td>24320.0</td>\n",
       "    </tr>\n",
       "    <tr>\n",
       "      <th>12.0</th>\n",
       "      <td>19487.0</td>\n",
       "      <td>20463.0</td>\n",
       "      <td>50.0</td>\n",
       "      <td>25065.0</td>\n",
       "      <td>20500.0</td>\n",
       "      <td>0.0</td>\n",
       "      <td>0.0</td>\n",
       "    </tr>\n",
       "    <tr>\n",
       "      <th>13.0</th>\n",
       "      <td>0.0</td>\n",
       "      <td>0.0</td>\n",
       "      <td>0.0</td>\n",
       "      <td>10962.0</td>\n",
       "      <td>1376.0</td>\n",
       "      <td>0.0</td>\n",
       "      <td>1746.0</td>\n",
       "    </tr>\n",
       "    <tr>\n",
       "      <th>14.0</th>\n",
       "      <td>27153.0</td>\n",
       "      <td>19711.0</td>\n",
       "      <td>36.0</td>\n",
       "      <td>35900.0</td>\n",
       "      <td>29305.0</td>\n",
       "      <td>244.0</td>\n",
       "      <td>0.0</td>\n",
       "    </tr>\n",
       "    <tr>\n",
       "      <th>15.0</th>\n",
       "      <td>24258.0</td>\n",
       "      <td>168.0</td>\n",
       "      <td>424.0</td>\n",
       "      <td>2431.0</td>\n",
       "      <td>0.0</td>\n",
       "      <td>0.0</td>\n",
       "      <td>4993.0</td>\n",
       "    </tr>\n",
       "    <tr>\n",
       "      <th>16.0</th>\n",
       "      <td>0.0</td>\n",
       "      <td>0.0</td>\n",
       "      <td>25080.0</td>\n",
       "      <td>4336.0</td>\n",
       "      <td>261.0</td>\n",
       "      <td>0.0</td>\n",
       "      <td>9.0</td>\n",
       "    </tr>\n",
       "    <tr>\n",
       "      <th>17.0</th>\n",
       "      <td>45791.0</td>\n",
       "      <td>15805.0</td>\n",
       "      <td>0.0</td>\n",
       "      <td>72676.0</td>\n",
       "      <td>73986.0</td>\n",
       "      <td>3035.0</td>\n",
       "      <td>37729.0</td>\n",
       "    </tr>\n",
       "    <tr>\n",
       "      <th>18.0</th>\n",
       "      <td>97490.0</td>\n",
       "      <td>23960.0</td>\n",
       "      <td>0.0</td>\n",
       "      <td>6232.0</td>\n",
       "      <td>10566.0</td>\n",
       "      <td>24.0</td>\n",
       "      <td>389.0</td>\n",
       "    </tr>\n",
       "    <tr>\n",
       "      <th>19.0</th>\n",
       "      <td>24395.0</td>\n",
       "      <td>51.0</td>\n",
       "      <td>0.0</td>\n",
       "      <td>16645.0</td>\n",
       "      <td>13621.0</td>\n",
       "      <td>13479.0</td>\n",
       "      <td>191.0</td>\n",
       "    </tr>\n",
       "    <tr>\n",
       "      <th>20.0</th>\n",
       "      <td>15199.0</td>\n",
       "      <td>15432.0</td>\n",
       "      <td>19.0</td>\n",
       "      <td>6272.0</td>\n",
       "      <td>0.0</td>\n",
       "      <td>0.0</td>\n",
       "      <td>0.0</td>\n",
       "    </tr>\n",
       "    <tr>\n",
       "      <th>21.0</th>\n",
       "      <td>0.0</td>\n",
       "      <td>0.0</td>\n",
       "      <td>0.0</td>\n",
       "      <td>0.0</td>\n",
       "      <td>9992.0</td>\n",
       "      <td>0.0</td>\n",
       "      <td>0.0</td>\n",
       "    </tr>\n",
       "    <tr>\n",
       "      <th>22.0</th>\n",
       "      <td>0.0</td>\n",
       "      <td>0.0</td>\n",
       "      <td>0.0</td>\n",
       "      <td>6490.0</td>\n",
       "      <td>1936.0</td>\n",
       "      <td>0.0</td>\n",
       "      <td>0.0</td>\n",
       "    </tr>\n",
       "  </tbody>\n",
       "</table>\n",
       "</div>"
      ],
      "text/plain": [
       "year         2012.0   2013.0   2014.0   2015.0   2016.0   2017.0   2018.0\n",
       "CodDepto_e                                                               \n",
       "2.0             0.0      0.0      0.0   5137.0      0.0      0.0      0.0\n",
       "4.0             0.0      0.0      0.0   2500.0    346.0      0.0      0.0\n",
       "5.0         63189.0  12661.0  15720.0  24268.0  25289.0   2103.0   5307.0\n",
       "6.0             0.0      0.0   6243.0   8968.0  18250.0      0.0      0.0\n",
       "7.0             0.0      0.0      0.0   6070.0   1936.0    422.0      0.0\n",
       "9.0             0.0      0.0      0.0  19881.0  14228.0    446.0   1147.0\n",
       "10.0        63792.0  47455.0      0.0  45613.0  57246.0     59.0      0.0\n",
       "11.0        29612.0  28303.0      0.0  45595.0  28365.0      0.0  24320.0\n",
       "12.0        19487.0  20463.0     50.0  25065.0  20500.0      0.0      0.0\n",
       "13.0            0.0      0.0      0.0  10962.0   1376.0      0.0   1746.0\n",
       "14.0        27153.0  19711.0     36.0  35900.0  29305.0    244.0      0.0\n",
       "15.0        24258.0    168.0    424.0   2431.0      0.0      0.0   4993.0\n",
       "16.0            0.0      0.0  25080.0   4336.0    261.0      0.0      9.0\n",
       "17.0        45791.0  15805.0      0.0  72676.0  73986.0   3035.0  37729.0\n",
       "18.0        97490.0  23960.0      0.0   6232.0  10566.0     24.0    389.0\n",
       "19.0        24395.0     51.0      0.0  16645.0  13621.0  13479.0    191.0\n",
       "20.0        15199.0  15432.0     19.0   6272.0      0.0      0.0      0.0\n",
       "21.0            0.0      0.0      0.0      0.0   9992.0      0.0      0.0\n",
       "22.0            0.0      0.0      0.0   6490.0   1936.0      0.0      0.0"
      ]
     },
     "execution_count": 53,
     "metadata": {},
     "output_type": "execute_result"
    }
   ],
   "source": [
    "eMerge[eMerge.Sustit == False].groupby([\"CodDepto_e\", (eMerge.year)]).\\\n",
    "    Pabellones.sum().unstack(1).fillna(0)"
   ]
  },
  {
   "cell_type": "code",
   "execution_count": 46,
   "metadata": {
    "collapsed": true,
    "deletable": true,
    "editable": true,
    "scrolled": true
   },
   "outputs": [],
   "source": [
    "deptos = gp.read_file(\"../../../../Covariates and Other Data/GIS/GT-IGN-cartografia_basica-Departamentos.geojson\")\n",
    "deptos = deptos[lambda x: x.CODIGO.astype(int) <= 2200]"
   ]
  },
  {
   "cell_type": "code",
   "execution_count": null,
   "metadata": {
    "collapsed": false,
    "deletable": true,
    "editable": true,
    "scrolled": true
   },
   "outputs": [],
   "source": [
    "mlp.rcParams['figure.figsize'] = [10.0, 10.0]\n",
    "mlp.rcParams['axes.titlesize'] = 20\n",
    "temp = deptos.merge(eMerge.groupby(\"CodDepto_e\").Pabellones.sum().divide(1000).reset_index()\\\n",
    "                         .assign(deptocode=lambda x: (x.CodDepto_e * 100).astype(int).astype(str)\\\n",
    "                                 .map(lambda y: y if y != 1 else \"101\")), \n",
    "                 left_on=\"CODIGO\", right_on = \"deptocode\", how=\"outer\" ).fillna(0)\n",
    "ax = temp[temp.Pabellones == 0].plot(color=\"grey\")\n",
    "temp[temp.Pabellones > 0].plot(\"Pabellones\", ax = ax, cmap = \"Blues\", legend=True, edgecolor=\"black\")\n",
    "ax.axis('off')\n",
    "ax.set_title(\"Pabellones entregados entre 2012 y 2017 \\n(en miles)\")\n",
    "    \n"
   ]
  },
  {
   "cell_type": "code",
   "execution_count": 64,
   "metadata": {
    "collapsed": true,
    "deletable": true,
    "editable": true,
    "scrolled": true
   },
   "outputs": [],
   "source": [
    "pblYears = eMerge.groupby([\"CodDepto_e\", \"year\"]).Pabellones.sum().divide(1000).reset_index()\\\n",
    "                         .assign(deptocode=lambda x: (x.CodDepto_e * 100).astype(int).astype(str)\\\n",
    "                                 .map(lambda y: y if y != 1 else \"101\"))"
   ]
  },
  {
   "cell_type": "code",
   "execution_count": null,
   "metadata": {
    "collapsed": false,
    "deletable": true,
    "editable": true,
    "scrolled": true
   },
   "outputs": [],
   "source": [
    "vmax = pblYears.Pabellones.max()\n",
    "\n",
    "side = 8\n",
    "n = 7\n",
    "vmin = 0\n",
    "#vmax = 8\n",
    "f, axes = plt.subplots(int(np.ceil(n/2)), 2, figsize=(side*2*1.1, side*np.ceil(n/2) ))\n",
    "i = 2012\n",
    "for row in axes:\n",
    "    for ax in row:\n",
    "        temp3 = deptos.merge(pblYears[pblYears.year == i], \n",
    "                             left_on=\"CODIGO\", right_on = \"deptocode\", how=\"left\" ).fillna(0)\n",
    "        temp3[temp3.Pabellones == 0].plot(ax=ax, color=\"grey\")\n",
    "        if len(temp3[temp3.Pabellones > 0])>0:\n",
    "            temp3[temp3.Pabellones > 0].plot(\"Pabellones\", ax = ax, cmap = \"Blues\", \n",
    "                                             legend=True, edgecolor=\"black\",\n",
    "                                             vmin = vmin, vmax = vmax)\n",
    "        ax.axis('off')\n",
    "        ax.set_title(\"Malaria bednets delivered\\nThousands by department for \"+ str(i))\n",
    "        i += 1"
   ]
  },
  {
   "cell_type": "code",
   "execution_count": 66,
   "metadata": {
    "collapsed": true,
    "deletable": true,
    "editable": true,
    "scrolled": true
   },
   "outputs": [],
   "source": [
    "eMerge.to_csv(\"../../../../Outcome Measurement Data/MALARIA/GTM - Bednets Distr.csv\")"
   ]
  },
  {
   "cell_type": "code",
   "execution_count": 67,
   "metadata": {
    "collapsed": true,
    "deletable": true,
    "editable": true,
    "scrolled": true
   },
   "outputs": [
    {
     "data": {
      "text/plain": [
       "41708.0"
      ]
     },
     "execution_count": 67,
     "metadata": {},
     "output_type": "execute_result"
    }
   ],
   "source": [
    "eMerge[(eMerge.year==2016) & (eMerge.CodDepto_e == 5)].Pabellones.sum()"
   ]
  },
  {
   "cell_type": "code",
   "execution_count": 57,
   "metadata": {},
   "outputs": [
    {
     "data": {
      "text/html": [
       "<div>\n",
       "<style scoped>\n",
       "    .dataframe tbody tr th:only-of-type {\n",
       "        vertical-align: middle;\n",
       "    }\n",
       "\n",
       "    .dataframe tbody tr th {\n",
       "        vertical-align: top;\n",
       "    }\n",
       "\n",
       "    .dataframe thead th {\n",
       "        text-align: right;\n",
       "    }\n",
       "</style>\n",
       "<table border=\"1\" class=\"dataframe\">\n",
       "  <thead>\n",
       "    <tr style=\"text-align: right;\">\n",
       "      <th></th>\n",
       "      <th>CodDepto_e</th>\n",
       "      <th>year</th>\n",
       "      <th>Pabellones</th>\n",
       "      <th>deptocode</th>\n",
       "    </tr>\n",
       "  </thead>\n",
       "  <tbody>\n",
       "  </tbody>\n",
       "</table>\n",
       "</div>"
      ],
      "text/plain": [
       "Empty DataFrame\n",
       "Columns: [CodDepto_e, year, Pabellones, deptocode]\n",
       "Index: []"
      ]
     },
     "execution_count": 57,
     "metadata": {},
     "output_type": "execute_result"
    }
   ],
   "source": [
    "pblYears[pblYears.year==2018]"
   ]
  },
  {
   "cell_type": "code",
   "execution_count": null,
   "metadata": {},
   "outputs": [],
   "source": []
  }
 ],
 "metadata": {
  "kernelspec": {
   "display_name": "Python 3",
   "language": "python",
   "name": "python3"
  },
  "language_info": {
   "codemirror_mode": {
    "name": "ipython",
    "version": 3
   },
   "file_extension": ".py",
   "mimetype": "text/x-python",
   "name": "python",
   "nbconvert_exporter": "python",
   "pygments_lexer": "ipython3",
   "version": "3.6.3"
  }
 },
 "nbformat": 4,
 "nbformat_minor": 2
}
