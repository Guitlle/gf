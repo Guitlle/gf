{
 "cells": [
  {
   "cell_type": "code",
   "execution_count": null,
   "metadata": {
    "collapsed": true,
    "deletable": true,
    "editable": true,
    "scrolled": true
   },
   "outputs": [],
   "source": [
    "from IPython.display import display, HTML\n",
    "import pandas as pd\n",
    "import numpy as np\n",
    "import seaborn as sb\n",
    "import matplotlib as mlp\n",
    "import matplotlib.pyplot as plt\n",
    "import geopandas as gp\n",
    "import os\n",
    "\n",
    "%matplotlib inline\n",
    "plt.style.use('ggplot')\n",
    "mlp.rcParams['figure.figsize'] = [8.0, 8.0]"
   ]
  },
  {
   "cell_type": "code",
   "execution_count": null,
   "metadata": {
    "collapsed": true,
    "deletable": true,
    "editable": true,
    "scrolled": true
   },
   "outputs": [],
   "source": [
    "base_dir = \"../../../../Outcome Measurement Data/MALARIA/Distribucion de MTILD/\""
   ]
  },
  {
   "cell_type": "code",
   "execution_count": null,
   "metadata": {
    "collapsed": true,
    "deletable": true,
    "editable": true,
    "scrolled": true
   },
   "outputs": [],
   "source": [
    "entregas = None\n",
    "entregasDetalles = None\n",
    "for year in [2015, 2016, 2017, 2018]:\n",
    "    for (dirpath, dirnames, filenames) in os.walk(base_dir + \"BD \" + str(year) + \"/\"):\n",
    "        for filename in filenames:\n",
    "            if \"EntregaPIIs.\" in filename:\n",
    "                if (filename.endswith(\".csv\")):\n",
    "                    temp = pd.read_csv(dirpath + \"/\" + filename)\n",
    "                elif (filename.endswith(\".xlsx\")):\n",
    "                    temp = pd.read_excel(dirpath + \"/\" + filename, 0)\n",
    "                temp[\"bd_year\"] = year\n",
    "                if entregas is None:\n",
    "                    entregas = temp\n",
    "                else:\n",
    "                    entregas = pd.concat([entregas, temp]) \n",
    "            elif \"EntregaPIIsDetalle.\" in filename:\n",
    "                if (filename.endswith(\".csv\")):\n",
    "                    temp = pd.read_csv(dirpath + \"/\" + filename)\n",
    "                elif (filename.endswith(\".xlsx\")):\n",
    "                    temp = pd.read_excel(dirpath + \"/\" + filename, 0)\n",
    "                temp[\"bd_year\"] = year\n",
    "                if entregasDetalles is None:\n",
    "                    entregasDetalles = temp\n",
    "                else:\n",
    "                    entregasDetalles = pd.concat([entregasDetalles, temp]) "
   ]
  },
  {
   "cell_type": "code",
   "execution_count": null,
   "metadata": {
    "collapsed": true,
    "deletable": true,
    "editable": true,
    "scrolled": true
   },
   "outputs": [],
   "source": [
    "entregas[\"year\"] = pd.to_numeric(entregas.FechaEnt.astype(str)\\\n",
    "            .map(lambda x: (x[0:4] if x.startswith(\"201\") else x[-4:])), errors= \"coerce\")\n",
    "entregas[\"month\"] = pd.to_numeric(entregas.FechaEnt.astype(str)\\\n",
    "            .map(lambda x: (x[5:7] if x.startswith(\"201\") else x[-7:-5])), errors= \"coerce\")"
   ]
  },
  {
   "cell_type": "code",
   "execution_count": null,
   "metadata": {
    "collapsed": false,
    "deletable": true,
    "editable": true,
    "scrolled": false
   },
   "outputs": [],
   "source": [
    "entregas.month.value_counts(dropna=False)"
   ]
  },
  {
   "cell_type": "code",
   "execution_count": null,
   "metadata": {
    "collapsed": false,
    "deletable": true,
    "editable": true,
    "scrolled": true
   },
   "outputs": [],
   "source": [
    "entregas[(entregas.year == 2016) & (entregas.bd_year == 2016)].CodDepto.value_counts()"
   ]
  },
  {
   "cell_type": "code",
   "execution_count": null,
   "metadata": {
    "collapsed": false,
    "deletable": true,
    "editable": true,
    "scrolled": true
   },
   "outputs": [],
   "source": [
    "entregas[(entregas.year == 2016) & (entregas.bd_year == 2017)].CodDepto.value_counts()"
   ]
  },
  {
   "cell_type": "code",
   "execution_count": null,
   "metadata": {
    "collapsed": false,
    "deletable": true,
    "editable": true,
    "scrolled": true
   },
   "outputs": [],
   "source": [
    "entregas.columns"
   ]
  },
  {
   "cell_type": "code",
   "execution_count": null,
   "metadata": {
    "collapsed": true,
    "deletable": true,
    "editable": true,
    "scrolled": true
   },
   "outputs": [],
   "source": [
    "entregas_sub = entregas[((entregas.bd_year==2015) & (entregas.year <= 2015)) | \n",
    "                 ((entregas.bd_year==2016) & (entregas.year == 2016)) |\n",
    "                 ((entregas.bd_year==2017) & (entregas.year == 2017)) ]"
   ]
  },
  {
   "cell_type": "code",
   "execution_count": null,
   "metadata": {
    "collapsed": false,
    "deletable": true,
    "editable": true,
    "scrolled": true
   },
   "outputs": [],
   "source": [
    "(entregas.year).value_counts().sort_index()"
   ]
  },
  {
   "cell_type": "code",
   "execution_count": null,
   "metadata": {
    "collapsed": true,
    "deletable": true,
    "editable": true,
    "scrolled": true
   },
   "outputs": [],
   "source": [
    "eMerge = pd.merge(entregas[[\"CodDepto\", \"CodComun\", \"CodBoleta\", \"bd_year\", \"FechaEnt\", \"year\", \"month\"]], \n",
    "                  entregasDetalles[[\"CodDepto\", \"CodComun\", \"CodBoleta\", \"bd_year\", \n",
    "                                    \"Personas\", \"MEmbarazada\", \"Menores5a\", \"Camas\", \"Pabellones\"]], \n",
    "                  how=\"inner\", \n",
    "                  on=[\"CodComun\", \"CodBoleta\", \"bd_year\"], suffixes=(\"_e\", \"_eD\"))"
   ]
  },
  {
   "cell_type": "code",
   "execution_count": null,
   "metadata": {
    "collapsed": false,
    "deletable": true,
    "editable": true,
    "scrolled": true
   },
   "outputs": [],
   "source": [
    "eMerge.shape"
   ]
  },
  {
   "cell_type": "code",
   "execution_count": null,
   "metadata": {
    "collapsed": false,
    "deletable": true,
    "editable": true,
    "scrolled": true
   },
   "outputs": [],
   "source": [
    "entregasDetalles.shape"
   ]
  },
  {
   "cell_type": "code",
   "execution_count": null,
   "metadata": {
    "collapsed": false,
    "deletable": true,
    "editable": true,
    "scrolled": true
   },
   "outputs": [],
   "source": [
    "entregasDetalles.bd_year.value_counts()"
   ]
  },
  {
   "cell_type": "code",
   "execution_count": null,
   "metadata": {
    "collapsed": true,
    "deletable": true,
    "editable": true,
    "scrolled": true
   },
   "outputs": [],
   "source": [
    "eMerge = eMerge[eMerge.year.isna() == False]"
   ]
  },
  {
   "cell_type": "code",
   "execution_count": null,
   "metadata": {
    "collapsed": false,
    "deletable": true,
    "editable": true,
    "scrolled": true
   },
   "outputs": [],
   "source": [
    "eMerge.groupby([\"CodDepto_e\", (eMerge.year*100+(eMerge.month/3).astype(int)*3)]).\\\n",
    "    Pabellones.sum().unstack(1).fillna(0)"
   ]
  },
  {
   "cell_type": "code",
   "execution_count": null,
   "metadata": {
    "collapsed": true,
    "deletable": true,
    "editable": true,
    "scrolled": true
   },
   "outputs": [],
   "source": [
    "deptos = gp.read_file(\"../../../../Covariates and Other Data/GIS/GT-IGN-cartografia_basica-Departamentos.geojson\")\n",
    "deptos = deptos[lambda x: x.CODIGO.astype(int) <= 2200]"
   ]
  },
  {
   "cell_type": "code",
   "execution_count": null,
   "metadata": {
    "collapsed": false,
    "deletable": true,
    "editable": true,
    "scrolled": true
   },
   "outputs": [],
   "source": [
    "mlp.rcParams['figure.figsize'] = [10.0, 10.0]\n",
    "mlp.rcParams['axes.titlesize'] = 20\n",
    "temp = deptos.merge(eMerge.groupby(\"CodDepto_e\").Pabellones.sum().divide(1000).reset_index()\\\n",
    "                         .assign(deptocode=lambda x: (x.CodDepto_e * 100).astype(int).astype(str)\\\n",
    "                                 .map(lambda y: y if y != 1 else \"101\")), \n",
    "                 left_on=\"CODIGO\", right_on = \"deptocode\", how=\"outer\" ).fillna(0)\n",
    "ax = temp[temp.Pabellones == 0].plot(color=\"grey\")\n",
    "temp[temp.Pabellones > 0].plot(\"Pabellones\", ax = ax, cmap = \"Blues\", legend=True, edgecolor=\"black\")\n",
    "ax.axis('off')\n",
    "ax.set_title(\"Pabellones entregados entre 2012 y 2017 \\n(en miles)\")\n",
    "    \n"
   ]
  },
  {
   "cell_type": "code",
   "execution_count": null,
   "metadata": {
    "collapsed": true,
    "deletable": true,
    "editable": true,
    "scrolled": true
   },
   "outputs": [],
   "source": [
    "pblYears = eMerge.groupby([\"CodDepto_e\", \"year\"]).Pabellones.sum().divide(1000).reset_index()\\\n",
    "                         .assign(deptocode=lambda x: (x.CodDepto_e * 100).astype(int).astype(str)\\\n",
    "                                 .map(lambda y: y if y != 1 else \"101\"))"
   ]
  },
  {
   "cell_type": "code",
   "execution_count": null,
   "metadata": {
    "collapsed": false,
    "deletable": true,
    "editable": true,
    "scrolled": true
   },
   "outputs": [],
   "source": [
    "vmax = pblYears.Pabellones.max()\n",
    "\n",
    "side = 8\n",
    "n = 7\n",
    "vmin = 0\n",
    "#vmax = 8\n",
    "f, axes = plt.subplots(int(np.ceil(n/2)), 2, figsize=(side*2*1.1, side*np.ceil(n/2) ))\n",
    "i = 2012\n",
    "for row in axes:\n",
    "    for ax in row:\n",
    "        temp3 = deptos.merge(pblYears[pblYears.year == i], \n",
    "                             left_on=\"CODIGO\", right_on = \"deptocode\", how=\"left\" ).fillna(0)\n",
    "        temp3[temp3.Pabellones == 0].plot(ax=ax, color=\"grey\")\n",
    "        if len(temp3[temp3.Pabellones > 0])>0:\n",
    "            temp3[temp3.Pabellones > 0].plot(\"Pabellones\", ax = ax, cmap = \"Blues\", \n",
    "                                             legend=True, edgecolor=\"black\",\n",
    "                                             vmin = vmin, vmax = vmax)\n",
    "        ax.axis('off')\n",
    "        ax.set_title(\"Malaria bednets delivered\\nThousands by department for \"+ str(i))\n",
    "        i += 1"
   ]
  },
  {
   "cell_type": "code",
   "execution_count": null,
   "metadata": {
    "collapsed": true,
    "deletable": true,
    "editable": true,
    "scrolled": true
   },
   "outputs": [],
   "source": [
    "eMerge.to_csv(\"../../../../Outcome Measurement Data/MALARIA/GTM - Bednets Distr.csv\")"
   ]
  },
  {
   "cell_type": "code",
   "execution_count": null,
   "metadata": {
    "collapsed": true,
    "deletable": true,
    "editable": true,
    "scrolled": true
   },
   "outputs": [],
   "source": []
  }
 ],
 "metadata": {
  "kernelspec": {
   "display_name": "Python 3",
   "language": "python",
   "name": "python3"
  },
  "language_info": {
   "codemirror_mode": {
    "name": "ipython",
    "version": 3
   },
   "file_extension": ".py",
   "mimetype": "text/x-python",
   "name": "python",
   "nbconvert_exporter": "python",
   "pygments_lexer": "ipython3",
   "version": "3.5.1"
  }
 },
 "nbformat": 4,
 "nbformat_minor": 2
}
