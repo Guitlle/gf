{
 "cells": [
  {
   "cell_type": "code",
   "execution_count": 3,
   "metadata": {},
   "outputs": [],
   "source": [
    "from IPython.display import display, HTML\n",
    "import pandas as pd\n",
    "import numpy as np\n",
    "import seaborn as sb\n",
    "import matplotlib as mlp\n",
    "import matplotlib.pyplot as plt\n",
    "import geopandas as gp\n",
    "import os\n",
    "\n",
    "%matplotlib inline\n",
    "plt.style.use('ggplot')\n",
    "mlp.rcParams['figure.figsize'] = [8.0, 8.0]"
   ]
  },
  {
   "cell_type": "code",
   "execution_count": 2,
   "metadata": {},
   "outputs": [],
   "source": [
    "base_dir = \"../../../../Outcome Measurement Data/MALARIA/Distribucion de MTILD/\""
   ]
  },
  {
   "cell_type": "code",
   "execution_count": 11,
   "metadata": {},
   "outputs": [],
   "source": [
    "entregas = None\n",
    "entregasDetalles = None\n",
    "for year in [2015, 2016, 2017]:\n",
    "    for (dirpath, dirnames, filenames) in os.walk(base_dir + \"BD \" + str(year) + \"/\"):\n",
    "        for filename in filenames:\n",
    "            if filename == \"EntregaPIIs.csv\":\n",
    "                temp = pd.read_csv(dirpath + \"/\" + filename)\n",
    "                temp[\"bd_year\"] = year\n",
    "                if entregas is None:\n",
    "                    entregas = temp\n",
    "                else:\n",
    "                    entregas = pd.concat([entregas, temp]) \n",
    "            elif filename == \"EntregaPIIsDetalle.csv\":\n",
    "                temp = pd.read_csv(dirpath + \"/\" + filename)\n",
    "                temp[\"bd_year\"] = year\n",
    "                if entregasDetalles is None:\n",
    "                    entregasDetalles = temp\n",
    "                else:\n",
    "                    entregasDetalles = pd.concat([entregasDetalles, temp]) "
   ]
  },
  {
   "cell_type": "code",
   "execution_count": 29,
   "metadata": {},
   "outputs": [],
   "source": [
    "entregas[\"year\"] = entregas.FechaEnt.astype(str)\\\n",
    "            .map(lambda x: (x[0:4] if x.startswith( else np.NaN\"201\") else x[-4:]))"
   ]
  },
  {
   "cell_type": "code",
   "execution_count": 30,
   "metadata": {
    "scrolled": true
   },
   "outputs": [
    {
     "data": {
      "text/plain": [
       "2015    43508\n",
       "2012    31390\n",
       "2016    20825\n",
       "2013     9857\n",
       "2014     6617\n",
       "2017     1302\n",
       "nan        93\n",
       "0:00        4\n",
       "Name: year, dtype: int64"
      ]
     },
     "execution_count": 30,
     "metadata": {},
     "output_type": "execute_result"
    }
   ],
   "source": [
    "entregas.year.value_counts(dropna=False)"
   ]
  },
  {
   "cell_type": "code",
   "execution_count": 38,
   "metadata": {},
   "outputs": [
    {
     "data": {
      "text/plain": [
       "16.0    2546\n",
       "17.0    1998\n",
       "5.0     1424\n",
       "18.0    1194\n",
       "11.0    1131\n",
       "12.0     975\n",
       "14.0     775\n",
       "6.0      558\n",
       "9.0      522\n",
       "19.0     449\n",
       "21.0     362\n",
       "10.0     138\n",
       "7.0       85\n",
       "22.0      74\n",
       "13.0      46\n",
       "4.0       14\n",
       "Name: CodDepto, dtype: int64"
      ]
     },
     "execution_count": 38,
     "metadata": {},
     "output_type": "execute_result"
    }
   ],
   "source": [
    "entregas[(entregas.year == \"2016\") & (entregas.bd_year == 2016)].CodDepto.value_counts()"
   ]
  },
  {
   "cell_type": "code",
   "execution_count": 39,
   "metadata": {},
   "outputs": [
    {
     "data": {
      "text/plain": [
       "16.0    2546\n",
       "5.0     1424\n",
       "18.0    1194\n",
       "17.0     998\n",
       "14.0     775\n",
       "9.0      522\n",
       "19.0     455\n",
       "7.0       85\n",
       "Name: CodDepto, dtype: int64"
      ]
     },
     "execution_count": 39,
     "metadata": {},
     "output_type": "execute_result"
    }
   ],
   "source": [
    "entregas[(entregas.year == \"2016\") & (entregas.bd_year == 2017)].CodDepto.value_counts()"
   ]
  },
  {
   "cell_type": "code",
   "execution_count": 37,
   "metadata": {},
   "outputs": [
    {
     "data": {
      "text/plain": [
       "Index(['AñoProy', 'Categoria', 'Categoría', 'CodBoleta', 'CodComun',\n",
       "       'CodDepto', 'CodMuni', 'CodReg', 'FechaEnt', 'OID_', 'ProyectoMalaria',\n",
       "       'Responsable', 'Unnamed: 0', 'Unnamed: 0.1', 'Unnamed: 0.1.1',\n",
       "       'Unnamed: 0.1.1.1', 'Unnamed: 0.1.1.1.1', 'bd_year', 'lp', 'nomlp',\n",
       "       'year'],\n",
       "      dtype='object')"
      ]
     },
     "execution_count": 37,
     "metadata": {},
     "output_type": "execute_result"
    }
   ],
   "source": [
    "entregas.columns"
   ]
  },
  {
   "cell_type": "code",
   "execution_count": null,
   "metadata": {},
   "outputs": [],
   "source": []
  }
 ],
 "metadata": {
  "kernelspec": {
   "display_name": "Python 3",
   "language": "python",
   "name": "python3"
  },
  "language_info": {
   "codemirror_mode": {
    "name": "ipython",
    "version": 3
   },
   "file_extension": ".py",
   "mimetype": "text/x-python",
   "name": "python",
   "nbconvert_exporter": "python",
   "pygments_lexer": "ipython3",
   "version": "3.6.3"
  }
 },
 "nbformat": 4,
 "nbformat_minor": 2
}
