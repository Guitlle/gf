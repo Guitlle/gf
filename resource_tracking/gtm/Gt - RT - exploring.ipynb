{
 "cells": [
  {
   "cell_type": "code",
   "execution_count": 93,
   "metadata": {},
   "outputs": [
    {
     "ename": "FileNotFoundError",
     "evalue": "[Errno 2] No such file or directory: '../../core'",
     "output_type": "error",
     "traceback": [
      "\u001b[0;31m---------------------------------------------------------------------------\u001b[0m",
      "\u001b[0;31mFileNotFoundError\u001b[0m                         Traceback (most recent call last)",
      "\u001b[0;32m<ipython-input-93-17760be6d364>\u001b[0m in \u001b[0;36m<module>\u001b[0;34m()\u001b[0m\n\u001b[1;32m      7\u001b[0m \u001b[0;32mimport\u001b[0m \u001b[0mos\u001b[0m\u001b[0;34m\u001b[0m\u001b[0m\n\u001b[1;32m      8\u001b[0m \u001b[0;34m\u001b[0m\u001b[0m\n\u001b[0;32m----> 9\u001b[0;31m \u001b[0mos\u001b[0m\u001b[0;34m.\u001b[0m\u001b[0mchdir\u001b[0m\u001b[0;34m(\u001b[0m\u001b[0;34m\"../../core\"\u001b[0m\u001b[0;34m)\u001b[0m\u001b[0;34m\u001b[0m\u001b[0m\n\u001b[0m\u001b[1;32m     10\u001b[0m \u001b[0;32mimport\u001b[0m \u001b[0mGT_helper_functions\u001b[0m \u001b[0;32mas\u001b[0m \u001b[0mhf\u001b[0m\u001b[0;34m\u001b[0m\u001b[0m\n\u001b[1;32m     11\u001b[0m \u001b[0;32mimport\u001b[0m \u001b[0mGT_load_data\u001b[0m \u001b[0;32mas\u001b[0m \u001b[0mdata\u001b[0m\u001b[0;34m\u001b[0m\u001b[0m\n",
      "\u001b[0;31mFileNotFoundError\u001b[0m: [Errno 2] No such file or directory: '../../core'"
     ]
    }
   ],
   "source": [
    "import pandas as pd\n",
    "import numpy as np \n",
    "import matplotlib as mlp \n",
    "from matplotlib import pyplot as plt \n",
    "import geopandas as gp\n",
    "\n",
    "import os\n",
    "\n",
    "os.chdir(\"../../core\")\n",
    "import GT_helper_functions as hf\n",
    "import GT_load_data as data\n",
    "\n",
    "base_dir = \"../../Outcome Measurement Data/\"\n",
    "\n",
    "%matplotlib inline"
   ]
  },
  {
   "cell_type": "code",
   "execution_count": 97,
   "metadata": {},
   "outputs": [],
   "source": [
    "pd.options.display.max_columns = 100"
   ]
  },
  {
   "cell_type": "code",
   "execution_count": 2,
   "metadata": {},
   "outputs": [
    {
     "name": "stderr",
     "output_type": "stream",
     "text": [
      "/home/guillermo/.local/lib/python3.6/site-packages/IPython/core/interactiveshell.py:2785: DtypeWarning: Columns (4,5,22,24) have mixed types. Specify dtype option on import or set low_memory=False.\n",
      "  interactivity=interactivity, compiler=compiler, result=result)\n"
     ]
    }
   ],
   "source": [
    "rtd = pd.read_csv(\"../../Resource Tracking/prepped_data/total_resource_tracking_data.csv\", \n",
    "                  encoding = \"latin-1\")"
   ]
  },
  {
   "cell_type": "code",
   "execution_count": 16,
   "metadata": {},
   "outputs": [],
   "source": [
    "rtd[\"year_2\"] = rtd.start_date.map(lambda x: x[0:4] if type(x) != float else np.NaN)"
   ]
  },
  {
   "cell_type": "code",
   "execution_count": 100,
   "metadata": {},
   "outputs": [
    {
     "data": {
      "text/plain": [
       "ghe          114652\n",
       "gf           107869\n",
       "other_dah      3450\n",
       "bil_usa        3321\n",
       "dah            2070\n",
       "oop             513\n",
       "ppp             513\n",
       "Name: financing_source, dtype: int64"
      ]
     },
     "execution_count": 100,
     "metadata": {},
     "output_type": "execute_result"
    }
   ],
   "source": [
    "rtd.financing_source.value_counts()"
   ]
  },
  {
   "cell_type": "code",
   "execution_count": 103,
   "metadata": {},
   "outputs": [
    {
     "data": {
      "text/plain": [
       "Text(0,0.5,'Disbursement (Millions of $)')"
      ]
     },
     "execution_count": 103,
     "metadata": {},
     "output_type": "execute_result"
    },
    {
     "data": {
      "image/png": "[encoded data removed]",
      "text/plain": [
       "<Figure size 432x288 with 1 Axes>"
      ]
     },
     "metadata": {},
     "output_type": "display_data"
    }
   ],
   "source": [
    "temp = rtd[(rtd.data_source==\"sicoin\") & \n",
    "    (rtd.financing_source.isin([\"ghe\"]))].groupby([\n",
    "            \"year_2\", \n",
    "            \"disease\"\n",
    "        ])[[\n",
    "            #\"budget\" ,\n",
    "            #\"expenditure\",\n",
    "            \"disbursement\"\n",
    "        ]].sum().divide(1000000).unstack(1)\n",
    "temp.columns = [\"HIV\", \"Malaria\", \"TB\"]\n",
    "ax = plt.subplot(1,1,1)\n",
    "temp.plot(ax = ax)\n",
    "ax.set_xticks(range(len(temp)))\n",
    "ax.set_xticklabels(temp.index, rotation=90)\n",
    "plt.grid()\n",
    "ax.set_xlabel(\"Year\")\n",
    "ax.set_ylabel(\"Disbursement (Millions of $)\")"
   ]
  },
  {
   "cell_type": "code",
   "execution_count": 106,
   "metadata": {},
   "outputs": [
    {
     "data": {
      "text/plain": [
       "'prevenciondeenfermedadestransmitidasporvectoresmalariadengueyotrasenfermedadesvectoriales'"
      ]
     },
     "execution_count": 106,
     "metadata": {},
     "output_type": "execute_result"
    }
   ],
   "source": [
    "temp = rtd[(rtd.data_source==\"sicoin\") & \n",
    "    (rtd.financing_source.isin([\"ghe\"])) &\n",
    "    (rtd.year_2 == \"2012\") & \n",
    "    (rtd.disease == \"malaria\")]\n",
    "\n",
    "\"\"\"groupby([\n",
    "            \"intervention\"\n",
    "        ])[[\n",
    "            #\"budget\" ,\n",
    "            #\"expenditure\",\n",
    "            \"disbursement\"\n",
    "        ]].sum() #.divide(1000000).unstack(1)\"\"\"\n",
    "#temp.columns = [\"HIV\", \"Malaria\", \"TB\"]\n",
    "#ax = plt.subplot(1,1,1)\n",
    "#temp.plot(ax = ax)\n",
    "#ax.set_xticks(range(len(temp)))\n",
    "#ax.set_xticklabels(temp.index, rotation=90)\n",
    "#plt.grid()\n",
    "#ax.set_xlabel(\"Year\")\n",
    "#ax.set_ylabel(\"Disbursement (Millions of $)\")\n",
    "temp.module.values[0]"
   ]
  },
  {
   "cell_type": "code",
   "execution_count": null,
   "metadata": {},
   "outputs": [],
   "source": [
    "sicd = pd.read_csv(\"../resource_tracking/visualizations/prepped_sicoin_data_1201.csv\",\n",
    "                  encoding = \"latin-1\")"
   ]
  },
  {
   "cell_type": "code",
   "execution_count": 66,
   "metadata": {},
   "outputs": [],
   "source": [
    "sicd[\"year\"] = sicd.start_date.map(lambda x: x[4: 8])"
   ]
  },
  {
   "cell_type": "code",
   "execution_count": 70,
   "metadata": {},
   "outputs": [
    {
     "data": {
      "text/html": [
       "<div>\n",
       "<style scoped>\n",
       "    .dataframe tbody tr th:only-of-type {\n",
       "        vertical-align: middle;\n",
       "    }\n",
       "\n",
       "    .dataframe tbody tr th {\n",
       "        vertical-align: top;\n",
       "    }\n",
       "\n",
       "    .dataframe thead th {\n",
       "        text-align: right;\n",
       "    }\n",
       "</style>\n",
       "<table border=\"1\" class=\"dataframe\">\n",
       "  <thead>\n",
       "    <tr style=\"text-align: right;\">\n",
       "      <th></th>\n",
       "      <th>loc_id</th>\n",
       "      <th>budget</th>\n",
       "      <th>disbursement</th>\n",
       "      <th>source</th>\n",
       "      <th>start_date</th>\n",
       "      <th>period</th>\n",
       "      <th>cost_category</th>\n",
       "      <th>expenditure</th>\n",
       "      <th>disease</th>\n",
       "      <th>grant_number</th>\n",
       "      <th>data_source</th>\n",
       "      <th>year</th>\n",
       "    </tr>\n",
       "  </thead>\n",
       "  <tbody>\n",
       "    <tr>\n",
       "      <th>0</th>\n",
       "      <td>COBAN</td>\n",
       "      <td>150017.0</td>\n",
       "      <td>0.0</td>\n",
       "      <td>gf</td>\n",
       "      <td>1/1/2012</td>\n",
       "      <td>365</td>\n",
       "      <td>All</td>\n",
       "      <td>NaN</td>\n",
       "      <td>malaria</td>\n",
       "      <td>gua_m_mspas</td>\n",
       "      <td>SICOIN</td>\n",
       "      <td>2012</td>\n",
       "    </tr>\n",
       "    <tr>\n",
       "      <th>1</th>\n",
       "      <td>MIXCO</td>\n",
       "      <td>46900.0</td>\n",
       "      <td>46900.0</td>\n",
       "      <td>gf</td>\n",
       "      <td>1/1/2012</td>\n",
       "      <td>365</td>\n",
       "      <td>All</td>\n",
       "      <td>NaN</td>\n",
       "      <td>malaria</td>\n",
       "      <td>gua_m_mspas</td>\n",
       "      <td>SICOIN</td>\n",
       "      <td>2012</td>\n",
       "    </tr>\n",
       "    <tr>\n",
       "      <th>2</th>\n",
       "      <td>AMATITLAN</td>\n",
       "      <td>52715.0</td>\n",
       "      <td>52715.0</td>\n",
       "      <td>gf</td>\n",
       "      <td>1/1/2012</td>\n",
       "      <td>365</td>\n",
       "      <td>All</td>\n",
       "      <td>NaN</td>\n",
       "      <td>malaria</td>\n",
       "      <td>gua_m_mspas</td>\n",
       "      <td>SICOIN</td>\n",
       "      <td>2012</td>\n",
       "    </tr>\n",
       "    <tr>\n",
       "      <th>3</th>\n",
       "      <td>GUASTATOYA</td>\n",
       "      <td>13024.0</td>\n",
       "      <td>13024.0</td>\n",
       "      <td>gf</td>\n",
       "      <td>1/1/2012</td>\n",
       "      <td>365</td>\n",
       "      <td>All</td>\n",
       "      <td>NaN</td>\n",
       "      <td>malaria</td>\n",
       "      <td>gua_m_mspas</td>\n",
       "      <td>SICOIN</td>\n",
       "      <td>2012</td>\n",
       "    </tr>\n",
       "    <tr>\n",
       "      <th>4</th>\n",
       "      <td>CHIMALTENANGO</td>\n",
       "      <td>898996.0</td>\n",
       "      <td>898995.0</td>\n",
       "      <td>gf</td>\n",
       "      <td>1/1/2012</td>\n",
       "      <td>365</td>\n",
       "      <td>All</td>\n",
       "      <td>NaN</td>\n",
       "      <td>malaria</td>\n",
       "      <td>gua_m_mspas</td>\n",
       "      <td>SICOIN</td>\n",
       "      <td>2012</td>\n",
       "    </tr>\n",
       "  </tbody>\n",
       "</table>\n",
       "</div>"
      ],
      "text/plain": [
       "          loc_id    budget  disbursement source start_date  period  \\\n",
       "0          COBAN  150017.0           0.0     gf   1/1/2012     365   \n",
       "1          MIXCO   46900.0       46900.0     gf   1/1/2012     365   \n",
       "2      AMATITLAN   52715.0       52715.0     gf   1/1/2012     365   \n",
       "3     GUASTATOYA   13024.0       13024.0     gf   1/1/2012     365   \n",
       "4  CHIMALTENANGO  898996.0      898995.0     gf   1/1/2012     365   \n",
       "\n",
       "  cost_category  expenditure  disease grant_number data_source  year  \n",
       "0           All          NaN  malaria  gua_m_mspas      SICOIN  2012  \n",
       "1           All          NaN  malaria  gua_m_mspas      SICOIN  2012  \n",
       "2           All          NaN  malaria  gua_m_mspas      SICOIN  2012  \n",
       "3           All          NaN  malaria  gua_m_mspas      SICOIN  2012  \n",
       "4           All          NaN  malaria  gua_m_mspas      SICOIN  2012  "
      ]
     },
     "execution_count": 70,
     "metadata": {},
     "output_type": "execute_result"
    }
   ],
   "source": [
    "sicd.head()"
   ]
  },
  {
   "cell_type": "code",
   "execution_count": null,
   "metadata": {},
   "outputs": [],
   "source": [
    "temp = sicd[(sicd.data_source==\"SICOIN\") & \n",
    "    (sicd.source.isin([\"ghe\"]))].groupby([\n",
    "            \"year\", \n",
    "            \"disease\"\n",
    "        ])[[\n",
    "            #\"budget\" ,\n",
    "            #\"expenditure\"\n",
    "            \"disbursement\"\n",
    "        ]].sum().divide(1000000).unstack(1)\n",
    "temp.columns = [\"HIV\", \"Malaria\", \"TB\"]\n",
    "ax = plt.subplot(1,1,1)\n",
    "temp.plot(ax = ax)\n",
    "ax.set_xticks(range(len(temp)))\n",
    "ax.set_xticklabels(temp.index, rotation=90)\n",
    "plt.grid()\n",
    "ax.set_xlabel(\"Year\")\n",
    "\n",
    "#ax.set_ylabel(\"Disbursement (Millions of $)\")\n",
    "temp"
   ]
  },
  {
   "cell_type": "code",
   "execution_count": null,
   "metadata": {},
   "outputs": [],
   "source": []
  }
 ],
 "metadata": {
  "kernelspec": {
   "display_name": "Python 3",
   "language": "python",
   "name": "python3"
  },
  "language_info": {
   "codemirror_mode": {
    "name": "ipython",
    "version": 3
   },
   "file_extension": ".py",
   "mimetype": "text/x-python",
   "name": "python",
   "nbconvert_exporter": "python",
   "pygments_lexer": "ipython3",
   "version": "3.6.3"
  }
 },
 "nbformat": 4,
 "nbformat_minor": 2
}
