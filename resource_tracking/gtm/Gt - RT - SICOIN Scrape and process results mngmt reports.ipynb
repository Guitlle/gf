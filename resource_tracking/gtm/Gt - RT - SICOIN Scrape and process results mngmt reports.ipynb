{
 "cells": [
  {
   "cell_type": "code",
   "execution_count": 7,
   "metadata": {},
   "outputs": [],
   "source": [
    "from selenium import webdriver\n",
    "import os\n",
    "from SICOIN_scraper import *"
   ]
  },
  {
   "cell_type": "code",
   "execution_count": 5,
   "metadata": {},
   "outputs": [
    {
     "name": "stderr",
     "output_type": "stream",
     "text": [
      "C:\\Anaconda3\\lib\\site-packages\\ipykernel_launcher.py:8: DeprecationWarning: use options instead of chrome_options\n",
      "  \n"
     ]
    }
   ],
   "source": [
    "options = webdriver.ChromeOptions()\n",
    "options.headless = False # True\n",
    "# options.add_argument(\"download.default_directory=\"+os.getcwd())\n",
    "options.add_experimental_option(\"prefs\", {\n",
    "  \"download.default_directory\": os.path.abspath(\"../../../Resource Tracking/SICOIN Scraped\"),\n",
    "  \"download.prompt_for_download\": False,\n",
    "})\n",
    "driver = webdriver.Chrome(chrome_options=options)\n",
    "driver.get('https://sicoin.minfin.gob.gt')"
   ]
  },
  {
   "cell_type": "code",
   "execution_count": 8,
   "metadata": {},
   "outputs": [],
   "source": [
    "login(driver)\n",
    "#driver.close()"
   ]
  },
  {
   "cell_type": "code",
   "execution_count": 70,
   "metadata": {},
   "outputs": [],
   "source": [
    "# IGRC01 - Ejecución Financiera\n",
    "# TB\n",
    "for year in range(2012, 2019):\n",
    "    setYear(driver, year)\n",
    "    reportTypeA(driver,\n",
    "        clicks_sequence = [\"itemTextLink99\", \"itemTextLink100\"], \n",
    "        filters = [{\n",
    "                \"variable\": \"ENTIDAD\",\n",
    "                \"operador\": \"igual\",\n",
    "                \"valor\"   : \"11130009\"\n",
    "            },\n",
    "            {\n",
    "                \"variable\": \"PROGRAMA\",\n",
    "                \"operador\": \"igual\",\n",
    "                \"valor\"   : \"17\"\n",
    "            }\n",
    "        ])\n",
    "    # The frames get all messed up, so we simply refresh the ugly webpage\n",
    "    driver.refresh"
   ]
  },
  {
   "cell_type": "code",
   "execution_count": null,
   "metadata": {},
   "outputs": [],
   "source": [
    "# IGRC03 - Comparacion de Ejecucion Financiera y Fisica\n",
    "# TB\n",
    "for year in range(2012, 2019):\n",
    "    setYear(driver, year)\n",
    "    reportTypeA(driver,\n",
    "        clicks_sequence = [\"itemTextLink99\", \"itemTextLink102\"], \n",
    "        filters = [{\n",
    "                \"variable\": \"ENTIDAD\",\n",
    "                \"operador\": \"igual\",\n",
    "                \"valor\"   : \"11130009\"\n",
    "            },\n",
    "            {\n",
    "                \"variable\": \"PROGRAMA\",\n",
    "                \"operador\": \"igual\",\n",
    "                \"valor\"   : \"17\"\n",
    "            }\n",
    "        ])\n",
    "    # The frames get all messed up, so we simply refresh the ugly webpage\n",
    "    driver.refresh()"
   ]
  },
  {
   "cell_type": "code",
   "execution_count": 69,
   "metadata": {},
   "outputs": [],
   "source": [
    "# IGRC02 - Ejecución Física\n",
    "# TB\n",
    "for year in range(2012, 2019):\n",
    "    setYear(driver, year)\n",
    "    reportTypeA(driver,\n",
    "        clicks_sequence = [\"itemTextLink99\", \"itemTextLink101\"], \n",
    "        filters = [{\n",
    "                \"variable\": \"ENTIDAD\",\n",
    "                \"operador\": \"igual\",\n",
    "                \"valor\"   : \"11130009\"\n",
    "            },\n",
    "            {\n",
    "                \"variable\": \"PROGRAMA\",\n",
    "                \"operador\": \"igual\",\n",
    "                \"valor\"   : \"17\"\n",
    "            }\n",
    "        ])\n",
    "    # The frames get all messed up, so we simply refresh the ugly webpage\n",
    "    driver.refresh()"
   ]
  },
  {
   "cell_type": "code",
   "execution_count": 71,
   "metadata": {},
   "outputs": [],
   "source": [
    "# IGRC00, IGRC01, IGRC02\n",
    "# Malaria\n",
    "for year in range(2013, 2019):\n",
    "    setYear(driver, year)\n",
    "    reportTypeA(driver,\n",
    "        clicks_sequence = [\"itemTextLink99\", \"itemTextLink100\"], \n",
    "        filters = [{\n",
    "                \"variable\": \"ENTIDAD\",\n",
    "                \"operador\": \"igual\",\n",
    "                \"valor\"   : \"11130009\"\n",
    "            },\n",
    "            {\n",
    "                \"variable\": \"PROGRAMA\",\n",
    "                \"operador\": \"igual\",\n",
    "                \"valor\"   : \"18\"\n",
    "            }\n",
    "        ])\n",
    "    reportTypeA(driver,\n",
    "        clicks_sequence = [\"itemTextLink99\", \"itemTextLink101\"], \n",
    "        filters = [{\n",
    "                \"variable\": \"ENTIDAD\",\n",
    "                \"operador\": \"igual\",\n",
    "                \"valor\"   : \"11130009\"\n",
    "            },\n",
    "            {\n",
    "                \"variable\": \"PROGRAMA\",\n",
    "                \"operador\": \"igual\",\n",
    "                \"valor\"   : \"18\"\n",
    "            }\n",
    "        ])\n",
    "    reportTypeA(driver,\n",
    "        clicks_sequence = [\"itemTextLink99\", \"itemTextLink102\"], \n",
    "        filters = [{\n",
    "                \"variable\": \"ENTIDAD\",\n",
    "                \"operador\": \"igual\",\n",
    "                \"valor\"   : \"11130009\"\n",
    "            },\n",
    "            {\n",
    "                \"variable\": \"PROGRAMA\",\n",
    "                \"operador\": \"igual\",\n",
    "                \"valor\"   : \"18\"\n",
    "            }\n",
    "        ])\n",
    "    # The frames get all messed up, so we simply refresh the ugly webpage\n",
    "    driver.refresh()"
   ]
  },
  {
   "cell_type": "code",
   "execution_count": null,
   "metadata": {},
   "outputs": [],
   "source": [
    "# IGRC00, IGRC01, IGRC02\n",
    "# HIV\n",
    "for year in range(2013, 2019):\n",
    "    setYear(driver, year)\n",
    "    reportTypeA(driver,\n",
    "        clicks_sequence = [\"itemTextLink99\", \"itemTextLink100\"], \n",
    "        filters = [{\n",
    "                \"variable\": \"ENTIDAD\",\n",
    "                \"operador\": \"igual\",\n",
    "                \"valor\"   : \"11130009\"\n",
    "            },\n",
    "            {\n",
    "                \"variable\": \"PROGRAMA\",\n",
    "                \"operador\": \"igual\",\n",
    "                \"valor\"   : \"16\"\n",
    "            }\n",
    "        ])\n",
    "    reportTypeA(driver,\n",
    "        clicks_sequence = [\"itemTextLink99\", \"itemTextLink101\"], \n",
    "        filters = [{\n",
    "                \"variable\": \"ENTIDAD\",\n",
    "                \"operador\": \"igual\",\n",
    "                \"valor\"   : \"11130009\"\n",
    "            },\n",
    "            {\n",
    "                \"variable\": \"PROGRAMA\",\n",
    "                \"operador\": \"igual\",\n",
    "                \"valor\"   : \"16\"\n",
    "            }\n",
    "        ])\n",
    "    reportTypeA(driver,\n",
    "        clicks_sequence = [\"itemTextLink99\", \"itemTextLink102\"], \n",
    "        filters = [{\n",
    "                \"variable\": \"ENTIDAD\",\n",
    "                \"operador\": \"igual\",\n",
    "                \"valor\"   : \"11130009\"\n",
    "            },\n",
    "            {\n",
    "                \"variable\": \"PROGRAMA\",\n",
    "                \"operador\": \"igual\",\n",
    "                \"valor\"   : \"16\"\n",
    "            }\n",
    "        ])\n",
    "    # The frames get all messed up, so we simply refresh the ugly webpage\n",
    "    driver.refresh()"
   ]
  },
  {
   "cell_type": "code",
   "execution_count": null,
   "metadata": {},
   "outputs": [],
   "source": []
  }
 ],
 "metadata": {
  "kernelspec": {
   "display_name": "Python 3",
   "language": "python",
   "name": "python3"
  },
  "language_info": {
   "codemirror_mode": {
    "name": "ipython",
    "version": 3
   },
   "file_extension": ".py",
   "mimetype": "text/x-python",
   "name": "python",
   "nbconvert_exporter": "python",
   "pygments_lexer": "ipython3",
   "version": "3.5.1"
  }
 },
 "nbformat": 4,
 "nbformat_minor": 2
}
