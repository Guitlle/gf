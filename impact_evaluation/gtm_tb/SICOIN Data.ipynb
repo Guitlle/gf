{
 "cells": [
  {
   "cell_type": "code",
   "execution_count": 1,
   "metadata": {},
   "outputs": [],
   "source": [
    "import re\n",
    "import pandas as pd\n",
    "import matplotlib as mlp\n",
    "from matplotlib import pyplot as plt"
   ]
  },
  {
   "cell_type": "code",
   "execution_count": null,
   "metadata": {},
   "outputs": [],
   "source": []
  },
  {
   "cell_type": "code",
   "execution_count": 6,
   "metadata": {},
   "outputs": [],
   "source": [
    "sicoinData = pd.read_csv(\"../../../Resource Tracking/SICOIN GT/IGRC02_PCE_Ejecucion_Fisica.csv\", index_col=0)"
   ]
  },
  {
   "cell_type": "code",
   "execution_count": 4,
   "metadata": {},
   "outputs": [
    {
     "data": {
      "text/plain": [
       "(37736, 17)"
      ]
     },
     "execution_count": 4,
     "metadata": {},
     "output_type": "execute_result"
    }
   ],
   "source": [
    "sicoinData.shape"
   ]
  },
  {
   "cell_type": "code",
   "execution_count": 7,
   "metadata": {},
   "outputs": [
    {
     "data": {
      "text/plain": [
       "Index(['Programa', 'Subprograma', 'Proyecto', 'ActOb', 'Resultado', 'LugarCod',\n",
       "       'LocationNombre', 'Unidades', 'Inicial', 'Vigente', 'LugarEjecutado',\n",
       "       'Ejecutado', 'PorcEj', 'NBeneficiados', 'Year', 'Reporte_Programa'],\n",
       "      dtype='object')"
      ]
     },
     "execution_count": 7,
     "metadata": {},
     "output_type": "execute_result"
    }
   ],
   "source": [
    "sicoinData.columns"
   ]
  },
  {
   "cell_type": "code",
   "execution_count": 8,
   "metadata": {},
   "outputs": [
    {
     "data": {
      "text/html": [
       "<div>\n",
       "<style scoped>\n",
       "    .dataframe tbody tr th:only-of-type {\n",
       "        vertical-align: middle;\n",
       "    }\n",
       "\n",
       "    .dataframe tbody tr th {\n",
       "        vertical-align: top;\n",
       "    }\n",
       "\n",
       "    .dataframe thead th {\n",
       "        text-align: right;\n",
       "    }\n",
       "</style>\n",
       "<table border=\"1\" class=\"dataframe\">\n",
       "  <thead>\n",
       "    <tr style=\"text-align: right;\">\n",
       "      <th></th>\n",
       "      <th>Programa</th>\n",
       "      <th>Subprograma</th>\n",
       "      <th>Proyecto</th>\n",
       "      <th>ActOb</th>\n",
       "      <th>Resultado</th>\n",
       "      <th>LugarCod</th>\n",
       "      <th>LocationNombre</th>\n",
       "      <th>Unidades</th>\n",
       "      <th>Inicial</th>\n",
       "      <th>Vigente</th>\n",
       "      <th>LugarEjecutado</th>\n",
       "      <th>Ejecutado</th>\n",
       "      <th>PorcEj</th>\n",
       "      <th>NBeneficiados</th>\n",
       "      <th>Year</th>\n",
       "      <th>Reporte_Programa</th>\n",
       "    </tr>\n",
       "  </thead>\n",
       "  <tbody>\n",
       "    <tr>\n",
       "      <th>0</th>\n",
       "      <td>16-PREVENCIÓN Y CONTROL DE ITS, VIH/SIDA</td>\n",
       "      <td>00-SIN SUBPROGRAMA</td>\n",
       "      <td>000-SIN PROYECTO</td>\n",
       "      <td>001-000-PERSONA ATENDIDA PARA LA PREVENCIÓN DE...</td>\n",
       "      <td>1.0-Persona atendida para la prevención de ITS...</td>\n",
       "      <td>NaN</td>\n",
       "      <td>Persona atendida para la prevención de ITS, VI...</td>\n",
       "      <td>Persona</td>\n",
       "      <td>1553045.0</td>\n",
       "      <td>1197955.0</td>\n",
       "      <td>NaN</td>\n",
       "      <td>986284.0</td>\n",
       "      <td>82.33</td>\n",
       "      <td>0.0</td>\n",
       "      <td>2017</td>\n",
       "      <td>ENTIDAD = 11130009, PROGRAMA = 16</td>\n",
       "    </tr>\n",
       "    <tr>\n",
       "      <th>1</th>\n",
       "      <td>16-PREVENCIÓN Y CONTROL DE ITS, VIH/SIDA</td>\n",
       "      <td>00-SIN SUBPROGRAMA</td>\n",
       "      <td>000-SIN PROYECTO</td>\n",
       "      <td>001-000-PERSONA ATENDIDA PARA LA PREVENCIÓN DE...</td>\n",
       "      <td>1.0-Persona atendida para la prevención de ITS...</td>\n",
       "      <td>0101</td>\n",
       "      <td>GUATEMALA, GUATEMALA</td>\n",
       "      <td>Persona</td>\n",
       "      <td>NaN</td>\n",
       "      <td>NaN</td>\n",
       "      <td>40371.0</td>\n",
       "      <td>NaN</td>\n",
       "      <td>NaN</td>\n",
       "      <td>NaN</td>\n",
       "      <td>2017</td>\n",
       "      <td>ENTIDAD = 11130009, PROGRAMA = 16</td>\n",
       "    </tr>\n",
       "    <tr>\n",
       "      <th>2</th>\n",
       "      <td>16-PREVENCIÓN Y CONTROL DE ITS, VIH/SIDA</td>\n",
       "      <td>00-SIN SUBPROGRAMA</td>\n",
       "      <td>000-SIN PROYECTO</td>\n",
       "      <td>001-000-PERSONA ATENDIDA PARA LA PREVENCIÓN DE...</td>\n",
       "      <td>1.0-Persona atendida para la prevención de ITS...</td>\n",
       "      <td>0101</td>\n",
       "      <td>GUATEMALA, GUATEMALA</td>\n",
       "      <td>Persona</td>\n",
       "      <td>NaN</td>\n",
       "      <td>NaN</td>\n",
       "      <td>14.0</td>\n",
       "      <td>NaN</td>\n",
       "      <td>NaN</td>\n",
       "      <td>NaN</td>\n",
       "      <td>2017</td>\n",
       "      <td>ENTIDAD = 11130009, PROGRAMA = 16</td>\n",
       "    </tr>\n",
       "    <tr>\n",
       "      <th>3</th>\n",
       "      <td>16-PREVENCIÓN Y CONTROL DE ITS, VIH/SIDA</td>\n",
       "      <td>00-SIN SUBPROGRAMA</td>\n",
       "      <td>000-SIN PROYECTO</td>\n",
       "      <td>001-000-PERSONA ATENDIDA PARA LA PREVENCIÓN DE...</td>\n",
       "      <td>1.0-Persona atendida para la prevención de ITS...</td>\n",
       "      <td>0101</td>\n",
       "      <td>GUATEMALA, GUATEMALA</td>\n",
       "      <td>Persona</td>\n",
       "      <td>NaN</td>\n",
       "      <td>NaN</td>\n",
       "      <td>21356.0</td>\n",
       "      <td>NaN</td>\n",
       "      <td>NaN</td>\n",
       "      <td>NaN</td>\n",
       "      <td>2017</td>\n",
       "      <td>ENTIDAD = 11130009, PROGRAMA = 16</td>\n",
       "    </tr>\n",
       "    <tr>\n",
       "      <th>4</th>\n",
       "      <td>16-PREVENCIÓN Y CONTROL DE ITS, VIH/SIDA</td>\n",
       "      <td>00-SIN SUBPROGRAMA</td>\n",
       "      <td>000-SIN PROYECTO</td>\n",
       "      <td>001-000-PERSONA ATENDIDA PARA LA PREVENCIÓN DE...</td>\n",
       "      <td>1.0-Persona atendida para la prevención de ITS...</td>\n",
       "      <td>0102</td>\n",
       "      <td>GUATEMALA, SANTA CATARINA PINULA</td>\n",
       "      <td>Persona</td>\n",
       "      <td>NaN</td>\n",
       "      <td>NaN</td>\n",
       "      <td>220.0</td>\n",
       "      <td>NaN</td>\n",
       "      <td>NaN</td>\n",
       "      <td>NaN</td>\n",
       "      <td>2017</td>\n",
       "      <td>ENTIDAD = 11130009, PROGRAMA = 16</td>\n",
       "    </tr>\n",
       "  </tbody>\n",
       "</table>\n",
       "</div>"
      ],
      "text/plain": [
       "                                   Programa         Subprograma  \\\n",
       "0  16-PREVENCIÓN Y CONTROL DE ITS, VIH/SIDA  00-SIN SUBPROGRAMA   \n",
       "1  16-PREVENCIÓN Y CONTROL DE ITS, VIH/SIDA  00-SIN SUBPROGRAMA   \n",
       "2  16-PREVENCIÓN Y CONTROL DE ITS, VIH/SIDA  00-SIN SUBPROGRAMA   \n",
       "3  16-PREVENCIÓN Y CONTROL DE ITS, VIH/SIDA  00-SIN SUBPROGRAMA   \n",
       "4  16-PREVENCIÓN Y CONTROL DE ITS, VIH/SIDA  00-SIN SUBPROGRAMA   \n",
       "\n",
       "           Proyecto                                              ActOb  \\\n",
       "0  000-SIN PROYECTO  001-000-PERSONA ATENDIDA PARA LA PREVENCIÓN DE...   \n",
       "1  000-SIN PROYECTO  001-000-PERSONA ATENDIDA PARA LA PREVENCIÓN DE...   \n",
       "2  000-SIN PROYECTO  001-000-PERSONA ATENDIDA PARA LA PREVENCIÓN DE...   \n",
       "3  000-SIN PROYECTO  001-000-PERSONA ATENDIDA PARA LA PREVENCIÓN DE...   \n",
       "4  000-SIN PROYECTO  001-000-PERSONA ATENDIDA PARA LA PREVENCIÓN DE...   \n",
       "\n",
       "                                           Resultado LugarCod  \\\n",
       "0  1.0-Persona atendida para la prevención de ITS...      NaN   \n",
       "1  1.0-Persona atendida para la prevención de ITS...     0101   \n",
       "2  1.0-Persona atendida para la prevención de ITS...     0101   \n",
       "3  1.0-Persona atendida para la prevención de ITS...     0101   \n",
       "4  1.0-Persona atendida para la prevención de ITS...     0102   \n",
       "\n",
       "                                      LocationNombre Unidades    Inicial  \\\n",
       "0  Persona atendida para la prevención de ITS, VI...  Persona  1553045.0   \n",
       "1                               GUATEMALA, GUATEMALA  Persona        NaN   \n",
       "2                               GUATEMALA, GUATEMALA  Persona        NaN   \n",
       "3                               GUATEMALA, GUATEMALA  Persona        NaN   \n",
       "4                   GUATEMALA, SANTA CATARINA PINULA  Persona        NaN   \n",
       "\n",
       "     Vigente  LugarEjecutado  Ejecutado  PorcEj  NBeneficiados  Year  \\\n",
       "0  1197955.0             NaN   986284.0   82.33            0.0  2017   \n",
       "1        NaN         40371.0        NaN     NaN            NaN  2017   \n",
       "2        NaN            14.0        NaN     NaN            NaN  2017   \n",
       "3        NaN         21356.0        NaN     NaN            NaN  2017   \n",
       "4        NaN           220.0        NaN     NaN            NaN  2017   \n",
       "\n",
       "                    Reporte_Programa  \n",
       "0  ENTIDAD = 11130009, PROGRAMA = 16  \n",
       "1  ENTIDAD = 11130009, PROGRAMA = 16  \n",
       "2  ENTIDAD = 11130009, PROGRAMA = 16  \n",
       "3  ENTIDAD = 11130009, PROGRAMA = 16  \n",
       "4  ENTIDAD = 11130009, PROGRAMA = 16  "
      ]
     },
     "execution_count": 8,
     "metadata": {},
     "output_type": "execute_result"
    }
   ],
   "source": [
    "sicoinData.head()"
   ]
  },
  {
   "cell_type": "code",
   "execution_count": 9,
   "metadata": {},
   "outputs": [
    {
     "data": {
      "text/plain": [
       "16-PREVENCIÓN Y CONTROL DE ITS, VIH/SIDA                                11547\n",
       "18-PREVENCIÓN Y CONTROL DE LAS ENFERMEDADES VECTORIALES Y ZOONÓTICAS     9664\n",
       "17-PREVENCIÓN Y CONTROL DE LA TUBERCULOSIS                               9036\n",
       "18-PREVENCIÓN Y CONTROL DE LAS ENFERMEDADES VECTORIALES                  7489\n",
       "Name: Programa, dtype: int64"
      ]
     },
     "execution_count": 9,
     "metadata": {},
     "output_type": "execute_result"
    }
   ],
   "source": [
    "sicoinData.Programa.value_counts()"
   ]
  },
  {
   "cell_type": "code",
   "execution_count": 10,
   "metadata": {},
   "outputs": [],
   "source": [
    "sicoinData = sicoinData[sicoinData.Programa == \"17-PREVENCIÓN Y CONTROL DE LA TUBERCULOSIS\"]"
   ]
  },
  {
   "cell_type": "code",
   "execution_count": 12,
   "metadata": {},
   "outputs": [
    {
     "data": {
      "text/plain": [
       "array(['1.0-Persona informada sobre la prevención de la tuberculosis',\n",
       "       '2.0-Persona informada sobre la prevención y tratamiento de la tuberculosis y otras micobacteriosis',\n",
       "       '3.0-Persona mayor de 10 años con 3 muestras de baciloscopía para diagnóstico de tuberculosis',\n",
       "       '4.0-Apoyo a la gestión administrativa en la prevención y control de la Tuberculosis',\n",
       "       '1.0-Persona con diagnóstico de la tuberculosis que recibe tratamiento',\n",
       "       '3.0-Niño menor de 10 años con diagnóstico de tuberculosis en tratamiento acortado estrictamente supervisado',\n",
       "       '5.0-Persona mayor de 10 años con diagnóstico de tuberculosis en tratamiento acortado estrictamente supervisado',\n",
       "       '6.0-Niño menor de 10 años que recibe tratamiento de quimioprofilaxis',\n",
       "       '7.0-Persona con diagnóstico de tuberculosis con prueba diagnóstica de VIH',\n",
       "       '8.0-Persona con diagnóstico de tuberculosis en condición de egreso curado',\n",
       "       '9.0-Persona con diagnóstico de fracasos al tratamiento de tuberculosis con prueba diagnóstica a TB-MDR (tuberculosis multidrogo resistente)',\n",
       "       '10.0-Persona con diagnóstico de tuberculosis multidrogo resistente (resistente isoniacida/rifampicina) en tratamiento',\n",
       "       '3.0-Persona mayor de 15 años con 3 muestras de baciloscopía para diagnóstico de tuberculosis',\n",
       "       '3.0-Persona menor de 15 años con diagnóstico de tuberculosis en tratamiento acortado estrictamente supervisado',\n",
       "       '5.0-Persona mayor de 15 años con diagnóstico de tuberculosis en tratamiento acortado estrictamente supervisado',\n",
       "       '6.0-Persona menor de 15 años que recibe tratamiento de quimioprofilaxis',\n",
       "       '12.0-Apoyo en la gestión administrativa en la prevención y control de la tuberculosis',\n",
       "       '1.0-Prevencion de la Tuberculosis',\n",
       "       '2.0-Población que recibe mensajes de información sobre Tuberculosis y otras micobacteriosis',\n",
       "       '3.0-Busqueda activa de casos y contactos',\n",
       "       '4.0-Apoyo a la Gestión Administrativa en la Prevención y Control de la Tuberculosis',\n",
       "       '1.0-DIAGNOSTICO Y TRATAMIENTO DE LA TUBERCULOSIS',\n",
       "       '2.0-Niños menores de 10 años con diagnóstico de la Tuberculosis',\n",
       "       '3.0-Niños menores de 10 años con  diagnóstico de Tuberculosis en tratamiento acortado estrictamente supervisado.',\n",
       "       '4.0-Personas mayores de 10 años sospechosos con tres (3) pruebas diagnosticas.',\n",
       "       '5.0-Pacientes mayores de 10 años con diagnostico de Tuberculosis en tratamiento acortado estrictamente supervisado.',\n",
       "       '6.0-Tratamiento de quimioprofilaxis a contactos menores de 10 años',\n",
       "       '7.0-Casos de Tuberculosis con prueba diagnóstica de VIH',\n",
       "       '8.0-Casos de Tuberculosis en condición de egreso curado',\n",
       "       '9.0-Casos de fracasos a tratamiento de Tuberculosis con prueba diagnóstica a TB-MDR',\n",
       "       '10.0-Casos de Tuberculosis MDR (resistente INH/Rifanpicina) en tratamiento.',\n",
       "       '4.0-Logística para adquisición de medicamentos para la prevención y control de la tuberculosis',\n",
       "       '3.0-Niño menor de 15 años con diagnóstico de tuberculosis en tratamiento acortado estrictamente supervisado'],\n",
       "      dtype=object)"
      ]
     },
     "execution_count": 12,
     "metadata": {},
     "output_type": "execute_result"
    }
   ],
   "source": [
    "sicoinData.Resultado.unique()"
   ]
  },
  {
   "cell_type": "code",
   "execution_count": null,
   "metadata": {},
   "outputs": [],
   "source": []
  }
 ],
 "metadata": {
  "kernelspec": {
   "display_name": "Python 3",
   "language": "python",
   "name": "python3"
  },
  "language_info": {
   "codemirror_mode": {
    "name": "ipython",
    "version": 3
   },
   "file_extension": ".py",
   "mimetype": "text/x-python",
   "name": "python",
   "nbconvert_exporter": "python",
   "pygments_lexer": "ipython3",
   "version": "3.5.1"
  }
 },
 "nbformat": 4,
 "nbformat_minor": 2
}
