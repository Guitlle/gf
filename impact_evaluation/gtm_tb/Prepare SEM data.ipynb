{
 "cells": [
  {
   "cell_type": "code",
   "execution_count": 1,
   "metadata": {},
   "outputs": [],
   "source": [
    "import pandas as pd\n",
    "import numpy as np"
   ]
  },
  {
   "cell_type": "code",
   "execution_count": 10,
   "metadata": {},
   "outputs": [
    {
     "name": "stderr",
     "output_type": "stream",
     "text": [
      "/usr/local/lib/python3.6/dist-packages/IPython/core/interactiveshell.py:3020: DtypeWarning: Columns (7,8,9,11,20,21,22,23,24,25,26,27,28,29,30,31,32,34,35,37,38,39,40,41,42,43,44,45,46,47,48,49,50,51,52,53,54,55,56,57,58,59,60,61,62,63,64,65,66,68,69,70,72,74,78,79,80,81,83,84,85,87,89,90,91,93,94,98,102) have mixed types. Specify dtype option on import or set low_memory=False.\n",
      "  interactivity=interactivity, compiler=compiler, result=result)\n"
     ]
    }
   ],
   "source": [
    "notifs = pd.read_csv(\"../../../Outcome Measurement Data/TUBERCULOSIS/Notificaciones TB/GTM - TB all notifications 2012-Sep2018.csv\", index_col=0)"
   ]
  },
  {
   "cell_type": "code",
   "execution_count": 26,
   "metadata": {},
   "outputs": [],
   "source": [
    "casesNotif = notifs[notifs.Year<2018].assign(municipality = lambda x: x.COD_MUNI).assign(date=lambda x: x.Year.astype(int))\\\n",
    ".assign(department = lambda x: np.floor(x.COD_MUNI/100) ).groupby([\"date\", \"department\", \"municipality\"]).apply(len)"
   ]
  },
  {
   "cell_type": "code",
   "execution_count": 27,
   "metadata": {},
   "outputs": [],
   "source": [
    "casesNotif = casesNotif.rename(\"Cases Notified_value\")"
   ]
  },
  {
   "cell_type": "code",
   "execution_count": 28,
   "metadata": {},
   "outputs": [],
   "source": [
    "extraM2017 = pd.read_csv(\"../../../Outcome Measurement Data/TUBERCULOSIS/Extramuros2017.csv\", index_col=0)"
   ]
  },
  {
   "cell_type": "code",
   "execution_count": 35,
   "metadata": {},
   "outputs": [
    {
     "data": {
      "text/plain": [
       "date  department  municipality\n",
       "2017  1           101             12.0\n",
       "                  108              9.0\n",
       "                  109              1.0\n",
       "                  110              1.0\n",
       "                  112              1.0\n",
       "                  114              1.0\n",
       "                  115              9.0\n",
       "      5           501              4.0\n",
       "                  502             23.0\n",
       "                  505              2.0\n",
       "                  506              8.0\n",
       "                  509              4.0\n",
       "      9           920             10.0\n",
       "      10          1001             5.0\n",
       "                  1007             1.0\n",
       "                  1010             6.0\n",
       "                  1013             3.0\n",
       "      11          1101             8.0\n",
       "                  1106             2.0\n",
       "                  1109             5.0\n",
       "      12          1213             1.0\n",
       "                  1215             4.0\n",
       "                  1217             3.0\n",
       "                  1222             2.0\n",
       "      18          1801             4.0\n",
       "                  1803             1.0\n",
       "      19          1901             5.0\n",
       "                  1904             1.0\n",
       "Name: bacteriologicos.extramuros, dtype: float64"
      ]
     },
     "execution_count": 35,
     "metadata": {},
     "output_type": "execute_result"
    }
   ],
   "source": [
    "extraM2017[extraM2017.Year.notna()].assign(municipality = lambda x: x.MuniCode.astype(int)).assign(date = lambda x: x.Year.astype(int)).\\\n",
    "assign(department = lambda x: x.DeptoCode.astype(int)).groupby([\"date\", \"department\", \"municipality\"])[\"bacteriologicos.extramuros\"].sum()"
   ]
  },
  {
   "cell_type": "code",
   "execution_count": null,
   "metadata": {},
   "outputs": [],
   "source": []
  }
 ],
 "metadata": {
  "kernelspec": {
   "display_name": "Python 3",
   "language": "python",
   "name": "python3"
  },
  "language_info": {
   "codemirror_mode": {
    "name": "ipython",
    "version": 3
   },
   "file_extension": ".py",
   "mimetype": "text/x-python",
   "name": "python",
   "nbconvert_exporter": "python",
   "pygments_lexer": "ipython3",
   "version": "3.6.7"
  }
 },
 "nbformat": 4,
 "nbformat_minor": 2
}
