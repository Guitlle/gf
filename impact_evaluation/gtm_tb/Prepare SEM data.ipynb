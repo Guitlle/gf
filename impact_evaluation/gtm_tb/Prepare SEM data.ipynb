{
 "cells": [
  {
   "cell_type": "code",
   "execution_count": 1,
   "metadata": {},
   "outputs": [],
   "source": [
    "import pandas as pd\n",
    "import numpy as np"
   ]
  },
  {
   "cell_type": "markdown",
   "metadata": {},
   "source": [
    "# Outputs\n"
   ]
  },
  {
   "cell_type": "code",
   "execution_count": 10,
   "metadata": {},
   "outputs": [
    {
     "name": "stderr",
     "output_type": "stream",
     "text": [
      "/usr/local/lib/python3.6/dist-packages/IPython/core/interactiveshell.py:3020: DtypeWarning: Columns (7,8,9,11,20,21,22,23,24,25,26,27,28,29,30,31,32,34,35,37,38,39,40,41,42,43,44,45,46,47,48,49,50,51,52,53,54,55,56,57,58,59,60,61,62,63,64,65,66,68,69,70,72,74,78,79,80,81,83,84,85,87,89,90,91,93,94,98,102) have mixed types. Specify dtype option on import or set low_memory=False.\n",
      "  interactivity=interactivity, compiler=compiler, result=result)\n"
     ]
    }
   ],
   "source": [
    "notifs = pd.read_csv(\"../../../Outcome Measurement Data/TUBERCULOSIS/Notificaciones TB/GTM - TB all notifications 2012-Sep2018.csv\", index_col=0)"
   ]
  },
  {
   "cell_type": "code",
   "execution_count": 26,
   "metadata": {},
   "outputs": [],
   "source": [
    "casesNotif = notifs[notifs.Year<2018].assign(municipality = lambda x: x.COD_MUNI).assign(date=lambda x: x.Year.astype(int))\\\n",
    ".assign(department = lambda x: np.floor(x.COD_MUNI/100) ).groupby([\"date\", \"department\", \"municipality\"]).apply(len)"
   ]
  },
  {
   "cell_type": "code",
   "execution_count": 64,
   "metadata": {},
   "outputs": [],
   "source": [
    "casesNotif = casesNotif[casesNotif.index.get_level_values(1)!=0].rename(\"Cases Notified_value\")"
   ]
  },
  {
   "cell_type": "code",
   "execution_count": 28,
   "metadata": {},
   "outputs": [],
   "source": [
    "extraM2017 = pd.read_csv(\"../../../Outcome Measurement Data/TUBERCULOSIS/Extramuros2017.csv\", index_col=0)"
   ]
  },
  {
   "cell_type": "code",
   "execution_count": 36,
   "metadata": {},
   "outputs": [],
   "source": [
    "acfcases = extraM2017[extraM2017.Year.notna()].assign(municipality = lambda x: x.MuniCode.astype(int)).assign(date = lambda x: x.Year.astype(int)).\\\n",
    "assign(department = lambda x: x.DeptoCode.astype(int)).groupby([\"date\", \"department\", \"municipality\"])[\"bacteriologicos.extramuros\"].sum()\n",
    "acfcases = acfcases.rename(\"Additional Cases Detected via ACF_value\")"
   ]
  },
  {
   "cell_type": "code",
   "execution_count": 41,
   "metadata": {},
   "outputs": [],
   "source": [
    "# pd.concat([acfcases, casesNotif], axis=1)"
   ]
  },
  {
   "cell_type": "code",
   "execution_count": 46,
   "metadata": {},
   "outputs": [],
   "source": [
    "# Cases Started on Treatment_value\n",
    "# MDR Cases Started Treatment_value\n",
    "\n",
    "cohortes = pd.read_csv(\"../../../Outcome Measurement Data/TUBERCULOSIS/COHORTES/GTM - Tx cohort data 2012-2016.csv\")"
   ]
  },
  {
   "cell_type": "code",
   "execution_count": 47,
   "metadata": {},
   "outputs": [
    {
     "data": {
      "text/html": [
       "<div>\n",
       "<style scoped>\n",
       "    .dataframe tbody tr th:only-of-type {\n",
       "        vertical-align: middle;\n",
       "    }\n",
       "\n",
       "    .dataframe tbody tr th {\n",
       "        vertical-align: top;\n",
       "    }\n",
       "\n",
       "    .dataframe thead th {\n",
       "        text-align: right;\n",
       "    }\n",
       "</style>\n",
       "<table border=\"1\" class=\"dataframe\">\n",
       "  <thead>\n",
       "    <tr style=\"text-align: right;\">\n",
       "      <th></th>\n",
       "      <th>Unnamed: 0</th>\n",
       "      <th>col_name</th>\n",
       "      <th>deptocode</th>\n",
       "      <th>row_name</th>\n",
       "      <th>row_name_B</th>\n",
       "      <th>table</th>\n",
       "      <th>value</th>\n",
       "      <th>year</th>\n",
       "    </tr>\n",
       "  </thead>\n",
       "  <tbody>\n",
       "    <tr>\n",
       "      <th>0</th>\n",
       "      <td>0</td>\n",
       "      <td>I TRIMESTRE</td>\n",
       "      <td>0</td>\n",
       "      <td>CURADOS</td>\n",
       "      <td>COMPLETED TREATMENT</td>\n",
       "      <td>Nuevos Pulmonares pediatricos BK+</td>\n",
       "      <td>1.0</td>\n",
       "      <td>2016</td>\n",
       "    </tr>\n",
       "    <tr>\n",
       "      <th>1</th>\n",
       "      <td>1</td>\n",
       "      <td>II TRIMESTRE</td>\n",
       "      <td>0</td>\n",
       "      <td>CURADOS</td>\n",
       "      <td>COMPLETED TREATMENT</td>\n",
       "      <td>Nuevos Pulmonares pediatricos BK+</td>\n",
       "      <td>1.0</td>\n",
       "      <td>2016</td>\n",
       "    </tr>\n",
       "    <tr>\n",
       "      <th>2</th>\n",
       "      <td>2</td>\n",
       "      <td>III TRIMESTRE</td>\n",
       "      <td>0</td>\n",
       "      <td>CURADOS</td>\n",
       "      <td>COMPLETED TREATMENT</td>\n",
       "      <td>Nuevos Pulmonares pediatricos BK+</td>\n",
       "      <td>0.0</td>\n",
       "      <td>2016</td>\n",
       "    </tr>\n",
       "    <tr>\n",
       "      <th>3</th>\n",
       "      <td>3</td>\n",
       "      <td>IV TRIMESTRE</td>\n",
       "      <td>0</td>\n",
       "      <td>CURADOS</td>\n",
       "      <td>COMPLETED TREATMENT</td>\n",
       "      <td>Nuevos Pulmonares pediatricos BK+</td>\n",
       "      <td>1.0</td>\n",
       "      <td>2016</td>\n",
       "    </tr>\n",
       "    <tr>\n",
       "      <th>4</th>\n",
       "      <td>4</td>\n",
       "      <td>TOTAL</td>\n",
       "      <td>0</td>\n",
       "      <td>CURADOS</td>\n",
       "      <td>COMPLETED TREATMENT</td>\n",
       "      <td>Nuevos Pulmonares pediatricos BK+</td>\n",
       "      <td>3.0</td>\n",
       "      <td>2016</td>\n",
       "    </tr>\n",
       "  </tbody>\n",
       "</table>\n",
       "</div>"
      ],
      "text/plain": [
       "   Unnamed: 0       col_name  deptocode row_name           row_name_B  \\\n",
       "0           0    I TRIMESTRE          0  CURADOS  COMPLETED TREATMENT   \n",
       "1           1   II TRIMESTRE          0  CURADOS  COMPLETED TREATMENT   \n",
       "2           2  III TRIMESTRE          0  CURADOS  COMPLETED TREATMENT   \n",
       "3           3   IV TRIMESTRE          0  CURADOS  COMPLETED TREATMENT   \n",
       "4           4          TOTAL          0  CURADOS  COMPLETED TREATMENT   \n",
       "\n",
       "                               table  value  year  \n",
       "0  Nuevos Pulmonares pediatricos BK+    1.0  2016  \n",
       "1  Nuevos Pulmonares pediatricos BK+    1.0  2016  \n",
       "2  Nuevos Pulmonares pediatricos BK+    0.0  2016  \n",
       "3  Nuevos Pulmonares pediatricos BK+    1.0  2016  \n",
       "4  Nuevos Pulmonares pediatricos BK+    3.0  2016  "
      ]
     },
     "execution_count": 47,
     "metadata": {},
     "output_type": "execute_result"
    }
   ],
   "source": [
    "cohortes.head()"
   ]
  },
  {
   "cell_type": "code",
   "execution_count": 49,
   "metadata": {},
   "outputs": [],
   "source": [
    "pivot_cohortes = cohortes[(cohortes.col_name.isin([\"TOTAL\"])) & \n",
    "       (cohortes.table.isin([\"Nuevos Pulmonares BK+\", \"Nuevos Pulmonares BK-\", \"Nuevos Pediatricos\", \n",
    "                          \"Nuevos Extrapulmonares\", \"Nuevos TB/VIH\", \"Retratamiento\"])) &\n",
    "       (cohortes.deptocode!=0)].\\\n",
    "    groupby([\"year\", \"deptocode\", \"row_name_B\"]).value.sum().unstack(2)"
   ]
  },
  {
   "cell_type": "code",
   "execution_count": 50,
   "metadata": {},
   "outputs": [
    {
     "data": {
      "text/html": [
       "<div>\n",
       "<style scoped>\n",
       "    .dataframe tbody tr th:only-of-type {\n",
       "        vertical-align: middle;\n",
       "    }\n",
       "\n",
       "    .dataframe tbody tr th {\n",
       "        vertical-align: top;\n",
       "    }\n",
       "\n",
       "    .dataframe thead th {\n",
       "        text-align: right;\n",
       "    }\n",
       "</style>\n",
       "<table border=\"1\" class=\"dataframe\">\n",
       "  <thead>\n",
       "    <tr style=\"text-align: right;\">\n",
       "      <th></th>\n",
       "      <th>row_name_B</th>\n",
       "      <th>COMPLETED TREATMENT</th>\n",
       "      <th>DEATHS</th>\n",
       "      <th>LOST TO FOLLOW-UP</th>\n",
       "      <th>REFERRED</th>\n",
       "    </tr>\n",
       "    <tr>\n",
       "      <th>year</th>\n",
       "      <th>deptocode</th>\n",
       "      <th></th>\n",
       "      <th></th>\n",
       "      <th></th>\n",
       "      <th></th>\n",
       "    </tr>\n",
       "  </thead>\n",
       "  <tbody>\n",
       "    <tr>\n",
       "      <th rowspan=\"5\" valign=\"top\">2012</th>\n",
       "      <th>1</th>\n",
       "      <td>594.0</td>\n",
       "      <td>28.0</td>\n",
       "      <td>23.0</td>\n",
       "      <td>3.0</td>\n",
       "    </tr>\n",
       "    <tr>\n",
       "      <th>2</th>\n",
       "      <td>21.0</td>\n",
       "      <td>4.0</td>\n",
       "      <td>1.0</td>\n",
       "      <td>0.0</td>\n",
       "    </tr>\n",
       "    <tr>\n",
       "      <th>3</th>\n",
       "      <td>39.0</td>\n",
       "      <td>0.0</td>\n",
       "      <td>0.0</td>\n",
       "      <td>0.0</td>\n",
       "    </tr>\n",
       "    <tr>\n",
       "      <th>4</th>\n",
       "      <td>31.0</td>\n",
       "      <td>4.0</td>\n",
       "      <td>0.0</td>\n",
       "      <td>1.0</td>\n",
       "    </tr>\n",
       "    <tr>\n",
       "      <th>5</th>\n",
       "      <td>508.0</td>\n",
       "      <td>43.0</td>\n",
       "      <td>43.0</td>\n",
       "      <td>9.0</td>\n",
       "    </tr>\n",
       "  </tbody>\n",
       "</table>\n",
       "</div>"
      ],
      "text/plain": [
       "row_name_B      COMPLETED TREATMENT  DEATHS  LOST TO FOLLOW-UP  REFERRED\n",
       "year deptocode                                                          \n",
       "2012 1                        594.0    28.0               23.0       3.0\n",
       "     2                         21.0     4.0                1.0       0.0\n",
       "     3                         39.0     0.0                0.0       0.0\n",
       "     4                         31.0     4.0                0.0       1.0\n",
       "     5                        508.0    43.0               43.0       9.0"
      ]
     },
     "execution_count": 50,
     "metadata": {},
     "output_type": "execute_result"
    }
   ],
   "source": [
    "pivot_cohortes.head()"
   ]
  },
  {
   "cell_type": "code",
   "execution_count": 54,
   "metadata": {},
   "outputs": [],
   "source": [
    "initiatedTx = pivot_cohortes.sum(axis=1)"
   ]
  },
  {
   "cell_type": "code",
   "execution_count": 57,
   "metadata": {},
   "outputs": [],
   "source": [
    "initiatedTx = initiatedTx.rename_axis(index={ \"year\": \"date\", \"deptocode\": \"department\" }).rename(\"Cases Started on Treatment_value1\")"
   ]
  },
  {
   "cell_type": "code",
   "execution_count": 65,
   "metadata": {},
   "outputs": [],
   "source": [
    "initiatedTx = initiatedTx.reindex(casesNotif.index)"
   ]
  },
  {
   "cell_type": "code",
   "execution_count": 71,
   "metadata": {},
   "outputs": [],
   "source": [
    "tbquimio = pd.read_csv(\"../../../Outcome Measurement Data/TUBERCULOSIS/Notificaciones TB/GTM - TB quimio 2012-Sep2018.csv\", \n",
    "                     index_col = 0, low_memory = False)"
   ]
  },
  {
   "cell_type": "code",
   "execution_count": 72,
   "metadata": {},
   "outputs": [
    {
     "data": {
      "text/html": [
       "<div>\n",
       "<style scoped>\n",
       "    .dataframe tbody tr th:only-of-type {\n",
       "        vertical-align: middle;\n",
       "    }\n",
       "\n",
       "    .dataframe tbody tr th {\n",
       "        vertical-align: top;\n",
       "    }\n",
       "\n",
       "    .dataframe thead th {\n",
       "        text-align: right;\n",
       "    }\n",
       "</style>\n",
       "<table border=\"1\" class=\"dataframe\">\n",
       "  <thead>\n",
       "    <tr style=\"text-align: right;\">\n",
       "      <th></th>\n",
       "      <th>NOMBRES</th>\n",
       "      <th>DIRECCION</th>\n",
       "      <th>MUNICIPIO</th>\n",
       "      <th>DEPARTAMENTO</th>\n",
       "      <th>SERVICIODESALUD</th>\n",
       "      <th>SEXO</th>\n",
       "      <th>EDAD</th>\n",
       "      <th>RANGOEDAD</th>\n",
       "      <th>PESOLBS</th>\n",
       "      <th>PESOKG</th>\n",
       "      <th>...</th>\n",
       "      <th>CONTROL7_GX</th>\n",
       "      <th>OBSERVACIONES</th>\n",
       "      <th>PRIORIZACION</th>\n",
       "      <th>PESOLB</th>\n",
       "      <th>NotificationDate</th>\n",
       "      <th>YearMonth_</th>\n",
       "      <th>DEPTO_CORRECTED</th>\n",
       "      <th>i</th>\n",
       "      <th>COD_DEPT</th>\n",
       "      <th>COD_MUNI</th>\n",
       "    </tr>\n",
       "  </thead>\n",
       "  <tbody>\n",
       "    <tr>\n",
       "      <th>1</th>\n",
       "      <td>NaN</td>\n",
       "      <td>NaN</td>\n",
       "      <td>GRANADOS</td>\n",
       "      <td>BAJA VERAPAZ</td>\n",
       "      <td>CS, GRANADOS</td>\n",
       "      <td>f</td>\n",
       "      <td>1.0</td>\n",
       "      <td>000 - 004</td>\n",
       "      <td>13.4</td>\n",
       "      <td>6.0909090909090908</td>\n",
       "      <td>...</td>\n",
       "      <td>NaN</td>\n",
       "      <td>NaN</td>\n",
       "      <td>NaN</td>\n",
       "      <td>NaN</td>\n",
       "      <td>NaN</td>\n",
       "      <td>NaN</td>\n",
       "      <td>BAJA VERAPAZ</td>\n",
       "      <td>165</td>\n",
       "      <td>15</td>\n",
       "      <td>1505</td>\n",
       "    </tr>\n",
       "    <tr>\n",
       "      <th>2</th>\n",
       "      <td>NaN</td>\n",
       "      <td>NaN</td>\n",
       "      <td>SALAMA</td>\n",
       "      <td>BAJA VERAPAZ</td>\n",
       "      <td>PS, LLANO GRANDE</td>\n",
       "      <td>f</td>\n",
       "      <td>8.0</td>\n",
       "      <td>005 - 009</td>\n",
       "      <td>50.8</td>\n",
       "      <td>23.090909090909086</td>\n",
       "      <td>...</td>\n",
       "      <td>NaN</td>\n",
       "      <td>NaN</td>\n",
       "      <td>NaN</td>\n",
       "      <td>NaN</td>\n",
       "      <td>NaN</td>\n",
       "      <td>NaN</td>\n",
       "      <td>BAJA VERAPAZ</td>\n",
       "      <td>167</td>\n",
       "      <td>15</td>\n",
       "      <td>1501</td>\n",
       "    </tr>\n",
       "    <tr>\n",
       "      <th>3</th>\n",
       "      <td>NaN</td>\n",
       "      <td>NaN</td>\n",
       "      <td>SALAMA</td>\n",
       "      <td>BAJA VERAPAZ</td>\n",
       "      <td>PS, LLANO GRANDE</td>\n",
       "      <td>m</td>\n",
       "      <td>5.0</td>\n",
       "      <td>005 - 009</td>\n",
       "      <td>35</td>\n",
       "      <td>15.909090909090908</td>\n",
       "      <td>...</td>\n",
       "      <td>NaN</td>\n",
       "      <td>NaN</td>\n",
       "      <td>NaN</td>\n",
       "      <td>NaN</td>\n",
       "      <td>NaN</td>\n",
       "      <td>NaN</td>\n",
       "      <td>BAJA VERAPAZ</td>\n",
       "      <td>168</td>\n",
       "      <td>15</td>\n",
       "      <td>1501</td>\n",
       "    </tr>\n",
       "    <tr>\n",
       "      <th>4</th>\n",
       "      <td>NaN</td>\n",
       "      <td>NaN</td>\n",
       "      <td>SALAMA</td>\n",
       "      <td>BAJA VERAPAZ</td>\n",
       "      <td>PS, LLANO GRANDE</td>\n",
       "      <td>m</td>\n",
       "      <td>6.0</td>\n",
       "      <td>005 - 009</td>\n",
       "      <td>36</td>\n",
       "      <td>16.363636363636363</td>\n",
       "      <td>...</td>\n",
       "      <td>NaN</td>\n",
       "      <td>NaN</td>\n",
       "      <td>NaN</td>\n",
       "      <td>NaN</td>\n",
       "      <td>NaN</td>\n",
       "      <td>NaN</td>\n",
       "      <td>BAJA VERAPAZ</td>\n",
       "      <td>169</td>\n",
       "      <td>15</td>\n",
       "      <td>1501</td>\n",
       "    </tr>\n",
       "    <tr>\n",
       "      <th>5</th>\n",
       "      <td>NaN</td>\n",
       "      <td>NaN</td>\n",
       "      <td>SALAMA</td>\n",
       "      <td>BAJA VERAPAZ</td>\n",
       "      <td>PS, LLANO GRANDE</td>\n",
       "      <td>m</td>\n",
       "      <td>2.0</td>\n",
       "      <td>000 - 004</td>\n",
       "      <td>24.8</td>\n",
       "      <td>11.272727272727272</td>\n",
       "      <td>...</td>\n",
       "      <td>NaN</td>\n",
       "      <td>NaN</td>\n",
       "      <td>NaN</td>\n",
       "      <td>NaN</td>\n",
       "      <td>NaN</td>\n",
       "      <td>NaN</td>\n",
       "      <td>BAJA VERAPAZ</td>\n",
       "      <td>170</td>\n",
       "      <td>15</td>\n",
       "      <td>1501</td>\n",
       "    </tr>\n",
       "  </tbody>\n",
       "</table>\n",
       "<p>5 rows × 114 columns</p>\n",
       "</div>"
      ],
      "text/plain": [
       "   NOMBRES  DIRECCION MUNICIPIO  DEPARTAMENTO   SERVICIODESALUD SEXO  EDAD  \\\n",
       "1      NaN        NaN  GRANADOS  BAJA VERAPAZ      CS, GRANADOS    f   1.0   \n",
       "2      NaN        NaN    SALAMA  BAJA VERAPAZ  PS, LLANO GRANDE    f   8.0   \n",
       "3      NaN        NaN    SALAMA  BAJA VERAPAZ  PS, LLANO GRANDE    m   5.0   \n",
       "4      NaN        NaN    SALAMA  BAJA VERAPAZ  PS, LLANO GRANDE    m   6.0   \n",
       "5      NaN        NaN    SALAMA  BAJA VERAPAZ  PS, LLANO GRANDE    m   2.0   \n",
       "\n",
       "   RANGOEDAD PESOLBS              PESOKG  ...  CONTROL7_GX OBSERVACIONES  \\\n",
       "1  000 - 004    13.4  6.0909090909090908  ...          NaN           NaN   \n",
       "2  005 - 009    50.8  23.090909090909086  ...          NaN           NaN   \n",
       "3  005 - 009      35  15.909090909090908  ...          NaN           NaN   \n",
       "4  005 - 009      36  16.363636363636363  ...          NaN           NaN   \n",
       "5  000 - 004    24.8  11.272727272727272  ...          NaN           NaN   \n",
       "\n",
       "  PRIORIZACION  PESOLB NotificationDate YearMonth_ DEPTO_CORRECTED    i  \\\n",
       "1          NaN     NaN              NaN        NaN    BAJA VERAPAZ  165   \n",
       "2          NaN     NaN              NaN        NaN    BAJA VERAPAZ  167   \n",
       "3          NaN     NaN              NaN        NaN    BAJA VERAPAZ  168   \n",
       "4          NaN     NaN              NaN        NaN    BAJA VERAPAZ  169   \n",
       "5          NaN     NaN              NaN        NaN    BAJA VERAPAZ  170   \n",
       "\n",
       "   COD_DEPT  COD_MUNI  \n",
       "1        15      1505  \n",
       "2        15      1501  \n",
       "3        15      1501  \n",
       "4        15      1501  \n",
       "5        15      1501  \n",
       "\n",
       "[5 rows x 114 columns]"
      ]
     },
     "execution_count": 72,
     "metadata": {},
     "output_type": "execute_result"
    }
   ],
   "source": [
    "tbquimio.head()"
   ]
  },
  {
   "cell_type": "code",
   "execution_count": 73,
   "metadata": {},
   "outputs": [],
   "source": [
    "tbquimio[\"Year\"] = np.floor(tbquimio.YearMonth/100)"
   ]
  },
  {
   "cell_type": "code",
   "execution_count": 74,
   "metadata": {},
   "outputs": [],
   "source": [
    "plhivipt= tbquimio[tbquimio.VIH==\"Reactive\"].groupby([\"Year\", \"COD_MUNI\"]).apply(len)"
   ]
  },
  {
   "cell_type": "code",
   "execution_count": 76,
   "metadata": {},
   "outputs": [],
   "source": [
    "plhivipt = plhivipt.rename(\"PLHIV started on IPT_value\")"
   ]
  },
  {
   "cell_type": "code",
   "execution_count": 77,
   "metadata": {},
   "outputs": [],
   "source": [
    "childipt= tbquimio[tbquimio.EDAD <= 5].groupby([\"Year\", \"COD_MUNI\"]).apply(len)\n",
    "childipt = childipt.rename(\"Children in Contact with TB Started IPT_value\")"
   ]
  },
  {
   "cell_type": "code",
   "execution_count": 80,
   "metadata": {},
   "outputs": [],
   "source": [
    "# Cases Notified in Prisons_value\n",
    "pplcases = pd.read_csv(\"../../../Outcome Measurement Data/TUBERCULOSIS/Prisoners/PPL-conteos-2014-2017.csv\", index_col=0)"
   ]
  },
  {
   "cell_type": "code",
   "execution_count": 89,
   "metadata": {},
   "outputs": [],
   "source": [
    "pplcases = pplcases.assign(department = lambda x : np.floor(x.municipio/100)).rename(columns=\\\n",
    "{\"n\": \"Cases Notified in Prisons_value\", \"YEAR\": \"date\", \"municipio\": \"municipality\"}).set_index([\"date\", \"department\", \"municipality\"])"
   ]
  },
  {
   "cell_type": "code",
   "execution_count": null,
   "metadata": {},
   "outputs": [],
   "source": []
  }
 ],
 "metadata": {
  "kernelspec": {
   "display_name": "Python 3",
   "language": "python",
   "name": "python3"
  },
  "language_info": {
   "codemirror_mode": {
    "name": "ipython",
    "version": 3
   },
   "file_extension": ".py",
   "mimetype": "text/x-python",
   "name": "python",
   "nbconvert_exporter": "python",
   "pygments_lexer": "ipython3",
   "version": "3.6.7"
  }
 },
 "nbformat": 4,
 "nbformat_minor": 2
}
