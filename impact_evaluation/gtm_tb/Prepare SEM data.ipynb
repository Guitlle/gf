{
 "cells": [
  {
   "cell_type": "code",
   "execution_count": null,
   "metadata": {},
   "outputs": [],
   "source": [
    "import pandas as pd\n",
    "import numpy as np\n",
    "import matplotlib.pyplot as plt\n",
    "import matplotlib as mlp\n",
    "%matplotlib inline"
   ]
  },
  {
   "cell_type": "code",
   "execution_count": null,
   "metadata": {},
   "outputs": [],
   "source": [
    "def tryfun(f):\n",
    "    def wrapper(i):\n",
    "        try:\n",
    "            return f(i)\n",
    "        except:\n",
    "            return np.NaN\n",
    "    return wrapper"
   ]
  },
  {
   "cell_type": "markdown",
   "metadata": {},
   "source": [
    "# Outputs\n"
   ]
  },
  {
   "cell_type": "code",
   "execution_count": null,
   "metadata": {},
   "outputs": [],
   "source": [
    "notifs = pd.read_csv(\"../../../Outcome Measurement Data/TUBERCULOSIS/Notificaciones TB/GTM - TB all notifications 2012-Sep2018.csv\")"
   ]
  },
  {
   "cell_type": "code",
   "execution_count": null,
   "metadata": {},
   "outputs": [],
   "source": [
    "notifs.loc[notifs.COD_MUNI == 1422, \"COD_MUNI\"] = 1420"
   ]
  },
  {
   "cell_type": "code",
   "execution_count": null,
   "metadata": {},
   "outputs": [],
   "source": [
    "notifs[\"Year\"] = np.floor(notifs.YearMonth/100)"
   ]
  },
  {
   "cell_type": "code",
   "execution_count": null,
   "metadata": {},
   "outputs": [],
   "source": [
    "casesNotif = notifs[(notifs.Year<2018) & notifs.COD_MUNI.notna()].assign(municipality = lambda x: x.COD_MUNI).assign(date=lambda x: x.Year.astype(int))\\\n",
    ".assign(department = lambda x: (np.floor(x.COD_MUNI/100)).astype(int) ).groupby([\"date\", \"department\", \"municipality\"]).apply(len)"
   ]
  },
  {
   "cell_type": "code",
   "execution_count": null,
   "metadata": {},
   "outputs": [],
   "source": [
    "casesNotif = casesNotif[casesNotif.index.get_level_values(1)!=0].rename(\"Cases Notified_value_m\").fillna(0)"
   ]
  },
  {
   "cell_type": "code",
   "execution_count": null,
   "metadata": {},
   "outputs": [],
   "source": [
    "extraM2017 = pd.read_csv(\"../../../Outcome Measurement Data/TUBERCULOSIS/Extramuros2017.csv\", index_col=0)"
   ]
  },
  {
   "cell_type": "code",
   "execution_count": null,
   "metadata": {},
   "outputs": [],
   "source": [
    "acfcases = extraM2017[extraM2017.Year.notna()].assign(municipality = lambda x: x.MuniCode.astype(int)).assign(date = lambda x: x.Year.astype(int)).\\\n",
    "assign(department = lambda x: x.DeptoCode.astype(int)).groupby([\"date\", \"department\", \"municipality\"])[\"bacteriologicos.extramuros\"].sum()\n",
    "acfcases = acfcases.rename(\"Additional Cases Detected via ACF_value_m\").fillna(0)"
   ]
  },
  {
   "cell_type": "code",
   "execution_count": null,
   "metadata": {},
   "outputs": [],
   "source": [
    "#acfcases = acfcases.reindex(casesNotif.index)"
   ]
  },
  {
   "cell_type": "code",
   "execution_count": null,
   "metadata": {},
   "outputs": [],
   "source": [
    "# Cases Started on Treatment_value\n",
    "# MDR Cases Started Treatment_value\n",
    "\n",
    "cohortes = pd.read_csv(\"../../../Outcome Measurement Data/TUBERCULOSIS/COHORTES/GTM - Tx cohort data 2012-2016.csv\")"
   ]
  },
  {
   "cell_type": "code",
   "execution_count": null,
   "metadata": {},
   "outputs": [],
   "source": [
    "cohortes.head()"
   ]
  },
  {
   "cell_type": "code",
   "execution_count": null,
   "metadata": {},
   "outputs": [],
   "source": [
    "pivot_cohortes = cohortes[(cohortes.col_name.isin([\"TOTAL\"])) & \n",
    "       (cohortes.table.isin([\"Nuevos Pulmonares BK+\", \"Nuevos Pulmonares BK-\", \"Nuevos Pediatricos\", \n",
    "                          \"Nuevos Extrapulmonares\", \"Nuevos TB/VIH\", \"Retratamiento\"])) &\n",
    "       (cohortes.deptocode!=0)].\\\n",
    "    groupby([\"year\", \"deptocode\", \"row_name_B\"]).value.sum().unstack(2)"
   ]
  },
  {
   "cell_type": "code",
   "execution_count": null,
   "metadata": {},
   "outputs": [],
   "source": [
    "pivot_cohortes.head()"
   ]
  },
  {
   "cell_type": "code",
   "execution_count": null,
   "metadata": {},
   "outputs": [],
   "source": [
    "initiatedTx = pivot_cohortes.sum(axis=1)"
   ]
  },
  {
   "cell_type": "code",
   "execution_count": null,
   "metadata": {},
   "outputs": [],
   "source": []
  },
  {
   "cell_type": "code",
   "execution_count": null,
   "metadata": {},
   "outputs": [],
   "source": [
    "initiatedTx = initiatedTx.rename_axis(index = { \"year\": \"date\", \"deptocode\": \"department\" }).rename(\"Cases Started on Treatment_value_d\")"
   ]
  },
  {
   "cell_type": "code",
   "execution_count": null,
   "metadata": {},
   "outputs": [],
   "source": [
    "initiatedTx2 = initiatedTx.reindex(casesNotif.index).fillna(0)"
   ]
  },
  {
   "cell_type": "code",
   "execution_count": null,
   "metadata": {},
   "outputs": [],
   "source": [
    "# Reindex is not bad in this case??\n",
    "initiatedTx.sum(), initiatedTx2.groupby([initiatedTx2.index.get_level_values(0), initiatedTx2.index.get_level_values(1)]).first().sum()"
   ]
  },
  {
   "cell_type": "code",
   "execution_count": null,
   "metadata": {},
   "outputs": [],
   "source": [
    "tbquimio = pd.read_csv(\"../../../Outcome Measurement Data/TUBERCULOSIS/Notificaciones TB/GTM - TB quimio 2012-Sep2018.csv\",\n",
    "                     index_col = 0, low_memory = False)"
   ]
  },
  {
   "cell_type": "code",
   "execution_count": null,
   "metadata": {},
   "outputs": [],
   "source": [
    "tbquimio.head()"
   ]
  },
  {
   "cell_type": "code",
   "execution_count": null,
   "metadata": {},
   "outputs": [],
   "source": [
    "tbquimio[\"Year\"] = np.floor(tbquimio.YearMonth/100)"
   ]
  },
  {
   "cell_type": "code",
   "execution_count": null,
   "metadata": {},
   "outputs": [],
   "source": [
    "plhivipt= tbquimio[tbquimio.VIH==\"Reactive\"].assign(department = lambda x: np.floor(x.COD_MUNI/100))\\\n",
    ".groupby([\"Year\", \"department\", \"COD_MUNI\"]).apply(len)"
   ]
  },
  {
   "cell_type": "code",
   "execution_count": null,
   "metadata": {},
   "outputs": [],
   "source": [
    "plhivipt = plhivipt.rename(\"PLHIV started on IPT_value_m\").fillna(0)\\\n",
    ".rename_axis(index={\"Year\": \"date\", \"COD_MUNI\": \"municipality\"}) #.reindex(casesNotif.index)"
   ]
  },
  {
   "cell_type": "code",
   "execution_count": null,
   "metadata": {},
   "outputs": [],
   "source": [
    "# This is only contacts in notifications database. I am not sure if its ok."
   ]
  },
  {
   "cell_type": "code",
   "execution_count": null,
   "metadata": {},
   "outputs": [],
   "source": [
    "childipt= tbquimio[(tbquimio.Year<2018) & (tbquimio.EDAD <= 5)].assign(department = lambda x: np.floor(x.COD_MUNI/100))\\\n",
    ".groupby([\"Year\", \"department\", \"COD_MUNI\"]).apply(len).rename(\"Children in Contact with TB Started IPT_value_m\")"
   ]
  },
  {
   "cell_type": "code",
   "execution_count": null,
   "metadata": {},
   "outputs": [],
   "source": [
    "childipt = childipt.rename_axis(index={\"Year\": \"date\", \"COD_MUNI\": \"municipality\"}) #.reindex(casesNotif.index)"
   ]
  },
  {
   "cell_type": "code",
   "execution_count": null,
   "metadata": {},
   "outputs": [],
   "source": [
    "# Cases Notified in Prisons_value\n",
    "pplcases = pd.read_csv(\"../../../Outcome Measurement Data/TUBERCULOSIS/Prisoners/PPL-conteos-2014-2017.csv\", index_col=0)"
   ]
  },
  {
   "cell_type": "code",
   "execution_count": null,
   "metadata": {},
   "outputs": [],
   "source": [
    "pplcases = pplcases.assign(department = lambda x : np.floor(x.municipio/100)).rename(columns=\\\n",
    "{\"n\": \"Cases Notified in Prisons_value\", \"YEAR\": \"date\", \"municipio\": \"municipality\"}).set_index([\"date\", \"department\", \"municipality\"])"
   ]
  },
  {
   "cell_type": "code",
   "execution_count": null,
   "metadata": {},
   "outputs": [],
   "source": [
    "pplcases = pplcases.reindex(casesNotif.index)"
   ]
  },
  {
   "cell_type": "code",
   "execution_count": null,
   "metadata": {},
   "outputs": [],
   "source": [
    "ppldata = pd.read_csv(\"../../../Outcome Measurement Data/TUBERCULOSIS/Prisoners/tb-ppl-2014-2017.csv\")"
   ]
  },
  {
   "cell_type": "code",
   "execution_count": null,
   "metadata": {},
   "outputs": [],
   "source": [
    "ppldata[\"TXDATE\"] = pd.to_datetime(ppldata.TXDATE, errors=\"coerce\")"
   ]
  },
  {
   "cell_type": "code",
   "execution_count": null,
   "metadata": {},
   "outputs": [],
   "source": [
    "# Sólo una persona no recibió tratamiento.\n",
    "ppldata.TXDATE.isna().sum()"
   ]
  },
  {
   "cell_type": "code",
   "execution_count": null,
   "metadata": {},
   "outputs": [],
   "source": [
    "ppltx = ppldata[ppldata.TXDATE.notna()].assign(department = lambda x: np.floor(x.municode/100).astype(int) )\\\n",
    ".assign(date = lambda x: x.TXDATE.map(lambda y: y.year ))\\\n",
    ".groupby([\"date\", \"department\" , \"municode\"]).apply(len)\\\n",
    ".rename_axis(index={\"municode\": \"municipality\"})\\\n",
    ".rename(\"Cases Started on Treatment in Prisons_value_m\")"
   ]
  },
  {
   "cell_type": "code",
   "execution_count": null,
   "metadata": {},
   "outputs": [],
   "source": [
    "ppltx = ppltx[ppltx.index.get_level_values(\"date\")>2012]\n",
    "ppltx"
   ]
  },
  {
   "cell_type": "code",
   "execution_count": null,
   "metadata": {},
   "outputs": [],
   "source": [
    "# Lets see in the cohort data:\n",
    "hivyear_A = cohortes[(cohortes.col_name.isin([\"TOTAL\"])) & \n",
    "       (cohortes.table.isin([\"Nuevos TB/VIH\"])) &\n",
    "       (cohortes.deptocode==0)].groupby(\"year\").value.sum()\n",
    "hivyear_A"
   ]
  },
  {
   "cell_type": "code",
   "execution_count": null,
   "metadata": {},
   "outputs": [],
   "source": [
    "# Now with notifications data:\n",
    "hivyear_B = notifs.groupby([\"YEAR\", \"VIH\"]).apply(len).unstack(1)[\"Reactive\"]\n",
    "hivyear_B"
   ]
  },
  {
   "cell_type": "code",
   "execution_count": null,
   "metadata": {},
   "outputs": [],
   "source": [
    "# HIV counts per year, from cohort and from notifications seems to be worse than in previous years\n",
    "# This may be interpreted as the percentage of HIV cases that received treatment.\n",
    "hivyear_A/hivyear_B"
   ]
  },
  {
   "cell_type": "code",
   "execution_count": null,
   "metadata": {},
   "outputs": [],
   "source": [
    "# The actual data to integrate into the tables:\n",
    "# HIV/TB Cases Notified_value\n",
    "\n",
    "hivcases = notifs[(notifs.VIH == \"Reactive\") & (notifs.Year<2018) & notifs.COD_MUNI.notna()]\\\n",
    ".assign(municipality = lambda x: x.COD_MUNI.astype(int)).assign(date=lambda x: x.Year.astype(int))\\\n",
    ".assign(department = lambda x: (np.floor(x.COD_MUNI/100)).astype(int) ).groupby([\"date\", \"department\", \"municipality\"]).apply(len)\\\n",
    ".rename(\"HIV/TB Cases Notified_value_m\")"
   ]
  },
  {
   "cell_type": "code",
   "execution_count": null,
   "metadata": {},
   "outputs": [],
   "source": [
    "# Now looking at MDR data in notifications:\n",
    "notifs[notifs.DBCATEGORY==\"MDR\"].YEAR.value_counts()"
   ]
  },
  {
   "cell_type": "code",
   "execution_count": null,
   "metadata": {},
   "outputs": [],
   "source": [
    "# There is actually a MDR table with all available cohort data:\n",
    "mdrtb = pd.read_csv(\"../../../Outcome Measurement Data/TUBERCULOSIS/COHORTES/GTM - TB MDR Cohort Data 2014-2016.csv\")"
   ]
  },
  {
   "cell_type": "code",
   "execution_count": null,
   "metadata": {},
   "outputs": [],
   "source": [
    "mdrtb.head()"
   ]
  },
  {
   "cell_type": "code",
   "execution_count": null,
   "metadata": {},
   "outputs": [],
   "source": [
    "mdrtb.Year.value_counts()"
   ]
  },
  {
   "cell_type": "code",
   "execution_count": null,
   "metadata": {},
   "outputs": [],
   "source": [
    "# How many bad tx initiation date values are there?\n",
    "mdrtb.groupby(\"Year\").apply(lambda x: x.TxDate_Year.isna().sum())"
   ]
  },
  {
   "cell_type": "code",
   "execution_count": null,
   "metadata": {},
   "outputs": [],
   "source": [
    "# MDR Cases Notified_value\n",
    "# MDR Cases Started Treatment_value\n",
    "\n",
    "mdrcases = mdrtb[mdrtb.deptocode.notna()].assign(date = lambda x: x.Year+2000).assign(department = lambda x: x.deptocode.astype(int))\\\n",
    "    .groupby([\"date\",\"department\"]).apply(len).rename(\"MDR Cases Notified_value_d\")\n",
    "    \n",
    "mdrtx = mdrtb[mdrtb.deptocode.notna()].assign(date = lambda x: x.TxDate_Year.map(tryfun(int)) ).assign(department = lambda x: x.deptocode.astype(int))\\\n",
    "    .groupby([\"date\",\"department\"]).apply(len).rename(\"MDR Cases Started Treatment_value_d\")\n",
    "\n",
    "mdrtx = mdrtx[mdrtx.index.get_level_values(0)>2012]"
   ]
  },
  {
   "cell_type": "code",
   "execution_count": null,
   "metadata": {},
   "outputs": [],
   "source": [
    "outputs = pd.merge(casesNotif, acfcases, left_index=True, right_index=True, how=\"outer\")\\\n",
    "            .merge(initiatedTx, left_index=True, right_index=True, how=\"outer\")\\\n",
    "            .merge(plhivipt, left_index=True, right_index=True, how=\"outer\")\\\n",
    "            .merge(childipt, left_index=True, right_index=True, how=\"outer\")\\\n",
    "            .merge(pplcases, left_index=True, right_index=True, how=\"outer\")\\\n",
    "            .merge(ppltx, left_index=True, right_index=True, how=\"outer\")\\\n",
    "            .merge(hivcases, left_index=True, right_index=True, how=\"outer\")\\\n",
    "            .merge(mdrcases, left_index=True, right_index=True, how=\"outer\")\\\n",
    "            .merge(mdrtx, left_index=True, right_index=True, how=\"outer\")\\"
   ]
  },
  {
   "cell_type": "code",
   "execution_count": null,
   "metadata": {},
   "outputs": [],
   "source": []
  },
  {
   "cell_type": "code",
   "execution_count": null,
   "metadata": {},
   "outputs": [],
   "source": [
    "outputs.head()"
   ]
  },
  {
   "cell_type": "code",
   "execution_count": null,
   "metadata": {},
   "outputs": [],
   "source": [
    "outputs.to_csv(\"outputs.csv\")"
   ]
  },
  {
   "cell_type": "markdown",
   "metadata": {},
   "source": [
    "# Activities"
   ]
  },
  {
   "cell_type": "markdown",
   "metadata": {},
   "source": [
    "Not available: \n",
    "* Tests Conducted_value\n",
    "* Active Case Finding Missions Conducted_value\n",
    "* Prisoners Screened_value\n"
   ]
  },
  {
   "cell_type": "code",
   "execution_count": null,
   "metadata": {},
   "outputs": [],
   "source": [
    "# Tests Conducted_value\n",
    "sicoinRM = pd.read_csv(\"../../../Resource Tracking/SICOIN GT/IGRC02_PCE_Ejecucion_Fisica.csv\")"
   ]
  },
  {
   "cell_type": "code",
   "execution_count": null,
   "metadata": {},
   "outputs": [],
   "source": [
    "sicoinTB = sicoinRM[(sicoinRM.Programa == \"17-PREVENCIÓN Y CONTROL DE LA TUBERCULOSIS\") ]"
   ]
  },
  {
   "cell_type": "code",
   "execution_count": null,
   "metadata": {},
   "outputs": [],
   "source": [
    "distrMeds = pd.read_csv(\"../../../Outcome Measurement Data/TUBERCULOSIS/Distribución Medicamentos TB/GTM-TB-distribution-2013-2018.csv\", index_col=0)"
   ]
  },
  {
   "cell_type": "code",
   "execution_count": null,
   "metadata": {},
   "outputs": [],
   "source": [
    "distrMeds.head()"
   ]
  },
  {
   "cell_type": "code",
   "execution_count": null,
   "metadata": {},
   "outputs": [],
   "source": [
    "meds = distrMeds.groupby([\"Year\", \"code_dept\"]).Amount.sum()\\\n",
    ".rename_axis( index = {\"Year\": \"date\", \"code_dept\": \"department\"})\\\n",
    ".rename(\"Total Drugs Distributed_value_d\")"
   ]
  },
  {
   "cell_type": "code",
   "execution_count": null,
   "metadata": {},
   "outputs": [],
   "source": [
    "distrMeds.Medicine.unique()"
   ]
  },
  {
   "cell_type": "code",
   "execution_count": null,
   "metadata": {},
   "outputs": [],
   "source": [
    "# Isoniazid Distributed_value\n",
    "isod = distrMeds[distrMeds.Medicine == \"ISONIAZIDA\"].groupby([\"Year\", \"code_dept\"]).Amount.sum()\\\n",
    ".rename_axis( index = {\"Year\": \"date\", \"code_dept\": \"department\"})\\\n",
    ".rename(\"Isoniazid Distributed_value_d\")"
   ]
  },
  {
   "cell_type": "code",
   "execution_count": null,
   "metadata": {},
   "outputs": [],
   "source": [
    "# PLHIV Screened for TB_value\n",
    "hivtb = \\\n",
    "sicoinRM[(sicoinRM.Programa == \"16-PREVENCIÓN Y CONTROL DE ITS, VIH/SIDA\") &\n",
    "sicoinRM.Resultado.isin(\n",
    "       ['6.0-Paciente VIH positivo, con prueba diagnóstica de tuberculosis',\n",
    "       '6.0-Pacientes VIH positivos, con prueba diagnostica de Tuberculosis']\n",
    ") & (sicoinRM.LugarEjecutado.notna())].assign(date = lambda x: x.Year, municipality = lambda x: x.LugarCod.map(int))\\\n",
    ".assign(department = lambda x: np.floor(x.municipality/100).astype(int) )\\\n",
    ".groupby([\"date\", \"municipality\"]).LugarEjecutado.sum()\\\n",
    ".rename(\"PLHIV Screened for TB_value_m\")"
   ]
  },
  {
   "cell_type": "code",
   "execution_count": null,
   "metadata": {},
   "outputs": [],
   "source": [
    "# TB Patients Tested for HIV_value\n",
    "tbhivTx = sicoinRM[(sicoinRM.Programa == \"17-PREVENCIÓN Y CONTROL DE LA TUBERCULOSIS\") &\n",
    "sicoinRM.Resultado.isin(\n",
    "       ['7.0-Persona con diagnóstico de tuberculosis con prueba diagnóstica de VIH',\n",
    "       '7.0-Casos de Tuberculosis con prueba diagnóstica de VIH']\n",
    ") & (sicoinRM.LugarEjecutado.notna())].assign(date = lambda x: x.Year, municipality = lambda x: x.LugarCod.map(int))\\\n",
    ".assign(department = lambda x: np.floor(x.municipality/100).astype(int) )\\\n",
    ".groupby([\"date\", \"municipality\"]).LugarEjecutado.sum()\\\n",
    ".rename(\"TB Patients Tested for HIV_value_m\")"
   ]
  },
  {
   "cell_type": "code",
   "execution_count": null,
   "metadata": {},
   "outputs": [],
   "source": [
    "# Number of Cases Screened for MDR_value\n",
    "mdrSx = sicoinRM[(sicoinRM.Programa == \"17-PREVENCIÓN Y CONTROL DE LA TUBERCULOSIS\") &\n",
    "sicoinRM.Resultado.isin(\n",
    "       ['9.0-Persona con diagnóstico de fracasos al tratamiento de tuberculosis con prueba diagnóstica a TB-MDR (tuberculosis multidrogo resistente)',\n",
    "        '9.0-Casos de fracasos a tratamiento de Tuberculosis con prueba diagnóstica a TB-MDR']\n",
    ") & (sicoinRM.LugarEjecutado.notna())].assign(date = lambda x: x.Year, municipality = lambda x: x.LugarCod.map(int))\\\n",
    ".assign(department = lambda x: np.floor(x.municipality/100).astype(int) )\\\n",
    ".groupby([\"date\", \"municipality\"]).LugarEjecutado.sum()\\\n",
    ".rename(\"Number of Cases Screened for MDR_value_m\")"
   ]
  },
  {
   "cell_type": "code",
   "execution_count": null,
   "metadata": {},
   "outputs": [],
   "source": [
    "cohortsExtraD = pd.read_csv(\"../../../Outcome Measurement Data/TUBERCULOSIS/COHORTES/GTM - Tx Cohort Data - Extra tables.csv\")"
   ]
  },
  {
   "cell_type": "code",
   "execution_count": null,
   "metadata": {},
   "outputs": [],
   "source": [
    "cohortsExtraD.columns"
   ]
  },
  {
   "cell_type": "code",
   "execution_count": null,
   "metadata": {},
   "outputs": [],
   "source": [
    "cohortsExtraD.table.unique()"
   ]
  },
  {
   "cell_type": "code",
   "execution_count": null,
   "metadata": {},
   "outputs": [],
   "source": [
    "cohortes.table.unique()"
   ]
  },
  {
   "cell_type": "code",
   "execution_count": null,
   "metadata": {},
   "outputs": [],
   "source": [
    "cohortes[cohortes.table.isin(['MDR sensitivity tests on new','MDR test on previously treated']) & \n",
    "        (cohortes.deptocode==0)]"
   ]
  },
  {
   "cell_type": "code",
   "execution_count": null,
   "metadata": {},
   "outputs": [],
   "source": [
    "mdrSx = cohortes[cohortes.table.isin(['MDR sensitivity tests on new','MDR test on previously treated']) & \n",
    "        (cohortes.deptocode!=0)].groupby([\"year\", \"deptocode\"]).value.sum()\\\n",
    "            .rename_axis(index={ \"year\": \"date\", \"deptocode\": \"department\" })\\\n",
    "            .rename(\"Number of Cases Screened for MDR_value_d\")"
   ]
  },
  {
   "cell_type": "code",
   "execution_count": null,
   "metadata": {},
   "outputs": [],
   "source": [
    "# Second Line Drugs Distributed_value"
   ]
  },
  {
   "cell_type": "code",
   "execution_count": null,
   "metadata": {},
   "outputs": [],
   "source": [
    "distrMeds.Medicine.unique()"
   ]
  },
  {
   "cell_type": "code",
   "execution_count": null,
   "metadata": {},
   "outputs": [],
   "source": [
    "# De acuerdo al manual de tb drogoresistente del programa\n",
    "segundaLinea = [\n",
    "    'LEVOFLOXACINA',\n",
    "    'CAPREOMICINA',\n",
    "    'MOXIFLOXACINA',\n",
    "    'KANAMICINA',\n",
    "    'ESTREPTOMICINA',\n",
    "    'ETHIONAMIDA',\n",
    "    'CICLOCERINA',\n",
    "    'CICLOSERINA',\n",
    "    'LINEZOLID',\n",
    "    'CLOFAZIMINE',\n",
    "    'PIRAZINAMIDA',\n",
    "    'ETAMBUTOL',\n",
    "    'ACIDO PARAAMINOSALICILICO',\n",
    "    'IMIPENEM/CILASTATINA',\n",
    "    'AMOXICILINA/ACIDO CLAVULANICO',\n",
    "]"
   ]
  },
  {
   "cell_type": "code",
   "execution_count": null,
   "metadata": {},
   "outputs": [],
   "source": [
    "meds2dl = distrMeds[distrMeds.Medicine.isin(segundaLinea)].groupby([\"Year\", \"code_dept\"]).Amount.sum()\\\n",
    ".rename_axis( index = {\"Year\": \"date\", \"code_dept\": \"department\"})\\\n",
    ".rename(\"Total Drugs Distributed_value_d\")"
   ]
  },
  {
   "cell_type": "code",
   "execution_count": null,
   "metadata": {},
   "outputs": [],
   "source": [
    "activities = pd.merge(meds, isod, left_index=True, right_index=True, how=\"outer\")\\\n",
    "            .merge(hivtb, left_index=True, right_index=True, how=\"outer\")\\\n",
    "            .merge(tbhivTx, left_index=True, right_index=True, how=\"outer\")\\\n",
    "            .merge(mdrSx, left_index=True, right_index=True, how=\"outer\")\\\n",
    "            .merge(meds2dl, left_index=True, right_index=True, how=\"outer\")\\\n",
    "            "
   ]
  },
  {
   "cell_type": "code",
   "execution_count": null,
   "metadata": {},
   "outputs": [],
   "source": [
    "activities"
   ]
  },
  {
   "cell_type": "code",
   "execution_count": null,
   "metadata": {},
   "outputs": [],
   "source": [
    "activities.to_csv(\"activities.csv\")"
   ]
  },
  {
   "cell_type": "markdown",
   "metadata": {},
   "source": [
    "# Impact"
   ]
  },
  {
   "cell_type": "raw",
   "metadata": {},
   "source": [
    "Values:\n",
    "\n",
    " * Case Notification Rate_value\n",
    " * Mortality Rate_value\n",
    " * Treatment Success Rate_value\n",
    " * Case Notification Rate in Prisons_value\n",
    " * HIV/TB Treatment Success Rate_value\n",
    " * HIV/TB Mortality Rate_value\n",
    " * MDR Treatment Success Rate_value"
   ]
  },
  {
   "cell_type": "code",
   "execution_count": null,
   "metadata": {},
   "outputs": [],
   "source": [
    "# Worldpop estimations are in the helper functions \n",
    "import os\n",
    "\n",
    "os.chdir(\"../../core/\")\n",
    "import GT_helper_functions as hf\n",
    "import GT_load_data as data"
   ]
  },
  {
   "cell_type": "code",
   "execution_count": null,
   "metadata": {},
   "outputs": [],
   "source": [
    "plt.plot(list(range(2010,2030) ), [ hf.GTMuniPopulation(101,y) for y in range(2010,2030)] )\n",
    "None"
   ]
  },
  {
   "cell_type": "code",
   "execution_count": null,
   "metadata": {},
   "outputs": [],
   "source": [
    "notifsRate = casesNotif.reset_index().apply(lambda x: x[\"Cases Notified_value_m\"] / hf.GTMuniPopulation(x.municipality, x.date), 1).iloc[:,0]"
   ]
  },
  {
   "cell_type": "code",
   "execution_count": null,
   "metadata": {},
   "outputs": [],
   "source": [
    "notifsRate.index = casesNotif.index.copy()"
   ]
  },
  {
   "cell_type": "code",
   "execution_count": null,
   "metadata": {},
   "outputs": [],
   "source": [
    "notifsRate = notifsRate.rename(\"Case Notification Rate_value\")"
   ]
  },
  {
   "cell_type": "code",
   "execution_count": null,
   "metadata": {},
   "outputs": [],
   "source": [
    "# Mortality Rate_value\n",
    "vrredis =  pd.read_csv(\"../../Outcome Measurement Data/MULTI/VR/vr_redistributed_collapsed_diseases.csv\", index_col = 0)"
   ]
  },
  {
   "cell_type": "code",
   "execution_count": null,
   "metadata": {},
   "outputs": [],
   "source": [
    "munis_ids = pd.read_csv(\"../../Outcome Measurement Data/MULTI/VR/GTM_muni_merges_2009_2016_fixed.csv\", index_col = 0)"
   ]
  },
  {
   "cell_type": "code",
   "execution_count": null,
   "metadata": {},
   "outputs": [],
   "source": [
    "vrredis = vrredis.merge(munis_ids[[\"adm2_country_code\", \"adm2_gbd_id\"]], left_on= \"location_id\", right_on=\"adm2_gbd_id\")"
   ]
  },
  {
   "cell_type": "code",
   "execution_count": 114,
   "metadata": {},
   "outputs": [],
   "source": [
    "mortcounts = vrredis[vrredis.disease.isin([\"TB\", \"TB-VIH\"]) & (vrredis.adm2_country_code.notna())]\\\n",
    ".assign(municipality = lambda x: x.adm2_country_code.astype(int), date = lambda x: x.year_id,\n",
    "        department = lambda x: np.floor(x.adm2_country_code/100).astype(int) ) \\\n",
    ".groupby([\"date\", \"department\", \"municipality\"]).deaths.sum().rename(\"mortcounts\")"
   ]
  },
  {
   "cell_type": "code",
   "execution_count": 116,
   "metadata": {},
   "outputs": [],
   "source": [
    "mortrate = mortcounts.reset_index().apply(lambda x: x[\"mortcounts\"] / hf.GTMuniPopulation(x.municipality, x.date), 1).iloc[:,0]"
   ]
  },
  {
   "cell_type": "code",
   "execution_count": 117,
   "metadata": {},
   "outputs": [],
   "source": [
    "mortrate.index = mortcounts.index"
   ]
  },
  {
   "cell_type": "code",
   "execution_count": 103,
   "metadata": {},
   "outputs": [],
   "source": [
    "#  Treatment Success Rate_value\n",
    "txsrate = pivot_cohortes[\"COMPLETED TREATMENT\"].divide(pivot_cohortes.sum(1))\\\n",
    ".rename_axis(index={\"deptocode\": \"department\", \"year\": \"date\"}).rename(\"Treatment Success Rate_value\")"
   ]
  },
  {
   "cell_type": "code",
   "execution_count": 108,
   "metadata": {},
   "outputs": [],
   "source": [
    "# HIV/TB Treatment Success Rate_value\n",
    "pivot_cohortes_tbhiv = cohortes[(cohortes.col_name.isin([\"TOTAL\"])) & \n",
    "       (cohortes.table.isin([\"Nuevos TB/VIH\"])) &\n",
    "       (cohortes.deptocode!=0)].\\\n",
    "    groupby([\"year\", \"deptocode\", \"row_name_B\"]).value.sum().unstack(2)\n",
    "tbhiv_txsrate = pivot_cohortes_tbhiv[\"COMPLETED TREATMENT\"].divide(pivot_cohortes_tbhiv.sum(1))\\\n",
    ".rename_axis(index={\"deptocode\": \"department\", \"year\": \"date\"}).rename(\"Treatment Success Rate_value\")"
   ]
  },
  {
   "cell_type": "code",
   "execution_count": 119,
   "metadata": {},
   "outputs": [],
   "source": [
    "# HIV/TB Mortality Rate_value\n",
    "tbhiv_mortrate = vrredis[vrredis.disease.isin([\"TB\", \"TB-VIH\"]) & (vrredis.adm2_country_code.notna())]\\\n",
    ".assign(municipality = lambda x: x.adm2_country_code.astype(int), date = lambda x: x.year_id,\n",
    "        department = lambda x: np.floor(x.adm2_country_code/100).astype(int) ) \\\n",
    ".groupby([\"date\", \"department\", \"municipality\"]).deaths.sum().rename(\"HIV/TB Mortality Rate_value\")"
   ]
  },
  {
   "cell_type": "code",
   "execution_count": 122,
   "metadata": {},
   "outputs": [
    {
     "data": {
      "text/plain": [
       "Index(['Unnamed: 0', 'ID', 'X_0', 'Gender', 'Age', 'X_1', 'Muni', 'Depto',\n",
       "       'DAS', 'PxNew', 'PxRelapse', 'PxLost', 'TxFailure', 'TBType', 'PDSDate',\n",
       "       'PDSResult', 'X_2', 'X_3', 'TxDate', 'DateBk_1', 'ResultBk_1',\n",
       "       'DateCulture_1', 'ResultCulture_1', 'DateCulture_2', 'ResultCulture_2',\n",
       "       'DateCulture_3', 'ResultCulture_3', 'DateCulture_4', 'ResultCulture_4',\n",
       "       'DateCulture_5', 'ResultCulture_5', 'DateCulture_6', 'ResultCulture_6',\n",
       "       'DateCulture_7', 'ResultCulture_7', 'DateCulture_8', 'ResultCulture_8',\n",
       "       'DateCulture_9', 'ResultCulture_9', 'DateCulture_10',\n",
       "       'ResultCulture_10', 'DateCulture_11', 'ResultCulture_11',\n",
       "       'DateCulture_12', 'ResultCulture_12', 'DateCulture_13',\n",
       "       'ResultCulture_13', 'DateCulture_14', 'ResultCulture_14',\n",
       "       'DateCulture_15', 'ResultCulture_15', 'DateCulture_16',\n",
       "       'ResultCulture_16', 'DateCulture_17', 'ResultCulture_17',\n",
       "       'DateCulture_18', 'ResultCulture_18', 'DateCulture_19',\n",
       "       'ResultCulture_19', 'DateCulture_20', 'ResultCulture_20',\n",
       "       'DateCulture_21', 'ResultCulture_21', 'DateCulture_22',\n",
       "       'ResultCulture_22', 'DateCulture_23', 'ResultCulture_23',\n",
       "       'DateCulture_24', 'ResultCulture_24', 'DiabetesMel', 'HIV',\n",
       "       'ExitCondition', 'ExitDate', 'Dead', 'Observations', 'Modifications',\n",
       "       'X_4', 'BD_ID', 'DxDate', 'Referred', 'DateGXPERT', 'TTODate',\n",
       "       'PxCondition', 'TBPulmonar', 'TBExtrapulmonar', 'GENOTYPE',\n",
       "       'ResistType', 'TxDate2', 'Year', 'TxDate_', 'TxDate_Year', 'DxDate_',\n",
       "       'DxDate_Year', 'ExitDate_', 'ExitDate_Year', 'PDSDate_', 'PDSDate_Year',\n",
       "       'GxDate_', 'deptocode'],\n",
       "      dtype='object')"
      ]
     },
     "execution_count": 122,
     "metadata": {},
     "output_type": "execute_result"
    }
   ],
   "source": [
    "# MDR Treatment Success Rate_value\n",
    "mdrtb.columns"
   ]
  },
  {
   "cell_type": "code",
   "execution_count": 125,
   "metadata": {},
   "outputs": [
    {
     "data": {
      "text/plain": [
       "NaN                           86\n",
       "ambulatorio                   23\n",
       "FALLECIDO                      7\n",
       "PERDIDA EN EL SEGUIMIENTO      5\n",
       "AMBULATORIO                    5\n",
       "fallecido                      4\n",
       "FRACASO                        4\n",
       "Fallecido                      4\n",
       "FALLECIDA                      3\n",
       "TX. COMPLETO                   2\n",
       "PÉRDIDA EN EL SEGUIMIENTO      2\n",
       "vivo                           2\n",
       "FUGADO                         2\n",
       " EGRESO CONTRAINDICADO         1\n",
       "ABANDONÓ                       1\n",
       "CONTRAINDICADO                 1\n",
       "viva                           1\n",
       "FALLECIDA                      1\n",
       "Fallecida                      1\n",
       "Vivo                           1\n",
       "Fallecida                      1\n",
       "Name: ExitCondition, dtype: int64"
      ]
     },
     "execution_count": 125,
     "metadata": {},
     "output_type": "execute_result"
    }
   ],
   "source": [
    "mdrtb.ExitCondition.value_counts(dropna=False)"
   ]
  },
  {
   "cell_type": "code",
   "execution_count": 133,
   "metadata": {},
   "outputs": [
    {
     "data": {
      "text/plain": [
       "ResultCulture_3    ResultCulture_4      ResultCulture_5  \n",
       ".+                 negativo             negativo              1\n",
       ".++                NAN                  NAN                   1\n",
       "CONTAMINADO        CONTAMINADO          NAN                   1\n",
       "                                        NEGATIVO              2\n",
       "                   POSITIVO             POSITIVO              1\n",
       "CONTAMINADO        Negativo             NEGATIVO              1\n",
       "NAN                CONTAMINADO          NAN                   1\n",
       "                   NAN                  CONTAMINADO           1\n",
       "                                        NAN                  69\n",
       "                                        NEGATIVO              7\n",
       "                                        POSITIVO              1\n",
       "                                        negativo              2\n",
       "                   NEGATIVO             NEGATIVO              2\n",
       "                   negativo             NAN                   2\n",
       "                                        NEGATIVO              1\n",
       "                                        negativo              1\n",
       "                   no realizado         Neg (Xpert)           1\n",
       "NEGATIVO           2017-06-21 00:00:00  NEGATIVO              1\n",
       "                   CONTAMINADO          NEGATIVO              1\n",
       "                   NAN                  NAN                   3\n",
       "                                        NEGATIVO              3\n",
       "                                        No procesada          1\n",
       "                                        negativo              1\n",
       "                   NEGATIVO             NAN                   1\n",
       "                                        NEGATIVO              4\n",
       "                   NO ENVIADO           NEGATIVO              1\n",
       "                   NO INGRESO A LNS     NEGATIVO              1\n",
       "                   NO REALIZADO         CONTAMINADO           1\n",
       "                   Negativo             NAN                   1\n",
       "                                        NEGATIVO             12\n",
       "                                        NO APARECE EN HRR     1\n",
       "                                        NO REALIZADO          1\n",
       "                                        contaminado           1\n",
       "                   no realizado         NO REALIZADO          1\n",
       "NO APARECE EN BDD  Negativo             CONTAMINADO           1\n",
       "NO REALIZADO       NEGATIVO             CONTAMINADO           1\n",
       "NO REQALIZADO      Negativo             NEGATIVO              1\n",
       "NR                 NR                   NR                    1\n",
       "Negativo           Negativo             NEGATIVO              1\n",
       "POSITIVO           NEGATIVO             NAN                   1\n",
       "                   negativo             NEGATIVO              1\n",
       "POSITIVO +         Negativo             NEGATIVO              1\n",
       "POST (+)           Negativo             NEGATIVO              1\n",
       "REHUSO             CONTAMINADO          NEGATIVO              1\n",
       "contaminado        CONTAMINADO          NEGATIVO              2\n",
       "negativo           NAN                  NAN                   3\n",
       "                                        NEGATIVO              1\n",
       "                   negativo             NAN                   3\n",
       "                                        NEGATIVO              2\n",
       "                                        negativo              6\n",
       "dtype: int64"
      ]
     },
     "execution_count": 133,
     "metadata": {},
     "output_type": "execute_result"
    }
   ],
   "source": [
    "mdrtb[[\"ResultCulture_1\", \"ResultCulture_2\", \"ResultCulture_3\", \"ResultCulture_4\", \"ResultCulture_5\"]].fillna(\"NAN\")\\\n",
    ".groupby([\"ResultCulture_3\", \"ResultCulture_4\", \"ResultCulture_5\"]).apply(len)"
   ]
  },
  {
   "cell_type": "code",
   "execution_count": null,
   "metadata": {},
   "outputs": [],
   "source": []
  }
 ],
 "metadata": {
  "kernelspec": {
   "display_name": "Python 3",
   "language": "python",
   "name": "python3"
  },
  "language_info": {
   "codemirror_mode": {
    "name": "ipython",
    "version": 3
   },
   "file_extension": ".py",
   "mimetype": "text/x-python",
   "name": "python",
   "nbconvert_exporter": "python",
   "pygments_lexer": "ipython3",
   "version": "3.5.1"
  }
 },
 "nbformat": 4,
 "nbformat_minor": 2
}
