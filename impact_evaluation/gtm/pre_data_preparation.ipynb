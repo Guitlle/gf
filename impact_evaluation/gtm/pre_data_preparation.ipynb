{
 "cells": [
  {
   "cell_type": "code",
   "execution_count": 1,
   "metadata": {},
   "outputs": [],
   "source": [
    "import pandas as pd\n",
    "import numpy as np\n",
    "import matplotlib.pyplot as plt\n",
    "import matplotlib as mlp\n",
    "import os\n",
    "\n",
    "%matplotlib inline"
   ]
  },
  {
   "cell_type": "code",
   "execution_count": 2,
   "metadata": {},
   "outputs": [],
   "source": [
    "curdir = os.getcwd()"
   ]
  },
  {
   "cell_type": "code",
   "execution_count": 3,
   "metadata": {},
   "outputs": [],
   "source": [
    "\n",
    "os.chdir(\"../../core/\")\n",
    "import GT_helper_functions as hf\n",
    "import GT_load_data as data\n",
    "\n",
    "os.chdir(curdir)"
   ]
  },
  {
   "cell_type": "code",
   "execution_count": 4,
   "metadata": {},
   "outputs": [],
   "source": [
    "fullIndex = data.munisGT[(data.munisGT.municode != 0) & data.munisGT.deptocode.notna()]\\\n",
    ".assign(deptocode = lambda x: x.deptocode.astype(int)).groupby([\"deptocode\", \"municode\"]).apply(len).index"
   ]
  },
  {
   "cell_type": "code",
   "execution_count": 6,
   "metadata": {},
   "outputs": [],
   "source": [
    "def makeFullIndex(dfyears):\n",
    "    indexList = fullIndex.to_list()\n",
    "    newIndex = []\n",
    "    print(dfyears.index.names)\n",
    "    # En caso de que no haya nivel de quarter, introducirlo,\n",
    "    if \"quarter\" not in dfyears.index.names:\n",
    "        print(\"imputing quarter index level\")\n",
    "        for year in dfyears.index.levels[0]:\n",
    "            for q in [1,2,3,4]:\n",
    "                newIndex.extend([(year, x[0], x[1], q) for x in indexList])\n",
    "\n",
    "        reindexeddf =  dfyears.reindex(pd.MultiIndex.from_tuples(newIndex, names = [\"year\", \"department\", \"municipality\", \"quarter\"]))\n",
    "    \n",
    "        return reindexeddf.reorder_levels([\"year\", \"quarter\", \"department\", \"municipality\"])\n",
    "    else:\n",
    "        for year in dfyears.index.levels[0]:\n",
    "            for q in [1,2,3,4]:\n",
    "                newIndex.extend([(year, q, x[0], x[1]) for x in indexList])\n",
    "\n",
    "        reindexeddf =  dfyears.reindex(pd.MultiIndex.from_tuples(newIndex, names = [\"year\", \"quarter\", \"department\", \"municipality\"]))\n",
    "        return reindexeddf"
   ]
  },
  {
   "cell_type": "code",
   "execution_count": 7,
   "metadata": {},
   "outputs": [],
   "source": [
    "def tryfun(f):\n",
    "    def wrapper(i):\n",
    "        try:\n",
    "            return f(i)\n",
    "        except:\n",
    "            return np.NaN\n",
    "    return wrapper"
   ]
  },
  {
   "cell_type": "markdown",
   "metadata": {},
   "source": [
    "# Outputs\n"
   ]
  },
  {
   "cell_type": "code",
   "execution_count": 8,
   "metadata": {},
   "outputs": [
    {
     "name": "stderr",
     "output_type": "stream",
     "text": [
      "/usr/local/lib/python3.6/dist-packages/IPython/core/interactiveshell.py:3058: DtypeWarning: Columns (7,8,9,11,20,21,22,23,24,25,26,27,28,29,30,31,32,34,35,37,38,39,40,41,42,43,44,45,46,47,48,49,50,51,52,53,54,55,56,57,58,59,60,61,62,63,64,65,66,68,69,70,72,74,78,79,80,81,83,84,85,87,89,90,91,93,94,98,102) have mixed types. Specify dtype option on import or set low_memory=False.\n",
      "  interactivity=interactivity, compiler=compiler, result=result)\n"
     ]
    }
   ],
   "source": [
    "notifs = pd.read_csv(\"../../../Outcome Measurement Data/TUBERCULOSIS/Notificaciones TB/GTM - TB all notifications 2012-Sep2018.csv\")"
   ]
  },
  {
   "cell_type": "code",
   "execution_count": 9,
   "metadata": {},
   "outputs": [],
   "source": [
    "notifs.loc[notifs.COD_MUNI == 1422, \"COD_MUNI\"] = 1420"
   ]
  },
  {
   "cell_type": "code",
   "execution_count": 10,
   "metadata": {},
   "outputs": [],
   "source": [
    "notifs[\"year\"] = np.floor(notifs.YearMonth/100).astype(int)\n",
    "notifs[\"quarter\"] = (np.floor(( (notifs.YearMonth%100) - 1) / 3) + 1).astype(int)"
   ]
  },
  {
   "cell_type": "code",
   "execution_count": 11,
   "metadata": {},
   "outputs": [
    {
     "data": {
      "text/plain": [
       "2    8471\n",
       "3    7544\n",
       "1    7537\n",
       "4    6255\n",
       "Name: quarter, dtype: int64"
      ]
     },
     "execution_count": 11,
     "metadata": {},
     "output_type": "execute_result"
    }
   ],
   "source": [
    "notifs.quarter.value_counts()"
   ]
  },
  {
   "cell_type": "code",
   "execution_count": 12,
   "metadata": {},
   "outputs": [
    {
     "data": {
      "text/plain": [
       "1"
      ]
     },
     "execution_count": 12,
     "metadata": {},
     "output_type": "execute_result"
    }
   ],
   "source": [
    "notifs.COD_MUNI.isna().sum()"
   ]
  },
  {
   "cell_type": "code",
   "execution_count": 13,
   "metadata": {},
   "outputs": [],
   "source": [
    "notifs = notifs[notifs.COD_MUNI.notna()]\\\n",
    ".assign(municipality = lambda x: x.apply(lambda y: y.COD_MUNI if y.COD_MUNI!=0 else (y.COD_DEPT*100+1), axis=1).astype(int) )\\\n",
    ".assign(department = lambda y: y.apply(lambda x: (np.floor(x.COD_MUNI/100)).astype(int) if x.COD_MUNI!=0 else x.COD_DEPT, axis=1).astype(int) )\\"
   ]
  },
  {
   "cell_type": "code",
   "execution_count": 17,
   "metadata": {},
   "outputs": [],
   "source": [
    "casesNotif = notifs[(notifs.year<=2018) & notifs.COD_MUNI.notna()]\\\n",
    ".assign(year=lambda x: x.year.astype(int))\\\n",
    ".assign(quarter = lambda x: x.quarter.astype(int))\\\n",
    ".groupby([\"year\", \"quarter\", \"department\", \"municipality\"]).apply(len)"
   ]
  },
  {
   "cell_type": "code",
   "execution_count": 18,
   "metadata": {},
   "outputs": [],
   "source": [
    "casesNotif = casesNotif[casesNotif.index.get_level_values(1)!=0].rename(\"Cases Notified_value_m_quarterly\").fillna(0)"
   ]
  },
  {
   "cell_type": "code",
   "execution_count": 19,
   "metadata": {},
   "outputs": [
    {
     "data": {
      "text/plain": [
       "year  quarter  department  municipality\n",
       "2012  1        1           101             56\n",
       "                           102              2\n",
       "                           103              3\n",
       "                           106              8\n",
       "                           107              2\n",
       "Name: Cases Notified_value_m_quarterly, dtype: int64"
      ]
     },
     "execution_count": 19,
     "metadata": {},
     "output_type": "execute_result"
    }
   ],
   "source": [
    "casesNotif.head()"
   ]
  },
  {
   "cell_type": "code",
   "execution_count": 20,
   "metadata": {},
   "outputs": [],
   "source": [
    "extraM2017 = pd.read_csv(\"../../../Outcome Measurement Data/TUBERCULOSIS/Extramuros2017.csv\", index_col=0)"
   ]
  },
  {
   "cell_type": "code",
   "execution_count": 21,
   "metadata": {},
   "outputs": [],
   "source": [
    "acfcases = extraM2017[extraM2017.Year.notna()].assign(municipality = lambda x: x.MuniCode.astype(int)).assign(year = lambda x: x.Year.astype(int)).\\\n",
    "assign(department = lambda x: x.DeptoCode.astype(int)).groupby([\"year\", \"department\", \"municipality\"])[\"bacteriologicos.extramuros\"].sum()\n",
    "acfcases = acfcases.rename(\"Additional Cases Detected via ACF_value_m_yearly\").fillna(0)"
   ]
  },
  {
   "cell_type": "code",
   "execution_count": null,
   "metadata": {},
   "outputs": [],
   "source": []
  },
  {
   "cell_type": "code",
   "execution_count": 22,
   "metadata": {},
   "outputs": [],
   "source": [
    "# Extramuros 2017-2018\n",
    "# datos adicionales por departamento obtenidos del PNTB\n",
    "extraMurosData = pd.read_excel(\"../../../Outcome Measurement Data/TUBERCULOSIS/TB-Extramuros-2017-2018.xlsx\")"
   ]
  },
  {
   "cell_type": "code",
   "execution_count": 23,
   "metadata": {},
   "outputs": [
    {
     "data": {
      "text/plain": [
       "array(['Número de sintomáticos respiratorios detectados ',\n",
       "       'Número de sintomáticos respiratorios examinados',\n",
       "       'Número de muestras para BK recolectadas y enviadas a laboratorio',\n",
       "       'Número de muestras para Xpert y cultivo recolectadas y enviadas a laboratorio',\n",
       "       'Número de casos TB todas sus formas (nuevos y recaídas) detectados',\n",
       "       'Número de casos nuevos TB todas sus formas detectados',\n",
       "       'Número de casos nuevos bacteriologicamente confirmados detectados',\n",
       "       'Cantidad  de niños <de 5 años referidos para evaluación a través de ruta diagnostica para descartar tuberculosis',\n",
       "       'Cantidad de niños < de 5 años diagnosticados con TB (de los referidos)',\n",
       "       'Cantidad de niños < de 5 años que reciben quimioprofilaxis (de los referidos)'],\n",
       "      dtype=object)"
      ]
     },
     "execution_count": 23,
     "metadata": {},
     "output_type": "execute_result"
    }
   ],
   "source": [
    "extraMurosData.Variable.unique()"
   ]
  },
  {
   "cell_type": "code",
   "execution_count": 24,
   "metadata": {},
   "outputs": [],
   "source": [
    "acfcases2 = \\\n",
    "extraMurosData[extraMurosData.Variable.isin(['Número de casos nuevos TB todas sus formas detectados'])]\\\n",
    "[[\"Year\", \"Department\", \"Extramuros\"]].groupby([\"Year\", \"Department\"]).Extramuros.sum()\\\n",
    ".rename(\"Additional Cases Detected via ACF_value_d_yearly\").rename_axis(index={ \"Year\": \"year\", \"Department\": \"department\"})\n"
   ]
  },
  {
   "cell_type": "code",
   "execution_count": 25,
   "metadata": {},
   "outputs": [],
   "source": [
    "# Cases Started on Treatment_value\n",
    "# MDR Cases Started Treatment_value\n",
    "\n",
    "cohortes = pd.read_csv(\"../../../Outcome Measurement Data/TUBERCULOSIS/COHORTES/GTM - Tx cohort data 2012-2017.csv\")"
   ]
  },
  {
   "cell_type": "code",
   "execution_count": 26,
   "metadata": {},
   "outputs": [],
   "source": [
    "mapCohortTrimestre = {\n",
    "    \"I TRIMESTRE\": 1,\n",
    "    \"II TRIMESTRE\": 2,\n",
    "    \"III TRIMESTRE\": 3,\n",
    "    \"IV TRIMESTRE\": 4\n",
    "}"
   ]
  },
  {
   "cell_type": "code",
   "execution_count": 27,
   "metadata": {},
   "outputs": [],
   "source": [
    "cohortes[\"quarter\"] = cohortes.col_name.map(tryfun(mapCohortTrimestre.get))"
   ]
  },
  {
   "cell_type": "code",
   "execution_count": 28,
   "metadata": {},
   "outputs": [
    {
     "data": {
      "text/html": [
       "<div>\n",
       "<style scoped>\n",
       "    .dataframe tbody tr th:only-of-type {\n",
       "        vertical-align: middle;\n",
       "    }\n",
       "\n",
       "    .dataframe tbody tr th {\n",
       "        vertical-align: top;\n",
       "    }\n",
       "\n",
       "    .dataframe thead th {\n",
       "        text-align: right;\n",
       "    }\n",
       "</style>\n",
       "<table border=\"1\" class=\"dataframe\">\n",
       "  <thead>\n",
       "    <tr style=\"text-align: right;\">\n",
       "      <th></th>\n",
       "      <th>Unnamed: 0</th>\n",
       "      <th>col_name</th>\n",
       "      <th>deptocode</th>\n",
       "      <th>row_name</th>\n",
       "      <th>row_name_B</th>\n",
       "      <th>table</th>\n",
       "      <th>value</th>\n",
       "      <th>year</th>\n",
       "      <th>quarter</th>\n",
       "    </tr>\n",
       "  </thead>\n",
       "  <tbody>\n",
       "    <tr>\n",
       "      <th>0</th>\n",
       "      <td>0</td>\n",
       "      <td>I TRIMESTRE</td>\n",
       "      <td>0</td>\n",
       "      <td>CURADOS</td>\n",
       "      <td>COMPLETED TREATMENT</td>\n",
       "      <td>Nuevos Pulmonares Bact Conf</td>\n",
       "      <td>474.0</td>\n",
       "      <td>2017</td>\n",
       "      <td>1.0</td>\n",
       "    </tr>\n",
       "    <tr>\n",
       "      <th>1</th>\n",
       "      <td>1</td>\n",
       "      <td>II TRIMESTRE</td>\n",
       "      <td>0</td>\n",
       "      <td>CURADOS</td>\n",
       "      <td>COMPLETED TREATMENT</td>\n",
       "      <td>Nuevos Pulmonares Bact Conf</td>\n",
       "      <td>511.0</td>\n",
       "      <td>2017</td>\n",
       "      <td>2.0</td>\n",
       "    </tr>\n",
       "    <tr>\n",
       "      <th>2</th>\n",
       "      <td>2</td>\n",
       "      <td>III TRIMESTRE</td>\n",
       "      <td>0</td>\n",
       "      <td>CURADOS</td>\n",
       "      <td>COMPLETED TREATMENT</td>\n",
       "      <td>Nuevos Pulmonares Bact Conf</td>\n",
       "      <td>497.0</td>\n",
       "      <td>2017</td>\n",
       "      <td>3.0</td>\n",
       "    </tr>\n",
       "    <tr>\n",
       "      <th>3</th>\n",
       "      <td>3</td>\n",
       "      <td>IV TRIMESTRE</td>\n",
       "      <td>0</td>\n",
       "      <td>CURADOS</td>\n",
       "      <td>COMPLETED TREATMENT</td>\n",
       "      <td>Nuevos Pulmonares Bact Conf</td>\n",
       "      <td>474.0</td>\n",
       "      <td>2017</td>\n",
       "      <td>4.0</td>\n",
       "    </tr>\n",
       "    <tr>\n",
       "      <th>4</th>\n",
       "      <td>4</td>\n",
       "      <td>TOTAL</td>\n",
       "      <td>0</td>\n",
       "      <td>CURADOS</td>\n",
       "      <td>COMPLETED TREATMENT</td>\n",
       "      <td>Nuevos Pulmonares Bact Conf</td>\n",
       "      <td>1956.0</td>\n",
       "      <td>2017</td>\n",
       "      <td>NaN</td>\n",
       "    </tr>\n",
       "  </tbody>\n",
       "</table>\n",
       "</div>"
      ],
      "text/plain": [
       "   Unnamed: 0       col_name  deptocode row_name           row_name_B  \\\n",
       "0           0    I TRIMESTRE          0  CURADOS  COMPLETED TREATMENT   \n",
       "1           1   II TRIMESTRE          0  CURADOS  COMPLETED TREATMENT   \n",
       "2           2  III TRIMESTRE          0  CURADOS  COMPLETED TREATMENT   \n",
       "3           3   IV TRIMESTRE          0  CURADOS  COMPLETED TREATMENT   \n",
       "4           4          TOTAL          0  CURADOS  COMPLETED TREATMENT   \n",
       "\n",
       "                         table   value  year  quarter  \n",
       "0  Nuevos Pulmonares Bact Conf   474.0  2017      1.0  \n",
       "1  Nuevos Pulmonares Bact Conf   511.0  2017      2.0  \n",
       "2  Nuevos Pulmonares Bact Conf   497.0  2017      3.0  \n",
       "3  Nuevos Pulmonares Bact Conf   474.0  2017      4.0  \n",
       "4  Nuevos Pulmonares Bact Conf  1956.0  2017      NaN  "
      ]
     },
     "execution_count": 28,
     "metadata": {},
     "output_type": "execute_result"
    }
   ],
   "source": [
    "cohortes.head()"
   ]
  },
  {
   "cell_type": "code",
   "execution_count": 29,
   "metadata": {},
   "outputs": [],
   "source": [
    "pivot_cohortes = cohortes[\n",
    "       (cohortes.quarter.notna()) & \n",
    "       ((cohortes.year <=2016) & cohortes.table.isin([\n",
    "                \"Nuevos Pulmonares BK+\", \n",
    "                \"Nuevos Pulmonares BK-\", \n",
    "                \"Nuevos Pediatricos\", \n",
    "                \"Nuevos Extrapulmonares\", \n",
    "                \"Nuevos TB/VIH\", \"Retratamiento\"\n",
    "            ]) |\n",
    "       # 2017\n",
    "       ((cohortes.year == 2017) & cohortes.table.isin([\n",
    "               \"Nuevos Pulmonares Bact Conf\", \n",
    "               \"Nuevos Pulmonares pediatricos Bact Conf\", \n",
    "               \"Nuevos Pulmonares Dx Clinico\",\n",
    "               \"Nuevos Extrapulmonares Bact Conf\", \n",
    "               \"Nuevos Extrapulmonares Dx Clinico\"\n",
    "            ]))\n",
    "       ) &\n",
    "       (cohortes.deptocode!=0)].\\\n",
    "    groupby([\"year\", \"quarter\", \"deptocode\", \"row_name_B\"]).value.sum().unstack(3)"
   ]
  },
  {
   "cell_type": "code",
   "execution_count": 30,
   "metadata": {},
   "outputs": [],
   "source": [
    "initiatedTx = pivot_cohortes.sum(axis=1)"
   ]
  },
  {
   "cell_type": "code",
   "execution_count": 31,
   "metadata": {},
   "outputs": [],
   "source": [
    "initiatedTx = initiatedTx.rename_axis(index = {\"deptocode\": \"department\" }).rename(\"Cases Started on Treatment_value_d_quarterly\")"
   ]
  },
  {
   "cell_type": "code",
   "execution_count": 32,
   "metadata": {},
   "outputs": [],
   "source": [
    "notifs[\"Tx\"] = notifs.FECHAINICIOTX.map(lambda x: len(str(x))>4)"
   ]
  },
  {
   "cell_type": "code",
   "execution_count": 33,
   "metadata": {},
   "outputs": [
    {
     "data": {
      "text/plain": [
       "YEAR\n",
       "2012    2368.0\n",
       "2013    2394.0\n",
       "2014    2644.0\n",
       "2015    2500.0\n",
       "2016    2758.0\n",
       "2017    3990.0\n",
       "2018    3003.0\n",
       "Name: Tx, dtype: float64"
      ]
     },
     "execution_count": 33,
     "metadata": {},
     "output_type": "execute_result"
    }
   ],
   "source": [
    "notifs.groupby(\"YEAR\")[\"Tx\"].sum()"
   ]
  },
  {
   "cell_type": "code",
   "execution_count": 34,
   "metadata": {},
   "outputs": [
    {
     "data": {
      "text/plain": [
       "year\n",
       "2012    3647.0\n",
       "2013    3472.0\n",
       "2014    3261.0\n",
       "2015    3449.0\n",
       "2016    3286.0\n",
       "2017    3113.0\n",
       "Name: Cases Started on Treatment_value_d_quarterly, dtype: float64"
      ]
     },
     "execution_count": 34,
     "metadata": {},
     "output_type": "execute_result"
    }
   ],
   "source": [
    "# Por trimestre\n",
    "initiatedTx.reset_index().groupby(\"year\")[\"Cases Started on Treatment_value_d_quarterly\"].sum()"
   ]
  },
  {
   "cell_type": "raw",
   "metadata": {},
   "source": [
    "# Por año\n",
    "\n",
    "initiatedTx.reset_index().groupby(\"year\")[\"Cases Started on Treatment_value_d\"].sum()\n",
    "\n",
    "year\n",
    "2012    3647.0\n",
    "2013    3472.0\n",
    "2014    3262.0\n",
    "2015    3449.0\n",
    "2016    3286.0\n",
    "2017    3108.0"
   ]
  },
  {
   "cell_type": "code",
   "execution_count": 35,
   "metadata": {},
   "outputs": [],
   "source": [
    "# Arriba se muestra que los conteos de las cohortes no encajan con los conteos de los que reciben tratamiento según las notificaciones.\n",
    "# Se podría deber a que hay personas que reciben tratamiento pero abandonan antes de que se registren en las cohortes\n",
    "# O podría ser que fueron notificados en un año pero se integraron en la cohorte en el siguiente año. \n",
    "# Sin embargo, las notificaciones muestran conteos muy bajos "
   ]
  },
  {
   "cell_type": "code",
   "execution_count": 36,
   "metadata": {},
   "outputs": [],
   "source": [
    "initiatedTx2 = initiatedTx.reindex(casesNotif.index).fillna(0)"
   ]
  },
  {
   "cell_type": "code",
   "execution_count": 37,
   "metadata": {},
   "outputs": [
    {
     "data": {
      "text/plain": [
       "(20228.0, 20224.0)"
      ]
     },
     "execution_count": 37,
     "metadata": {},
     "output_type": "execute_result"
    }
   ],
   "source": [
    "# Reindex is not bad in this case?? - 4 missing cases\n",
    "initiatedTx.sum(), initiatedTx2.groupby([initiatedTx2.index.get_level_values(0), \n",
    "                                         initiatedTx2.index.get_level_values(1),\n",
    "                                         initiatedTx2.index.get_level_values(2)]).first().sum()"
   ]
  },
  {
   "cell_type": "code",
   "execution_count": 38,
   "metadata": {},
   "outputs": [],
   "source": [
    "tbquimio = pd.read_csv(\"../../../Outcome Measurement Data/TUBERCULOSIS/Notificaciones TB/GTM - TB quimio 2012-Sep2018.csv\",\n",
    "                     index_col = 0, low_memory = False)"
   ]
  },
  {
   "cell_type": "code",
   "execution_count": 39,
   "metadata": {},
   "outputs": [
    {
     "data": {
      "text/html": [
       "<div>\n",
       "<style scoped>\n",
       "    .dataframe tbody tr th:only-of-type {\n",
       "        vertical-align: middle;\n",
       "    }\n",
       "\n",
       "    .dataframe tbody tr th {\n",
       "        vertical-align: top;\n",
       "    }\n",
       "\n",
       "    .dataframe thead th {\n",
       "        text-align: right;\n",
       "    }\n",
       "</style>\n",
       "<table border=\"1\" class=\"dataframe\">\n",
       "  <thead>\n",
       "    <tr style=\"text-align: right;\">\n",
       "      <th></th>\n",
       "      <th>NOMBRES</th>\n",
       "      <th>DIRECCION</th>\n",
       "      <th>MUNICIPIO</th>\n",
       "      <th>DEPARTAMENTO</th>\n",
       "      <th>SERVICIODESALUD</th>\n",
       "      <th>SEXO</th>\n",
       "      <th>EDAD</th>\n",
       "      <th>RANGOEDAD</th>\n",
       "      <th>PESOLBS</th>\n",
       "      <th>PESOKG</th>\n",
       "      <th>...</th>\n",
       "      <th>CONTROL7_GX</th>\n",
       "      <th>OBSERVACIONES</th>\n",
       "      <th>PRIORIZACION</th>\n",
       "      <th>PESOLB</th>\n",
       "      <th>NotificationDate</th>\n",
       "      <th>YearMonth_</th>\n",
       "      <th>DEPTO_CORRECTED</th>\n",
       "      <th>i</th>\n",
       "      <th>COD_DEPT</th>\n",
       "      <th>COD_MUNI</th>\n",
       "    </tr>\n",
       "  </thead>\n",
       "  <tbody>\n",
       "    <tr>\n",
       "      <th>1</th>\n",
       "      <td>NaN</td>\n",
       "      <td>NaN</td>\n",
       "      <td>GRANADOS</td>\n",
       "      <td>BAJA VERAPAZ</td>\n",
       "      <td>CS, GRANADOS</td>\n",
       "      <td>f</td>\n",
       "      <td>1.0</td>\n",
       "      <td>000 - 004</td>\n",
       "      <td>13.4</td>\n",
       "      <td>6.0909090909090908</td>\n",
       "      <td>...</td>\n",
       "      <td>NaN</td>\n",
       "      <td>NaN</td>\n",
       "      <td>NaN</td>\n",
       "      <td>NaN</td>\n",
       "      <td>NaN</td>\n",
       "      <td>NaN</td>\n",
       "      <td>BAJA VERAPAZ</td>\n",
       "      <td>165</td>\n",
       "      <td>15</td>\n",
       "      <td>1505</td>\n",
       "    </tr>\n",
       "    <tr>\n",
       "      <th>2</th>\n",
       "      <td>NaN</td>\n",
       "      <td>NaN</td>\n",
       "      <td>SALAMA</td>\n",
       "      <td>BAJA VERAPAZ</td>\n",
       "      <td>PS, LLANO GRANDE</td>\n",
       "      <td>f</td>\n",
       "      <td>8.0</td>\n",
       "      <td>005 - 009</td>\n",
       "      <td>50.8</td>\n",
       "      <td>23.090909090909086</td>\n",
       "      <td>...</td>\n",
       "      <td>NaN</td>\n",
       "      <td>NaN</td>\n",
       "      <td>NaN</td>\n",
       "      <td>NaN</td>\n",
       "      <td>NaN</td>\n",
       "      <td>NaN</td>\n",
       "      <td>BAJA VERAPAZ</td>\n",
       "      <td>167</td>\n",
       "      <td>15</td>\n",
       "      <td>1501</td>\n",
       "    </tr>\n",
       "    <tr>\n",
       "      <th>3</th>\n",
       "      <td>NaN</td>\n",
       "      <td>NaN</td>\n",
       "      <td>SALAMA</td>\n",
       "      <td>BAJA VERAPAZ</td>\n",
       "      <td>PS, LLANO GRANDE</td>\n",
       "      <td>m</td>\n",
       "      <td>5.0</td>\n",
       "      <td>005 - 009</td>\n",
       "      <td>35</td>\n",
       "      <td>15.909090909090908</td>\n",
       "      <td>...</td>\n",
       "      <td>NaN</td>\n",
       "      <td>NaN</td>\n",
       "      <td>NaN</td>\n",
       "      <td>NaN</td>\n",
       "      <td>NaN</td>\n",
       "      <td>NaN</td>\n",
       "      <td>BAJA VERAPAZ</td>\n",
       "      <td>168</td>\n",
       "      <td>15</td>\n",
       "      <td>1501</td>\n",
       "    </tr>\n",
       "    <tr>\n",
       "      <th>4</th>\n",
       "      <td>NaN</td>\n",
       "      <td>NaN</td>\n",
       "      <td>SALAMA</td>\n",
       "      <td>BAJA VERAPAZ</td>\n",
       "      <td>PS, LLANO GRANDE</td>\n",
       "      <td>m</td>\n",
       "      <td>6.0</td>\n",
       "      <td>005 - 009</td>\n",
       "      <td>36</td>\n",
       "      <td>16.363636363636363</td>\n",
       "      <td>...</td>\n",
       "      <td>NaN</td>\n",
       "      <td>NaN</td>\n",
       "      <td>NaN</td>\n",
       "      <td>NaN</td>\n",
       "      <td>NaN</td>\n",
       "      <td>NaN</td>\n",
       "      <td>BAJA VERAPAZ</td>\n",
       "      <td>169</td>\n",
       "      <td>15</td>\n",
       "      <td>1501</td>\n",
       "    </tr>\n",
       "    <tr>\n",
       "      <th>5</th>\n",
       "      <td>NaN</td>\n",
       "      <td>NaN</td>\n",
       "      <td>SALAMA</td>\n",
       "      <td>BAJA VERAPAZ</td>\n",
       "      <td>PS, LLANO GRANDE</td>\n",
       "      <td>m</td>\n",
       "      <td>2.0</td>\n",
       "      <td>000 - 004</td>\n",
       "      <td>24.8</td>\n",
       "      <td>11.272727272727272</td>\n",
       "      <td>...</td>\n",
       "      <td>NaN</td>\n",
       "      <td>NaN</td>\n",
       "      <td>NaN</td>\n",
       "      <td>NaN</td>\n",
       "      <td>NaN</td>\n",
       "      <td>NaN</td>\n",
       "      <td>BAJA VERAPAZ</td>\n",
       "      <td>170</td>\n",
       "      <td>15</td>\n",
       "      <td>1501</td>\n",
       "    </tr>\n",
       "  </tbody>\n",
       "</table>\n",
       "<p>5 rows × 114 columns</p>\n",
       "</div>"
      ],
      "text/plain": [
       "   NOMBRES  DIRECCION MUNICIPIO  DEPARTAMENTO   SERVICIODESALUD SEXO  EDAD  \\\n",
       "1      NaN        NaN  GRANADOS  BAJA VERAPAZ      CS, GRANADOS    f   1.0   \n",
       "2      NaN        NaN    SALAMA  BAJA VERAPAZ  PS, LLANO GRANDE    f   8.0   \n",
       "3      NaN        NaN    SALAMA  BAJA VERAPAZ  PS, LLANO GRANDE    m   5.0   \n",
       "4      NaN        NaN    SALAMA  BAJA VERAPAZ  PS, LLANO GRANDE    m   6.0   \n",
       "5      NaN        NaN    SALAMA  BAJA VERAPAZ  PS, LLANO GRANDE    m   2.0   \n",
       "\n",
       "   RANGOEDAD PESOLBS              PESOKG  ...  CONTROL7_GX OBSERVACIONES  \\\n",
       "1  000 - 004    13.4  6.0909090909090908  ...          NaN           NaN   \n",
       "2  005 - 009    50.8  23.090909090909086  ...          NaN           NaN   \n",
       "3  005 - 009      35  15.909090909090908  ...          NaN           NaN   \n",
       "4  005 - 009      36  16.363636363636363  ...          NaN           NaN   \n",
       "5  000 - 004    24.8  11.272727272727272  ...          NaN           NaN   \n",
       "\n",
       "  PRIORIZACION  PESOLB NotificationDate YearMonth_ DEPTO_CORRECTED    i  \\\n",
       "1          NaN     NaN              NaN        NaN    BAJA VERAPAZ  165   \n",
       "2          NaN     NaN              NaN        NaN    BAJA VERAPAZ  167   \n",
       "3          NaN     NaN              NaN        NaN    BAJA VERAPAZ  168   \n",
       "4          NaN     NaN              NaN        NaN    BAJA VERAPAZ  169   \n",
       "5          NaN     NaN              NaN        NaN    BAJA VERAPAZ  170   \n",
       "\n",
       "   COD_DEPT  COD_MUNI  \n",
       "1        15      1505  \n",
       "2        15      1501  \n",
       "3        15      1501  \n",
       "4        15      1501  \n",
       "5        15      1501  \n",
       "\n",
       "[5 rows x 114 columns]"
      ]
     },
     "execution_count": 39,
     "metadata": {},
     "output_type": "execute_result"
    }
   ],
   "source": [
    "tbquimio.head()"
   ]
  },
  {
   "cell_type": "code",
   "execution_count": 40,
   "metadata": {},
   "outputs": [],
   "source": [
    "tbquimio[\"year\"] = np.floor(tbquimio.YearMonth/100).astype(int)\n",
    "tbquimio[\"quarter\"] = (np.floor(( (tbquimio.YearMonth%100) - 1) / 3) + 1).astype(int)"
   ]
  },
  {
   "cell_type": "code",
   "execution_count": 41,
   "metadata": {},
   "outputs": [],
   "source": [
    "plhivipt= tbquimio[tbquimio.VIH==\"Reactive\"].assign(department = lambda x: np.floor(x.COD_MUNI/100))\\\n",
    ".groupby([\"year\", \"quarter\", \"department\", \"COD_MUNI\"]).apply(len)"
   ]
  },
  {
   "cell_type": "code",
   "execution_count": 42,
   "metadata": {},
   "outputs": [
    {
     "data": {
      "text/plain": [
       "FrozenList([[2012, 2013, 2014, 2015, 2016], [1, 2, 3, 4], [0.0, 1.0, 3.0, 5.0, 8.0, 9.0, 11.0, 12.0, 22.0], [0, 101, 108, 116, 306, 501, 503, 506, 511, 805, 902, 920, 924, 1102, 1105, 1106, 1108, 1109, 1215, 1218, 1225, 2205, 2207]])"
      ]
     },
     "execution_count": 42,
     "metadata": {},
     "output_type": "execute_result"
    }
   ],
   "source": [
    "plhivipt.index.levels"
   ]
  },
  {
   "cell_type": "code",
   "execution_count": 43,
   "metadata": {},
   "outputs": [],
   "source": [
    "plhivipt = plhivipt.rename(\"PLHIV started on IPT_value_m_quarterly\").fillna(0)\\\n",
    ".rename_axis(index={\"Year\": \"date\", \"COD_MUNI\": \"municipality\"}) #.reindex(casesNotif.index)"
   ]
  },
  {
   "cell_type": "code",
   "execution_count": 44,
   "metadata": {},
   "outputs": [],
   "source": [
    "# This is only contacts in notifications database. I am not sure if its ok."
   ]
  },
  {
   "cell_type": "code",
   "execution_count": 45,
   "metadata": {},
   "outputs": [],
   "source": [
    "childipt= tbquimio[(tbquimio.year<=2018) & (tbquimio.EDAD <= 5)].assign(department = lambda x: np.floor(x.COD_MUNI/100))\\\n",
    ".groupby([\"year\", \"quarter\", \"department\", \"COD_MUNI\"]).apply(len).rename(\"Children in Contact with TB Started IPT_value_m_quarterly\")"
   ]
  },
  {
   "cell_type": "code",
   "execution_count": 46,
   "metadata": {},
   "outputs": [
    {
     "data": {
      "text/plain": [
       "year  quarter  department  municipality\n",
       "2012  1        1.0         101             4\n",
       "                           102             1\n",
       "                           108             5\n",
       "                           110             5\n",
       "                           115             4\n",
       "Name: Children in Contact with TB Started IPT_value_m_quarterly, dtype: int64"
      ]
     },
     "execution_count": 46,
     "metadata": {},
     "output_type": "execute_result"
    }
   ],
   "source": [
    "childipt = childipt.rename_axis(index={\"COD_MUNI\": \"municipality\"}) #.reindex(casesNotif.index)\n",
    "childipt.head()"
   ]
  },
  {
   "cell_type": "code",
   "execution_count": 47,
   "metadata": {},
   "outputs": [],
   "source": [
    "# Cases Notified in Prisons_value\n",
    "pplcases = pd.read_csv(\"../../../Outcome Measurement Data/TUBERCULOSIS/Prisoners/PPL-conteos-2014-2017.csv\", index_col=0)"
   ]
  },
  {
   "cell_type": "code",
   "execution_count": 48,
   "metadata": {},
   "outputs": [
    {
     "data": {
      "text/html": [
       "<div>\n",
       "<style scoped>\n",
       "    .dataframe tbody tr th:only-of-type {\n",
       "        vertical-align: middle;\n",
       "    }\n",
       "\n",
       "    .dataframe tbody tr th {\n",
       "        vertical-align: top;\n",
       "    }\n",
       "\n",
       "    .dataframe thead th {\n",
       "        text-align: right;\n",
       "    }\n",
       "</style>\n",
       "<table border=\"1\" class=\"dataframe\">\n",
       "  <thead>\n",
       "    <tr style=\"text-align: right;\">\n",
       "      <th></th>\n",
       "      <th>YEAR</th>\n",
       "      <th>municipio</th>\n",
       "      <th>n</th>\n",
       "    </tr>\n",
       "  </thead>\n",
       "  <tbody>\n",
       "    <tr>\n",
       "      <th>0</th>\n",
       "      <td>2014</td>\n",
       "      <td>101</td>\n",
       "      <td>17</td>\n",
       "    </tr>\n",
       "    <tr>\n",
       "      <th>1</th>\n",
       "      <td>2014</td>\n",
       "      <td>113</td>\n",
       "      <td>5</td>\n",
       "    </tr>\n",
       "    <tr>\n",
       "      <th>2</th>\n",
       "      <td>2014</td>\n",
       "      <td>501</td>\n",
       "      <td>44</td>\n",
       "    </tr>\n",
       "    <tr>\n",
       "      <th>3</th>\n",
       "      <td>2014</td>\n",
       "      <td>601</td>\n",
       "      <td>1</td>\n",
       "    </tr>\n",
       "    <tr>\n",
       "      <th>4</th>\n",
       "      <td>2014</td>\n",
       "      <td>901</td>\n",
       "      <td>4</td>\n",
       "    </tr>\n",
       "  </tbody>\n",
       "</table>\n",
       "</div>"
      ],
      "text/plain": [
       "   YEAR  municipio   n\n",
       "0  2014        101  17\n",
       "1  2014        113   5\n",
       "2  2014        501  44\n",
       "3  2014        601   1\n",
       "4  2014        901   4"
      ]
     },
     "execution_count": 48,
     "metadata": {},
     "output_type": "execute_result"
    }
   ],
   "source": [
    "pplcases.head()"
   ]
  },
  {
   "cell_type": "code",
   "execution_count": 49,
   "metadata": {},
   "outputs": [],
   "source": [
    "pplcases = pplcases.assign(department = lambda x : np.floor(x.municipio/100))\\\n",
    ".assign(municipio = lambda y: y.municipio.astype(int)).rename(columns={\n",
    "    \"n\": \"Cases Notified in Prisons_value_m_yearly\", \n",
    "    \"YEAR\": \"year\", \n",
    "    \"municipio\": \"municipality\"\n",
    "})\\\n",
    ".set_index([\"year\", \"department\", \"municipality\"])"
   ]
  },
  {
   "cell_type": "code",
   "execution_count": 50,
   "metadata": {},
   "outputs": [
    {
     "name": "stdout",
     "output_type": "stream",
     "text": [
      "['year', 'department', 'municipality']\n",
      "imputing quarter index level\n"
     ]
    }
   ],
   "source": [
    "pplcases = makeFullIndex( pplcases)"
   ]
  },
  {
   "cell_type": "code",
   "execution_count": 51,
   "metadata": {},
   "outputs": [
    {
     "data": {
      "text/html": [
       "<div>\n",
       "<style scoped>\n",
       "    .dataframe tbody tr th:only-of-type {\n",
       "        vertical-align: middle;\n",
       "    }\n",
       "\n",
       "    .dataframe tbody tr th {\n",
       "        vertical-align: top;\n",
       "    }\n",
       "\n",
       "    .dataframe thead th {\n",
       "        text-align: right;\n",
       "    }\n",
       "</style>\n",
       "<table border=\"1\" class=\"dataframe\">\n",
       "  <thead>\n",
       "    <tr style=\"text-align: right;\">\n",
       "      <th></th>\n",
       "      <th></th>\n",
       "      <th></th>\n",
       "      <th></th>\n",
       "      <th>Cases Notified in Prisons_value_m_yearly</th>\n",
       "    </tr>\n",
       "    <tr>\n",
       "      <th>year</th>\n",
       "      <th>quarter</th>\n",
       "      <th>department</th>\n",
       "      <th>municipality</th>\n",
       "      <th></th>\n",
       "    </tr>\n",
       "  </thead>\n",
       "  <tbody>\n",
       "    <tr>\n",
       "      <th rowspan=\"5\" valign=\"top\">2014</th>\n",
       "      <th rowspan=\"5\" valign=\"top\">1</th>\n",
       "      <th rowspan=\"5\" valign=\"top\">1</th>\n",
       "      <th>101</th>\n",
       "      <td>17.0</td>\n",
       "    </tr>\n",
       "    <tr>\n",
       "      <th>102</th>\n",
       "      <td>NaN</td>\n",
       "    </tr>\n",
       "    <tr>\n",
       "      <th>103</th>\n",
       "      <td>NaN</td>\n",
       "    </tr>\n",
       "    <tr>\n",
       "      <th>104</th>\n",
       "      <td>NaN</td>\n",
       "    </tr>\n",
       "    <tr>\n",
       "      <th>105</th>\n",
       "      <td>NaN</td>\n",
       "    </tr>\n",
       "  </tbody>\n",
       "</table>\n",
       "</div>"
      ],
      "text/plain": [
       "                                      Cases Notified in Prisons_value_m_yearly\n",
       "year quarter department municipality                                          \n",
       "2014 1       1          101                                               17.0\n",
       "                        102                                                NaN\n",
       "                        103                                                NaN\n",
       "                        104                                                NaN\n",
       "                        105                                                NaN"
      ]
     },
     "execution_count": 51,
     "metadata": {},
     "output_type": "execute_result"
    }
   ],
   "source": [
    "pplcases.head()"
   ]
  },
  {
   "cell_type": "code",
   "execution_count": 52,
   "metadata": {},
   "outputs": [],
   "source": [
    "ppldata = pd.read_csv(\"../../../Outcome Measurement Data/TUBERCULOSIS/Prisoners/tb-ppl-2014-2017.csv\")"
   ]
  },
  {
   "cell_type": "code",
   "execution_count": 53,
   "metadata": {},
   "outputs": [],
   "source": [
    "ppldata[\"TXDATE\"] = pd.to_datetime(ppldata.TXDATE, errors=\"coerce\")"
   ]
  },
  {
   "cell_type": "code",
   "execution_count": 54,
   "metadata": {},
   "outputs": [
    {
     "name": "stdout",
     "output_type": "stream",
     "text": [
      "1\n"
     ]
    }
   ],
   "source": [
    "# Sólo una persona no recibió tratamiento.\n",
    "print(ppldata.TXDATE.isna().sum())\n",
    "ppldata = ppldata[ppldata.TXDATE.notna() & (ppldata.TXDATE.map(lambda x: x.year > 2012))]"
   ]
  },
  {
   "cell_type": "code",
   "execution_count": 55,
   "metadata": {},
   "outputs": [
    {
     "data": {
      "text/plain": [
       "3    143\n",
       "1    130\n",
       "2    122\n",
       "4    120\n",
       "Name: quarter, dtype: int64"
      ]
     },
     "execution_count": 55,
     "metadata": {},
     "output_type": "execute_result"
    }
   ],
   "source": [
    "ppldata[\"year\"] = ppldata.TXDATE.map(tryfun(lambda x: x.year)).astype(int)\n",
    "ppldata[\"quarter\"] = ppldata.TXDATE.map(tryfun(lambda x: np.floor((x.month-1) / 3 + 1)) ).astype(int)\n",
    "ppldata.quarter.value_counts(dropna=False)"
   ]
  },
  {
   "cell_type": "code",
   "execution_count": 56,
   "metadata": {},
   "outputs": [],
   "source": [
    "ppltx = ppldata[ppldata.TXDATE.notna()].assign(department = lambda x: np.floor(x.municode.astype(int)/100).astype(int) )\\\n",
    ".groupby([\"year\", \"quarter\", \"department\" , \"municode\"]).apply(len)\\\n",
    ".rename_axis(index={\"municode\": \"municipality\"})\\\n",
    ".rename(\"Cases Started on Treatment in Prisons_value_m_quarterly\")"
   ]
  },
  {
   "cell_type": "code",
   "execution_count": 57,
   "metadata": {},
   "outputs": [],
   "source": [
    "ppltx = ppltx[ppltx.index.get_level_values(\"year\")>2012]"
   ]
  },
  {
   "cell_type": "code",
   "execution_count": 320,
   "metadata": {
    "collapsed": true,
    "jupyter": {
     "outputs_hidden": true
    }
   },
   "outputs": [
    {
     "data": {
      "text/plain": [
       "year  quarter  department  municipality\n",
       "2014  1        1           101              6\n",
       "                           113              2\n",
       "               5           501             14\n",
       "               9           901              3\n",
       "               18          1801             2\n",
       "               19          1901             1\n",
       "      2        1           101              5\n",
       "                           113              2\n",
       "               5           501              9\n",
       "               6           601              1\n",
       "               18          1801             3\n",
       "               19          1901             1\n",
       "      3        1           101              5\n",
       "                           113              1\n",
       "               5           501             12\n",
       "               9           901              1\n",
       "               18          1801             4\n",
       "               19          1901             2\n",
       "      4        1           101              1\n",
       "               5           501              9\n",
       "               18          1801             4\n",
       "2015  1        1           101              4\n",
       "               5           501             13\n",
       "               10          1001             1\n",
       "               18          1801             5\n",
       "      2        1           101              5\n",
       "                           113              5\n",
       "               5           501              8\n",
       "               9           901              1\n",
       "               18          1801             7\n",
       "      3        1           101              8\n",
       "                           113              2\n",
       "               5           501             17\n",
       "               9           901              2\n",
       "               18          1801            12\n",
       "      4        1           101              2\n",
       "               5           501             11\n",
       "               9           901              2\n",
       "               18          1801             6\n",
       "2016  1        1           101             10\n",
       "                           113              3\n",
       "               5           501             18\n",
       "               9           901              5\n",
       "               17          1701             1\n",
       "               18          1801             2\n",
       "               19          1901             1\n",
       "      2        1           101              4\n",
       "                           113              4\n",
       "               5           501             13\n",
       "               9           901              2\n",
       "               18          1801             7\n",
       "      3        1           101             17\n",
       "                           113              1\n",
       "               5           501             16\n",
       "               9           901              2\n",
       "               18          1801             7\n",
       "      4        1           101              8\n",
       "                           113              4\n",
       "               5           501              7\n",
       "               9           901              2\n",
       "               10          1001             1\n",
       "               18          1801            21\n",
       "2017  1        1           101             14\n",
       "                           113              4\n",
       "               5           501             13\n",
       "               9           901              2\n",
       "               10          1001             6\n",
       "      2        1           101              9\n",
       "                           113              8\n",
       "               5           501             15\n",
       "               6           601              1\n",
       "               9           901              3\n",
       "               10          1001             6\n",
       "               19          1901             3\n",
       "      3        1           101              5\n",
       "                           113              5\n",
       "               5           501             13\n",
       "               6           601              3\n",
       "               9           901              1\n",
       "               10          1001             7\n",
       "      4        1           101             13\n",
       "                           113              9\n",
       "               5           501             16\n",
       "               10          1001             4\n",
       "Name: Cases Started on Treatment in Prisons_value_m_quarterly, dtype: int64"
      ]
     },
     "execution_count": 320,
     "metadata": {},
     "output_type": "execute_result"
    }
   ],
   "source": [
    "ppltx"
   ]
  },
  {
   "cell_type": "code",
   "execution_count": 321,
   "metadata": {},
   "outputs": [
    {
     "data": {
      "text/plain": [
       "year\n",
       "2012    269.0\n",
       "2013    226.0\n",
       "2014    197.0\n",
       "2015    173.0\n",
       "2016    163.0\n",
       "2017    218.0\n",
       "Name: value, dtype: float64"
      ]
     },
     "execution_count": 321,
     "metadata": {},
     "output_type": "execute_result"
    }
   ],
   "source": [
    "# Lets see in the cohort data:\n",
    "hivyear_A = cohortes[(cohortes.quarter.notna()) & \n",
    "       (cohortes.table.isin([\n",
    "                   \"Nuevos TB/VIH\",  # year <= 2016\n",
    "                   \"Nuevos Pulmonares TB/VIH Bact Conf\", \"Nuevos Pulmonares TB/VIH Dx Clinico\" #2017\n",
    "                ])) &\n",
    "       (cohortes.deptocode==0)].groupby([\"year\"]).value.sum()\n",
    "hivyear_A"
   ]
  },
  {
   "cell_type": "code",
   "execution_count": 322,
   "metadata": {},
   "outputs": [
    {
     "data": {
      "text/plain": [
       "year\n",
       "2012    290.0\n",
       "2013    277.0\n",
       "2014    263.0\n",
       "2015    200.0\n",
       "2016    259.0\n",
       "2017    241.0\n",
       "2018    157.0\n",
       "Name: Reactive, dtype: float64"
      ]
     },
     "execution_count": 322,
     "metadata": {},
     "output_type": "execute_result"
    }
   ],
   "source": [
    "# Now with notifications data:\n",
    "hivyear_B = notifs.groupby([\"year\", \"quarter\", \"VIH\"]).apply(len).unstack(2)[\"Reactive\"]\n",
    "hivyear_B = hivyear_B.groupby(hivyear_B.index.get_level_values(\"year\")).sum()\n",
    "hivyear_B"
   ]
  },
  {
   "cell_type": "code",
   "execution_count": 323,
   "metadata": {},
   "outputs": [
    {
     "data": {
      "text/plain": [
       "year\n",
       "2012    0.927586\n",
       "2013    0.815884\n",
       "2014    0.749049\n",
       "2015    0.865000\n",
       "2016    0.629344\n",
       "2017    0.904564\n",
       "2018         NaN\n",
       "dtype: float64"
      ]
     },
     "execution_count": 323,
     "metadata": {},
     "output_type": "execute_result"
    }
   ],
   "source": [
    "# HIV counts per year, from cohort and from notifications seems to be worse than in previous years\n",
    "# This may be interpreted as the percentage of HIV cases that received treatment.\n",
    "hivyear_A/hivyear_B"
   ]
  },
  {
   "cell_type": "code",
   "execution_count": 512,
   "metadata": {},
   "outputs": [],
   "source": [
    "# The actual data to integrate into the tables:\n",
    "# HIV/TB Cases Notified_value\n",
    "\n",
    "hivcases = notifs[(notifs.VIH == \"Reactive\") & (notifs.Year<=2018) & notifs.COD_MUNI.notna()]\\\n",
    ".assign(department = lambda x: (np.floor(x.municipality/100)).astype(int) ).groupby([\"year\", \"quarter\", \"department\", \"municipality\"]).apply(len)\\\n",
    ".rename(\"HIV/TB Cases Notified_value_m_quarterly\")"
   ]
  },
  {
   "cell_type": "code",
   "execution_count": 325,
   "metadata": {},
   "outputs": [
    {
     "data": {
      "text/plain": [
       "2017    95\n",
       "2018    28\n",
       "Name: YEAR, dtype: int64"
      ]
     },
     "execution_count": 325,
     "metadata": {},
     "output_type": "execute_result"
    }
   ],
   "source": [
    "# Now looking at MDR data in notifications:\n",
    "notifs[notifs.DBCATEGORY==\"MDR\"].YEAR.value_counts()"
   ]
  },
  {
   "cell_type": "code",
   "execution_count": 326,
   "metadata": {},
   "outputs": [],
   "source": [
    "# There is actually a MDR table with all available cohort data:\n",
    "mdrtb = pd.read_csv(\"../../../Outcome Measurement Data/TUBERCULOSIS/COHORTES/GTM - TB MDR Cohort Data 2014-2016.csv\")"
   ]
  },
  {
   "cell_type": "code",
   "execution_count": 327,
   "metadata": {},
   "outputs": [
    {
     "data": {
      "text/html": [
       "<div>\n",
       "<style scoped>\n",
       "    .dataframe tbody tr th:only-of-type {\n",
       "        vertical-align: middle;\n",
       "    }\n",
       "\n",
       "    .dataframe tbody tr th {\n",
       "        vertical-align: top;\n",
       "    }\n",
       "\n",
       "    .dataframe thead th {\n",
       "        text-align: right;\n",
       "    }\n",
       "</style>\n",
       "<table border=\"1\" class=\"dataframe\">\n",
       "  <thead>\n",
       "    <tr style=\"text-align: right;\">\n",
       "      <th></th>\n",
       "      <th>Unnamed: 0</th>\n",
       "      <th>Age</th>\n",
       "      <th>BD_ID</th>\n",
       "      <th>DAS</th>\n",
       "      <th>DateBk_1</th>\n",
       "      <th>DateCulture_1</th>\n",
       "      <th>DateCulture_10</th>\n",
       "      <th>DateCulture_11</th>\n",
       "      <th>DateCulture_12</th>\n",
       "      <th>DateCulture_13</th>\n",
       "      <th>...</th>\n",
       "      <th>TxDate_</th>\n",
       "      <th>TxDate_Year</th>\n",
       "      <th>DxDate_</th>\n",
       "      <th>DxDate_Year</th>\n",
       "      <th>ExitDate_</th>\n",
       "      <th>ExitDate_Year</th>\n",
       "      <th>PDSDate_</th>\n",
       "      <th>PDSDate_Year</th>\n",
       "      <th>GxDate_</th>\n",
       "      <th>deptocode</th>\n",
       "    </tr>\n",
       "  </thead>\n",
       "  <tbody>\n",
       "    <tr>\n",
       "      <th>0</th>\n",
       "      <td>0</td>\n",
       "      <td>23.0</td>\n",
       "      <td>MDR14-16</td>\n",
       "      <td>MEXICO</td>\n",
       "      <td>2014-01-21 00:00:00</td>\n",
       "      <td>2014-04-25 00:00:00</td>\n",
       "      <td>2014-11-06 00:00:00</td>\n",
       "      <td>NaN</td>\n",
       "      <td>2015-01-20 00:00:00</td>\n",
       "      <td>NaN</td>\n",
       "      <td>...</td>\n",
       "      <td>2014-01-30 00:00:00</td>\n",
       "      <td>2014.0</td>\n",
       "      <td>NaN</td>\n",
       "      <td>NaN</td>\n",
       "      <td>2014-05-30 00:00:00</td>\n",
       "      <td>2014.0</td>\n",
       "      <td>2014-04-30 00:00:00</td>\n",
       "      <td>2014.0</td>\n",
       "      <td>NaN</td>\n",
       "      <td>NaN</td>\n",
       "    </tr>\n",
       "    <tr>\n",
       "      <th>1</th>\n",
       "      <td>1</td>\n",
       "      <td>48.0</td>\n",
       "      <td>MDR14-16</td>\n",
       "      <td>Suchitepequez</td>\n",
       "      <td>2014-02-03 00:00:00</td>\n",
       "      <td>2014-05-11 00:00:00</td>\n",
       "      <td>NaN</td>\n",
       "      <td>2015-01-07 00:00:00</td>\n",
       "      <td>NaN</td>\n",
       "      <td>2015-03-05 00:00:00</td>\n",
       "      <td>...</td>\n",
       "      <td>2014-02-10 00:00:00</td>\n",
       "      <td>2014.0</td>\n",
       "      <td>NaN</td>\n",
       "      <td>NaN</td>\n",
       "      <td>2014-06-17 00:00:00</td>\n",
       "      <td>2014.0</td>\n",
       "      <td>2013-06-05 00:00:00</td>\n",
       "      <td>2013.0</td>\n",
       "      <td>NaN</td>\n",
       "      <td>10.0</td>\n",
       "    </tr>\n",
       "    <tr>\n",
       "      <th>2</th>\n",
       "      <td>2</td>\n",
       "      <td>19.0</td>\n",
       "      <td>MDR14-16</td>\n",
       "      <td>Guatemala Central</td>\n",
       "      <td>2014-02-05 00:00:00</td>\n",
       "      <td>2014-10-01 00:00:00</td>\n",
       "      <td>NaN</td>\n",
       "      <td>NaN</td>\n",
       "      <td>NaN</td>\n",
       "      <td>2015-07-25 00:00:00</td>\n",
       "      <td>...</td>\n",
       "      <td>10/02/2014 Y 26/06/14</td>\n",
       "      <td>NaN</td>\n",
       "      <td>NaN</td>\n",
       "      <td>NaN</td>\n",
       "      <td>2014-02-25 00:00:00</td>\n",
       "      <td>2014.0</td>\n",
       "      <td>NaN</td>\n",
       "      <td>NaN</td>\n",
       "      <td>NaN</td>\n",
       "      <td>1.0</td>\n",
       "    </tr>\n",
       "    <tr>\n",
       "      <th>3</th>\n",
       "      <td>3</td>\n",
       "      <td>22.0</td>\n",
       "      <td>MDR14-16</td>\n",
       "      <td>Retalhuleu</td>\n",
       "      <td>2014-02-06 00:00:00</td>\n",
       "      <td>2014-05-11 00:00:00</td>\n",
       "      <td>NaN</td>\n",
       "      <td>2015-01-13 00:00:00</td>\n",
       "      <td>NaN</td>\n",
       "      <td>NaN</td>\n",
       "      <td>...</td>\n",
       "      <td>2014-02-10 00:00:00</td>\n",
       "      <td>2014.0</td>\n",
       "      <td>NaN</td>\n",
       "      <td>NaN</td>\n",
       "      <td>2014-06-17 00:00:00</td>\n",
       "      <td>2014.0</td>\n",
       "      <td>2013-10-29 00:00:00</td>\n",
       "      <td>2013.0</td>\n",
       "      <td>NaN</td>\n",
       "      <td>11.0</td>\n",
       "    </tr>\n",
       "    <tr>\n",
       "      <th>4</th>\n",
       "      <td>4</td>\n",
       "      <td>79.0</td>\n",
       "      <td>MDR14-16</td>\n",
       "      <td>Suchitepequez</td>\n",
       "      <td>2014-02-05 00:00:00</td>\n",
       "      <td>2014-05-11 00:00:00</td>\n",
       "      <td>NaN</td>\n",
       "      <td>2015-01-07 00:00:00</td>\n",
       "      <td>NaN</td>\n",
       "      <td>2015-03-05 00:00:00</td>\n",
       "      <td>...</td>\n",
       "      <td>2014-02-10 00:00:00</td>\n",
       "      <td>2014.0</td>\n",
       "      <td>NaN</td>\n",
       "      <td>NaN</td>\n",
       "      <td>2014-06-17 00:00:00</td>\n",
       "      <td>2014.0</td>\n",
       "      <td>2013-06-11 00:00:00</td>\n",
       "      <td>2013.0</td>\n",
       "      <td>NaN</td>\n",
       "      <td>10.0</td>\n",
       "    </tr>\n",
       "  </tbody>\n",
       "</table>\n",
       "<p>5 rows × 99 columns</p>\n",
       "</div>"
      ],
      "text/plain": [
       "   Unnamed: 0   Age     BD_ID                DAS             DateBk_1  \\\n",
       "0           0  23.0  MDR14-16             MEXICO  2014-01-21 00:00:00   \n",
       "1           1  48.0  MDR14-16      Suchitepequez  2014-02-03 00:00:00   \n",
       "2           2  19.0  MDR14-16  Guatemala Central  2014-02-05 00:00:00   \n",
       "3           3  22.0  MDR14-16         Retalhuleu  2014-02-06 00:00:00   \n",
       "4           4  79.0  MDR14-16      Suchitepequez  2014-02-05 00:00:00   \n",
       "\n",
       "         DateCulture_1       DateCulture_10       DateCulture_11  \\\n",
       "0  2014-04-25 00:00:00  2014-11-06 00:00:00                  NaN   \n",
       "1  2014-05-11 00:00:00                  NaN  2015-01-07 00:00:00   \n",
       "2  2014-10-01 00:00:00                  NaN                  NaN   \n",
       "3  2014-05-11 00:00:00                  NaN  2015-01-13 00:00:00   \n",
       "4  2014-05-11 00:00:00                  NaN  2015-01-07 00:00:00   \n",
       "\n",
       "        DateCulture_12       DateCulture_13  ...                TxDate_  \\\n",
       "0  2015-01-20 00:00:00                  NaN  ...    2014-01-30 00:00:00   \n",
       "1                  NaN  2015-03-05 00:00:00  ...    2014-02-10 00:00:00   \n",
       "2                  NaN  2015-07-25 00:00:00  ...  10/02/2014 Y 26/06/14   \n",
       "3                  NaN                  NaN  ...    2014-02-10 00:00:00   \n",
       "4                  NaN  2015-03-05 00:00:00  ...    2014-02-10 00:00:00   \n",
       "\n",
       "  TxDate_Year DxDate_ DxDate_Year            ExitDate_ ExitDate_Year  \\\n",
       "0      2014.0     NaN         NaN  2014-05-30 00:00:00        2014.0   \n",
       "1      2014.0     NaN         NaN  2014-06-17 00:00:00        2014.0   \n",
       "2         NaN     NaN         NaN  2014-02-25 00:00:00        2014.0   \n",
       "3      2014.0     NaN         NaN  2014-06-17 00:00:00        2014.0   \n",
       "4      2014.0     NaN         NaN  2014-06-17 00:00:00        2014.0   \n",
       "\n",
       "              PDSDate_ PDSDate_Year GxDate_ deptocode  \n",
       "0  2014-04-30 00:00:00       2014.0     NaN       NaN  \n",
       "1  2013-06-05 00:00:00       2013.0     NaN      10.0  \n",
       "2                  NaN          NaN     NaN       1.0  \n",
       "3  2013-10-29 00:00:00       2013.0     NaN      11.0  \n",
       "4  2013-06-11 00:00:00       2013.0     NaN      10.0  \n",
       "\n",
       "[5 rows x 99 columns]"
      ]
     },
     "execution_count": 327,
     "metadata": {},
     "output_type": "execute_result"
    }
   ],
   "source": [
    "mdrtb.head()"
   ]
  },
  {
   "cell_type": "code",
   "execution_count": 328,
   "metadata": {},
   "outputs": [
    {
     "data": {
      "text/plain": [
       "Year\n",
       "14     1\n",
       "15     6\n",
       "16    22\n",
       "dtype: int64"
      ]
     },
     "execution_count": 328,
     "metadata": {},
     "output_type": "execute_result"
    }
   ],
   "source": [
    "# How many bad tx initiation date values are there?\n",
    "mdrtb.groupby(\"Year\").apply(lambda x: x.TxDate_Year.isna().sum())"
   ]
  },
  {
   "cell_type": "code",
   "execution_count": 329,
   "metadata": {},
   "outputs": [],
   "source": [
    "# MDR Cases Notified_value\n",
    "# MDR Cases Started Treatment_value\n",
    "\n",
    "mdrcases = mdrtb[mdrtb.deptocode.notna()]\\\n",
    ".assign(year = lambda x: x.Year+2000).assign(department = lambda x: x.deptocode.astype(int))\\\n",
    ".groupby([\"year\",\"department\"]).apply(len).rename(\"MDR Cases Notified_value_d_yearly\")\n",
    "    \n",
    "mdrtx = mdrtb[mdrtb.deptocode.notna() & (mdrtb.TxDate_Year.notna())]\\\n",
    ".assign(year = lambda x: x.TxDate_Year.map(tryfun(int)) ).assign(department = lambda x: x.deptocode.astype(int))\\\n",
    ".groupby([\"year\",\"department\"]).apply(len).rename(\"MDR Cases Started Treatment_value_d_yearly\")\n",
    "\n",
    "mdrtx = mdrtx[mdrtx.index.get_level_values(0)>2012]"
   ]
  },
  {
   "cell_type": "code",
   "execution_count": 330,
   "metadata": {},
   "outputs": [],
   "source": [
    "mdrtx.index = mdrtx.index.remove_unused_levels()"
   ]
  },
  {
   "cell_type": "code",
   "execution_count": 331,
   "metadata": {},
   "outputs": [
    {
     "name": "stdout",
     "output_type": "stream",
     "text": [
      "['year', 'department']\n",
      "imputing quarter index level\n"
     ]
    }
   ],
   "source": [
    "mdrtx = makeFullIndex(mdrtx)"
   ]
  },
  {
   "cell_type": "code",
   "execution_count": 559,
   "metadata": {},
   "outputs": [
    {
     "name": "stdout",
     "output_type": "stream",
     "text": [
      "['year', 'quarter', 'department', 'municipality']\n",
      "['year', 'department']\n",
      "imputing quarter index level\n",
      "['year', 'quarter', 'department']\n",
      "['year', 'quarter', 'department', 'municipality']\n",
      "['year', 'quarter', 'department', 'municipality']\n",
      "['year', 'quarter', 'department', 'municipality']\n",
      "['year', 'quarter', 'department', 'municipality']\n",
      "['year', 'quarter', 'department', 'municipality']\n",
      "['year', 'department']\n",
      "imputing quarter index level\n",
      "['year', 'quarter', 'department', 'municipality']\n"
     ]
    }
   ],
   "source": [
    "outputs = pd.merge(makeFullIndex(casesNotif) , makeFullIndex(acfcases2), left_index=True, right_index=True, how=\"outer\")\\\n",
    "            .merge(makeFullIndex(initiatedTx), left_index=True, right_index=True, how=\"outer\")\\\n",
    "            .merge(makeFullIndex(plhivipt), left_index=True, right_index=True, how=\"outer\")\\\n",
    "            .merge(makeFullIndex(childipt), left_index=True, right_index=True, how=\"outer\")\\\n",
    "            .merge(makeFullIndex(pplcases), left_index=True, right_index=True, how=\"outer\")\\\n",
    "            .merge(makeFullIndex(ppltx), left_index=True, right_index=True, how=\"outer\")\\\n",
    "            .merge(makeFullIndex(hivcases), left_index=True, right_index=True, how=\"outer\")\\\n",
    "            .merge(makeFullIndex(mdrcases), left_index=True, right_index=True, how=\"outer\")\\\n",
    "            .merge(makeFullIndex(mdrtx), left_index=True, right_index=True, how=\"outer\")\\"
   ]
  },
  {
   "cell_type": "code",
   "execution_count": 560,
   "metadata": {},
   "outputs": [
    {
     "data": {
      "text/html": [
       "<div>\n",
       "<style scoped>\n",
       "    .dataframe tbody tr th:only-of-type {\n",
       "        vertical-align: middle;\n",
       "    }\n",
       "\n",
       "    .dataframe tbody tr th {\n",
       "        vertical-align: top;\n",
       "    }\n",
       "\n",
       "    .dataframe thead th {\n",
       "        text-align: right;\n",
       "    }\n",
       "</style>\n",
       "<table border=\"1\" class=\"dataframe\">\n",
       "  <thead>\n",
       "    <tr style=\"text-align: right;\">\n",
       "      <th></th>\n",
       "      <th></th>\n",
       "      <th></th>\n",
       "      <th></th>\n",
       "      <th>Cases Notified_value_m_quarterly</th>\n",
       "      <th>Additional Cases Detected via ACF_value_d_yearly</th>\n",
       "      <th>Cases Started on Treatment_value_d_quarterly</th>\n",
       "      <th>PLHIV started on IPT_value_m_quarterly</th>\n",
       "      <th>Children in Contact with TB Started IPT_value_m_quarterly</th>\n",
       "      <th>Cases Notified in Prisons_value_m_yearly</th>\n",
       "      <th>Cases Started on Treatment in Prisons_value_m_quarterly</th>\n",
       "      <th>HIV/TB Cases Notified_value_m_quarterly</th>\n",
       "      <th>MDR Cases Notified_value_d_yearly</th>\n",
       "      <th>MDR Cases Started Treatment_value_d_yearly</th>\n",
       "    </tr>\n",
       "    <tr>\n",
       "      <th>year</th>\n",
       "      <th>quarter</th>\n",
       "      <th>department</th>\n",
       "      <th>municipality</th>\n",
       "      <th></th>\n",
       "      <th></th>\n",
       "      <th></th>\n",
       "      <th></th>\n",
       "      <th></th>\n",
       "      <th></th>\n",
       "      <th></th>\n",
       "      <th></th>\n",
       "      <th></th>\n",
       "      <th></th>\n",
       "    </tr>\n",
       "  </thead>\n",
       "  <tbody>\n",
       "  </tbody>\n",
       "</table>\n",
       "</div>"
      ],
      "text/plain": [
       "Empty DataFrame\n",
       "Columns: [Cases Notified_value_m_quarterly, Additional Cases Detected via ACF_value_d_yearly, Cases Started on Treatment_value_d_quarterly, PLHIV started on IPT_value_m_quarterly, Children in Contact with TB Started IPT_value_m_quarterly, Cases Notified in Prisons_value_m_yearly, Cases Started on Treatment in Prisons_value_m_quarterly, HIV/TB Cases Notified_value_m_quarterly, MDR Cases Notified_value_d_yearly, MDR Cases Started Treatment_value_d_yearly]\n",
       "Index: []"
      ]
     },
     "execution_count": 560,
     "metadata": {},
     "output_type": "execute_result"
    }
   ],
   "source": [
    "outputs[(outputs.index.get_level_values(\"municipality\") == 0) | \n",
    "       (outputs.index.get_level_values(\"municipality\") == \"\") | \n",
    "       (outputs.index.get_level_values(\"municipality\") == None)]"
   ]
  },
  {
   "cell_type": "code",
   "execution_count": 561,
   "metadata": {},
   "outputs": [],
   "source": [
    "# outputs"
   ]
  },
  {
   "cell_type": "code",
   "execution_count": 562,
   "metadata": {},
   "outputs": [],
   "source": [
    "outputs.to_csv(\"../../../Impact Evaluation/TB/outputs.csv\")"
   ]
  },
  {
   "cell_type": "code",
   "execution_count": 563,
   "metadata": {},
   "outputs": [
    {
     "data": {
      "text/plain": [
       "124.0"
      ]
     },
     "execution_count": 563,
     "metadata": {},
     "output_type": "execute_result"
    }
   ],
   "source": [
    "outputs.groupby([\"department\", \"year\"]).first()[\"MDR Cases Started Treatment_value_d_yearly\"].sum()"
   ]
  },
  {
   "cell_type": "markdown",
   "metadata": {},
   "source": [
    "# Activities"
   ]
  },
  {
   "cell_type": "markdown",
   "metadata": {},
   "source": [
    "Not available: \n",
    "* Tests Conducted_value\n",
    "* Active Case Finding Missions Conducted_value\n",
    "* Prisoners Screened_value\n"
   ]
  },
  {
   "cell_type": "code",
   "execution_count": 235,
   "metadata": {},
   "outputs": [],
   "source": [
    "# Tests Conducted_value\n",
    "sicoinRM = pd.read_csv(\"../../../Resource Tracking/SICOIN GT/IGRC02_Quarters_PCE_Ejecucion_Fisica.csv\")"
   ]
  },
  {
   "cell_type": "code",
   "execution_count": 236,
   "metadata": {},
   "outputs": [],
   "source": [
    "sicoinTB = sicoinRM[(sicoinRM.Programa == \"17-PREVENCIÓN Y CONTROL DE LA TUBERCULOSIS\") ]"
   ]
  },
  {
   "cell_type": "code",
   "execution_count": 207,
   "metadata": {},
   "outputs": [],
   "source": [
    "distrMeds = pd.read_csv(\"../../../Outcome Measurement Data/TUBERCULOSIS/Distribución Medicamentos TB/GTM-TB-distribution-2013-2018.csv\", index_col=0)"
   ]
  },
  {
   "cell_type": "code",
   "execution_count": 338,
   "metadata": {},
   "outputs": [
    {
     "data": {
      "text/html": [
       "<div>\n",
       "<style scoped>\n",
       "    .dataframe tbody tr th:only-of-type {\n",
       "        vertical-align: middle;\n",
       "    }\n",
       "\n",
       "    .dataframe tbody tr th {\n",
       "        vertical-align: top;\n",
       "    }\n",
       "\n",
       "    .dataframe thead th {\n",
       "        text-align: right;\n",
       "    }\n",
       "</style>\n",
       "<table border=\"1\" class=\"dataframe\">\n",
       "  <thead>\n",
       "    <tr style=\"text-align: right;\">\n",
       "      <th></th>\n",
       "      <th>Program</th>\n",
       "      <th>Product</th>\n",
       "      <th>Supplier</th>\n",
       "      <th>Department</th>\n",
       "      <th>Year</th>\n",
       "      <th>Month</th>\n",
       "      <th>Amount</th>\n",
       "      <th>Recipient</th>\n",
       "      <th>MG</th>\n",
       "      <th>Medicine</th>\n",
       "      <th>ML</th>\n",
       "      <th>code_dept</th>\n",
       "      <th>drug</th>\n",
       "      <th>class</th>\n",
       "      <th>quarter</th>\n",
       "    </tr>\n",
       "  </thead>\n",
       "  <tbody>\n",
       "    <tr>\n",
       "      <th>0</th>\n",
       "      <td>PROGRAMA NACIONAL DE TUBERCULOSIS</td>\n",
       "      <td>ISONIAZIDA, TABLETA DE 300 MG.</td>\n",
       "      <td>RESCO, SOCIEDAD ANONIMA/ OPS</td>\n",
       "      <td>ALTA VERAPAZ</td>\n",
       "      <td>2013</td>\n",
       "      <td>1</td>\n",
       "      <td>0.0</td>\n",
       "      <td>DAS</td>\n",
       "      <td>300</td>\n",
       "      <td>ISONIAZIDA</td>\n",
       "      <td>0.0</td>\n",
       "      <td>16</td>\n",
       "      <td>ISONIAZIDA</td>\n",
       "      <td>FIRSTLINE</td>\n",
       "      <td>1</td>\n",
       "    </tr>\n",
       "    <tr>\n",
       "      <th>1</th>\n",
       "      <td>PROGRAMA NACIONAL DE TUBERCULOSIS</td>\n",
       "      <td>ISONIAZIDA, TABLETA DE 300 MG.</td>\n",
       "      <td>RESCO, SOCIEDAD ANONIMA/ OPS</td>\n",
       "      <td>ALTA VERAPAZ</td>\n",
       "      <td>2013</td>\n",
       "      <td>2</td>\n",
       "      <td>2740.0</td>\n",
       "      <td>DAS</td>\n",
       "      <td>300</td>\n",
       "      <td>ISONIAZIDA</td>\n",
       "      <td>0.0</td>\n",
       "      <td>16</td>\n",
       "      <td>ISONIAZIDA</td>\n",
       "      <td>FIRSTLINE</td>\n",
       "      <td>1</td>\n",
       "    </tr>\n",
       "    <tr>\n",
       "      <th>2</th>\n",
       "      <td>PROGRAMA NACIONAL DE TUBERCULOSIS</td>\n",
       "      <td>ISONIAZIDA, TABLETA DE 300 MG.</td>\n",
       "      <td>RESCO, SOCIEDAD ANONIMA/ OPS</td>\n",
       "      <td>ALTA VERAPAZ</td>\n",
       "      <td>2013</td>\n",
       "      <td>3</td>\n",
       "      <td>0.0</td>\n",
       "      <td>DAS</td>\n",
       "      <td>300</td>\n",
       "      <td>ISONIAZIDA</td>\n",
       "      <td>0.0</td>\n",
       "      <td>16</td>\n",
       "      <td>ISONIAZIDA</td>\n",
       "      <td>FIRSTLINE</td>\n",
       "      <td>1</td>\n",
       "    </tr>\n",
       "    <tr>\n",
       "      <th>3</th>\n",
       "      <td>PROGRAMA NACIONAL DE TUBERCULOSIS</td>\n",
       "      <td>ISONIAZIDA, TABLETA DE 300 MG.</td>\n",
       "      <td>RESCO, SOCIEDAD ANONIMA/ OPS</td>\n",
       "      <td>ALTA VERAPAZ</td>\n",
       "      <td>2013</td>\n",
       "      <td>4</td>\n",
       "      <td>0.0</td>\n",
       "      <td>DAS</td>\n",
       "      <td>300</td>\n",
       "      <td>ISONIAZIDA</td>\n",
       "      <td>0.0</td>\n",
       "      <td>16</td>\n",
       "      <td>ISONIAZIDA</td>\n",
       "      <td>FIRSTLINE</td>\n",
       "      <td>2</td>\n",
       "    </tr>\n",
       "    <tr>\n",
       "      <th>4</th>\n",
       "      <td>PROGRAMA NACIONAL DE TUBERCULOSIS</td>\n",
       "      <td>ISONIAZIDA, TABLETA DE 300 MG.</td>\n",
       "      <td>RESCO, SOCIEDAD ANONIMA/ OPS</td>\n",
       "      <td>ALTA VERAPAZ</td>\n",
       "      <td>2013</td>\n",
       "      <td>5</td>\n",
       "      <td>3376.0</td>\n",
       "      <td>DAS</td>\n",
       "      <td>300</td>\n",
       "      <td>ISONIAZIDA</td>\n",
       "      <td>0.0</td>\n",
       "      <td>16</td>\n",
       "      <td>ISONIAZIDA</td>\n",
       "      <td>FIRSTLINE</td>\n",
       "      <td>2</td>\n",
       "    </tr>\n",
       "  </tbody>\n",
       "</table>\n",
       "</div>"
      ],
      "text/plain": [
       "                             Program                         Product  \\\n",
       "0  PROGRAMA NACIONAL DE TUBERCULOSIS  ISONIAZIDA, TABLETA DE 300 MG.   \n",
       "1  PROGRAMA NACIONAL DE TUBERCULOSIS  ISONIAZIDA, TABLETA DE 300 MG.   \n",
       "2  PROGRAMA NACIONAL DE TUBERCULOSIS  ISONIAZIDA, TABLETA DE 300 MG.   \n",
       "3  PROGRAMA NACIONAL DE TUBERCULOSIS  ISONIAZIDA, TABLETA DE 300 MG.   \n",
       "4  PROGRAMA NACIONAL DE TUBERCULOSIS  ISONIAZIDA, TABLETA DE 300 MG.   \n",
       "\n",
       "                       Supplier    Department  Year  Month  Amount Recipient  \\\n",
       "0  RESCO, SOCIEDAD ANONIMA/ OPS  ALTA VERAPAZ  2013      1     0.0       DAS   \n",
       "1  RESCO, SOCIEDAD ANONIMA/ OPS  ALTA VERAPAZ  2013      2  2740.0       DAS   \n",
       "2  RESCO, SOCIEDAD ANONIMA/ OPS  ALTA VERAPAZ  2013      3     0.0       DAS   \n",
       "3  RESCO, SOCIEDAD ANONIMA/ OPS  ALTA VERAPAZ  2013      4     0.0       DAS   \n",
       "4  RESCO, SOCIEDAD ANONIMA/ OPS  ALTA VERAPAZ  2013      5  3376.0       DAS   \n",
       "\n",
       "    MG    Medicine   ML  code_dept        drug      class  quarter  \n",
       "0  300  ISONIAZIDA  0.0         16  ISONIAZIDA  FIRSTLINE        1  \n",
       "1  300  ISONIAZIDA  0.0         16  ISONIAZIDA  FIRSTLINE        1  \n",
       "2  300  ISONIAZIDA  0.0         16  ISONIAZIDA  FIRSTLINE        1  \n",
       "3  300  ISONIAZIDA  0.0         16  ISONIAZIDA  FIRSTLINE        2  \n",
       "4  300  ISONIAZIDA  0.0         16  ISONIAZIDA  FIRSTLINE        2  "
      ]
     },
     "execution_count": 338,
     "metadata": {},
     "output_type": "execute_result"
    }
   ],
   "source": [
    "distrMeds.head()"
   ]
  },
  {
   "cell_type": "code",
   "execution_count": 341,
   "metadata": {},
   "outputs": [],
   "source": [
    "drugclass = pd.DataFrame(data = [\n",
    "    [\"RIFAMPICINA\", \"FIRSTLINE\"],\n",
    "    [\"ISONIAZIDA\", \"FIRSTLINE\"],\n",
    "    [\"ETHIONAMIDA\", \"SECONDLINE\"],\n",
    "    [\"PIRAZINAMIDA\", \"FIRSTLINE\"],\n",
    "    [\"TUBERCULINA\", \"DX\"],\n",
    "    [\"KANAMICINA\", \"SECONDLINE\"],\n",
    "    [\"LEVOFLOXACINA\", \"SECONDLINE\"],\n",
    "    [\"ETAMBUTOL\", \"FIRSTLINE\"],\n",
    "    [\"CLOFAZIMINE\", \"SECONDLINE\"],\n",
    "    [\"AMOXICILINA/ACIDO CLAVULANICO\", \"MDR\"],\n",
    "    [\"CICLOCERINA\", \"SECONDLINE\"],\n",
    "    [\"ESTREPTOMICINA\", \"FIRSTLINE\"],\n",
    "    [\"MOXIFLOXACINA\", \"SECONDLINE\"],\n",
    "    [\"ACIDO PARAAMINOSALICILICO\", \"SECONDLINE\"],\n",
    "    [\"CAPREOMICINA\", \"SECONDLINE\"],\n",
    "    [\"LINEZOLID\", \"SECONDLINE\"],\n",
    "    [\"IMIPENEM/CILASTATINA\", \"MDR\"]\n",
    "], columns= [\"drug\", \"class\"])\n",
    "\n",
    "distrMeds = distrMeds.merge(drugclass, left_on=\"Medicine\", right_on = \"drug\", how=\"outer\")"
   ]
  },
  {
   "cell_type": "code",
   "execution_count": 342,
   "metadata": {},
   "outputs": [
    {
     "data": {
      "text/plain": [
       "FIRSTLINE     14040\n",
       "SECONDLINE    12960\n",
       "DX             2160\n",
       "MDR            2160\n",
       "Name: class, dtype: int64"
      ]
     },
     "execution_count": 342,
     "metadata": {},
     "output_type": "execute_result"
    }
   ],
   "source": [
    "distrMeds[\"class\"].value_counts()"
   ]
  },
  {
   "cell_type": "code",
   "execution_count": 343,
   "metadata": {},
   "outputs": [],
   "source": [
    "distrMeds[\"quarter\"] = distrMeds.Month.map(lambda x: np.floor((x-1)/3)+1 ).astype(int)"
   ]
  },
  {
   "cell_type": "code",
   "execution_count": 344,
   "metadata": {},
   "outputs": [],
   "source": [
    "meds = distrMeds.groupby([\"Year\", \"quarter\", \"code_dept\"]).Amount.sum()\\\n",
    ".rename_axis( index = {\"Year\": \"year\", \"code_dept\": \"department\"})\\\n",
    ".rename(\"Total Drugs Distributed_value_d_quarterly\")"
   ]
  },
  {
   "cell_type": "code",
   "execution_count": 345,
   "metadata": {},
   "outputs": [],
   "source": [
    "pd.options.display.max_rows = 100"
   ]
  },
  {
   "cell_type": "code",
   "execution_count": 346,
   "metadata": {},
   "outputs": [
    {
     "data": {
      "text/plain": [
       "array(['ISONIAZIDA', 'RIFAMPICINA', 'PIRAZINAMIDA', 'ETAMBUTOL',\n",
       "       'ESTREPTOMICINA', 'KANAMICINA', 'CICLOCERINA', 'ETHIONAMIDA',\n",
       "       'LEVOFLOXACINA', 'TUBERCULINA', 'CLOFAZIMINE',\n",
       "       'AMOXICILINA/ACIDO CLAVULANICO', 'MOXIFLOXACINA', 'CICLOSERINA',\n",
       "       'CAPREOMICINA', 'ACIDO PARAAMINOSALICILICO', 'LINEZOLID',\n",
       "       'IMIPENEM/CILASTATINA'], dtype=object)"
      ]
     },
     "execution_count": 346,
     "metadata": {},
     "output_type": "execute_result"
    }
   ],
   "source": [
    "distrMeds.Medicine.unique()"
   ]
  },
  {
   "cell_type": "code",
   "execution_count": 347,
   "metadata": {},
   "outputs": [],
   "source": [
    "meds1 = distrMeds[(distrMeds[\"class\"] == \"FIRSTLINE\") & (distrMeds.Medicine != \"ISONIAZIDA\")].groupby([\"Year\", \"quarter\", \"code_dept\"]).Amount.sum()\\\n",
    ".rename_axis( index = {\"Year\": \"year\", \"code_dept\": \"department\"})\\\n",
    ".rename(\"Total First Line Drugs _minusIsonizide_ Distributed_value_d_quarterly\")\n",
    "medsMDR = distrMeds[distrMeds[\"class\"] == \"MDR\"].groupby([\"Year\", \"quarter\", \"code_dept\"]).Amount.sum()\\\n",
    ".rename_axis( index = {\"Year\": \"year\", \"code_dept\": \"department\"})\\\n",
    ".rename(\"Total MDR Drugs Distributed_value_d_quarterly\")\n",
    "medsDx = distrMeds[distrMeds[\"class\"] == \"DX\"].groupby([\"Year\", \"quarter\", \"code_dept\"]).Amount.sum()\\\n",
    ".rename_axis( index = {\"Year\": \"year\", \"code_dept\": \"department\"})\\\n",
    ".rename(\"Total Tuberculine Distributed_value_d_quarterly\")"
   ]
  },
  {
   "cell_type": "code",
   "execution_count": 348,
   "metadata": {},
   "outputs": [],
   "source": [
    "# Isoniazid Distributed_value\n",
    "isod = distrMeds[distrMeds.Medicine == \"ISONIAZIDA\"].groupby([\"Year\", \"quarter\", \"code_dept\"]).Amount.sum()\\\n",
    ".rename_axis( index = {\"Year\": \"year\", \"code_dept\": \"department\"})\\\n",
    ".rename(\"Isoniazid Distributed_value_d_quarterly\")"
   ]
  },
  {
   "cell_type": "code",
   "execution_count": 349,
   "metadata": {},
   "outputs": [],
   "source": [
    "# PLHIV Screened for TB_value\n",
    "hivtb = \\\n",
    "sicoinRM[(sicoinRM.Programa == \"16-PREVENCIÓN Y CONTROL DE ITS, VIH/SIDA\") &\n",
    "sicoinRM.Resultado.isin(\n",
    "       ['6.0-Paciente VIH positivo, con prueba diagnóstica de tuberculosis',\n",
    "       '6.0-Pacientes VIH positivos, con prueba diagnostica de Tuberculosis']\n",
    ") & (sicoinRM.LugarEjecutado.notna())].assign(year = lambda x: x.Year, quarter= lambda x: x.Trimestre, municipality = lambda x: x.LugarCod.map(int))\\\n",
    ".assign(department = lambda x: np.floor(x.municipality/100).astype(int) )\\\n",
    ".groupby([\"year\", \"quarter\", \"department\", \"municipality\"]).LugarEjecutado.sum()\\\n",
    ".rename(\"PLHIV Screened for TB_value_m_quarterly\")"
   ]
  },
  {
   "cell_type": "code",
   "execution_count": 350,
   "metadata": {},
   "outputs": [
    {
     "data": {
      "text/plain": [
       "(2014, 4, 7, 713)"
      ]
     },
     "execution_count": 350,
     "metadata": {},
     "output_type": "execute_result"
    }
   ],
   "source": [
    "hivtb.idxmax()"
   ]
  },
  {
   "cell_type": "code",
   "execution_count": 351,
   "metadata": {},
   "outputs": [],
   "source": [
    "# TB Patients Tested for HIV_value\n",
    "tbhivTx = sicoinRM[(sicoinRM.Programa == \"17-PREVENCIÓN Y CONTROL DE LA TUBERCULOSIS\") &\n",
    "sicoinRM.Resultado.isin(\n",
    "       ['7.0-Persona con diagnóstico de tuberculosis con prueba diagnóstica de VIH',\n",
    "       '7.0-Casos de Tuberculosis con prueba diagnóstica de VIH']\n",
    ") & (sicoinRM.LugarEjecutado.notna())].assign(year = lambda x: x.Year, quarter = lambda x: x.Trimestre, municipality = lambda x: x.LugarCod.map(int))\\\n",
    ".assign(department = lambda x: np.floor(x.municipality/100).astype(int) )\\\n",
    ".groupby([\"year\", \"quarter\", \"department\", \"municipality\"]).LugarEjecutado.sum()\\\n",
    ".rename(\"TB Patients Tested for HIV_value_m_quarterly\")"
   ]
  },
  {
   "cell_type": "code",
   "execution_count": 352,
   "metadata": {},
   "outputs": [],
   "source": [
    "# Number of Cases Screened for MDR_value\n",
    "mdrSx = sicoinRM[(sicoinRM.Programa == \"17-PREVENCIÓN Y CONTROL DE LA TUBERCULOSIS\") &\n",
    "sicoinRM.Resultado.isin(\n",
    "       ['9.0-Persona con diagnóstico de fracasos al tratamiento de tuberculosis con prueba diagnóstica a TB-MDR (tuberculosis multidrogo resistente)',\n",
    "        '9.0-Casos de fracasos a tratamiento de Tuberculosis con prueba diagnóstica a TB-MDR']\n",
    ") & (sicoinRM.LugarEjecutado.notna())].assign(year = lambda x: x.Year, quarter = lambda x: x.Trimestre, municipality = lambda x: x.LugarCod.map(int))\\\n",
    ".assign(department = lambda x: np.floor(x.municipality/100).astype(int) )\\\n",
    ".groupby([\"year\", \"quarter\", \"department\", \"municipality\"]).LugarEjecutado.sum()\\\n",
    ".rename(\"Number of Cases Screened for MDR_value_m_quarterly\")"
   ]
  },
  {
   "cell_type": "code",
   "execution_count": 353,
   "metadata": {},
   "outputs": [],
   "source": [
    "cohortsExtraD = pd.read_csv(\"../../../Outcome Measurement Data/TUBERCULOSIS/COHORTES/GTM - Tx Cohort Data - Extra tables.csv\")"
   ]
  },
  {
   "cell_type": "code",
   "execution_count": 354,
   "metadata": {},
   "outputs": [
    {
     "data": {
      "text/plain": [
       "Index(['year', 'table', 'das', 'column', 'value', 'col_index', 'deptocode'], dtype='object')"
      ]
     },
     "execution_count": 354,
     "metadata": {},
     "output_type": "execute_result"
    }
   ],
   "source": [
    "cohortsExtraD.columns"
   ]
  },
  {
   "cell_type": "code",
   "execution_count": 355,
   "metadata": {},
   "outputs": [
    {
     "data": {
      "text/plain": [
       "array(['SR', 'Nuevos BK+', 'Nuevos BK-', 'Nuevos Extrapulmonares',\n",
       "       'Pediatricos', 'TB/VIH Iniciaron TARV', 'TB/VIH Tx Preventivo',\n",
       "       'SR Extension Cobertura', 'Nuevos BK+ Extension Cobertura',\n",
       "       'Tamizaje Contactos', 'Contactos con TB', 'Contactos Tx 0-10a',\n",
       "       'Centros de salud EATB', 'Puestos de salud EATB',\n",
       "       'Hospitales EATB', 'Jurisdicciones EATB', 'Otros EATB',\n",
       "       'Laboratorios', 'Laboratorios baciloscopias',\n",
       "       'Laboratorios cultivo', 'Laboratorios sensibilidad drogas',\n",
       "       'Contactos Tx 0-5a', 'VIH Tx Preventivo', 'ExtCob EATB'],\n",
       "      dtype=object)"
      ]
     },
     "execution_count": 355,
     "metadata": {},
     "output_type": "execute_result"
    }
   ],
   "source": [
    "cohortsExtraD.table.unique()"
   ]
  },
  {
   "cell_type": "code",
   "execution_count": 356,
   "metadata": {},
   "outputs": [
    {
     "data": {
      "text/plain": [
       "array(['Nuevos Pulmonares Bact Conf', 'Nuevos Pulmonares Adultos BK+',\n",
       "       'Nuevos Pulmonares Adultos Genexpert',\n",
       "       'Nuevos Pulmonares Adultos Cultivo',\n",
       "       'Nuevos Pulmonares pediatricos Bact Conf',\n",
       "       'Nuevos Pulmonares pediatricos BK+',\n",
       "       'Nuevos Pulmonares pediatricos Cultivo',\n",
       "       'Nuevos Pulmonares pediatricos Genexpert',\n",
       "       'Nuevos Extrapulmonares Bact Conf',\n",
       "       'Nuevos Extrapulmonares Adultos Bact Conf',\n",
       "       'Nuevos Extrapulmonares pediatricos Bact Conf',\n",
       "       'Nuevos Pulmonares Dx Clinico',\n",
       "       'Nuevos Pulmonares Dx Clinico Adultos',\n",
       "       'Nuevos Extrapulmonares Dx Clinico',\n",
       "       'Nuevos Extrapulmonares Dx Clinico Adultos',\n",
       "       'Nuevos Extrapulmonares Dx Clinico pediatricos',\n",
       "       'Nuevos Pulmonares TB/VIH Bact Conf',\n",
       "       'Nuevos Pulmonares TB/VIH BK+',\n",
       "       'Nuevos Pulmonares TB/VIH Genexpert',\n",
       "       'Nuevos Pulmonares TB/VIH Cultivo',\n",
       "       'Nuevos Pulmonares TB/VIH Dx Clinico', 'Retratamiento Bact Conf',\n",
       "       'Retratamiento TB/VIH Bact Conf', 'Retratamiento Dx Clinico',\n",
       "       'Retratamiento Extrapulmonar',\n",
       "       'Retratamiento Extrapulmonar & TB/VIH',\n",
       "       'MDR sensitivity tests on new', 'MDR confirmed cases from new',\n",
       "       'MDR test on previously treated',\n",
       "       'MDR confirmed from previously treated',\n",
       "       'MDR 2nd line treatment begun', 'MDR TB/HIV',\n",
       "       'MDR less than 10 years', 'RR sensitivity tests on new',\n",
       "       'RR confirmed cases from new', 'RR test on previously treated',\n",
       "       'RR confirmed from previously treated',\n",
       "       'RR 2nd line treatment begun', 'RR TB/HIV',\n",
       "       'RR less than 10 years', 'Nuevos Pulmonares Genexpert',\n",
       "       'Nuevos Pulmonares pediatricos BK-', 'Nuevos Extrapulmonares BK+',\n",
       "       'Nuevos Extrapulmonares pediatricos BK+',\n",
       "       'Nuevos Extrapulmonares BK-',\n",
       "       'Nuevos Extrapulmonares pediatricos BK-', 'Retratamiento BK+',\n",
       "       'Retratamiento Recaidas & BK+',\n",
       "       'Retratamiento Abandonos Recuperados & BK+',\n",
       "       'Retratamiento Fracasos & BK+', 'Retratamiento TB/VIH & BK+',\n",
       "       'Retratamiento BK-', 'Retratamiento Recaidas & BK-',\n",
       "       'Retratamiento Abandonos Recuperados & BK-',\n",
       "       'Retratamiento Fracasos & BK-', 'Retratamiento TB/VIH & BK-',\n",
       "       'Nuevos Pulmonares BK+', 'Nuevos Pulmonares BK-',\n",
       "       'Nuevos Extrapulmonares', 'Nuevos Extrapulmonares TB/VIH',\n",
       "       'Nuevos Pediatricos BK+', 'Nuevos Pediatricos BK-',\n",
       "       'Nuevos Pulmonares TB/VIH BK-',\n",
       "       'Nuevos Extrapulmonares Pediatricos',\n",
       "       'Nuevos Pediatricos TB/VIH BK+', 'Nuevos Pediatricos TB/VIH BK-',\n",
       "       'Nuevos Extrapulmonares Pediatricos TB/VIH',\n",
       "       'Retratamiento Pediatricos BK+', 'Retratamiento Pediatricos BK-',\n",
       "       'Retratamiento Pediatricos BK+ TB/VIH',\n",
       "       'Retratamiento Pediatricos BK- TB/VIH', 'Retratamiento BK+ TB/VIH',\n",
       "       'Retratamiento BK- TB/VIH', 'Retratamiento Extrapulmonar TB/VIH',\n",
       "       'Retratamiento Extrapulmonar Pediatricos',\n",
       "       'Retratamiento Extrapulmonar Pediatricos TB/VIH',\n",
       "       'Nuevos Pediatricos', 'Nuevos Pediatricos Extrapulmonares',\n",
       "       'Retratamiento TB/VIH BK+', 'Retratamiento TB/VIH BK-',\n",
       "       'Retratamiento Pediatricos', 'Retratamiento Pediatricos TB/VIH',\n",
       "       'MDR less than 14 years', 'Nuevos TB/VIH', 'Retratamiento'],\n",
       "      dtype=object)"
      ]
     },
     "execution_count": 356,
     "metadata": {},
     "output_type": "execute_result"
    }
   ],
   "source": [
    "cohortes.table.unique()"
   ]
  },
  {
   "cell_type": "code",
   "execution_count": 357,
   "metadata": {},
   "outputs": [
    {
     "data": {
      "text/html": [
       "<div>\n",
       "<style scoped>\n",
       "    .dataframe tbody tr th:only-of-type {\n",
       "        vertical-align: middle;\n",
       "    }\n",
       "\n",
       "    .dataframe tbody tr th {\n",
       "        vertical-align: top;\n",
       "    }\n",
       "\n",
       "    .dataframe thead th {\n",
       "        text-align: right;\n",
       "    }\n",
       "</style>\n",
       "<table border=\"1\" class=\"dataframe\">\n",
       "  <thead>\n",
       "    <tr style=\"text-align: right;\">\n",
       "      <th></th>\n",
       "      <th>Unnamed: 0</th>\n",
       "      <th>col_name</th>\n",
       "      <th>deptocode</th>\n",
       "      <th>row_name</th>\n",
       "      <th>row_name_B</th>\n",
       "      <th>table</th>\n",
       "      <th>value</th>\n",
       "      <th>year</th>\n",
       "      <th>quarter</th>\n",
       "    </tr>\n",
       "  </thead>\n",
       "  <tbody>\n",
       "    <tr>\n",
       "      <th>819</th>\n",
       "      <td>819</td>\n",
       "      <td>NaN</td>\n",
       "      <td>0</td>\n",
       "      <td>NaN</td>\n",
       "      <td>NaN</td>\n",
       "      <td>MDR sensitivity tests on new</td>\n",
       "      <td>22.0</td>\n",
       "      <td>2017</td>\n",
       "      <td>NaN</td>\n",
       "    </tr>\n",
       "    <tr>\n",
       "      <th>821</th>\n",
       "      <td>821</td>\n",
       "      <td>NaN</td>\n",
       "      <td>0</td>\n",
       "      <td>NaN</td>\n",
       "      <td>NaN</td>\n",
       "      <td>MDR test on previously treated</td>\n",
       "      <td>20.0</td>\n",
       "      <td>2017</td>\n",
       "      <td>NaN</td>\n",
       "    </tr>\n",
       "    <tr>\n",
       "      <th>25638</th>\n",
       "      <td>25638</td>\n",
       "      <td>NaN</td>\n",
       "      <td>0</td>\n",
       "      <td>NaN</td>\n",
       "      <td>NaN</td>\n",
       "      <td>MDR sensitivity tests on new</td>\n",
       "      <td>116.0</td>\n",
       "      <td>2016</td>\n",
       "      <td>NaN</td>\n",
       "    </tr>\n",
       "    <tr>\n",
       "      <th>25640</th>\n",
       "      <td>25640</td>\n",
       "      <td>NaN</td>\n",
       "      <td>0</td>\n",
       "      <td>NaN</td>\n",
       "      <td>NaN</td>\n",
       "      <td>MDR test on previously treated</td>\n",
       "      <td>65.0</td>\n",
       "      <td>2016</td>\n",
       "      <td>NaN</td>\n",
       "    </tr>\n",
       "    <tr>\n",
       "      <th>45432</th>\n",
       "      <td>45432</td>\n",
       "      <td>NaN</td>\n",
       "      <td>0</td>\n",
       "      <td>NaN</td>\n",
       "      <td>NaN</td>\n",
       "      <td>MDR sensitivity tests on new</td>\n",
       "      <td>210.0</td>\n",
       "      <td>2015</td>\n",
       "      <td>NaN</td>\n",
       "    </tr>\n",
       "    <tr>\n",
       "      <th>45434</th>\n",
       "      <td>45434</td>\n",
       "      <td>NaN</td>\n",
       "      <td>0</td>\n",
       "      <td>NaN</td>\n",
       "      <td>NaN</td>\n",
       "      <td>MDR test on previously treated</td>\n",
       "      <td>94.0</td>\n",
       "      <td>2015</td>\n",
       "      <td>NaN</td>\n",
       "    </tr>\n",
       "    <tr>\n",
       "      <th>63288</th>\n",
       "      <td>63288</td>\n",
       "      <td>NaN</td>\n",
       "      <td>0</td>\n",
       "      <td>NaN</td>\n",
       "      <td>NaN</td>\n",
       "      <td>MDR sensitivity tests on new</td>\n",
       "      <td>22.0</td>\n",
       "      <td>2014</td>\n",
       "      <td>NaN</td>\n",
       "    </tr>\n",
       "    <tr>\n",
       "      <th>63290</th>\n",
       "      <td>63290</td>\n",
       "      <td>NaN</td>\n",
       "      <td>0</td>\n",
       "      <td>NaN</td>\n",
       "      <td>NaN</td>\n",
       "      <td>MDR test on previously treated</td>\n",
       "      <td>0.0</td>\n",
       "      <td>2014</td>\n",
       "      <td>NaN</td>\n",
       "    </tr>\n",
       "    <tr>\n",
       "      <th>86424</th>\n",
       "      <td>86424</td>\n",
       "      <td>NaN</td>\n",
       "      <td>0</td>\n",
       "      <td>NaN</td>\n",
       "      <td>NaN</td>\n",
       "      <td>MDR sensitivity tests on new</td>\n",
       "      <td>67.0</td>\n",
       "      <td>2013</td>\n",
       "      <td>NaN</td>\n",
       "    </tr>\n",
       "    <tr>\n",
       "      <th>86426</th>\n",
       "      <td>86426</td>\n",
       "      <td>NaN</td>\n",
       "      <td>0</td>\n",
       "      <td>NaN</td>\n",
       "      <td>NaN</td>\n",
       "      <td>MDR test on previously treated</td>\n",
       "      <td>72.0</td>\n",
       "      <td>2013</td>\n",
       "      <td>NaN</td>\n",
       "    </tr>\n",
       "    <tr>\n",
       "      <th>106254</th>\n",
       "      <td>106254</td>\n",
       "      <td>NaN</td>\n",
       "      <td>0</td>\n",
       "      <td>NaN</td>\n",
       "      <td>NaN</td>\n",
       "      <td>MDR sensitivity tests on new</td>\n",
       "      <td>62.0</td>\n",
       "      <td>2012</td>\n",
       "      <td>NaN</td>\n",
       "    </tr>\n",
       "    <tr>\n",
       "      <th>106256</th>\n",
       "      <td>106256</td>\n",
       "      <td>NaN</td>\n",
       "      <td>0</td>\n",
       "      <td>NaN</td>\n",
       "      <td>NaN</td>\n",
       "      <td>MDR test on previously treated</td>\n",
       "      <td>67.0</td>\n",
       "      <td>2012</td>\n",
       "      <td>NaN</td>\n",
       "    </tr>\n",
       "  </tbody>\n",
       "</table>\n",
       "</div>"
      ],
      "text/plain": [
       "        Unnamed: 0 col_name  deptocode row_name row_name_B  \\\n",
       "819            819      NaN          0      NaN        NaN   \n",
       "821            821      NaN          0      NaN        NaN   \n",
       "25638        25638      NaN          0      NaN        NaN   \n",
       "25640        25640      NaN          0      NaN        NaN   \n",
       "45432        45432      NaN          0      NaN        NaN   \n",
       "45434        45434      NaN          0      NaN        NaN   \n",
       "63288        63288      NaN          0      NaN        NaN   \n",
       "63290        63290      NaN          0      NaN        NaN   \n",
       "86424        86424      NaN          0      NaN        NaN   \n",
       "86426        86426      NaN          0      NaN        NaN   \n",
       "106254      106254      NaN          0      NaN        NaN   \n",
       "106256      106256      NaN          0      NaN        NaN   \n",
       "\n",
       "                                 table  value  year  quarter  \n",
       "819       MDR sensitivity tests on new   22.0  2017      NaN  \n",
       "821     MDR test on previously treated   20.0  2017      NaN  \n",
       "25638     MDR sensitivity tests on new  116.0  2016      NaN  \n",
       "25640   MDR test on previously treated   65.0  2016      NaN  \n",
       "45432     MDR sensitivity tests on new  210.0  2015      NaN  \n",
       "45434   MDR test on previously treated   94.0  2015      NaN  \n",
       "63288     MDR sensitivity tests on new   22.0  2014      NaN  \n",
       "63290   MDR test on previously treated    0.0  2014      NaN  \n",
       "86424     MDR sensitivity tests on new   67.0  2013      NaN  \n",
       "86426   MDR test on previously treated   72.0  2013      NaN  \n",
       "106254    MDR sensitivity tests on new   62.0  2012      NaN  \n",
       "106256  MDR test on previously treated   67.0  2012      NaN  "
      ]
     },
     "execution_count": 357,
     "metadata": {},
     "output_type": "execute_result"
    }
   ],
   "source": [
    "cohortes[cohortes.table.isin(['MDR sensitivity tests on new','MDR test on previously treated']) & \n",
    "        (cohortes.deptocode==0)]"
   ]
  },
  {
   "cell_type": "code",
   "execution_count": 358,
   "metadata": {},
   "outputs": [],
   "source": [
    "mdrSx = cohortes[cohortes.table.isin(['MDR sensitivity tests on new','MDR test on previously treated']) & \n",
    "        (cohortes.deptocode!=0)].groupby([\"year\", \"deptocode\"]).value.sum()\\\n",
    "            .rename_axis(index={ \"year\": \"year\", \"deptocode\": \"department\" })\\\n",
    "            .rename(\"Number of Cases Screened for MDR_value_d_yearly\")"
   ]
  },
  {
   "cell_type": "code",
   "execution_count": 359,
   "metadata": {},
   "outputs": [
    {
     "data": {
      "text/plain": [
       "year  department\n",
       "2017  18            8.0\n",
       "      19            0.0\n",
       "      20            0.0\n",
       "      21            0.0\n",
       "      22            0.0\n",
       "Name: Number of Cases Screened for MDR_value_d_yearly, dtype: float64"
      ]
     },
     "execution_count": 359,
     "metadata": {},
     "output_type": "execute_result"
    }
   ],
   "source": [
    "mdrSx.tail()"
   ]
  },
  {
   "cell_type": "code",
   "execution_count": 360,
   "metadata": {},
   "outputs": [],
   "source": [
    "# Second Line Drugs Distributed_value"
   ]
  },
  {
   "cell_type": "code",
   "execution_count": 361,
   "metadata": {},
   "outputs": [],
   "source": [
    "# De acuerdo al manual de tb drogoresistente del programa\n",
    "segundaLinea = [\n",
    "    'LEVOFLOXACINA',\n",
    "    'CAPREOMICINA',\n",
    "    'MOXIFLOXACINA',\n",
    "    'KANAMICINA',\n",
    "    'ESTREPTOMICINA',\n",
    "    'ETHIONAMIDA',\n",
    "    'CICLOCERINA',\n",
    "    'CICLOSERINA',\n",
    "    'LINEZOLID',\n",
    "    'CLOFAZIMINE',\n",
    "    'PIRAZINAMIDA',\n",
    "    'ETAMBUTOL',\n",
    "    'ACIDO PARAAMINOSALICILICO',\n",
    "    'IMIPENEM/CILASTATINA',\n",
    "    'AMOXICILINA/ACIDO CLAVULANICO',\n",
    "]"
   ]
  },
  {
   "cell_type": "code",
   "execution_count": 362,
   "metadata": {},
   "outputs": [],
   "source": [
    "meds2dl = distrMeds[distrMeds.Medicine.isin(segundaLinea)].groupby([\"Year\", \"quarter\", \"code_dept\"]).Amount.sum()\\\n",
    ".rename_axis( index = {\"Year\": \"year\", \"code_dept\": \"department\"})\\\n",
    ".rename(\"Second Line Drugs Distributed_value_d\")"
   ]
  },
  {
   "cell_type": "code",
   "execution_count": 556,
   "metadata": {},
   "outputs": [
    {
     "name": "stdout",
     "output_type": "stream",
     "text": [
      "['year', 'quarter', 'department']\n",
      "['year', 'quarter', 'department']\n",
      "['year', 'quarter', 'department', 'municipality']\n",
      "['year', 'quarter', 'department', 'municipality']\n",
      "['year', 'department']\n",
      "imputing quarter index level\n",
      "['year', 'quarter', 'department']\n",
      "['year', 'quarter', 'department']\n",
      "['year', 'quarter', 'department']\n"
     ]
    }
   ],
   "source": [
    "activities = pd.merge(makeFullIndex(meds1), makeFullIndex(isod), left_index=True, right_index=True, how=\"outer\")\\\n",
    "            .merge(makeFullIndex(hivtb), left_index=True, right_index=True, how=\"outer\")\\\n",
    "            .merge(makeFullIndex(tbhivTx), left_index=True, right_index=True, how=\"outer\")\\\n",
    "            .merge(makeFullIndex(mdrSx), left_index=True, right_index=True, how=\"outer\")\\\n",
    "            .merge(makeFullIndex(meds2dl), left_index=True, right_index=True, how=\"outer\")\\\n",
    "            .merge(makeFullIndex(medsMDR), left_index=True, right_index=True, how=\"outer\")\\\n",
    "            .merge(makeFullIndex(medsDx), left_index=True, right_index=True, how=\"outer\")"
   ]
  },
  {
   "cell_type": "code",
   "execution_count": 557,
   "metadata": {},
   "outputs": [
    {
     "data": {
      "text/html": [
       "<div>\n",
       "<style scoped>\n",
       "    .dataframe tbody tr th:only-of-type {\n",
       "        vertical-align: middle;\n",
       "    }\n",
       "\n",
       "    .dataframe tbody tr th {\n",
       "        vertical-align: top;\n",
       "    }\n",
       "\n",
       "    .dataframe thead th {\n",
       "        text-align: right;\n",
       "    }\n",
       "</style>\n",
       "<table border=\"1\" class=\"dataframe\">\n",
       "  <thead>\n",
       "    <tr style=\"text-align: right;\">\n",
       "      <th></th>\n",
       "      <th></th>\n",
       "      <th></th>\n",
       "      <th></th>\n",
       "      <th>Total First Line Drugs _minusIsonizide_ Distributed_value_d_quarterly</th>\n",
       "      <th>Isoniazid Distributed_value_d_quarterly</th>\n",
       "      <th>PLHIV Screened for TB_value_m_quarterly</th>\n",
       "      <th>TB Patients Tested for HIV_value_m_quarterly</th>\n",
       "      <th>Number of Cases Screened for MDR_value_d_yearly</th>\n",
       "      <th>Second Line Drugs Distributed_value_d</th>\n",
       "      <th>Total MDR Drugs Distributed_value_d_quarterly</th>\n",
       "      <th>Total Tuberculine Distributed_value_d_quarterly</th>\n",
       "    </tr>\n",
       "    <tr>\n",
       "      <th>year</th>\n",
       "      <th>quarter</th>\n",
       "      <th>department</th>\n",
       "      <th>municipality</th>\n",
       "      <th></th>\n",
       "      <th></th>\n",
       "      <th></th>\n",
       "      <th></th>\n",
       "      <th></th>\n",
       "      <th></th>\n",
       "      <th></th>\n",
       "      <th></th>\n",
       "    </tr>\n",
       "  </thead>\n",
       "  <tbody>\n",
       "  </tbody>\n",
       "</table>\n",
       "</div>"
      ],
      "text/plain": [
       "Empty DataFrame\n",
       "Columns: [Total First Line Drugs _minusIsonizide_ Distributed_value_d_quarterly, Isoniazid Distributed_value_d_quarterly, PLHIV Screened for TB_value_m_quarterly, TB Patients Tested for HIV_value_m_quarterly, Number of Cases Screened for MDR_value_d_yearly, Second Line Drugs Distributed_value_d, Total MDR Drugs Distributed_value_d_quarterly, Total Tuberculine Distributed_value_d_quarterly]\n",
       "Index: []"
      ]
     },
     "execution_count": 557,
     "metadata": {},
     "output_type": "execute_result"
    }
   ],
   "source": [
    "activities[(activities.index.get_level_values(\"municipality\") == 0) | \n",
    "       (activities.index.get_level_values(\"municipality\") == \"\") | \n",
    "       (activities.index.get_level_values(\"municipality\") == None)]"
   ]
  },
  {
   "cell_type": "code",
   "execution_count": 558,
   "metadata": {},
   "outputs": [],
   "source": [
    "activities.to_csv(\"../../../Impact Evaluation/TB/activities.csv\")"
   ]
  },
  {
   "cell_type": "code",
   "execution_count": 366,
   "metadata": {},
   "outputs": [
    {
     "data": {
      "text/plain": [
       "(Index(['Total First Line Drugs _minusIsonizide_ Distributed_value_d_quarterly',\n",
       "        'Isoniazid Distributed_value_d_quarterly',\n",
       "        'PLHIV Screened for TB_value_m_quarterly',\n",
       "        'TB Patients Tested for HIV_value_m_quarterly',\n",
       "        'Number of Cases Screened for MDR_value_d_yearly',\n",
       "        'Second Line Drugs Distributed_value_d',\n",
       "        'Total MDR Drugs Distributed_value_d_quarterly',\n",
       "        'Total Tuberculine Distributed_value_d_quarterly'],\n",
       "       dtype='object'),\n",
       " FrozenList(['year', 'quarter', 'department', 'municipality']))"
      ]
     },
     "execution_count": 366,
     "metadata": {},
     "output_type": "execute_result"
    }
   ],
   "source": [
    "activities.columns, activities.index.names"
   ]
  },
  {
   "cell_type": "markdown",
   "metadata": {},
   "source": [
    "# Impact"
   ]
  },
  {
   "cell_type": "markdown",
   "metadata": {},
   "source": [
    "Values:\n",
    "\n",
    " * Case Notification Rate_value\n",
    " * Mortality Rate_value\n",
    " * Treatment Success Rate_value\n",
    " * ~~Case Notification Rate in Prisons_value~~\n",
    " * HIV/TB Treatment Success Rate_value\n",
    " * HIV/TB Mortality Rate_value\n",
    " * ~~MDR Treatment Success Rate_value~~\n",
    " * MDR Probably Cured Rate_value"
   ]
  },
  {
   "cell_type": "code",
   "execution_count": 261,
   "metadata": {},
   "outputs": [],
   "source": [
    "# Worldpop estimations are in the helper functions \n",
    "import os\n",
    "\n",
    "os.chdir(\"../../core/\")\n"
   ]
  },
  {
   "cell_type": "code",
   "execution_count": 262,
   "metadata": {},
   "outputs": [],
   "source": [
    "import GT_helper_functions as hf\n",
    "import GT_load_data as data"
   ]
  },
  {
   "cell_type": "code",
   "execution_count": 263,
   "metadata": {},
   "outputs": [],
   "source": [
    "os.chdir(\"../impact_evaluation/gtm/\")"
   ]
  },
  {
   "cell_type": "code",
   "execution_count": 264,
   "metadata": {},
   "outputs": [
    {
     "data": {
      "image/png": "[encoded data removed]",
      "text/plain": [
       "<Figure size 432x288 with 1 Axes>"
      ]
     },
     "metadata": {
      "needs_background": "light"
     },
     "output_type": "display_data"
    }
   ],
   "source": [
    "plt.plot(list(range(2010,2030) ), [ hf.GTMuniPopulation(101,y) for y in range(2010,2030)] )\n",
    "None"
   ]
  },
  {
   "cell_type": "code",
   "execution_count": 456,
   "metadata": {},
   "outputs": [
    {
     "data": {
      "text/plain": [
       "year  quarter  department  municipality\n",
       "2012  1        1.0         101             56\n",
       "                           102              2\n",
       "                           103              3\n",
       "                           106              8\n",
       "                           107              2\n",
       "                           108             34\n",
       "                           109              3\n",
       "                           110             37\n",
       "                           113              2\n",
       "                           114              3\n",
       "                           115             23\n",
       "                           116             10\n",
       "                           117             12\n",
       "               2.0         201              1\n",
       "                           203              1\n",
       "                           207              2\n",
       "               3.0         301              1\n",
       "                           304              2\n",
       "                           305              1\n",
       "                           306              1\n",
       "                           311              1\n",
       "                           312              1\n",
       "                           314              1\n",
       "               4.0         401              3\n",
       "                           404              2\n",
       "                           406              1\n",
       "                           408              1\n",
       "               5.0         501             86\n",
       "                           502             47\n",
       "                           503             10\n",
       "                           504              6\n",
       "                           505             16\n",
       "                           506              4\n",
       "                           507             16\n",
       "                           508              4\n",
       "                           509              8\n",
       "                           510              2\n",
       "                           511              4\n",
       "                           512              1\n",
       "                           513              7\n",
       "               6.0         601              3\n",
       "                           602              3\n",
       "                           603              1\n",
       "                           605              1\n",
       "                           608              8\n",
       "                           611              1\n",
       "                           614              1\n",
       "               7.0         701              2\n",
       "                           705             13\n",
       "                           706             11\n",
       "                                           ..\n",
       "2018  3        13.0        1318             3\n",
       "                           1324             1\n",
       "                           1326             6\n",
       "               14.0        1401             5\n",
       "                           1404             4\n",
       "                           1405             5\n",
       "                           1406             1\n",
       "                           1410             3\n",
       "                           1412             3\n",
       "                           1413             3\n",
       "                           1414             1\n",
       "                           1415             1\n",
       "                           1418             1\n",
       "                           1420             1\n",
       "               15.0        1501             2\n",
       "                           1503             1\n",
       "               16.0        1601             4\n",
       "                           1604             1\n",
       "                           1605             1\n",
       "                           1606             2\n",
       "                           1607             1\n",
       "                           1608             3\n",
       "                           1609             6\n",
       "                           1610             1\n",
       "                           1611             1\n",
       "                           1613             1\n",
       "                           1614             1\n",
       "                           1616             2\n",
       "                           1617             3\n",
       "               17.0        1701             3\n",
       "                           1705             2\n",
       "                           1709             2\n",
       "                           1710             3\n",
       "                           1711             1\n",
       "                           1712             2\n",
       "                           1714             1\n",
       "               18.0        1801            12\n",
       "                           1802             1\n",
       "                           1804             3\n",
       "                           1805             5\n",
       "               19.0        1901             5\n",
       "                           1904             3\n",
       "                           1905             2\n",
       "               20.0        2001            10\n",
       "                           2002             3\n",
       "                           2004             3\n",
       "                           2005             1\n",
       "               22.0        2201             5\n",
       "                           2202             3\n",
       "                           2211             6\n",
       "Name: Cases Notified_value_m_quarterly, Length: 5080, dtype: int64"
      ]
     },
     "execution_count": 456,
     "metadata": {},
     "output_type": "execute_result"
    }
   ],
   "source": [
    "casesNotif"
   ]
  },
  {
   "cell_type": "code",
   "execution_count": 457,
   "metadata": {},
   "outputs": [],
   "source": [
    "notifsRate = casesNotif.reset_index()\\\n",
    ".apply(lambda x: x[\"Cases Notified_value_m_quarterly\"] / hf.GTMuniPopulation(x.municipality, x.year + (x.quarter-1)/4), 1).iloc[:,0]"
   ]
  },
  {
   "cell_type": "code",
   "execution_count": 458,
   "metadata": {},
   "outputs": [],
   "source": [
    "notifsRate.index = casesNotif.index.copy()"
   ]
  },
  {
   "cell_type": "code",
   "execution_count": 459,
   "metadata": {},
   "outputs": [],
   "source": [
    "notifsRate = notifsRate.rename(\"Case Notification Rate_value_m_quarterly\")"
   ]
  },
  {
   "cell_type": "code",
   "execution_count": 460,
   "metadata": {},
   "outputs": [
    {
     "data": {
      "text/plain": [
       "year  quarter  department  municipality\n",
       "2012  1        1.0         101             0.000057\n",
       "                           102             0.000021\n",
       "                           103             0.000042\n",
       "                           106             0.000064\n",
       "                           107             0.000028\n",
       "                           108             0.000071\n",
       "                           109             0.000044\n",
       "                           110             0.000171\n",
       "                           113             0.000044\n",
       "                           114             0.000027\n",
       "                           115             0.000044\n",
       "                           116             0.000067\n",
       "                           117             0.000070\n",
       "               2.0         201             0.000044\n",
       "                           203             0.000025\n",
       "                           207             0.000169\n",
       "               3.0         301             0.000021\n",
       "                           304             0.000053\n",
       "                           305             0.000093\n",
       "                           306             0.000034\n",
       "                           311             0.000060\n",
       "                           312             0.000028\n",
       "                           314             0.000036\n",
       "               4.0         401             0.000024\n",
       "                           404             0.000046\n",
       "                           406             0.000012\n",
       "                           408             0.000087\n",
       "               5.0         501             0.000563\n",
       "                           502             0.000365\n",
       "                           503             0.000226\n",
       "                           504             0.000254\n",
       "                           505             0.000355\n",
       "                           506             0.000070\n",
       "                           507             0.000465\n",
       "                           508             0.000229\n",
       "                           509             0.000154\n",
       "                           510             0.000169\n",
       "                           511             0.000065\n",
       "                           512             0.000057\n",
       "                           513             0.000110\n",
       "               6.0         601             0.000072\n",
       "                           602             0.000065\n",
       "                           603             0.000055\n",
       "                           605             0.000076\n",
       "                           608             0.000166\n",
       "                           611             0.000066\n",
       "                           614             0.000031\n",
       "               7.0         701             0.000017\n",
       "                           705             0.000197\n",
       "                           706             0.000219\n",
       "                                             ...   \n",
       "2018  3        13.0        1318            0.000068\n",
       "                           1324            0.000051\n",
       "                           1326            0.000039\n",
       "               14.0        1401            0.000044\n",
       "                           1404            0.000078\n",
       "                           1405            0.000085\n",
       "                           1406            0.000006\n",
       "                           1410            0.000074\n",
       "                           1412            0.000034\n",
       "                           1413            0.000032\n",
       "                           1414            0.000035\n",
       "                           1415            0.000013\n",
       "                           1418            0.000073\n",
       "                           1420            0.000009\n",
       "               15.0        1501            0.000032\n",
       "                           1503            0.000025\n",
       "               16.0        1601            0.000015\n",
       "                           1604            0.000026\n",
       "                           1605            0.000045\n",
       "                           1606            0.000043\n",
       "                           1607            0.000015\n",
       "                           1608            0.000040\n",
       "                           1609            0.000025\n",
       "                           1610            0.000015\n",
       "                           1611            0.000036\n",
       "                           1613            0.000013\n",
       "                           1614            0.000034\n",
       "                           1616            0.000047\n",
       "                           1617            0.000082\n",
       "               17.0        1701            0.000047\n",
       "                           1705            0.000027\n",
       "                           1709            0.000023\n",
       "                           1710            0.000023\n",
       "                           1711            0.000041\n",
       "                           1712            0.000028\n",
       "                           1714            0.000100\n",
       "               18.0        1801            0.000103\n",
       "                           1802            0.000014\n",
       "                           1804            0.000023\n",
       "                           1805            0.000071\n",
       "               19.0        1901            0.000073\n",
       "                           1904            0.000067\n",
       "                           1905            0.000104\n",
       "               20.0        2001            0.000093\n",
       "                           2002            0.000322\n",
       "                           2004            0.000047\n",
       "                           2005            0.000017\n",
       "               22.0        2201            0.000032\n",
       "                           2202            0.000145\n",
       "                           2211            0.000196\n",
       "Name: Case Notification Rate_value_m_quarterly, Length: 5080, dtype: float64"
      ]
     },
     "execution_count": 460,
     "metadata": {},
     "output_type": "execute_result"
    }
   ],
   "source": [
    "notifsRate"
   ]
  },
  {
   "cell_type": "code",
   "execution_count": 372,
   "metadata": {},
   "outputs": [],
   "source": [
    "# Mortality Rate_value\n",
    "vrredis =  pd.read_csv(\"../../../Outcome Measurement Data/MULTI/VR/vr_redistributed_collapsed_diseases.csv\", index_col = 0)"
   ]
  },
  {
   "cell_type": "code",
   "execution_count": 373,
   "metadata": {},
   "outputs": [],
   "source": [
    "# munis_ids = pd.read_csv(\"../../Outcome Measurement Data/MULTI/VR/GTM_muni_merges_2009_2016_fixed.csv\", index_col = 0)\n",
    "munis_ids = pd.read_csv(\"../../../Covariates and Other Data/GIS/GTM_muni_merges_2009_2016_fixed.csv\", index_col = 0)"
   ]
  },
  {
   "cell_type": "code",
   "execution_count": 374,
   "metadata": {},
   "outputs": [],
   "source": [
    "vrredis = vrredis.merge(munis_ids[[\"adm2_country_code\", \"adm2_gbd_id\"]], left_on= \"location_id\", right_on=\"adm2_gbd_id\")"
   ]
  },
  {
   "cell_type": "code",
   "execution_count": 377,
   "metadata": {},
   "outputs": [],
   "source": [
    "mortcounts = vrredis[vrredis.disease.isin([\"TB\", \"TB-VIH\"]) & (vrredis.adm2_country_code.notna())]\\\n",
    ".assign(municipality = lambda x: x.adm2_country_code.astype(int), year = lambda x: x.year_id,\n",
    "        department = lambda x: np.floor(x.adm2_country_code/100).astype(int) ) \\\n",
    ".groupby([\"year\", \"department\", \"municipality\"]).deaths.sum().rename(\"mortcounts\")"
   ]
  },
  {
   "cell_type": "code",
   "execution_count": 378,
   "metadata": {},
   "outputs": [],
   "source": [
    "mortrate = mortcounts.reset_index().apply(lambda x: x[\"mortcounts\"] / hf.GTMuniPopulation(x.municipality, x.year), 1).iloc[:,0]"
   ]
  },
  {
   "cell_type": "code",
   "execution_count": 379,
   "metadata": {},
   "outputs": [],
   "source": [
    "mortrate.index = mortcounts.index.copy()"
   ]
  },
  {
   "cell_type": "code",
   "execution_count": 380,
   "metadata": {},
   "outputs": [],
   "source": [
    "mortrate = mortrate.rename(\"Mortality Rate_value_m_yearly\")"
   ]
  },
  {
   "cell_type": "code",
   "execution_count": 381,
   "metadata": {},
   "outputs": [],
   "source": [
    "#  Treatment Success Rate_value\n",
    "txsrate = pivot_cohortes[\"COMPLETED TREATMENT\"].divide(pivot_cohortes.sum(1))\\\n",
    ".rename_axis(index={\"deptocode\": \"department\"}).rename(\"Treatment Success Rate_value_d_quarterly\")"
   ]
  },
  {
   "cell_type": "code",
   "execution_count": 383,
   "metadata": {},
   "outputs": [],
   "source": [
    "# HIV/TB Treatment Success Rate_value\n",
    "pivot_cohortes_tbhiv = cohortes[(cohortes.quarter.notna()) & \n",
    "       (cohortes.table.isin([\n",
    "           \"Nuevos TB/VIH\",  # year <= 2016\n",
    "           \"Nuevos Pulmonares TB/VIH Bact Conf\", \"Nuevos Pulmonares TB/VIH Dx Clinico\" #2017\n",
    "       ])) &\n",
    "       (cohortes.deptocode!=0)].\\\n",
    "    groupby([\"year\", \"quarter\", \"deptocode\", \"row_name_B\"]).value.sum().unstack(3)\n",
    "tbhiv_txsrate = pivot_cohortes_tbhiv[\"COMPLETED TREATMENT\"].divide(pivot_cohortes_tbhiv.sum(1))\\\n",
    ".rename_axis(index={\"deptocode\": \"department\"}).rename(\"HIV/TB Treatment Success Rate_value_d_quarterly\")"
   ]
  },
  {
   "cell_type": "code",
   "execution_count": 385,
   "metadata": {},
   "outputs": [],
   "source": [
    "# HIV/TB Mortality Rate_value\n",
    "tbhiv_mortrate = vrredis[vrredis.disease.isin([\"TB\", \"TB-VIH\"]) & (vrredis.adm2_country_code.notna())]\\\n",
    ".assign(municipality = lambda x: x.adm2_country_code.astype(int), year = lambda x: x.year_id,\n",
    "        department = lambda x: np.floor(x.adm2_country_code/100).astype(int) ) \\\n",
    ".groupby([\"year\", \"department\", \"municipality\"]).deaths.sum().rename(\"HIV/TB Mortality Rate_value_m_yearly\")"
   ]
  },
  {
   "cell_type": "code",
   "execution_count": 386,
   "metadata": {},
   "outputs": [
    {
     "data": {
      "text/plain": [
       "Index(['Unnamed: 0', 'Age', 'BD_ID', 'DAS', 'DateBk_1', 'DateCulture_1',\n",
       "       'DateCulture_10', 'DateCulture_11', 'DateCulture_12', 'DateCulture_13',\n",
       "       'DateCulture_14', 'DateCulture_15', 'DateCulture_16', 'DateCulture_17',\n",
       "       'DateCulture_18', 'DateCulture_19', 'DateCulture_2', 'DateCulture_20',\n",
       "       'DateCulture_21', 'DateCulture_22', 'DateCulture_23', 'DateCulture_24',\n",
       "       'DateCulture_3', 'DateCulture_4', 'DateCulture_5', 'DateCulture_6',\n",
       "       'DateCulture_7', 'DateCulture_8', 'DateCulture_9', 'DateGXPERT', 'Dead',\n",
       "       'Depto', 'DiabetesMel', 'DxDate', 'ExitCondition', 'ExitDate',\n",
       "       'GENOTYPE', 'Gender', 'HIV', 'ID', 'Modifications', 'Muni',\n",
       "       'Observations', 'PDSDate', 'PDSResult', 'PxCondition', 'PxLost',\n",
       "       'PxNew', 'PxRelapse', 'Referred', 'ResistType', 'ResultBk_1',\n",
       "       'ResultCulture_1', 'ResultCulture_10', 'ResultCulture_11',\n",
       "       'ResultCulture_12', 'ResultCulture_13', 'ResultCulture_14',\n",
       "       'ResultCulture_15', 'ResultCulture_16', 'ResultCulture_17',\n",
       "       'ResultCulture_18', 'ResultCulture_19', 'ResultCulture_2',\n",
       "       'ResultCulture_20', 'ResultCulture_21', 'ResultCulture_22',\n",
       "       'ResultCulture_23', 'ResultCulture_24', 'ResultCulture_3',\n",
       "       'ResultCulture_4', 'ResultCulture_5', 'ResultCulture_6',\n",
       "       'ResultCulture_7', 'ResultCulture_8', 'ResultCulture_9',\n",
       "       'TBExtrapulmonar', 'TBPulmonar', 'TBType', 'TTODate', 'TxDate',\n",
       "       'TxDate2', 'TxFailure', 'X_0', 'X_1', 'X_2', 'X_3', 'X_4', 'Year',\n",
       "       'TxDate_', 'TxDate_Year', 'DxDate_', 'DxDate_Year', 'ExitDate_',\n",
       "       'ExitDate_Year', 'PDSDate_', 'PDSDate_Year', 'GxDate_', 'deptocode'],\n",
       "      dtype='object')"
      ]
     },
     "execution_count": 386,
     "metadata": {},
     "output_type": "execute_result"
    }
   ],
   "source": [
    "# MDR Treatment Success Rate_value\n",
    "mdrtb.columns"
   ]
  },
  {
   "cell_type": "code",
   "execution_count": 387,
   "metadata": {},
   "outputs": [
    {
     "data": {
      "text/plain": [
       "NaN                           86\n",
       "ambulatorio                   23\n",
       "FALLECIDO                      7\n",
       "PERDIDA EN EL SEGUIMIENTO      5\n",
       "AMBULATORIO                    5\n",
       "fallecido                      4\n",
       "Fallecido                      4\n",
       "FRACASO                        4\n",
       "FALLECIDA                      3\n",
       "TX. COMPLETO                   2\n",
       "PÉRDIDA EN EL SEGUIMIENTO      2\n",
       "vivo                           2\n",
       "FUGADO                         2\n",
       "ABANDONÓ                       1\n",
       "Fallecida                      1\n",
       " EGRESO CONTRAINDICADO         1\n",
       "viva                           1\n",
       "Vivo                           1\n",
       "CONTRAINDICADO                 1\n",
       "FALLECIDA                      1\n",
       "Fallecida                      1\n",
       "Name: ExitCondition, dtype: int64"
      ]
     },
     "execution_count": 387,
     "metadata": {},
     "output_type": "execute_result"
    }
   ],
   "source": [
    "mdrtb.ExitCondition.value_counts(dropna=False)"
   ]
  },
  {
   "cell_type": "markdown",
   "metadata": {},
   "source": [
    "#### No hay datos confiables de cura de MDR ni de tratamiento completo.\n",
    "El manual de tx a MDRs menciona que se considera curado a alguien que saca tres pruebas negativas consecutivas. Se puede tomar eso como un proxy de curados."
   ]
  },
  {
   "cell_type": "code",
   "execution_count": 388,
   "metadata": {},
   "outputs": [],
   "source": [
    "results = [\"ResultCulture_\" + str(i) for i in range(1,25)]"
   ]
  },
  {
   "cell_type": "code",
   "execution_count": 389,
   "metadata": {},
   "outputs": [],
   "source": [
    "resultsdata = mdrtb[results].applymap(lambda x: str(x).lower())\\\n",
    ".applymap(lambda x: \\\n",
    "          \"negativo\" if \"neg\" in x else\\\n",
    "          \"positivo\" if (\"pos\" in x) or (\"+\" in x) else\\\n",
    "          \"na\" if (\"cont\" in x) or (\"no \" in x) or (x == \"nan\") or (\"rehus\" in x) or (\"acid\" in x) else x)"
   ]
  },
  {
   "cell_type": "code",
   "execution_count": 390,
   "metadata": {},
   "outputs": [
    {
     "data": {
      "text/plain": [
       "array(['negativo', 'na', 'positivo', '2015-06-24 00:00:00', '1-19 col',\n",
       "       'pr', '20 colonias', 'nr', '1-19 colonias', 'se verificará envio',\n",
       "       'según pcte en hrr', '2017-06-21 00:00:00'], dtype=object)"
      ]
     },
     "execution_count": 390,
     "metadata": {},
     "output_type": "execute_result"
    }
   ],
   "source": [
    "pd.unique(resultsdata.values.flatten())"
   ]
  },
  {
   "cell_type": "code",
   "execution_count": 391,
   "metadata": {},
   "outputs": [],
   "source": [
    "mdrtb[\"mdrProbCured\"] = resultsdata.apply(lambda x:\"\".join(x.values) , 1).apply(lambda x: x.replace(\"na\", \"\").strip(\"-\")[-24:] == \"negativonegativonegativo\")"
   ]
  },
  {
   "cell_type": "code",
   "execution_count": 392,
   "metadata": {},
   "outputs": [
    {
     "data": {
      "text/plain": [
       "False    108\n",
       "True      49\n",
       "Name: mdrProbCured, dtype: int64"
      ]
     },
     "execution_count": 392,
     "metadata": {},
     "output_type": "execute_result"
    }
   ],
   "source": [
    "mdrtb[\"mdrProbCured\"].value_counts()"
   ]
  },
  {
   "cell_type": "code",
   "execution_count": 393,
   "metadata": {},
   "outputs": [
    {
     "data": {
      "text/plain": [
       "0    nnnn-n-n-n-n-n-nn--nnnnn\n",
       "1    nnn--nnn--n-n-n------nn-\n",
       "2    p-nnnnnn----nn-n--------\n",
       "3    nnn-nnnnn-n--n-n----n---\n",
       "4    nnn--nnn--n-n--p-------n\n",
       "dtype: object"
      ]
     },
     "execution_count": 393,
     "metadata": {},
     "output_type": "execute_result"
    }
   ],
   "source": [
    "resultsdata.applymap(lambda x: \\\n",
    "          \"n\" if \"negativo\" == x else\\\n",
    "          \"p\" if x == \"positivo\" else \"-\").apply(lambda x: \"\".join(x.values), 1).head()"
   ]
  },
  {
   "cell_type": "code",
   "execution_count": 394,
   "metadata": {},
   "outputs": [
    {
     "data": {
      "text/plain": [
       "TxYear  BD_ID   \n",
       "2009.0  MDR15-17     1\n",
       "2014.0  MDR14-16    40\n",
       "2015.0  MDR15-17    33\n",
       "2016.0  MDR16-18    53\n",
       "2017.0  MDR16-18     1\n",
       "nan     MDR14-16     1\n",
       "        MDR15-17     6\n",
       "        MDR16-18    22\n",
       "dtype: int64"
      ]
     },
     "execution_count": 394,
     "metadata": {},
     "output_type": "execute_result"
    }
   ],
   "source": [
    "mdrtb.assign(TxYear = lambda x: x.TxDate_Year.astype(str)).groupby([\"TxYear\", \"BD_ID\"], observed=False).apply(len)"
   ]
  },
  {
   "cell_type": "code",
   "execution_count": 395,
   "metadata": {},
   "outputs": [
    {
     "data": {
      "text/plain": [
       "MDR16-18    76\n",
       "MDR14-16    41\n",
       "MDR15-17    40\n",
       "Name: BD_ID, dtype: int64"
      ]
     },
     "execution_count": 395,
     "metadata": {},
     "output_type": "execute_result"
    }
   ],
   "source": [
    "mdrtb.BD_ID.value_counts(dropna=False)"
   ]
  },
  {
   "cell_type": "code",
   "execution_count": 397,
   "metadata": {},
   "outputs": [],
   "source": [
    "mdrcx = mdrtb.assign(year = lambda x: x.Year+2000).groupby([\"year\", \"deptocode\"]).mdrProbCured.apply(lambda x: x.sum() / len(x) if len(x)>0 else 0)\\\n",
    ".rename_axis(index={\"deptocode\": \"department\"}).rename(\"MDR Probably Cured_rate_d_yearly\")"
   ]
  },
  {
   "cell_type": "code",
   "execution_count": 398,
   "metadata": {},
   "outputs": [
    {
     "data": {
      "text/plain": [
       "year  department\n",
       "2014  1.0           0.571429\n",
       "      2.0           1.000000\n",
       "      5.0           0.615385\n",
       "      9.0           0.000000\n",
       "      10.0          0.600000\n",
       "      11.0          0.000000\n",
       "      12.0          0.875000\n",
       "      13.0          1.000000\n",
       "      17.0          0.000000\n",
       "2015  1.0           0.250000\n",
       "      5.0           0.111111\n",
       "      9.0           0.333333\n",
       "      10.0          0.333333\n",
       "      11.0          0.500000\n",
       "      12.0          0.666667\n",
       "      13.0          0.250000\n",
       "      15.0          0.000000\n",
       "      18.0          0.500000\n",
       "      21.0          0.000000\n",
       "      22.0          0.000000\n",
       "2016  1.0           0.250000\n",
       "      3.0           0.000000\n",
       "      5.0           0.214286\n",
       "      7.0           0.000000\n",
       "      8.0           0.000000\n",
       "      9.0           0.000000\n",
       "      10.0          0.333333\n",
       "      11.0          0.000000\n",
       "      12.0          0.086957\n",
       "      13.0          0.000000\n",
       "      14.0          0.000000\n",
       "      16.0          0.000000\n",
       "      17.0          0.000000\n",
       "      18.0          0.333333\n",
       "Name: MDR Probably Cured_rate_d_yearly, dtype: float64"
      ]
     },
     "execution_count": 398,
     "metadata": {},
     "output_type": "execute_result"
    }
   ],
   "source": [
    "mdrcx"
   ]
  },
  {
   "cell_type": "code",
   "execution_count": 554,
   "metadata": {},
   "outputs": [
    {
     "name": "stdout",
     "output_type": "stream",
     "text": [
      "['year', 'quarter', 'department', 'municipality']\n",
      "['year', 'department', 'municipality']\n",
      "imputing quarter index level\n",
      "['year', 'quarter', 'department']\n",
      "['year', 'quarter', 'department']\n",
      "['year', 'department', 'municipality']\n",
      "imputing quarter index level\n",
      "['year', 'department']\n",
      "imputing quarter index level\n"
     ]
    }
   ],
   "source": [
    "impact = pd.merge(makeFullIndex( notifsRate), makeFullIndex(mortrate), left_index=True, right_index=True, how=\"outer\")\\\n",
    "            .merge(makeFullIndex(txsrate), left_index=True, right_index=True, how=\"outer\")\\\n",
    "            .merge(makeFullIndex(tbhiv_txsrate), left_index=True, right_index=True, how=\"outer\")\\\n",
    "            .merge(makeFullIndex(tbhiv_mortrate), left_index=True, right_index=True, how=\"outer\")\\\n",
    "            .merge(makeFullIndex(mdrcx), left_index=True, right_index=True, how=\"outer\")\\\n",
    "            "
   ]
  },
  {
   "cell_type": "code",
   "execution_count": 555,
   "metadata": {},
   "outputs": [],
   "source": [
    "impact.to_csv(\"../../../Impact Evaluation/TB/impact.csv\")"
   ]
  },
  {
   "cell_type": "markdown",
   "metadata": {},
   "source": [
    "# Outcomes\n",
    "\n",
    "* Proportion of Cases Treated_value\n",
    "* Proportion of Cases in Prisons Treated_value\n",
    "* Proportion of HIV/TB Cases Treated_value\n",
    "* Proportion of TB Patients who Received HIV Test_value\n",
    "* ~~Proportion of New HIV Patients Starting IPT_value~~\n",
    "* Proportion of MDR Cases Treated_value\n",
    "* Proportion of Patients Receiving DST_value\n",
    "* ~~Proportion of MDR Cases completing at least 6 mo of therapy_value~~"
   ]
  },
  {
   "cell_type": "code",
   "execution_count": 402,
   "metadata": {},
   "outputs": [
    {
     "data": {
      "text/plain": [
       "count    528.000000\n",
       "mean       0.205219\n",
       "std        0.077202\n",
       "min        0.000000\n",
       "25%        0.157120\n",
       "50%        0.193471\n",
       "75%        0.241148\n",
       "max        0.550000\n",
       "dtype: float64"
      ]
     },
     "execution_count": 402,
     "metadata": {},
     "output_type": "execute_result"
    }
   ],
   "source": [
    "(initiatedTx / casesNotif.reset_index().groupby([\"year\", \"department\"])[\"Cases Notified_value_m_quarterly\"].sum()).describe()"
   ]
  },
  {
   "cell_type": "code",
   "execution_count": 403,
   "metadata": {},
   "outputs": [
    {
     "data": {
      "text/plain": [
       "array(['ND', 'nd', nan, 'NR', '…', '….', 'MD', 'NRND', 'NE', 'N'],\n",
       "      dtype=object)"
      ]
     },
     "execution_count": 403,
     "metadata": {},
     "output_type": "execute_result"
    }
   ],
   "source": [
    "# FechaInicioTx <= 4 indica fechas inválidas o no disponibles\n",
    "notifs.FECHAINICIOTX[notifs.FECHAINICIOTX.map(lambda x: len(str(x))<=4)].unique()"
   ]
  },
  {
   "cell_type": "code",
   "execution_count": 410,
   "metadata": {},
   "outputs": [],
   "source": [
    "initTxNotifs = notifs[ notifs.FECHAINICIOTX.map(lambda x: len(str(x))<=4) &\n",
    "                     (notifs.Year<=2018) & \n",
    "                     notifs.COD_MUNI.notna()]\\\n",
    "        .assign(department = lambda x: (np.floor(x.municipality/100)).astype(int) )\\\n",
    "        .groupby([\"year\", \"quarter\", \"department\", \"municipality\"]).apply(len)"
   ]
  },
  {
   "cell_type": "code",
   "execution_count": 413,
   "metadata": {},
   "outputs": [],
   "source": [
    "propCasesTx =  (initTxNotifs / casesNotif).rename(\"Proportion of Cases Treated_value_m_quarterly\")"
   ]
  },
  {
   "cell_type": "code",
   "execution_count": 463,
   "metadata": {},
   "outputs": [],
   "source": [
    "ppltx_yearly = ppltx.groupby([\n",
    "    ppltx.index.get_level_values(\"year\"), \n",
    "    ppltx.index.get_level_values(\"department\"),\n",
    "    ppltx.index.get_level_values(\"municipality\")]).sum()"
   ]
  },
  {
   "cell_type": "code",
   "execution_count": null,
   "metadata": {},
   "outputs": [],
   "source": []
  },
  {
   "cell_type": "code",
   "execution_count": 542,
   "metadata": {},
   "outputs": [],
   "source": [
    "# Proportion of Cases in Prisons Treated_value\n",
    "propPPLTx = (ppltx_yearly / pplcases).rename(\"Proportion of Cases in Prisons Treated_value_d_yearly\")"
   ]
  },
  {
   "cell_type": "code",
   "execution_count": 543,
   "metadata": {},
   "outputs": [
    {
     "data": {
      "text/plain": [
       "year  department  municipality  quarter\n",
       "2014  1           101           1          1.0\n",
       "                                2          1.0\n",
       "                                3          1.0\n",
       "                                4          1.0\n",
       "                  113           1          1.0\n",
       "Name: Proportion of Cases in Prisons Treated_value_d_yearly, dtype: float64"
      ]
     },
     "execution_count": 543,
     "metadata": {},
     "output_type": "execute_result"
    }
   ],
   "source": [
    "propPPLTx[propPPLTx.notna()].head()"
   ]
  },
  {
   "cell_type": "code",
   "execution_count": 544,
   "metadata": {},
   "outputs": [],
   "source": [
    "propPPLTx.index = propPPLTx.index.reorder_levels([\"year\",  \"quarter\",  \"department\",  \"municipality\"], )"
   ]
  },
  {
   "cell_type": "code",
   "execution_count": 545,
   "metadata": {},
   "outputs": [
    {
     "data": {
      "text/plain": [
       "year  quarter  department  municipality\n",
       "2014  1        1           101             1.0\n",
       "      2        1           101             1.0\n",
       "      3        1           101             1.0\n",
       "      4        1           101             1.0\n",
       "      1        1           102             NaN\n",
       "Name: Proportion of Cases in Prisons Treated_value_d_yearly, dtype: float64"
      ]
     },
     "execution_count": 545,
     "metadata": {},
     "output_type": "execute_result"
    }
   ],
   "source": [
    "propPPLTx.head()"
   ]
  },
  {
   "cell_type": "code",
   "execution_count": 517,
   "metadata": {},
   "outputs": [],
   "source": [
    "# Proportion of HIV/TB Cases Treated_value\n",
    "temp = notifs[(notifs.FECHAINICIOTX.map(lambda x: len(str(x))<=4)) & (notifs.VIH == \"Reactive\") & (notifs.Year<=2018) & notifs.COD_MUNI.notna()]\\\n",
    ".groupby([\"year\", \"quarter\", \"department\", \"municipality\"]).apply(len)\n",
    "\n",
    "propHIVTx = (temp / hivcases).rename(\"Proportion of HIV/TB Cases Treated_value_m_quarterly\")"
   ]
  },
  {
   "cell_type": "code",
   "execution_count": 520,
   "metadata": {},
   "outputs": [
    {
     "data": {
      "text/plain": [
       "year  quarter  department  municipality\n",
       "2012  1        1           101             NaN\n",
       "                           107             1.0\n",
       "                           108             0.5\n",
       "                           110             NaN\n",
       "                           113             1.0\n",
       "Name: Proportion of HIV/TB Cases Treated_value_m_quarterly, dtype: float64"
      ]
     },
     "execution_count": 520,
     "metadata": {},
     "output_type": "execute_result"
    }
   ],
   "source": [
    "propHIVTx.head()"
   ]
  },
  {
   "cell_type": "code",
   "execution_count": 518,
   "metadata": {},
   "outputs": [],
   "source": [
    "# Proportion of TB Patients who Received HIV Test_value\n",
    "propTbHivDx = (tbhivTx / casesNotif).rename(\"Proportion of TB Patients who Received HIV Test_value_m_quarterly\")"
   ]
  },
  {
   "cell_type": "code",
   "execution_count": 519,
   "metadata": {},
   "outputs": [
    {
     "data": {
      "text/plain": [
       "year  quarter  department  municipality\n",
       "2013  2        1           101             0.623932\n",
       "                           107             0.571429\n",
       "                           108             0.034483\n",
       "                           110             0.032258\n",
       "                           115             0.111111\n",
       "Name: Proportion of TB Patients who Received HIV Test_value_m_quarterly, dtype: float64"
      ]
     },
     "execution_count": 519,
     "metadata": {},
     "output_type": "execute_result"
    }
   ],
   "source": [
    "propTbHivDx[propTbHivDx.notna()].head()"
   ]
  },
  {
   "cell_type": "code",
   "execution_count": 521,
   "metadata": {},
   "outputs": [],
   "source": [
    "propHivIPT = \\\n",
    "sicoinRM[(sicoinRM.Programa == \"16-PREVENCIÓN Y CONTROL DE ITS, VIH/SIDA\") &\n",
    "sicoinRM.Resultado.isin(\n",
    "       ['6.0-Paciente VIH positivo, con prueba diagnóstica de tuberculosis',\n",
    "       '6.0-Pacientes VIH positivos, con prueba diagnostica de Tuberculosis']\n",
    ") & (sicoinRM.LugarEjecutado.notna())].assign(year = lambda x: x.Year, quarter = lambda x: x.Trimestre, municipality = lambda x: x.LugarCod.map(int))\\\n",
    ".assign(department = lambda x: np.floor(x.municipality/100).astype(int) )\\\n",
    ".groupby([\"year\", \"quarter\", \"department\", \"municipality\"]).LugarEjecutado.sum()\\\n",
    ".rename(\"PLHIV Screened for TB_value_m_quarterly\")\n"
   ]
  },
  {
   "cell_type": "code",
   "execution_count": 522,
   "metadata": {},
   "outputs": [
    {
     "data": {
      "text/plain": [
       "year  quarter  department  municipality\n",
       "2013  2        1           110              3.0\n",
       "                           113              1.0\n",
       "               7           708             11.0\n",
       "               8           803              1.0\n",
       "                           805              1.0\n",
       "Name: PLHIV Screened for TB_value_m_quarterly, dtype: float64"
      ]
     },
     "execution_count": 522,
     "metadata": {},
     "output_type": "execute_result"
    }
   ],
   "source": [
    "propHivIPT.head()"
   ]
  },
  {
   "cell_type": "code",
   "execution_count": 523,
   "metadata": {},
   "outputs": [],
   "source": [
    "# Proportion of New HIV Patients Starting IPT_value\n",
    "# HIV with IPT :  plhivipt"
   ]
  },
  {
   "cell_type": "code",
   "execution_count": 524,
   "metadata": {},
   "outputs": [
    {
     "data": {
      "text/html": [
       "<div>\n",
       "<style scoped>\n",
       "    .dataframe tbody tr th:only-of-type {\n",
       "        vertical-align: middle;\n",
       "    }\n",
       "\n",
       "    .dataframe tbody tr th {\n",
       "        vertical-align: top;\n",
       "    }\n",
       "\n",
       "    .dataframe thead th {\n",
       "        text-align: right;\n",
       "    }\n",
       "</style>\n",
       "<table border=\"1\" class=\"dataframe\">\n",
       "  <thead>\n",
       "    <tr style=\"text-align: right;\">\n",
       "      <th></th>\n",
       "      <th>Unnamed: 0</th>\n",
       "      <th>Programa</th>\n",
       "      <th>Subprograma</th>\n",
       "      <th>Proyecto</th>\n",
       "      <th>ActOb</th>\n",
       "      <th>Resultado</th>\n",
       "      <th>LugarCod</th>\n",
       "      <th>LocationNombre</th>\n",
       "      <th>Unidades</th>\n",
       "      <th>Inicial</th>\n",
       "      <th>Vigente</th>\n",
       "      <th>LugarEjecutado</th>\n",
       "      <th>Ejecutado</th>\n",
       "      <th>PorcEj</th>\n",
       "      <th>NBeneficiados</th>\n",
       "      <th>Year</th>\n",
       "      <th>Reporte_Programa</th>\n",
       "      <th>Trimestre</th>\n",
       "    </tr>\n",
       "  </thead>\n",
       "  <tbody>\n",
       "    <tr>\n",
       "      <th>5842</th>\n",
       "      <td>5842</td>\n",
       "      <td>16-PREVENCIÓN Y CONTROL DE ITS, VIH/SIDA</td>\n",
       "      <td>00-SIN SUBPROGRAMA</td>\n",
       "      <td>000-SIN PROYECTO</td>\n",
       "      <td>002-000-PERSONA CON DIAGNÓSTICO Y TRATAMIENTO ...</td>\n",
       "      <td>8.0-Paciente VIH positivo con tratamiento ARV</td>\n",
       "      <td>NaN</td>\n",
       "      <td>Paciente VIH positivo con tratamiento ARV</td>\n",
       "      <td>Persona</td>\n",
       "      <td>70496.0</td>\n",
       "      <td>64629.0</td>\n",
       "      <td>NaN</td>\n",
       "      <td>46995.0</td>\n",
       "      <td>72.72</td>\n",
       "      <td>0.0</td>\n",
       "      <td>2017</td>\n",
       "      <td>ENTIDAD = 11130009, PROGRAMA = 16</td>\n",
       "      <td>3</td>\n",
       "    </tr>\n",
       "    <tr>\n",
       "      <th>12360</th>\n",
       "      <td>12360</td>\n",
       "      <td>16-PREVENCIÓN Y CONTROL DE ITS, VIH/SIDA</td>\n",
       "      <td>00-SIN SUBPROGRAMA</td>\n",
       "      <td>000-SIN PROYECTO</td>\n",
       "      <td>002-000-PERSONA CON DIAGNÓSTICO Y TRATAMIENTO ...</td>\n",
       "      <td>8.0-Paciente VIH positivo con tratamiento ARV</td>\n",
       "      <td>NaN</td>\n",
       "      <td>Paciente VIH positivo con tratamiento ARV</td>\n",
       "      <td>Persona</td>\n",
       "      <td>70496.0</td>\n",
       "      <td>64629.0</td>\n",
       "      <td>NaN</td>\n",
       "      <td>457.0</td>\n",
       "      <td>0.71</td>\n",
       "      <td>0.0</td>\n",
       "      <td>2017</td>\n",
       "      <td>ENTIDAD = 11130009, PROGRAMA = 16</td>\n",
       "      <td>2</td>\n",
       "    </tr>\n",
       "    <tr>\n",
       "      <th>14813</th>\n",
       "      <td>14813</td>\n",
       "      <td>16-PREVENCIÓN Y CONTROL DE ITS, VIH/SIDA</td>\n",
       "      <td>00-SIN SUBPROGRAMA</td>\n",
       "      <td>000-SIN PROYECTO</td>\n",
       "      <td>002-000-PERSONA CON DIAGNÓSTICO Y TRATAMIENTO ...</td>\n",
       "      <td>8.0-Paciente VIH positivo con tratamiento ARV</td>\n",
       "      <td>NaN</td>\n",
       "      <td>Paciente VIH positivo con tratamiento ARV</td>\n",
       "      <td>Persona</td>\n",
       "      <td>70496.0</td>\n",
       "      <td>73132.0</td>\n",
       "      <td>NaN</td>\n",
       "      <td>15752.0</td>\n",
       "      <td>21.54</td>\n",
       "      <td>0.0</td>\n",
       "      <td>2018</td>\n",
       "      <td>ENTIDAD = 11130009, PROGRAMA = 16</td>\n",
       "      <td>4</td>\n",
       "    </tr>\n",
       "    <tr>\n",
       "      <th>21425</th>\n",
       "      <td>21425</td>\n",
       "      <td>16-PREVENCIÓN Y CONTROL DE ITS, VIH/SIDA</td>\n",
       "      <td>00-SIN SUBPROGRAMA</td>\n",
       "      <td>000-SIN PROYECTO</td>\n",
       "      <td>002-000-PERSONA CON DIAGNÓSTICO Y TRATAMIENTO ...</td>\n",
       "      <td>8.0-Paciente VIH positivo con tratamiento ARV</td>\n",
       "      <td>NaN</td>\n",
       "      <td>Paciente VIH positivo con tratamiento ARV</td>\n",
       "      <td>Persona</td>\n",
       "      <td>70496.0</td>\n",
       "      <td>73132.0</td>\n",
       "      <td>NaN</td>\n",
       "      <td>874.0</td>\n",
       "      <td>1.20</td>\n",
       "      <td>0.0</td>\n",
       "      <td>2018</td>\n",
       "      <td>ENTIDAD = 11130009, PROGRAMA = 16</td>\n",
       "      <td>1</td>\n",
       "    </tr>\n",
       "    <tr>\n",
       "      <th>26147</th>\n",
       "      <td>26147</td>\n",
       "      <td>16-PREVENCIÓN Y CONTROL DE ITS, VIH/SIDA</td>\n",
       "      <td>00-SIN SUBPROGRAMA</td>\n",
       "      <td>000-SIN PROYECTO</td>\n",
       "      <td>002-000-PERSONA CON DIAGNÓSTICO Y TRATAMIENTO ...</td>\n",
       "      <td>8.0-Paciente VIH positivo con tratamiento ARV</td>\n",
       "      <td>NaN</td>\n",
       "      <td>Paciente VIH positivo con tratamiento ARV</td>\n",
       "      <td>Persona</td>\n",
       "      <td>70496.0</td>\n",
       "      <td>64629.0</td>\n",
       "      <td>NaN</td>\n",
       "      <td>237.0</td>\n",
       "      <td>0.37</td>\n",
       "      <td>0.0</td>\n",
       "      <td>2017</td>\n",
       "      <td>ENTIDAD = 11130009, PROGRAMA = 16</td>\n",
       "      <td>1</td>\n",
       "    </tr>\n",
       "    <tr>\n",
       "      <th>29013</th>\n",
       "      <td>29013</td>\n",
       "      <td>16-PREVENCIÓN Y CONTROL DE ITS, VIH/SIDA</td>\n",
       "      <td>00-SIN SUBPROGRAMA</td>\n",
       "      <td>000-SIN PROYECTO</td>\n",
       "      <td>002-000-PERSONA CON DIAGNÓSTICO Y TRATAMIENTO ...</td>\n",
       "      <td>8.0-Paciente VIH positivo con tratamiento ARV</td>\n",
       "      <td>NaN</td>\n",
       "      <td>Paciente VIH positivo con tratamiento ARV</td>\n",
       "      <td>Persona</td>\n",
       "      <td>70496.0</td>\n",
       "      <td>64629.0</td>\n",
       "      <td>NaN</td>\n",
       "      <td>499.0</td>\n",
       "      <td>0.77</td>\n",
       "      <td>0.0</td>\n",
       "      <td>2017</td>\n",
       "      <td>ENTIDAD = 11130009, PROGRAMA = 16</td>\n",
       "      <td>4</td>\n",
       "    </tr>\n",
       "    <tr>\n",
       "      <th>33476</th>\n",
       "      <td>33476</td>\n",
       "      <td>16-PREVENCIÓN Y CONTROL DE ITS, VIH/SIDA</td>\n",
       "      <td>00-SIN SUBPROGRAMA</td>\n",
       "      <td>000-SIN PROYECTO</td>\n",
       "      <td>002-000-PERSONA CON DIAGNÓSTICO Y TRATAMIENTO ...</td>\n",
       "      <td>8.0-Paciente VIH positivo con tratamiento ARV</td>\n",
       "      <td>NaN</td>\n",
       "      <td>Paciente VIH positivo con tratamiento ARV</td>\n",
       "      <td>Persona</td>\n",
       "      <td>70496.0</td>\n",
       "      <td>73132.0</td>\n",
       "      <td>NaN</td>\n",
       "      <td>42672.0</td>\n",
       "      <td>58.35</td>\n",
       "      <td>0.0</td>\n",
       "      <td>2018</td>\n",
       "      <td>ENTIDAD = 11130009, PROGRAMA = 16</td>\n",
       "      <td>3</td>\n",
       "    </tr>\n",
       "    <tr>\n",
       "      <th>39613</th>\n",
       "      <td>39613</td>\n",
       "      <td>16-PREVENCIÓN Y CONTROL DE ITS, VIH/SIDA</td>\n",
       "      <td>00-SIN SUBPROGRAMA</td>\n",
       "      <td>000-SIN PROYECTO</td>\n",
       "      <td>002-000-PERSONA CON DIAGNÓSTICO Y TRATAMIENTO ...</td>\n",
       "      <td>8.0-Paciente VIH positivo con tratamiento ARV</td>\n",
       "      <td>NaN</td>\n",
       "      <td>Paciente VIH positivo con tratamiento ARV</td>\n",
       "      <td>Persona</td>\n",
       "      <td>70496.0</td>\n",
       "      <td>73132.0</td>\n",
       "      <td>NaN</td>\n",
       "      <td>1365.0</td>\n",
       "      <td>1.87</td>\n",
       "      <td>0.0</td>\n",
       "      <td>2018</td>\n",
       "      <td>ENTIDAD = 11130009, PROGRAMA = 16</td>\n",
       "      <td>2</td>\n",
       "    </tr>\n",
       "  </tbody>\n",
       "</table>\n",
       "</div>"
      ],
      "text/plain": [
       "       Unnamed: 0                                  Programa  \\\n",
       "5842         5842  16-PREVENCIÓN Y CONTROL DE ITS, VIH/SIDA   \n",
       "12360       12360  16-PREVENCIÓN Y CONTROL DE ITS, VIH/SIDA   \n",
       "14813       14813  16-PREVENCIÓN Y CONTROL DE ITS, VIH/SIDA   \n",
       "21425       21425  16-PREVENCIÓN Y CONTROL DE ITS, VIH/SIDA   \n",
       "26147       26147  16-PREVENCIÓN Y CONTROL DE ITS, VIH/SIDA   \n",
       "29013       29013  16-PREVENCIÓN Y CONTROL DE ITS, VIH/SIDA   \n",
       "33476       33476  16-PREVENCIÓN Y CONTROL DE ITS, VIH/SIDA   \n",
       "39613       39613  16-PREVENCIÓN Y CONTROL DE ITS, VIH/SIDA   \n",
       "\n",
       "              Subprograma          Proyecto  \\\n",
       "5842   00-SIN SUBPROGRAMA  000-SIN PROYECTO   \n",
       "12360  00-SIN SUBPROGRAMA  000-SIN PROYECTO   \n",
       "14813  00-SIN SUBPROGRAMA  000-SIN PROYECTO   \n",
       "21425  00-SIN SUBPROGRAMA  000-SIN PROYECTO   \n",
       "26147  00-SIN SUBPROGRAMA  000-SIN PROYECTO   \n",
       "29013  00-SIN SUBPROGRAMA  000-SIN PROYECTO   \n",
       "33476  00-SIN SUBPROGRAMA  000-SIN PROYECTO   \n",
       "39613  00-SIN SUBPROGRAMA  000-SIN PROYECTO   \n",
       "\n",
       "                                                   ActOb  \\\n",
       "5842   002-000-PERSONA CON DIAGNÓSTICO Y TRATAMIENTO ...   \n",
       "12360  002-000-PERSONA CON DIAGNÓSTICO Y TRATAMIENTO ...   \n",
       "14813  002-000-PERSONA CON DIAGNÓSTICO Y TRATAMIENTO ...   \n",
       "21425  002-000-PERSONA CON DIAGNÓSTICO Y TRATAMIENTO ...   \n",
       "26147  002-000-PERSONA CON DIAGNÓSTICO Y TRATAMIENTO ...   \n",
       "29013  002-000-PERSONA CON DIAGNÓSTICO Y TRATAMIENTO ...   \n",
       "33476  002-000-PERSONA CON DIAGNÓSTICO Y TRATAMIENTO ...   \n",
       "39613  002-000-PERSONA CON DIAGNÓSTICO Y TRATAMIENTO ...   \n",
       "\n",
       "                                           Resultado LugarCod  \\\n",
       "5842   8.0-Paciente VIH positivo con tratamiento ARV      NaN   \n",
       "12360  8.0-Paciente VIH positivo con tratamiento ARV      NaN   \n",
       "14813  8.0-Paciente VIH positivo con tratamiento ARV      NaN   \n",
       "21425  8.0-Paciente VIH positivo con tratamiento ARV      NaN   \n",
       "26147  8.0-Paciente VIH positivo con tratamiento ARV      NaN   \n",
       "29013  8.0-Paciente VIH positivo con tratamiento ARV      NaN   \n",
       "33476  8.0-Paciente VIH positivo con tratamiento ARV      NaN   \n",
       "39613  8.0-Paciente VIH positivo con tratamiento ARV      NaN   \n",
       "\n",
       "                                  LocationNombre Unidades  Inicial  Vigente  \\\n",
       "5842   Paciente VIH positivo con tratamiento ARV  Persona  70496.0  64629.0   \n",
       "12360  Paciente VIH positivo con tratamiento ARV  Persona  70496.0  64629.0   \n",
       "14813  Paciente VIH positivo con tratamiento ARV  Persona  70496.0  73132.0   \n",
       "21425  Paciente VIH positivo con tratamiento ARV  Persona  70496.0  73132.0   \n",
       "26147  Paciente VIH positivo con tratamiento ARV  Persona  70496.0  64629.0   \n",
       "29013  Paciente VIH positivo con tratamiento ARV  Persona  70496.0  64629.0   \n",
       "33476  Paciente VIH positivo con tratamiento ARV  Persona  70496.0  73132.0   \n",
       "39613  Paciente VIH positivo con tratamiento ARV  Persona  70496.0  73132.0   \n",
       "\n",
       "       LugarEjecutado  Ejecutado  PorcEj  NBeneficiados  Year  \\\n",
       "5842              NaN    46995.0   72.72            0.0  2017   \n",
       "12360             NaN      457.0    0.71            0.0  2017   \n",
       "14813             NaN    15752.0   21.54            0.0  2018   \n",
       "21425             NaN      874.0    1.20            0.0  2018   \n",
       "26147             NaN      237.0    0.37            0.0  2017   \n",
       "29013             NaN      499.0    0.77            0.0  2017   \n",
       "33476             NaN    42672.0   58.35            0.0  2018   \n",
       "39613             NaN     1365.0    1.87            0.0  2018   \n",
       "\n",
       "                        Reporte_Programa  Trimestre  \n",
       "5842   ENTIDAD = 11130009, PROGRAMA = 16          3  \n",
       "12360  ENTIDAD = 11130009, PROGRAMA = 16          2  \n",
       "14813  ENTIDAD = 11130009, PROGRAMA = 16          4  \n",
       "21425  ENTIDAD = 11130009, PROGRAMA = 16          1  \n",
       "26147  ENTIDAD = 11130009, PROGRAMA = 16          1  \n",
       "29013  ENTIDAD = 11130009, PROGRAMA = 16          4  \n",
       "33476  ENTIDAD = 11130009, PROGRAMA = 16          3  \n",
       "39613  ENTIDAD = 11130009, PROGRAMA = 16          2  "
      ]
     },
     "execution_count": 524,
     "metadata": {},
     "output_type": "execute_result"
    }
   ],
   "source": [
    "sicoinRM[(sicoinRM.Programa == \"16-PREVENCIÓN Y CONTROL DE ITS, VIH/SIDA\") &\n",
    "        sicoinRM.Resultado.isin([      '8.0-Paciente VIH positivo con tratamiento ARV'\n",
    "                                 #'1.0-Persona con diagnóstico y tratamiento de ITS, VIH/SIDA'\n",
    "                                ]) &\n",
    "        sicoinRM.LugarCod.isna()]"
   ]
  },
  {
   "cell_type": "code",
   "execution_count": 251,
   "metadata": {},
   "outputs": [],
   "source": [
    "# There is no data on how many new HIV cases have been found\n",
    "# sicoinRM[(sicoinRM.Programa == \"16-PREVENCIÓN Y CONTROL DE ITS, VIH/SIDA\")].Resultado.unique()"
   ]
  },
  {
   "cell_type": "code",
   "execution_count": 525,
   "metadata": {},
   "outputs": [],
   "source": [
    "# Proportion of MDR Cases Treated_value\n",
    "propMDRTx = ( mdrtx/mdrcases).rename(\"Proportion of MDR Cases Treated_value_d_yearly\")"
   ]
  },
  {
   "cell_type": "code",
   "execution_count": 547,
   "metadata": {},
   "outputs": [],
   "source": [
    "propMDRTx.index = propMDRTx.index.reorder_levels([\"year\",  \"quarter\",  \"department\",  \"municipality\"])"
   ]
  },
  {
   "cell_type": "code",
   "execution_count": 548,
   "metadata": {},
   "outputs": [
    {
     "data": {
      "text/plain": [
       "year  quarter  department  municipality\n",
       "2014  1        1           101             0.857143\n",
       "                           102             0.857143\n",
       "                           103             0.857143\n",
       "                           104             0.857143\n",
       "                           105             0.857143\n",
       "Name: Proportion of MDR Cases Treated_value_d_yearly, dtype: float64"
      ]
     },
     "execution_count": 548,
     "metadata": {},
     "output_type": "execute_result"
    }
   ],
   "source": [
    "propMDRTx.head()"
   ]
  },
  {
   "cell_type": "code",
   "execution_count": 526,
   "metadata": {},
   "outputs": [
    {
     "data": {
      "text/plain": [
       "array(['NOMBRES', 'DIRECCION', 'MUNICIPIO', 'DEPARTAMENTO',\n",
       "       'SERVICIODESALUD', 'SEXO', 'EDAD', 'RANGOEDAD', 'PESOLBS',\n",
       "       'PESOKG', 'CONDICIONINGRESO', 'FECHANOTIFICACION', 'FECHAINICIOTX',\n",
       "       'CLASIFICACION', 'VIH', 'ESQUEMA', 'CONTACTOS', 'OTRASPATOLOGIAS',\n",
       "       'YEAR', 'YearMonth', 'TIPODETBPEDIATRICOS', 'FECHAPRUEBAVIH',\n",
       "       'CONDICIONEGRESO', 'FECHAMUERTE', 'CAUSADEMUERTE',\n",
       "       'PACIENTEPRIVADOLIBERTAD', 'DEPORTADO', 'LOCALIZACIONTB',\n",
       "       'METODODX', 'CONTACTO_000_014', 'CONTACTO_MAYORA_015',\n",
       "       'CASOINDICE', 'DESARROLLOTBCLASIFICACION', 'EMPLEADOMSPAS',\n",
       "       'UNIDADDX', 'FALLECIDOS', 'CORRELATIVO', 'DAS', 'FECHANACIMIENTO',\n",
       "       'FECHAACTUAL', 'EDADDECADA', 'EDUCACION', 'PUEBLO', 'OCUPACION',\n",
       "       'NUEVACONDICIONINGRESO', 'FECHADX', 'NUEVOMETODODX', 'PDS',\n",
       "       'CONTACTO_000_0004', 'CONTACTO_MAYORA_005', 'QUIMIO_VIH',\n",
       "       'DBCATEGORY', 'DISTRITO', 'MIGRACION', 'CONDICIONPX',\n",
       "       'CAUSAMUERTE', 'TipoTB', 'MESNOTIFICACION', 'OTRASPATOLOGIAS_2',\n",
       "       'OTRASPATOLOGIAS_3', 'CONTACTO_000_004', 'CONTACTO_MAYORA005',\n",
       "       'TPC', 'TARV', 'LUGARTARV', 'INICIOTARV', 'REFIERE', 'BXPOSITIVAS',\n",
       "       'RESULTADOPDS', 'FECHAPDS', 'CONTROL2_RESULTADO', 'CONTROL2_FECHA',\n",
       "       'CONTROL4_RESULTADO', 'CONTROL4_FECHA', 'CONTROL6_RESULTADO',\n",
       "       'CONTROL6_FECHA', 'CULTIVO_RESULTADO', 'CULTIVO_FECHA',\n",
       "       'FECHAEGRESO', 'OBSERVACION', 'RESISTENCIA', 'FECHARESULTADOPDS',\n",
       "       'ID', 'X1', 'X2', 'X3', 'X4', 'GENEXPERT', 'FECHAGX', 'DIABETES',\n",
       "       'HIPERTENSION', 'CONTROL1_RESULTADO', 'CONTROL1_FECHA',\n",
       "       'CONTROL2_GX', 'CONTROL3_RESULTADO', 'CONTROL3_FECHA',\n",
       "       'CONTROL3_GX', 'CONTROL4_GX', 'CONTROL5_RESULTADO',\n",
       "       'CONTROL5_FECHA', 'CONTROL5_GX', 'CONTROL6_GX',\n",
       "       'CONTROL7_RESULTADO', 'CONTROL7_FECHA', 'CONTROL7_GX',\n",
       "       'OBSERVACIONES', 'PRIORIZACION', 'PESOLB', 'NotificationDate',\n",
       "       'YearMonth_', 'DEPTO_CORRECTED', 'i', 'COD_DEPT', 'COD_MUNI',\n",
       "       'Year', 'Quarter', 'year', 'quarter', 'Tx', 'municipality',\n",
       "       'department'], dtype=object)"
      ]
     },
     "execution_count": 526,
     "metadata": {},
     "output_type": "execute_result"
    }
   ],
   "source": [
    "# Proportion of Patients Receiving DST_value\n",
    "notifs.columns.values"
   ]
  },
  {
   "cell_type": "code",
   "execution_count": 527,
   "metadata": {},
   "outputs": [],
   "source": [
    "casespds = notifs[ (notifs.FECHAPDS.map(lambda x: len(str(x))>4) | notifs.PDS.notna() | notifs.RESULTADOPDS.notna()) & \n",
    "        (notifs.Year<=2018) & notifs.COD_MUNI.notna()\n",
    "      ].groupby([\"year\", \"quarter\", \"department\", \"municipality\"]).apply(len)"
   ]
  },
  {
   "cell_type": "code",
   "execution_count": 528,
   "metadata": {},
   "outputs": [
    {
     "data": {
      "text/plain": [
       "SI                     382\n",
       "SENSIBLE               117\n",
       "RESISTENTE INH          12\n",
       "CONTAMINADO              6\n",
       "RR                       4\n",
       "RESISTENTE R             4\n",
       "RESISTENTE INH,R         3\n",
       "MDR                      2\n",
       "ACIDIFICADA              1\n",
       "REISTENTE A R            1\n",
       "ACIDIFICADO              1\n",
       "ND                       1\n",
       "MONORESISTE A INH        1\n",
       "NO CRECIO                1\n",
       "RESISTENTE INH, STR      1\n",
       "Name: PDS, dtype: int64"
      ]
     },
     "execution_count": 528,
     "metadata": {},
     "output_type": "execute_result"
    }
   ],
   "source": [
    "notifs.PDS.value_counts()"
   ]
  },
  {
   "cell_type": "code",
   "execution_count": 529,
   "metadata": {},
   "outputs": [
    {
     "data": {
      "text/plain": [
       "649"
      ]
     },
     "execution_count": 529,
     "metadata": {},
     "output_type": "execute_result"
    }
   ],
   "source": [
    "casespds.sum()"
   ]
  },
  {
   "cell_type": "code",
   "execution_count": 530,
   "metadata": {},
   "outputs": [],
   "source": [
    "propDST = (casespds/casesNotif).fillna(0).rename(\"Proportion of Patients Receiving DST_value_m_quarterly\")"
   ]
  },
  {
   "cell_type": "code",
   "execution_count": 532,
   "metadata": {
    "collapsed": true,
    "jupyter": {
     "outputs_hidden": true
    }
   },
   "outputs": [
    {
     "data": {
      "text/plain": [
       "year  quarter  department  municipality\n",
       "2016  1        1           101             0.050000\n",
       "                           107             1.000000\n",
       "                           116             0.111111\n",
       "               5           501             0.090909\n",
       "                           502             0.111111\n",
       "                           505             0.250000\n",
       "                           506             0.100000\n",
       "                           507             0.071429\n",
       "                           509             0.111111\n",
       "               7           705             0.142857\n",
       "               9           901             0.500000\n",
       "                           920             0.066667\n",
       "               10          1001            0.125000\n",
       "                           1010            0.142857\n",
       "                           1011            1.000000\n",
       "                           1013            0.071429\n",
       "                           1014            0.071429\n",
       "               11          1101            0.210526\n",
       "                           1102            0.166667\n",
       "                           1104            0.200000\n",
       "                           1107            0.166667\n",
       "                           1109            0.500000\n",
       "               12          1215            0.133333\n",
       "                           1217            0.181818\n",
       "                           1220            0.153846\n",
       "               13          1316            0.600000\n",
       "               14          1404            0.500000\n",
       "                           1420            0.111111\n",
       "               18          1801            0.090909\n",
       "                           1802            0.166667\n",
       "               19          1901            0.166667\n",
       "               21          2101            0.250000\n",
       "               22          2205            0.166667\n",
       "                           2206            0.333333\n",
       "                           2211            0.250000\n",
       "      2        1           101             0.044444\n",
       "                           106             0.083333\n",
       "                           108             0.181818\n",
       "                           113             0.333333\n",
       "                           115             0.076923\n",
       "               5           501             0.080645\n",
       "                           502             0.101695\n",
       "                           503             0.111111\n",
       "                           505             0.166667\n",
       "                           506             0.105263\n",
       "                           507             0.307692\n",
       "                           509             0.142857\n",
       "                           510             0.333333\n",
       "               6           601             0.111111\n",
       "               7           705             0.333333\n",
       "                                             ...   \n",
       "2018  2        5           502             0.030612\n",
       "                           503             0.285714\n",
       "                           505             0.250000\n",
       "                           509             0.142857\n",
       "               6           601             0.200000\n",
       "                           602             0.333333\n",
       "                           611             0.125000\n",
       "                           614             1.000000\n",
       "               7           705             0.222222\n",
       "               8           808             1.000000\n",
       "               9           916             0.500000\n",
       "                           917             0.500000\n",
       "               10          1001            0.166667\n",
       "                           1002            0.076923\n",
       "                           1006            0.083333\n",
       "                           1013            0.071429\n",
       "                           1014            0.166667\n",
       "                           1017            0.333333\n",
       "                           1020            0.090909\n",
       "                           1021            0.666667\n",
       "               11          1101            0.071429\n",
       "                           1107            0.062500\n",
       "                           1108            0.500000\n",
       "               12          1201            0.200000\n",
       "                           1209            0.076923\n",
       "                           1213            0.111111\n",
       "                           1215            0.035714\n",
       "                           1217            0.071429\n",
       "                           1223            0.250000\n",
       "               13          1301            0.200000\n",
       "                           1311            0.333333\n",
       "                           1318            0.166667\n",
       "                           1326            0.055556\n",
       "               14          1406            0.200000\n",
       "                           1407            1.000000\n",
       "                           1410            0.058824\n",
       "                           1414            1.000000\n",
       "                           1418            1.000000\n",
       "               17          1708            1.000000\n",
       "               18          1801            0.052632\n",
       "                           1804            0.142857\n",
       "                           1805            0.333333\n",
       "               20          2004            0.200000\n",
       "                           2007            0.142857\n",
       "      3        1           101             0.015385\n",
       "               5           501             0.017857\n",
       "               10          1006            0.100000\n",
       "                           1013            0.083333\n",
       "                           1014            0.500000\n",
       "               18          1801            0.083333\n",
       "Name: Proportion of Patients Receiving DST_value_m_quarterly, Length: 390, dtype: float64"
      ]
     },
     "execution_count": 532,
     "metadata": {},
     "output_type": "execute_result"
    }
   ],
   "source": [
    "propDST[propDST > 0]"
   ]
  },
  {
   "cell_type": "code",
   "execution_count": 258,
   "metadata": {},
   "outputs": [],
   "source": [
    "# Proportion of MDR Cases completing at least 6 mo of therapy_value"
   ]
  },
  {
   "cell_type": "code",
   "execution_count": 259,
   "metadata": {},
   "outputs": [],
   "source": [
    "# There is no information about Tx duration"
   ]
  },
  {
   "cell_type": "code",
   "execution_count": 536,
   "metadata": {},
   "outputs": [
    {
     "data": {
      "text/plain": [
       "year  department  municipality  quarter\n",
       "2014  1           101           1          1.0\n",
       "                                2          1.0\n",
       "                                3          1.0\n",
       "                                4          1.0\n",
       "                  102           1          NaN\n",
       "Name: Proportion of Cases in Prisons Treated_value_d_yearly, dtype: float64"
      ]
     },
     "execution_count": 536,
     "metadata": {},
     "output_type": "execute_result"
    }
   ],
   "source": [
    "propPPLTx.head()"
   ]
  },
  {
   "cell_type": "code",
   "execution_count": 551,
   "metadata": {},
   "outputs": [
    {
     "name": "stdout",
     "output_type": "stream",
     "text": [
      "['year', 'quarter', 'department', 'municipality']\n",
      "['year', 'quarter', 'department', 'municipality']\n",
      "['year', 'quarter', 'department', 'municipality']\n",
      "['year', 'quarter', 'department', 'municipality']\n",
      "['year', 'quarter', 'department', 'municipality']\n",
      "['year', 'quarter', 'department', 'municipality']\n"
     ]
    }
   ],
   "source": [
    "outcomes = pd.merge(makeFullIndex(propCasesTx), makeFullIndex(propPPLTx), left_index=True, right_index=True, how=\"outer\")\\\n",
    "            .merge(makeFullIndex(propHIVTx), left_index=True, right_index=True, how=\"outer\")\\\n",
    "            .merge(makeFullIndex(propTbHivDx), left_index=True, right_index=True, how=\"outer\")\\\n",
    "            .merge(makeFullIndex(propMDRTx), left_index=True, right_index=True, how=\"outer\")\\\n",
    "            .merge(makeFullIndex(propDST), left_index=True, right_index=True, how=\"outer\")\\\n",
    "            "
   ]
  },
  {
   "cell_type": "code",
   "execution_count": 553,
   "metadata": {},
   "outputs": [],
   "source": [
    "outcomes.to_csv(\"../../../Impact Evaluation/TB/outcomes.csv\")"
   ]
  },
  {
   "cell_type": "code",
   "execution_count": null,
   "metadata": {},
   "outputs": [],
   "source": []
  },
  {
   "cell_type": "code",
   "execution_count": null,
   "metadata": {},
   "outputs": [],
   "source": []
  }
 ],
 "metadata": {
  "kernelspec": {
   "display_name": "Python 3",
   "language": "python",
   "name": "python3"
  },
  "language_info": {
   "codemirror_mode": {
    "name": "ipython",
    "version": 3
   },
   "file_extension": ".py",
   "mimetype": "text/x-python",
   "name": "python",
   "nbconvert_exporter": "python",
   "pygments_lexer": "ipython3",
   "version": "3.6.8"
  }
 },
 "nbformat": 4,
 "nbformat_minor": 4
}
