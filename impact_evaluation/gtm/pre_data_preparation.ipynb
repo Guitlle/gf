{
 "cells": [
  {
   "cell_type": "code",
   "execution_count": 94,
   "metadata": {},
   "outputs": [],
   "source": [
    "import pandas as pd\n",
    "import numpy as np\n",
    "import matplotlib.pyplot as plt\n",
    "import matplotlib as mlp\n",
    "import os\n",
    "\n",
    "%matplotlib inline"
   ]
  },
  {
   "cell_type": "code",
   "execution_count": 95,
   "metadata": {},
   "outputs": [],
   "source": [
    "curdir = os.getcwd()"
   ]
  },
  {
   "cell_type": "code",
   "execution_count": 96,
   "metadata": {},
   "outputs": [],
   "source": [
    "\n",
    "os.chdir(\"../../core/\")\n",
    "import GT_helper_functions as hf\n",
    "import GT_load_data as data\n",
    "\n",
    "os.chdir(curdir)"
   ]
  },
  {
   "cell_type": "code",
   "execution_count": 97,
   "metadata": {},
   "outputs": [],
   "source": [
    "fullIndex = data.munisGT[(data.munisGT.municode != 0) & data.munisGT.deptocode.notna()]\\\n",
    ".assign(deptocode = lambda x: x.deptocode.astype(int)).groupby([\"deptocode\", \"municode\"]).apply(len).index"
   ]
  },
  {
   "cell_type": "code",
   "execution_count": 98,
   "metadata": {},
   "outputs": [],
   "source": [
    "def makeFullIndex(dfyears):\n",
    "    indexList = fullIndex.to_list()\n",
    "    newIndex = []\n",
    "    for year in dfyears.index.levels[0]:\n",
    "        newIndex.extend([(year, x[0], x[1]) for x in indexList])\n",
    "    return dfyears.reindex(pd.MultiIndex.from_tuples(newIndex, names = [\"date\", \"department\", \"municipality\"]))"
   ]
  },
  {
   "cell_type": "code",
   "execution_count": 99,
   "metadata": {},
   "outputs": [],
   "source": [
    "def tryfun(f):\n",
    "    def wrapper(i):\n",
    "        try:\n",
    "            return f(i)\n",
    "        except:\n",
    "            return np.NaN\n",
    "    return wrapper"
   ]
  },
  {
   "cell_type": "markdown",
   "metadata": {},
   "source": [
    "# Outputs\n"
   ]
  },
  {
   "cell_type": "code",
   "execution_count": 100,
   "metadata": {},
   "outputs": [
    {
     "name": "stderr",
     "output_type": "stream",
     "text": [
      "/usr/local/lib/python3.6/dist-packages/IPython/core/interactiveshell.py:3020: DtypeWarning: Columns (7,8,9,11,20,21,22,23,24,25,26,27,28,29,30,31,32,34,35,37,38,39,40,41,42,43,44,45,46,47,48,49,50,51,52,53,54,55,56,57,58,59,60,61,62,63,64,65,66,68,69,70,72,74,78,79,80,81,83,84,85,87,89,90,91,93,94,98,102) have mixed types. Specify dtype option on import or set low_memory=False.\n",
      "  interactivity=interactivity, compiler=compiler, result=result)\n"
     ]
    }
   ],
   "source": [
    "notifs = pd.read_csv(\"../../../Outcome Measurement Data/TUBERCULOSIS/Notificaciones TB/GTM - TB all notifications 2012-Sep2018.csv\")"
   ]
  },
  {
   "cell_type": "code",
   "execution_count": 101,
   "metadata": {},
   "outputs": [],
   "source": [
    "notifs.loc[notifs.COD_MUNI == 1422, \"COD_MUNI\"] = 1420"
   ]
  },
  {
   "cell_type": "code",
   "execution_count": 102,
   "metadata": {},
   "outputs": [],
   "source": [
    "notifs[\"Year\"] = np.floor(notifs.YearMonth/100)"
   ]
  },
  {
   "cell_type": "code",
   "execution_count": 103,
   "metadata": {},
   "outputs": [],
   "source": [
    "casesNotif = notifs[(notifs.Year<2018) & notifs.COD_MUNI.notna()].assign(municipality = lambda x: x.COD_MUNI).assign(date=lambda x: x.Year.astype(int))\\\n",
    ".assign(department = lambda x: (np.floor(x.COD_MUNI/100)).astype(int) ).groupby([\"date\", \"department\", \"municipality\"]).apply(len)"
   ]
  },
  {
   "cell_type": "code",
   "execution_count": 104,
   "metadata": {},
   "outputs": [],
   "source": [
    "casesNotif = casesNotif[casesNotif.index.get_level_values(1)!=0].rename(\"Cases Notified_value_m\").fillna(0)"
   ]
  },
  {
   "cell_type": "code",
   "execution_count": 105,
   "metadata": {},
   "outputs": [],
   "source": [
    "extraM2017 = pd.read_csv(\"../../../Outcome Measurement Data/TUBERCULOSIS/Extramuros2017.csv\", index_col=0)"
   ]
  },
  {
   "cell_type": "code",
   "execution_count": 106,
   "metadata": {},
   "outputs": [],
   "source": [
    "acfcases = extraM2017[extraM2017.Year.notna()].assign(municipality = lambda x: x.MuniCode.astype(int)).assign(date = lambda x: x.Year.astype(int)).\\\n",
    "assign(department = lambda x: x.DeptoCode.astype(int)).groupby([\"date\", \"department\", \"municipality\"])[\"bacteriologicos.extramuros\"].sum()\n",
    "acfcases = acfcases.rename(\"Additional Cases Detected via ACF_value_m\").fillna(0)"
   ]
  },
  {
   "cell_type": "code",
   "execution_count": 107,
   "metadata": {},
   "outputs": [],
   "source": [
    "# Extramuros 2017-2018\n",
    "# datos adicionales por departamento obtenidos del PNTB\n",
    "extraMurosData = pd.read_excel(\"../../../Outcome Measurement Data/TUBERCULOSIS/TB-Extramuros-2017-2018.xlsx\")"
   ]
  },
  {
   "cell_type": "code",
   "execution_count": 108,
   "metadata": {},
   "outputs": [
    {
     "data": {
      "text/plain": [
       "array(['Número de sintomáticos respiratorios detectados ',\n",
       "       'Número de sintomáticos respiratorios examinados',\n",
       "       'Número de muestras para BK recolectadas y enviadas a laboratorio',\n",
       "       'Número de muestras para Xpert y cultivo recolectadas y enviadas a laboratorio',\n",
       "       'Número de casos TB todas sus formas (nuevos y recaídas) detectados',\n",
       "       'Número de casos nuevos TB todas sus formas detectados',\n",
       "       'Número de casos nuevos bacteriologicamente confirmados detectados',\n",
       "       'Cantidad  de niños <de 5 años referidos para evaluación a través de ruta diagnostica para descartar tuberculosis',\n",
       "       'Cantidad de niños < de 5 años diagnosticados con TB (de los referidos)',\n",
       "       'Cantidad de niños < de 5 años que reciben quimioprofilaxis (de los referidos)'],\n",
       "      dtype=object)"
      ]
     },
     "execution_count": 108,
     "metadata": {},
     "output_type": "execute_result"
    }
   ],
   "source": [
    "extraMurosData.Variable.unique()"
   ]
  },
  {
   "cell_type": "code",
   "execution_count": 109,
   "metadata": {},
   "outputs": [],
   "source": [
    "acfcases2 = \\\n",
    "extraMurosData[extraMurosData.Variable.isin(['Número de casos nuevos TB todas sus formas detectados'])]\\\n",
    "[[\"Year\", \"Department\", \"Extramuros\"]].groupby([\"Year\", \"Department\"]).Extramuros.sum()\\\n",
    ".rename(\"Additional Cases Detected via ACF_value_d\").rename_axis(index={ \"Year\": \"date\", \"Department\": \"department\"})\n"
   ]
  },
  {
   "cell_type": "code",
   "execution_count": 110,
   "metadata": {},
   "outputs": [
    {
     "data": {
      "text/plain": [
       "date  department  municipality\n",
       "2017  1           101             30.0\n",
       "                  102             30.0\n",
       "                  103             30.0\n",
       "                  104             30.0\n",
       "                  105             30.0\n",
       "                  106             30.0\n",
       "                  107             30.0\n",
       "                  108             30.0\n",
       "                  109             30.0\n",
       "                  110             30.0\n",
       "                  111             30.0\n",
       "                  112             30.0\n",
       "                  113             30.0\n",
       "                  114             30.0\n",
       "                  115             30.0\n",
       "                  116             30.0\n",
       "                  117             30.0\n",
       "      2           201              NaN\n",
       "                  202              NaN\n",
       "                  203              NaN\n",
       "                  204              NaN\n",
       "                  205              NaN\n",
       "                  206              NaN\n",
       "                  207              NaN\n",
       "                  208              NaN\n",
       "      3           301              NaN\n",
       "                  302              NaN\n",
       "                  303              NaN\n",
       "                  304              NaN\n",
       "                  305              NaN\n",
       "                                  ... \n",
       "2018  20          2006             NaN\n",
       "                  2007             NaN\n",
       "                  2008             NaN\n",
       "                  2009             NaN\n",
       "                  2010             NaN\n",
       "                  2011             NaN\n",
       "      21          2101             NaN\n",
       "                  2102             NaN\n",
       "                  2103             NaN\n",
       "                  2104             NaN\n",
       "                  2105             NaN\n",
       "                  2106             NaN\n",
       "                  2107             NaN\n",
       "      22          2201             NaN\n",
       "                  2202             NaN\n",
       "                  2203             NaN\n",
       "                  2204             NaN\n",
       "                  2205             NaN\n",
       "                  2206             NaN\n",
       "                  2207             NaN\n",
       "                  2208             NaN\n",
       "                  2209             NaN\n",
       "                  2210             NaN\n",
       "                  2211             NaN\n",
       "                  2212             NaN\n",
       "                  2213             NaN\n",
       "                  2214             NaN\n",
       "                  2215             NaN\n",
       "                  2216             NaN\n",
       "                  2217             NaN\n",
       "Name: Additional Cases Detected via ACF_value_d, Length: 680, dtype: float64"
      ]
     },
     "execution_count": 110,
     "metadata": {},
     "output_type": "execute_result"
    }
   ],
   "source": [
    "makeFullIndex(acfcases2)"
   ]
  },
  {
   "cell_type": "code",
   "execution_count": 111,
   "metadata": {},
   "outputs": [],
   "source": [
    "# Cases Started on Treatment_value\n",
    "# MDR Cases Started Treatment_value\n",
    "\n",
    "cohortes = pd.read_csv(\"../../../Outcome Measurement Data/TUBERCULOSIS/COHORTES/GTM - Tx cohort data 2012-2017.csv\")"
   ]
  },
  {
   "cell_type": "code",
   "execution_count": 112,
   "metadata": {},
   "outputs": [
    {
     "data": {
      "text/html": [
       "<div>\n",
       "<style scoped>\n",
       "    .dataframe tbody tr th:only-of-type {\n",
       "        vertical-align: middle;\n",
       "    }\n",
       "\n",
       "    .dataframe tbody tr th {\n",
       "        vertical-align: top;\n",
       "    }\n",
       "\n",
       "    .dataframe thead th {\n",
       "        text-align: right;\n",
       "    }\n",
       "</style>\n",
       "<table border=\"1\" class=\"dataframe\">\n",
       "  <thead>\n",
       "    <tr style=\"text-align: right;\">\n",
       "      <th></th>\n",
       "      <th>Unnamed: 0</th>\n",
       "      <th>col_name</th>\n",
       "      <th>deptocode</th>\n",
       "      <th>row_name</th>\n",
       "      <th>row_name_B</th>\n",
       "      <th>table</th>\n",
       "      <th>value</th>\n",
       "      <th>year</th>\n",
       "    </tr>\n",
       "  </thead>\n",
       "  <tbody>\n",
       "    <tr>\n",
       "      <th>0</th>\n",
       "      <td>0</td>\n",
       "      <td>I TRIMESTRE</td>\n",
       "      <td>0</td>\n",
       "      <td>CURADOS</td>\n",
       "      <td>COMPLETED TREATMENT</td>\n",
       "      <td>Nuevos Pulmonares Bact Conf</td>\n",
       "      <td>474.0</td>\n",
       "      <td>2017</td>\n",
       "    </tr>\n",
       "    <tr>\n",
       "      <th>1</th>\n",
       "      <td>1</td>\n",
       "      <td>II TRIMESTRE</td>\n",
       "      <td>0</td>\n",
       "      <td>CURADOS</td>\n",
       "      <td>COMPLETED TREATMENT</td>\n",
       "      <td>Nuevos Pulmonares Bact Conf</td>\n",
       "      <td>511.0</td>\n",
       "      <td>2017</td>\n",
       "    </tr>\n",
       "    <tr>\n",
       "      <th>2</th>\n",
       "      <td>2</td>\n",
       "      <td>III TRIMESTRE</td>\n",
       "      <td>0</td>\n",
       "      <td>CURADOS</td>\n",
       "      <td>COMPLETED TREATMENT</td>\n",
       "      <td>Nuevos Pulmonares Bact Conf</td>\n",
       "      <td>497.0</td>\n",
       "      <td>2017</td>\n",
       "    </tr>\n",
       "    <tr>\n",
       "      <th>3</th>\n",
       "      <td>3</td>\n",
       "      <td>IV TRIMESTRE</td>\n",
       "      <td>0</td>\n",
       "      <td>CURADOS</td>\n",
       "      <td>COMPLETED TREATMENT</td>\n",
       "      <td>Nuevos Pulmonares Bact Conf</td>\n",
       "      <td>474.0</td>\n",
       "      <td>2017</td>\n",
       "    </tr>\n",
       "    <tr>\n",
       "      <th>4</th>\n",
       "      <td>4</td>\n",
       "      <td>TOTAL</td>\n",
       "      <td>0</td>\n",
       "      <td>CURADOS</td>\n",
       "      <td>COMPLETED TREATMENT</td>\n",
       "      <td>Nuevos Pulmonares Bact Conf</td>\n",
       "      <td>1956.0</td>\n",
       "      <td>2017</td>\n",
       "    </tr>\n",
       "  </tbody>\n",
       "</table>\n",
       "</div>"
      ],
      "text/plain": [
       "   Unnamed: 0       col_name  deptocode row_name           row_name_B  \\\n",
       "0           0    I TRIMESTRE          0  CURADOS  COMPLETED TREATMENT   \n",
       "1           1   II TRIMESTRE          0  CURADOS  COMPLETED TREATMENT   \n",
       "2           2  III TRIMESTRE          0  CURADOS  COMPLETED TREATMENT   \n",
       "3           3   IV TRIMESTRE          0  CURADOS  COMPLETED TREATMENT   \n",
       "4           4          TOTAL          0  CURADOS  COMPLETED TREATMENT   \n",
       "\n",
       "                         table   value  year  \n",
       "0  Nuevos Pulmonares Bact Conf   474.0  2017  \n",
       "1  Nuevos Pulmonares Bact Conf   511.0  2017  \n",
       "2  Nuevos Pulmonares Bact Conf   497.0  2017  \n",
       "3  Nuevos Pulmonares Bact Conf   474.0  2017  \n",
       "4  Nuevos Pulmonares Bact Conf  1956.0  2017  "
      ]
     },
     "execution_count": 112,
     "metadata": {},
     "output_type": "execute_result"
    }
   ],
   "source": [
    "cohortes.head()"
   ]
  },
  {
   "cell_type": "code",
   "execution_count": 113,
   "metadata": {},
   "outputs": [],
   "source": [
    "pivot_cohortes = cohortes[\n",
    "       (cohortes.col_name.isin([\"TOTAL\"])) & \n",
    "       ((cohortes.year <=2016) & cohortes.table.isin([\n",
    "                \"Nuevos Pulmonares BK+\", \n",
    "                \"Nuevos Pulmonares BK-\", \n",
    "                \"Nuevos Pediatricos\", \n",
    "                \"Nuevos Extrapulmonares\", \n",
    "                \"Nuevos TB/VIH\", \"Retratamiento\"\n",
    "            ]) |\n",
    "       # 2017\n",
    "       ((cohortes.year == 2017) & cohortes.table.isin([\n",
    "               \"Nuevos Pulmonares Bact Conf\", \n",
    "               \"Nuevos Pulmonares pediatricos Bact Conf\", \n",
    "               \"Nuevos Pulmonares Dx Clinico\",\n",
    "               \"Nuevos Extrapulmonares Bact Conf\", \n",
    "               \"Nuevos Extrapulmonares Dx Clinico\"\n",
    "            ]))\n",
    "       ) &\n",
    "       (cohortes.deptocode!=0)].\\\n",
    "    groupby([\"year\", \"deptocode\", \"row_name_B\"]).value.sum().unstack(2)"
   ]
  },
  {
   "cell_type": "code",
   "execution_count": 114,
   "metadata": {},
   "outputs": [
    {
     "data": {
      "text/html": [
       "<div>\n",
       "<style scoped>\n",
       "    .dataframe tbody tr th:only-of-type {\n",
       "        vertical-align: middle;\n",
       "    }\n",
       "\n",
       "    .dataframe tbody tr th {\n",
       "        vertical-align: top;\n",
       "    }\n",
       "\n",
       "    .dataframe thead th {\n",
       "        text-align: right;\n",
       "    }\n",
       "</style>\n",
       "<table border=\"1\" class=\"dataframe\">\n",
       "  <thead>\n",
       "    <tr style=\"text-align: right;\">\n",
       "      <th></th>\n",
       "      <th>row_name_B</th>\n",
       "      <th>COMPLETED TREATMENT</th>\n",
       "      <th>DEATHS</th>\n",
       "      <th>LOST TO FOLLOW-UP</th>\n",
       "      <th>REFERRED</th>\n",
       "    </tr>\n",
       "    <tr>\n",
       "      <th>year</th>\n",
       "      <th>deptocode</th>\n",
       "      <th></th>\n",
       "      <th></th>\n",
       "      <th></th>\n",
       "      <th></th>\n",
       "    </tr>\n",
       "  </thead>\n",
       "  <tbody>\n",
       "    <tr>\n",
       "      <th rowspan=\"5\" valign=\"top\">2017</th>\n",
       "      <th>18</th>\n",
       "      <td>112.0</td>\n",
       "      <td>9.0</td>\n",
       "      <td>4.0</td>\n",
       "      <td>2.0</td>\n",
       "    </tr>\n",
       "    <tr>\n",
       "      <th>19</th>\n",
       "      <td>45.0</td>\n",
       "      <td>6.0</td>\n",
       "      <td>4.0</td>\n",
       "      <td>0.0</td>\n",
       "    </tr>\n",
       "    <tr>\n",
       "      <th>20</th>\n",
       "      <td>33.0</td>\n",
       "      <td>6.0</td>\n",
       "      <td>0.0</td>\n",
       "      <td>0.0</td>\n",
       "    </tr>\n",
       "    <tr>\n",
       "      <th>21</th>\n",
       "      <td>17.0</td>\n",
       "      <td>0.0</td>\n",
       "      <td>0.0</td>\n",
       "      <td>0.0</td>\n",
       "    </tr>\n",
       "    <tr>\n",
       "      <th>22</th>\n",
       "      <td>42.0</td>\n",
       "      <td>4.0</td>\n",
       "      <td>4.0</td>\n",
       "      <td>0.0</td>\n",
       "    </tr>\n",
       "  </tbody>\n",
       "</table>\n",
       "</div>"
      ],
      "text/plain": [
       "row_name_B      COMPLETED TREATMENT  DEATHS  LOST TO FOLLOW-UP  REFERRED\n",
       "year deptocode                                                          \n",
       "2017 18                       112.0     9.0                4.0       2.0\n",
       "     19                        45.0     6.0                4.0       0.0\n",
       "     20                        33.0     6.0                0.0       0.0\n",
       "     21                        17.0     0.0                0.0       0.0\n",
       "     22                        42.0     4.0                4.0       0.0"
      ]
     },
     "execution_count": 114,
     "metadata": {},
     "output_type": "execute_result"
    }
   ],
   "source": [
    "pivot_cohortes.tail()"
   ]
  },
  {
   "cell_type": "code",
   "execution_count": 115,
   "metadata": {},
   "outputs": [],
   "source": [
    "initiatedTx = pivot_cohortes.sum(axis=1)"
   ]
  },
  {
   "cell_type": "code",
   "execution_count": 116,
   "metadata": {},
   "outputs": [],
   "source": [
    "initiatedTx = initiatedTx.rename_axis(index = { \"year\": \"date\", \"deptocode\": \"department\" }).rename(\"Cases Started on Treatment_value_d\")"
   ]
  },
  {
   "cell_type": "code",
   "execution_count": 117,
   "metadata": {},
   "outputs": [],
   "source": [
    "notifs[\"Tx\"] = notifs.FECHAINICIOTX.map(lambda x: len(str(x))>4)"
   ]
  },
  {
   "cell_type": "code",
   "execution_count": 118,
   "metadata": {},
   "outputs": [
    {
     "data": {
      "text/plain": [
       "YEAR\n",
       "2012    2368.0\n",
       "2013    2394.0\n",
       "2014    2644.0\n",
       "2015    2500.0\n",
       "2016    2758.0\n",
       "2017    3990.0\n",
       "2018    3003.0\n",
       "Name: Tx, dtype: float64"
      ]
     },
     "execution_count": 118,
     "metadata": {},
     "output_type": "execute_result"
    }
   ],
   "source": [
    "notifs.groupby(\"YEAR\")[\"Tx\"].sum()"
   ]
  },
  {
   "cell_type": "code",
   "execution_count": 119,
   "metadata": {},
   "outputs": [
    {
     "data": {
      "text/plain": [
       "date\n",
       "2012    3647.0\n",
       "2013    3472.0\n",
       "2014    3262.0\n",
       "2015    3449.0\n",
       "2016    3286.0\n",
       "2017    3108.0\n",
       "Name: Cases Started on Treatment_value_d, dtype: float64"
      ]
     },
     "execution_count": 119,
     "metadata": {},
     "output_type": "execute_result"
    }
   ],
   "source": [
    "initiatedTx.reset_index().groupby(\"date\")[\"Cases Started on Treatment_value_d\"].sum()"
   ]
  },
  {
   "cell_type": "code",
   "execution_count": 120,
   "metadata": {},
   "outputs": [],
   "source": [
    "# Arriba se muestra que los conteos de las cohortes no encajan con los conteos de los que reciben tratamiento según las notificaciones.\n",
    "# Se podría deber a que hay personas que reciben tratamiento pero abandonan antes de que se registren en las cohortes\n",
    "# O podría ser que fueron notificados en un año pero se integraron en la cohorte en el siguiente año. \n",
    "# Sin embargo, las notificaciones muestran conteos muy bajos "
   ]
  },
  {
   "cell_type": "code",
   "execution_count": 121,
   "metadata": {},
   "outputs": [],
   "source": [
    "initiatedTx2 = initiatedTx.reindex(casesNotif.index).fillna(0)"
   ]
  },
  {
   "cell_type": "code",
   "execution_count": 122,
   "metadata": {},
   "outputs": [
    {
     "data": {
      "text/plain": [
       "(20224.0, 20224.0)"
      ]
     },
     "execution_count": 122,
     "metadata": {},
     "output_type": "execute_result"
    }
   ],
   "source": [
    "# Reindex is not bad in this case??\n",
    "initiatedTx.sum(), initiatedTx2.groupby([initiatedTx2.index.get_level_values(0), initiatedTx2.index.get_level_values(1)]).first().sum()"
   ]
  },
  {
   "cell_type": "code",
   "execution_count": 123,
   "metadata": {},
   "outputs": [],
   "source": [
    "tbquimio = pd.read_csv(\"../../../Outcome Measurement Data/TUBERCULOSIS/Notificaciones TB/GTM - TB quimio 2012-Sep2018.csv\",\n",
    "                     index_col = 0, low_memory = False)"
   ]
  },
  {
   "cell_type": "code",
   "execution_count": 124,
   "metadata": {},
   "outputs": [
    {
     "data": {
      "text/html": [
       "<div>\n",
       "<style scoped>\n",
       "    .dataframe tbody tr th:only-of-type {\n",
       "        vertical-align: middle;\n",
       "    }\n",
       "\n",
       "    .dataframe tbody tr th {\n",
       "        vertical-align: top;\n",
       "    }\n",
       "\n",
       "    .dataframe thead th {\n",
       "        text-align: right;\n",
       "    }\n",
       "</style>\n",
       "<table border=\"1\" class=\"dataframe\">\n",
       "  <thead>\n",
       "    <tr style=\"text-align: right;\">\n",
       "      <th></th>\n",
       "      <th>NOMBRES</th>\n",
       "      <th>DIRECCION</th>\n",
       "      <th>MUNICIPIO</th>\n",
       "      <th>DEPARTAMENTO</th>\n",
       "      <th>SERVICIODESALUD</th>\n",
       "      <th>SEXO</th>\n",
       "      <th>EDAD</th>\n",
       "      <th>RANGOEDAD</th>\n",
       "      <th>PESOLBS</th>\n",
       "      <th>PESOKG</th>\n",
       "      <th>...</th>\n",
       "      <th>CONTROL7_GX</th>\n",
       "      <th>OBSERVACIONES</th>\n",
       "      <th>PRIORIZACION</th>\n",
       "      <th>PESOLB</th>\n",
       "      <th>NotificationDate</th>\n",
       "      <th>YearMonth_</th>\n",
       "      <th>DEPTO_CORRECTED</th>\n",
       "      <th>i</th>\n",
       "      <th>COD_DEPT</th>\n",
       "      <th>COD_MUNI</th>\n",
       "    </tr>\n",
       "  </thead>\n",
       "  <tbody>\n",
       "    <tr>\n",
       "      <th>1</th>\n",
       "      <td>NaN</td>\n",
       "      <td>NaN</td>\n",
       "      <td>GRANADOS</td>\n",
       "      <td>BAJA VERAPAZ</td>\n",
       "      <td>CS, GRANADOS</td>\n",
       "      <td>f</td>\n",
       "      <td>1.0</td>\n",
       "      <td>000 - 004</td>\n",
       "      <td>13.4</td>\n",
       "      <td>6.0909090909090908</td>\n",
       "      <td>...</td>\n",
       "      <td>NaN</td>\n",
       "      <td>NaN</td>\n",
       "      <td>NaN</td>\n",
       "      <td>NaN</td>\n",
       "      <td>NaN</td>\n",
       "      <td>NaN</td>\n",
       "      <td>BAJA VERAPAZ</td>\n",
       "      <td>165</td>\n",
       "      <td>15</td>\n",
       "      <td>1505</td>\n",
       "    </tr>\n",
       "    <tr>\n",
       "      <th>2</th>\n",
       "      <td>NaN</td>\n",
       "      <td>NaN</td>\n",
       "      <td>SALAMA</td>\n",
       "      <td>BAJA VERAPAZ</td>\n",
       "      <td>PS, LLANO GRANDE</td>\n",
       "      <td>f</td>\n",
       "      <td>8.0</td>\n",
       "      <td>005 - 009</td>\n",
       "      <td>50.8</td>\n",
       "      <td>23.090909090909086</td>\n",
       "      <td>...</td>\n",
       "      <td>NaN</td>\n",
       "      <td>NaN</td>\n",
       "      <td>NaN</td>\n",
       "      <td>NaN</td>\n",
       "      <td>NaN</td>\n",
       "      <td>NaN</td>\n",
       "      <td>BAJA VERAPAZ</td>\n",
       "      <td>167</td>\n",
       "      <td>15</td>\n",
       "      <td>1501</td>\n",
       "    </tr>\n",
       "    <tr>\n",
       "      <th>3</th>\n",
       "      <td>NaN</td>\n",
       "      <td>NaN</td>\n",
       "      <td>SALAMA</td>\n",
       "      <td>BAJA VERAPAZ</td>\n",
       "      <td>PS, LLANO GRANDE</td>\n",
       "      <td>m</td>\n",
       "      <td>5.0</td>\n",
       "      <td>005 - 009</td>\n",
       "      <td>35</td>\n",
       "      <td>15.909090909090908</td>\n",
       "      <td>...</td>\n",
       "      <td>NaN</td>\n",
       "      <td>NaN</td>\n",
       "      <td>NaN</td>\n",
       "      <td>NaN</td>\n",
       "      <td>NaN</td>\n",
       "      <td>NaN</td>\n",
       "      <td>BAJA VERAPAZ</td>\n",
       "      <td>168</td>\n",
       "      <td>15</td>\n",
       "      <td>1501</td>\n",
       "    </tr>\n",
       "    <tr>\n",
       "      <th>4</th>\n",
       "      <td>NaN</td>\n",
       "      <td>NaN</td>\n",
       "      <td>SALAMA</td>\n",
       "      <td>BAJA VERAPAZ</td>\n",
       "      <td>PS, LLANO GRANDE</td>\n",
       "      <td>m</td>\n",
       "      <td>6.0</td>\n",
       "      <td>005 - 009</td>\n",
       "      <td>36</td>\n",
       "      <td>16.363636363636363</td>\n",
       "      <td>...</td>\n",
       "      <td>NaN</td>\n",
       "      <td>NaN</td>\n",
       "      <td>NaN</td>\n",
       "      <td>NaN</td>\n",
       "      <td>NaN</td>\n",
       "      <td>NaN</td>\n",
       "      <td>BAJA VERAPAZ</td>\n",
       "      <td>169</td>\n",
       "      <td>15</td>\n",
       "      <td>1501</td>\n",
       "    </tr>\n",
       "    <tr>\n",
       "      <th>5</th>\n",
       "      <td>NaN</td>\n",
       "      <td>NaN</td>\n",
       "      <td>SALAMA</td>\n",
       "      <td>BAJA VERAPAZ</td>\n",
       "      <td>PS, LLANO GRANDE</td>\n",
       "      <td>m</td>\n",
       "      <td>2.0</td>\n",
       "      <td>000 - 004</td>\n",
       "      <td>24.8</td>\n",
       "      <td>11.272727272727272</td>\n",
       "      <td>...</td>\n",
       "      <td>NaN</td>\n",
       "      <td>NaN</td>\n",
       "      <td>NaN</td>\n",
       "      <td>NaN</td>\n",
       "      <td>NaN</td>\n",
       "      <td>NaN</td>\n",
       "      <td>BAJA VERAPAZ</td>\n",
       "      <td>170</td>\n",
       "      <td>15</td>\n",
       "      <td>1501</td>\n",
       "    </tr>\n",
       "  </tbody>\n",
       "</table>\n",
       "<p>5 rows × 114 columns</p>\n",
       "</div>"
      ],
      "text/plain": [
       "   NOMBRES  DIRECCION MUNICIPIO  DEPARTAMENTO   SERVICIODESALUD SEXO  EDAD  \\\n",
       "1      NaN        NaN  GRANADOS  BAJA VERAPAZ      CS, GRANADOS    f   1.0   \n",
       "2      NaN        NaN    SALAMA  BAJA VERAPAZ  PS, LLANO GRANDE    f   8.0   \n",
       "3      NaN        NaN    SALAMA  BAJA VERAPAZ  PS, LLANO GRANDE    m   5.0   \n",
       "4      NaN        NaN    SALAMA  BAJA VERAPAZ  PS, LLANO GRANDE    m   6.0   \n",
       "5      NaN        NaN    SALAMA  BAJA VERAPAZ  PS, LLANO GRANDE    m   2.0   \n",
       "\n",
       "   RANGOEDAD PESOLBS              PESOKG  ...  CONTROL7_GX OBSERVACIONES  \\\n",
       "1  000 - 004    13.4  6.0909090909090908  ...          NaN           NaN   \n",
       "2  005 - 009    50.8  23.090909090909086  ...          NaN           NaN   \n",
       "3  005 - 009      35  15.909090909090908  ...          NaN           NaN   \n",
       "4  005 - 009      36  16.363636363636363  ...          NaN           NaN   \n",
       "5  000 - 004    24.8  11.272727272727272  ...          NaN           NaN   \n",
       "\n",
       "  PRIORIZACION  PESOLB NotificationDate YearMonth_ DEPTO_CORRECTED    i  \\\n",
       "1          NaN     NaN              NaN        NaN    BAJA VERAPAZ  165   \n",
       "2          NaN     NaN              NaN        NaN    BAJA VERAPAZ  167   \n",
       "3          NaN     NaN              NaN        NaN    BAJA VERAPAZ  168   \n",
       "4          NaN     NaN              NaN        NaN    BAJA VERAPAZ  169   \n",
       "5          NaN     NaN              NaN        NaN    BAJA VERAPAZ  170   \n",
       "\n",
       "   COD_DEPT  COD_MUNI  \n",
       "1        15      1505  \n",
       "2        15      1501  \n",
       "3        15      1501  \n",
       "4        15      1501  \n",
       "5        15      1501  \n",
       "\n",
       "[5 rows x 114 columns]"
      ]
     },
     "execution_count": 124,
     "metadata": {},
     "output_type": "execute_result"
    }
   ],
   "source": [
    "tbquimio.head()"
   ]
  },
  {
   "cell_type": "code",
   "execution_count": 125,
   "metadata": {},
   "outputs": [],
   "source": [
    "tbquimio[\"Year\"] = np.floor(tbquimio.YearMonth/100)"
   ]
  },
  {
   "cell_type": "code",
   "execution_count": 126,
   "metadata": {},
   "outputs": [],
   "source": [
    "plhivipt= tbquimio[tbquimio.VIH==\"Reactive\"].assign(department = lambda x: np.floor(x.COD_MUNI/100))\\\n",
    ".groupby([\"Year\", \"department\", \"COD_MUNI\"]).apply(len)"
   ]
  },
  {
   "cell_type": "code",
   "execution_count": 127,
   "metadata": {},
   "outputs": [
    {
     "data": {
      "text/plain": [
       "FrozenList([[2012.0, 2013.0, 2014.0, 2015.0, 2016.0], [0.0, 1.0, 3.0, 5.0, 8.0, 9.0, 11.0, 12.0, 22.0], [0, 101, 108, 116, 306, 501, 503, 506, 511, 805, 902, 920, 924, 1102, 1105, 1106, 1108, 1109, 1215, 1218, 1225, 2205, 2207]])"
      ]
     },
     "execution_count": 127,
     "metadata": {},
     "output_type": "execute_result"
    }
   ],
   "source": [
    "plhivipt.index.levels"
   ]
  },
  {
   "cell_type": "code",
   "execution_count": 128,
   "metadata": {},
   "outputs": [],
   "source": [
    "plhivipt = plhivipt.rename(\"PLHIV started on IPT_value_m\").fillna(0)\\\n",
    ".rename_axis(index={\"Year\": \"date\", \"COD_MUNI\": \"municipality\"}) #.reindex(casesNotif.index)"
   ]
  },
  {
   "cell_type": "code",
   "execution_count": 129,
   "metadata": {},
   "outputs": [],
   "source": [
    "# This is only contacts in notifications database. I am not sure if its ok."
   ]
  },
  {
   "cell_type": "code",
   "execution_count": 130,
   "metadata": {},
   "outputs": [],
   "source": [
    "childipt= tbquimio[(tbquimio.Year<2018) & (tbquimio.EDAD <= 5)].assign(department = lambda x: np.floor(x.COD_MUNI/100))\\\n",
    ".groupby([\"Year\", \"department\", \"COD_MUNI\"]).apply(len).rename(\"Children in Contact with TB Started IPT_value_m\")"
   ]
  },
  {
   "cell_type": "code",
   "execution_count": 154,
   "metadata": {},
   "outputs": [
    {
     "data": {
      "text/plain": [
       "date    department  municipality\n",
       "2012.0  1.0         101             40\n",
       "                    102              1\n",
       "                    103              1\n",
       "                    106              6\n",
       "                    107              3\n",
       "Name: Children in Contact with TB Started IPT_value_m, dtype: int64"
      ]
     },
     "execution_count": 154,
     "metadata": {},
     "output_type": "execute_result"
    }
   ],
   "source": [
    "childipt = childipt.rename_axis(index={\"Year\": \"date\", \"COD_MUNI\": \"municipality\"}) #.reindex(casesNotif.index)\n",
    "childipt.head()"
   ]
  },
  {
   "cell_type": "code",
   "execution_count": 157,
   "metadata": {},
   "outputs": [],
   "source": [
    "# Cases Notified in Prisons_value\n",
    "pplcases = pd.read_csv(\"../../../Outcome Measurement Data/TUBERCULOSIS/Prisoners/PPL-conteos-2014-2017.csv\", index_col=0)"
   ]
  },
  {
   "cell_type": "code",
   "execution_count": 158,
   "metadata": {},
   "outputs": [
    {
     "data": {
      "text/html": [
       "<div>\n",
       "<style scoped>\n",
       "    .dataframe tbody tr th:only-of-type {\n",
       "        vertical-align: middle;\n",
       "    }\n",
       "\n",
       "    .dataframe tbody tr th {\n",
       "        vertical-align: top;\n",
       "    }\n",
       "\n",
       "    .dataframe thead th {\n",
       "        text-align: right;\n",
       "    }\n",
       "</style>\n",
       "<table border=\"1\" class=\"dataframe\">\n",
       "  <thead>\n",
       "    <tr style=\"text-align: right;\">\n",
       "      <th></th>\n",
       "      <th>YEAR</th>\n",
       "      <th>municipio</th>\n",
       "      <th>n</th>\n",
       "    </tr>\n",
       "  </thead>\n",
       "  <tbody>\n",
       "    <tr>\n",
       "      <th>0</th>\n",
       "      <td>2014</td>\n",
       "      <td>101</td>\n",
       "      <td>17</td>\n",
       "    </tr>\n",
       "    <tr>\n",
       "      <th>1</th>\n",
       "      <td>2014</td>\n",
       "      <td>113</td>\n",
       "      <td>5</td>\n",
       "    </tr>\n",
       "    <tr>\n",
       "      <th>2</th>\n",
       "      <td>2014</td>\n",
       "      <td>501</td>\n",
       "      <td>44</td>\n",
       "    </tr>\n",
       "    <tr>\n",
       "      <th>3</th>\n",
       "      <td>2014</td>\n",
       "      <td>601</td>\n",
       "      <td>1</td>\n",
       "    </tr>\n",
       "    <tr>\n",
       "      <th>4</th>\n",
       "      <td>2014</td>\n",
       "      <td>901</td>\n",
       "      <td>4</td>\n",
       "    </tr>\n",
       "  </tbody>\n",
       "</table>\n",
       "</div>"
      ],
      "text/plain": [
       "   YEAR  municipio   n\n",
       "0  2014        101  17\n",
       "1  2014        113   5\n",
       "2  2014        501  44\n",
       "3  2014        601   1\n",
       "4  2014        901   4"
      ]
     },
     "execution_count": 158,
     "metadata": {},
     "output_type": "execute_result"
    }
   ],
   "source": [
    "pplcases.head()"
   ]
  },
  {
   "cell_type": "code",
   "execution_count": 159,
   "metadata": {},
   "outputs": [],
   "source": [
    "pplcases = pplcases.assign(department = lambda x : np.floor(x.municipio/100))\\\n",
    ".assign(municipio = lambda y: y.municipio.astype(int)).rename(columns=\\\n",
    "{\"n\": \"Cases Notified in Prisons_value\", \"YEAR\": \"date\", \"municipio\": \"municipality\"})\\\n",
    ".set_index([\"date\", \"department\", \"municipality\"])"
   ]
  },
  {
   "cell_type": "code",
   "execution_count": 160,
   "metadata": {},
   "outputs": [],
   "source": [
    "pplcases = pplcases.reindex(casesNotif.index)"
   ]
  },
  {
   "cell_type": "code",
   "execution_count": 161,
   "metadata": {},
   "outputs": [
    {
     "data": {
      "text/html": [
       "<div>\n",
       "<style scoped>\n",
       "    .dataframe tbody tr th:only-of-type {\n",
       "        vertical-align: middle;\n",
       "    }\n",
       "\n",
       "    .dataframe tbody tr th {\n",
       "        vertical-align: top;\n",
       "    }\n",
       "\n",
       "    .dataframe thead th {\n",
       "        text-align: right;\n",
       "    }\n",
       "</style>\n",
       "<table border=\"1\" class=\"dataframe\">\n",
       "  <thead>\n",
       "    <tr style=\"text-align: right;\">\n",
       "      <th></th>\n",
       "      <th></th>\n",
       "      <th></th>\n",
       "      <th>Cases Notified in Prisons_value</th>\n",
       "    </tr>\n",
       "    <tr>\n",
       "      <th>date</th>\n",
       "      <th>department</th>\n",
       "      <th>municipality</th>\n",
       "      <th></th>\n",
       "    </tr>\n",
       "  </thead>\n",
       "  <tbody>\n",
       "    <tr>\n",
       "      <th rowspan=\"5\" valign=\"top\">2017</th>\n",
       "      <th rowspan=\"5\" valign=\"top\">22</th>\n",
       "      <th>2211.0</th>\n",
       "      <td>NaN</td>\n",
       "    </tr>\n",
       "    <tr>\n",
       "      <th>2212.0</th>\n",
       "      <td>NaN</td>\n",
       "    </tr>\n",
       "    <tr>\n",
       "      <th>2213.0</th>\n",
       "      <td>NaN</td>\n",
       "    </tr>\n",
       "    <tr>\n",
       "      <th>2214.0</th>\n",
       "      <td>NaN</td>\n",
       "    </tr>\n",
       "    <tr>\n",
       "      <th>2217.0</th>\n",
       "      <td>NaN</td>\n",
       "    </tr>\n",
       "  </tbody>\n",
       "</table>\n",
       "</div>"
      ],
      "text/plain": [
       "                              Cases Notified in Prisons_value\n",
       "date department municipality                                 \n",
       "2017 22         2211.0                                    NaN\n",
       "                2212.0                                    NaN\n",
       "                2213.0                                    NaN\n",
       "                2214.0                                    NaN\n",
       "                2217.0                                    NaN"
      ]
     },
     "execution_count": 161,
     "metadata": {},
     "output_type": "execute_result"
    }
   ],
   "source": [
    "pplcases.tail()"
   ]
  },
  {
   "cell_type": "code",
   "execution_count": 136,
   "metadata": {},
   "outputs": [],
   "source": [
    "ppldata = pd.read_csv(\"../../../Outcome Measurement Data/TUBERCULOSIS/Prisoners/tb-ppl-2014-2017.csv\")"
   ]
  },
  {
   "cell_type": "code",
   "execution_count": 137,
   "metadata": {},
   "outputs": [],
   "source": [
    "ppldata[\"TXDATE\"] = pd.to_datetime(ppldata.TXDATE, errors=\"coerce\")"
   ]
  },
  {
   "cell_type": "code",
   "execution_count": 138,
   "metadata": {},
   "outputs": [
    {
     "data": {
      "text/plain": [
       "1"
      ]
     },
     "execution_count": 138,
     "metadata": {},
     "output_type": "execute_result"
    }
   ],
   "source": [
    "# Sólo una persona no recibió tratamiento.\n",
    "ppldata.TXDATE.isna().sum()"
   ]
  },
  {
   "cell_type": "code",
   "execution_count": 139,
   "metadata": {},
   "outputs": [],
   "source": [
    "ppltx = ppldata[ppldata.TXDATE.notna()].assign(department = lambda x: np.floor(x.municode.astype(int)/100).astype(int) )\\\n",
    ".assign(date = lambda x: x.YEAR)\\\n",
    ".groupby([\"date\", \"department\" , \"municode\"]).apply(len)\\\n",
    ".rename_axis(index={\"municode\": \"municipality\"})\\\n",
    ".rename(\"Cases Started on Treatment in Prisons_value_m\")"
   ]
  },
  {
   "cell_type": "code",
   "execution_count": 140,
   "metadata": {},
   "outputs": [
    {
     "data": {
      "text/plain": [
       "date  department  municipality\n",
       "2014  1           101             17\n",
       "                  113              5\n",
       "      5           501             44\n",
       "      6           601              1\n",
       "      9           901              4\n",
       "      18          1801            13\n",
       "      19          1901             4\n",
       "2015  1           101             20\n",
       "                  113              7\n",
       "      5           501             49\n",
       "      9           901              5\n",
       "      10          1001             1\n",
       "      18          1801            29\n",
       "2016  1           101             39\n",
       "                  113             11\n",
       "      5           501             54\n",
       "      9           901             11\n",
       "      17          1701             1\n",
       "      18          1801            39\n",
       "      19          1901             1\n",
       "2017  1           101             41\n",
       "                  113             27\n",
       "      5           501             57\n",
       "      6           601              4\n",
       "      9           901              6\n",
       "      10          1001            24\n",
       "      19          1901             3\n",
       "Name: Cases Started on Treatment in Prisons_value_m, dtype: int64"
      ]
     },
     "execution_count": 140,
     "metadata": {},
     "output_type": "execute_result"
    }
   ],
   "source": [
    "ppltx = ppltx[ppltx.index.get_level_values(\"date\")>2012]\n",
    "ppltx"
   ]
  },
  {
   "cell_type": "code",
   "execution_count": 141,
   "metadata": {},
   "outputs": [
    {
     "data": {
      "text/plain": [
       "year\n",
       "2012    269.0\n",
       "2013    226.0\n",
       "2014    197.0\n",
       "2015    173.0\n",
       "2016    163.0\n",
       "2017    218.0\n",
       "Name: value, dtype: float64"
      ]
     },
     "execution_count": 141,
     "metadata": {},
     "output_type": "execute_result"
    }
   ],
   "source": [
    "# Lets see in the cohort data:\n",
    "hivyear_A = cohortes[(cohortes.col_name.isin([\"TOTAL\"])) & \n",
    "       (cohortes.table.isin([\n",
    "                   \"Nuevos TB/VIH\",  # year <= 2016\n",
    "                   \"Nuevos Pulmonares TB/VIH Bact Conf\", \"Nuevos Pulmonares TB/VIH Dx Clinico\" #2017\n",
    "                ])) &\n",
    "       (cohortes.deptocode==0)].groupby(\"year\").value.sum()\n",
    "hivyear_A"
   ]
  },
  {
   "cell_type": "code",
   "execution_count": 142,
   "metadata": {},
   "outputs": [
    {
     "data": {
      "text/plain": [
       "YEAR\n",
       "2012    289.0\n",
       "2013    277.0\n",
       "2014    264.0\n",
       "2015    201.0\n",
       "2016    257.0\n",
       "2017    243.0\n",
       "2018    157.0\n",
       "Name: Reactive, dtype: float64"
      ]
     },
     "execution_count": 142,
     "metadata": {},
     "output_type": "execute_result"
    }
   ],
   "source": [
    "# Now with notifications data:\n",
    "hivyear_B = notifs.groupby([\"YEAR\", \"VIH\"]).apply(len).unstack(1)[\"Reactive\"]\n",
    "hivyear_B"
   ]
  },
  {
   "cell_type": "code",
   "execution_count": 143,
   "metadata": {},
   "outputs": [
    {
     "data": {
      "text/plain": [
       "2012    0.930796\n",
       "2013    0.815884\n",
       "2014    0.746212\n",
       "2015    0.860697\n",
       "2016    0.634241\n",
       "2017    0.897119\n",
       "2018         NaN\n",
       "dtype: float64"
      ]
     },
     "execution_count": 143,
     "metadata": {},
     "output_type": "execute_result"
    }
   ],
   "source": [
    "# HIV counts per year, from cohort and from notifications seems to be worse than in previous years\n",
    "# This may be interpreted as the percentage of HIV cases that received treatment.\n",
    "hivyear_A/hivyear_B"
   ]
  },
  {
   "cell_type": "code",
   "execution_count": 144,
   "metadata": {},
   "outputs": [],
   "source": [
    "# The actual data to integrate into the tables:\n",
    "# HIV/TB Cases Notified_value\n",
    "\n",
    "hivcases = notifs[(notifs.VIH == \"Reactive\") & (notifs.Year<2018) & notifs.COD_MUNI.notna()]\\\n",
    ".assign(municipality = lambda x: x.COD_MUNI.astype(int)).assign(date=lambda x: x.Year.astype(int))\\\n",
    ".assign(department = lambda x: (np.floor(x.COD_MUNI/100)).astype(int) ).groupby([\"date\", \"department\", \"municipality\"]).apply(len)\\\n",
    ".rename(\"HIV/TB Cases Notified_value_m\")"
   ]
  },
  {
   "cell_type": "code",
   "execution_count": 145,
   "metadata": {},
   "outputs": [
    {
     "data": {
      "text/plain": [
       "2017    95\n",
       "2018    28\n",
       "Name: YEAR, dtype: int64"
      ]
     },
     "execution_count": 145,
     "metadata": {},
     "output_type": "execute_result"
    }
   ],
   "source": [
    "# Now looking at MDR data in notifications:\n",
    "notifs[notifs.DBCATEGORY==\"MDR\"].YEAR.value_counts()"
   ]
  },
  {
   "cell_type": "code",
   "execution_count": 146,
   "metadata": {},
   "outputs": [],
   "source": [
    "# There is actually a MDR table with all available cohort data:\n",
    "mdrtb = pd.read_csv(\"../../../Outcome Measurement Data/TUBERCULOSIS/COHORTES/GTM - TB MDR Cohort Data 2014-2016.csv\")"
   ]
  },
  {
   "cell_type": "code",
   "execution_count": 147,
   "metadata": {},
   "outputs": [
    {
     "data": {
      "text/html": [
       "<div>\n",
       "<style scoped>\n",
       "    .dataframe tbody tr th:only-of-type {\n",
       "        vertical-align: middle;\n",
       "    }\n",
       "\n",
       "    .dataframe tbody tr th {\n",
       "        vertical-align: top;\n",
       "    }\n",
       "\n",
       "    .dataframe thead th {\n",
       "        text-align: right;\n",
       "    }\n",
       "</style>\n",
       "<table border=\"1\" class=\"dataframe\">\n",
       "  <thead>\n",
       "    <tr style=\"text-align: right;\">\n",
       "      <th></th>\n",
       "      <th>Unnamed: 0</th>\n",
       "      <th>Age</th>\n",
       "      <th>BD_ID</th>\n",
       "      <th>DAS</th>\n",
       "      <th>DateBk_1</th>\n",
       "      <th>DateCulture_1</th>\n",
       "      <th>DateCulture_10</th>\n",
       "      <th>DateCulture_11</th>\n",
       "      <th>DateCulture_12</th>\n",
       "      <th>DateCulture_13</th>\n",
       "      <th>...</th>\n",
       "      <th>TxDate_</th>\n",
       "      <th>TxDate_Year</th>\n",
       "      <th>DxDate_</th>\n",
       "      <th>DxDate_Year</th>\n",
       "      <th>ExitDate_</th>\n",
       "      <th>ExitDate_Year</th>\n",
       "      <th>PDSDate_</th>\n",
       "      <th>PDSDate_Year</th>\n",
       "      <th>GxDate_</th>\n",
       "      <th>deptocode</th>\n",
       "    </tr>\n",
       "  </thead>\n",
       "  <tbody>\n",
       "    <tr>\n",
       "      <th>0</th>\n",
       "      <td>0</td>\n",
       "      <td>23.0</td>\n",
       "      <td>MDR14-16</td>\n",
       "      <td>MEXICO</td>\n",
       "      <td>2014-01-21 00:00:00</td>\n",
       "      <td>2014-04-25 00:00:00</td>\n",
       "      <td>2014-11-06 00:00:00</td>\n",
       "      <td>NaN</td>\n",
       "      <td>2015-01-20 00:00:00</td>\n",
       "      <td>NaN</td>\n",
       "      <td>...</td>\n",
       "      <td>2014-01-30 00:00:00</td>\n",
       "      <td>2014.0</td>\n",
       "      <td>NaN</td>\n",
       "      <td>NaN</td>\n",
       "      <td>2014-05-30 00:00:00</td>\n",
       "      <td>2014.0</td>\n",
       "      <td>2014-04-30 00:00:00</td>\n",
       "      <td>2014.0</td>\n",
       "      <td>NaN</td>\n",
       "      <td>NaN</td>\n",
       "    </tr>\n",
       "    <tr>\n",
       "      <th>1</th>\n",
       "      <td>1</td>\n",
       "      <td>48.0</td>\n",
       "      <td>MDR14-16</td>\n",
       "      <td>Suchitepequez</td>\n",
       "      <td>2014-02-03 00:00:00</td>\n",
       "      <td>2014-05-11 00:00:00</td>\n",
       "      <td>NaN</td>\n",
       "      <td>2015-01-07 00:00:00</td>\n",
       "      <td>NaN</td>\n",
       "      <td>2015-03-05 00:00:00</td>\n",
       "      <td>...</td>\n",
       "      <td>2014-02-10 00:00:00</td>\n",
       "      <td>2014.0</td>\n",
       "      <td>NaN</td>\n",
       "      <td>NaN</td>\n",
       "      <td>2014-06-17 00:00:00</td>\n",
       "      <td>2014.0</td>\n",
       "      <td>2013-06-05 00:00:00</td>\n",
       "      <td>2013.0</td>\n",
       "      <td>NaN</td>\n",
       "      <td>10.0</td>\n",
       "    </tr>\n",
       "    <tr>\n",
       "      <th>2</th>\n",
       "      <td>2</td>\n",
       "      <td>19.0</td>\n",
       "      <td>MDR14-16</td>\n",
       "      <td>Guatemala Central</td>\n",
       "      <td>2014-02-05 00:00:00</td>\n",
       "      <td>2014-10-01 00:00:00</td>\n",
       "      <td>NaN</td>\n",
       "      <td>NaN</td>\n",
       "      <td>NaN</td>\n",
       "      <td>2015-07-25 00:00:00</td>\n",
       "      <td>...</td>\n",
       "      <td>10/02/2014 Y 26/06/14</td>\n",
       "      <td>NaN</td>\n",
       "      <td>NaN</td>\n",
       "      <td>NaN</td>\n",
       "      <td>2014-02-25 00:00:00</td>\n",
       "      <td>2014.0</td>\n",
       "      <td>NaN</td>\n",
       "      <td>NaN</td>\n",
       "      <td>NaN</td>\n",
       "      <td>1.0</td>\n",
       "    </tr>\n",
       "    <tr>\n",
       "      <th>3</th>\n",
       "      <td>3</td>\n",
       "      <td>22.0</td>\n",
       "      <td>MDR14-16</td>\n",
       "      <td>Retalhuleu</td>\n",
       "      <td>2014-02-06 00:00:00</td>\n",
       "      <td>2014-05-11 00:00:00</td>\n",
       "      <td>NaN</td>\n",
       "      <td>2015-01-13 00:00:00</td>\n",
       "      <td>NaN</td>\n",
       "      <td>NaN</td>\n",
       "      <td>...</td>\n",
       "      <td>2014-02-10 00:00:00</td>\n",
       "      <td>2014.0</td>\n",
       "      <td>NaN</td>\n",
       "      <td>NaN</td>\n",
       "      <td>2014-06-17 00:00:00</td>\n",
       "      <td>2014.0</td>\n",
       "      <td>2013-10-29 00:00:00</td>\n",
       "      <td>2013.0</td>\n",
       "      <td>NaN</td>\n",
       "      <td>11.0</td>\n",
       "    </tr>\n",
       "    <tr>\n",
       "      <th>4</th>\n",
       "      <td>4</td>\n",
       "      <td>79.0</td>\n",
       "      <td>MDR14-16</td>\n",
       "      <td>Suchitepequez</td>\n",
       "      <td>2014-02-05 00:00:00</td>\n",
       "      <td>2014-05-11 00:00:00</td>\n",
       "      <td>NaN</td>\n",
       "      <td>2015-01-07 00:00:00</td>\n",
       "      <td>NaN</td>\n",
       "      <td>2015-03-05 00:00:00</td>\n",
       "      <td>...</td>\n",
       "      <td>2014-02-10 00:00:00</td>\n",
       "      <td>2014.0</td>\n",
       "      <td>NaN</td>\n",
       "      <td>NaN</td>\n",
       "      <td>2014-06-17 00:00:00</td>\n",
       "      <td>2014.0</td>\n",
       "      <td>2013-06-11 00:00:00</td>\n",
       "      <td>2013.0</td>\n",
       "      <td>NaN</td>\n",
       "      <td>10.0</td>\n",
       "    </tr>\n",
       "  </tbody>\n",
       "</table>\n",
       "<p>5 rows × 99 columns</p>\n",
       "</div>"
      ],
      "text/plain": [
       "   Unnamed: 0   Age     BD_ID                DAS             DateBk_1  \\\n",
       "0           0  23.0  MDR14-16             MEXICO  2014-01-21 00:00:00   \n",
       "1           1  48.0  MDR14-16      Suchitepequez  2014-02-03 00:00:00   \n",
       "2           2  19.0  MDR14-16  Guatemala Central  2014-02-05 00:00:00   \n",
       "3           3  22.0  MDR14-16         Retalhuleu  2014-02-06 00:00:00   \n",
       "4           4  79.0  MDR14-16      Suchitepequez  2014-02-05 00:00:00   \n",
       "\n",
       "         DateCulture_1       DateCulture_10       DateCulture_11  \\\n",
       "0  2014-04-25 00:00:00  2014-11-06 00:00:00                  NaN   \n",
       "1  2014-05-11 00:00:00                  NaN  2015-01-07 00:00:00   \n",
       "2  2014-10-01 00:00:00                  NaN                  NaN   \n",
       "3  2014-05-11 00:00:00                  NaN  2015-01-13 00:00:00   \n",
       "4  2014-05-11 00:00:00                  NaN  2015-01-07 00:00:00   \n",
       "\n",
       "        DateCulture_12       DateCulture_13  ...                TxDate_  \\\n",
       "0  2015-01-20 00:00:00                  NaN  ...    2014-01-30 00:00:00   \n",
       "1                  NaN  2015-03-05 00:00:00  ...    2014-02-10 00:00:00   \n",
       "2                  NaN  2015-07-25 00:00:00  ...  10/02/2014 Y 26/06/14   \n",
       "3                  NaN                  NaN  ...    2014-02-10 00:00:00   \n",
       "4                  NaN  2015-03-05 00:00:00  ...    2014-02-10 00:00:00   \n",
       "\n",
       "  TxDate_Year DxDate_ DxDate_Year            ExitDate_ ExitDate_Year  \\\n",
       "0      2014.0     NaN         NaN  2014-05-30 00:00:00        2014.0   \n",
       "1      2014.0     NaN         NaN  2014-06-17 00:00:00        2014.0   \n",
       "2         NaN     NaN         NaN  2014-02-25 00:00:00        2014.0   \n",
       "3      2014.0     NaN         NaN  2014-06-17 00:00:00        2014.0   \n",
       "4      2014.0     NaN         NaN  2014-06-17 00:00:00        2014.0   \n",
       "\n",
       "              PDSDate_ PDSDate_Year GxDate_ deptocode  \n",
       "0  2014-04-30 00:00:00       2014.0     NaN       NaN  \n",
       "1  2013-06-05 00:00:00       2013.0     NaN      10.0  \n",
       "2                  NaN          NaN     NaN       1.0  \n",
       "3  2013-10-29 00:00:00       2013.0     NaN      11.0  \n",
       "4  2013-06-11 00:00:00       2013.0     NaN      10.0  \n",
       "\n",
       "[5 rows x 99 columns]"
      ]
     },
     "execution_count": 147,
     "metadata": {},
     "output_type": "execute_result"
    }
   ],
   "source": [
    "mdrtb.head()"
   ]
  },
  {
   "cell_type": "code",
   "execution_count": 148,
   "metadata": {},
   "outputs": [
    {
     "data": {
      "text/plain": [
       "16    76\n",
       "14    41\n",
       "15    40\n",
       "Name: Year, dtype: int64"
      ]
     },
     "execution_count": 148,
     "metadata": {},
     "output_type": "execute_result"
    }
   ],
   "source": [
    "mdrtb.Year.value_counts()"
   ]
  },
  {
   "cell_type": "code",
   "execution_count": 149,
   "metadata": {},
   "outputs": [
    {
     "data": {
      "text/plain": [
       "Year\n",
       "14     1\n",
       "15     6\n",
       "16    22\n",
       "dtype: int64"
      ]
     },
     "execution_count": 149,
     "metadata": {},
     "output_type": "execute_result"
    }
   ],
   "source": [
    "# How many bad tx initiation date values are there?\n",
    "mdrtb.groupby(\"Year\").apply(lambda x: x.TxDate_Year.isna().sum())"
   ]
  },
  {
   "cell_type": "code",
   "execution_count": 150,
   "metadata": {},
   "outputs": [],
   "source": [
    "# MDR Cases Notified_value\n",
    "# MDR Cases Started Treatment_value\n",
    "\n",
    "mdrcases = mdrtb[mdrtb.deptocode.notna()].assign(date = lambda x: x.Year+2000).assign(department = lambda x: x.deptocode.astype(int))\\\n",
    "    .groupby([\"date\",\"department\"]).apply(len).rename(\"MDR Cases Notified_value_d\")\n",
    "    \n",
    "mdrtx = mdrtb[mdrtb.deptocode.notna() & (mdrtb.TxDate_Year.notna())].assign(date = lambda x: x.TxDate_Year.map(tryfun(int)) ).assign(department = lambda x: x.deptocode.astype(int))\\\n",
    "    .groupby([\"date\",\"department\"]).apply(len).rename(\"MDR Cases Started Treatment_value_d\")\n",
    "\n",
    "mdrtx = mdrtx[mdrtx.index.get_level_values(0)>2012]"
   ]
  },
  {
   "cell_type": "code",
   "execution_count": 151,
   "metadata": {},
   "outputs": [
    {
     "data": {
      "text/plain": [
       "Int64Index([2009, 2014, 2015, 2016, 2017], dtype='int64', name='date')"
      ]
     },
     "execution_count": 151,
     "metadata": {},
     "output_type": "execute_result"
    }
   ],
   "source": [
    "mdrtx.index.levels[0]"
   ]
  },
  {
   "cell_type": "code",
   "execution_count": 162,
   "metadata": {},
   "outputs": [],
   "source": [
    "outputs = pd.merge(makeFullIndex(casesNotif) , makeFullIndex(acfcases2), left_index=True, right_index=True, how=\"outer\")\\\n",
    "            .merge(makeFullIndex(initiatedTx), left_index=True, right_index=True, how=\"outer\")\\\n",
    "            .merge(makeFullIndex(plhivipt), left_index=True, right_index=True, how=\"outer\")\\\n",
    "            .merge(makeFullIndex(childipt), left_index=True, right_index=True, how=\"outer\")\\\n",
    "            .merge(makeFullIndex(pplcases), left_index=True, right_index=True, how=\"outer\")\\\n",
    "            .merge(makeFullIndex(ppltx), left_index=True, right_index=True, how=\"outer\")\\\n",
    "            .merge(makeFullIndex(hivcases), left_index=True, right_index=True, how=\"outer\")\\\n",
    "            .merge(makeFullIndex(mdrcases), left_index=True, right_index=True, how=\"outer\")\\\n",
    "            .merge(makeFullIndex(mdrtx), left_index=True, right_index=True, how=\"outer\")\\"
   ]
  },
  {
   "cell_type": "code",
   "execution_count": 167,
   "metadata": {},
   "outputs": [
    {
     "data": {
      "text/html": [
       "<div>\n",
       "<style scoped>\n",
       "    .dataframe tbody tr th:only-of-type {\n",
       "        vertical-align: middle;\n",
       "    }\n",
       "\n",
       "    .dataframe tbody tr th {\n",
       "        vertical-align: top;\n",
       "    }\n",
       "\n",
       "    .dataframe thead th {\n",
       "        text-align: right;\n",
       "    }\n",
       "</style>\n",
       "<table border=\"1\" class=\"dataframe\">\n",
       "  <thead>\n",
       "    <tr style=\"text-align: right;\">\n",
       "      <th></th>\n",
       "      <th></th>\n",
       "      <th></th>\n",
       "      <th>Cases Notified_value_m</th>\n",
       "      <th>Additional Cases Detected via ACF_value_d</th>\n",
       "      <th>Cases Started on Treatment_value_d</th>\n",
       "      <th>PLHIV started on IPT_value_m</th>\n",
       "      <th>Children in Contact with TB Started IPT_value_m</th>\n",
       "      <th>Cases Notified in Prisons_value</th>\n",
       "      <th>Cases Started on Treatment in Prisons_value_m</th>\n",
       "      <th>HIV/TB Cases Notified_value_m</th>\n",
       "      <th>MDR Cases Notified_value_d</th>\n",
       "      <th>MDR Cases Started Treatment_value_d</th>\n",
       "    </tr>\n",
       "    <tr>\n",
       "      <th>date</th>\n",
       "      <th>department</th>\n",
       "      <th>municipality</th>\n",
       "      <th></th>\n",
       "      <th></th>\n",
       "      <th></th>\n",
       "      <th></th>\n",
       "      <th></th>\n",
       "      <th></th>\n",
       "      <th></th>\n",
       "      <th></th>\n",
       "      <th></th>\n",
       "      <th></th>\n",
       "    </tr>\n",
       "  </thead>\n",
       "  <tbody>\n",
       "  </tbody>\n",
       "</table>\n",
       "</div>"
      ],
      "text/plain": [
       "Empty DataFrame\n",
       "Columns: [Cases Notified_value_m, Additional Cases Detected via ACF_value_d, Cases Started on Treatment_value_d, PLHIV started on IPT_value_m, Children in Contact with TB Started IPT_value_m, Cases Notified in Prisons_value, Cases Started on Treatment in Prisons_value_m, HIV/TB Cases Notified_value_m, MDR Cases Notified_value_d, MDR Cases Started Treatment_value_d]\n",
       "Index: []"
      ]
     },
     "execution_count": 167,
     "metadata": {},
     "output_type": "execute_result"
    }
   ],
   "source": [
    "outputs[(outputs.index.get_level_values(\"municipality\") == 0) | \n",
    "       (outputs.index.get_level_values(\"municipality\") == \"\") | \n",
    "       (outputs.index.get_level_values(\"municipality\") == None)]"
   ]
  },
  {
   "cell_type": "code",
   "execution_count": 196,
   "metadata": {},
   "outputs": [],
   "source": [
    "# outputs"
   ]
  },
  {
   "cell_type": "code",
   "execution_count": 169,
   "metadata": {},
   "outputs": [],
   "source": [
    "outputs.to_csv(\"../../../Impact Evaluation/TB/outputs.csv\")"
   ]
  },
  {
   "cell_type": "code",
   "execution_count": 170,
   "metadata": {},
   "outputs": [
    {
     "data": {
      "text/plain": [
       "124.0"
      ]
     },
     "execution_count": 170,
     "metadata": {},
     "output_type": "execute_result"
    }
   ],
   "source": [
    "outputs.groupby([\"department\", \"date\"]).first()[\"MDR Cases Started Treatment_value_d\"].sum()"
   ]
  },
  {
   "cell_type": "code",
   "execution_count": 171,
   "metadata": {},
   "outputs": [
    {
     "data": {
      "text/plain": [
       "124"
      ]
     },
     "execution_count": 171,
     "metadata": {},
     "output_type": "execute_result"
    }
   ],
   "source": [
    "mdrtx.sum()"
   ]
  },
  {
   "cell_type": "markdown",
   "metadata": {},
   "source": [
    "# Activities"
   ]
  },
  {
   "cell_type": "markdown",
   "metadata": {},
   "source": [
    "Not available: \n",
    "* Tests Conducted_value\n",
    "* Active Case Finding Missions Conducted_value\n",
    "* Prisoners Screened_value\n"
   ]
  },
  {
   "cell_type": "code",
   "execution_count": 172,
   "metadata": {},
   "outputs": [],
   "source": [
    "# Tests Conducted_value\n",
    "sicoinRM = pd.read_csv(\"../../../Resource Tracking/SICOIN GT/IGRC02_PCE_Ejecucion_Fisica.csv\")"
   ]
  },
  {
   "cell_type": "code",
   "execution_count": 173,
   "metadata": {},
   "outputs": [],
   "source": [
    "sicoinTB = sicoinRM[(sicoinRM.Programa == \"17-PREVENCIÓN Y CONTROL DE LA TUBERCULOSIS\") ]"
   ]
  },
  {
   "cell_type": "code",
   "execution_count": 174,
   "metadata": {},
   "outputs": [],
   "source": [
    "distrMeds = pd.read_csv(\"../../../Outcome Measurement Data/TUBERCULOSIS/Distribución Medicamentos TB/GTM-TB-distribution-2013-2018.csv\", index_col=0)"
   ]
  },
  {
   "cell_type": "code",
   "execution_count": 175,
   "metadata": {},
   "outputs": [
    {
     "data": {
      "text/html": [
       "<div>\n",
       "<style scoped>\n",
       "    .dataframe tbody tr th:only-of-type {\n",
       "        vertical-align: middle;\n",
       "    }\n",
       "\n",
       "    .dataframe tbody tr th {\n",
       "        vertical-align: top;\n",
       "    }\n",
       "\n",
       "    .dataframe thead th {\n",
       "        text-align: right;\n",
       "    }\n",
       "</style>\n",
       "<table border=\"1\" class=\"dataframe\">\n",
       "  <thead>\n",
       "    <tr style=\"text-align: right;\">\n",
       "      <th></th>\n",
       "      <th>Program</th>\n",
       "      <th>Product</th>\n",
       "      <th>Supplier</th>\n",
       "      <th>Department</th>\n",
       "      <th>Year</th>\n",
       "      <th>Month</th>\n",
       "      <th>Amount</th>\n",
       "      <th>Recipient</th>\n",
       "      <th>MG</th>\n",
       "      <th>Medicine</th>\n",
       "      <th>ML</th>\n",
       "      <th>code_dept</th>\n",
       "    </tr>\n",
       "  </thead>\n",
       "  <tbody>\n",
       "    <tr>\n",
       "      <th>0</th>\n",
       "      <td>PROGRAMA NACIONAL DE TUBERCULOSIS</td>\n",
       "      <td>ISONIAZIDA, TABLETA DE 300 MG.</td>\n",
       "      <td>RESCO, SOCIEDAD ANONIMA/ OPS</td>\n",
       "      <td>ALTA VERAPAZ</td>\n",
       "      <td>2013</td>\n",
       "      <td>1</td>\n",
       "      <td>0.0</td>\n",
       "      <td>DAS</td>\n",
       "      <td>300</td>\n",
       "      <td>ISONIAZIDA</td>\n",
       "      <td>0.0</td>\n",
       "      <td>16</td>\n",
       "    </tr>\n",
       "    <tr>\n",
       "      <th>1</th>\n",
       "      <td>PROGRAMA NACIONAL DE TUBERCULOSIS</td>\n",
       "      <td>ISONIAZIDA, TABLETA DE 300 MG.</td>\n",
       "      <td>RESCO, SOCIEDAD ANONIMA/ OPS</td>\n",
       "      <td>ALTA VERAPAZ</td>\n",
       "      <td>2013</td>\n",
       "      <td>2</td>\n",
       "      <td>2740.0</td>\n",
       "      <td>DAS</td>\n",
       "      <td>300</td>\n",
       "      <td>ISONIAZIDA</td>\n",
       "      <td>0.0</td>\n",
       "      <td>16</td>\n",
       "    </tr>\n",
       "    <tr>\n",
       "      <th>2</th>\n",
       "      <td>PROGRAMA NACIONAL DE TUBERCULOSIS</td>\n",
       "      <td>ISONIAZIDA, TABLETA DE 300 MG.</td>\n",
       "      <td>RESCO, SOCIEDAD ANONIMA/ OPS</td>\n",
       "      <td>ALTA VERAPAZ</td>\n",
       "      <td>2013</td>\n",
       "      <td>3</td>\n",
       "      <td>0.0</td>\n",
       "      <td>DAS</td>\n",
       "      <td>300</td>\n",
       "      <td>ISONIAZIDA</td>\n",
       "      <td>0.0</td>\n",
       "      <td>16</td>\n",
       "    </tr>\n",
       "    <tr>\n",
       "      <th>3</th>\n",
       "      <td>PROGRAMA NACIONAL DE TUBERCULOSIS</td>\n",
       "      <td>ISONIAZIDA, TABLETA DE 300 MG.</td>\n",
       "      <td>RESCO, SOCIEDAD ANONIMA/ OPS</td>\n",
       "      <td>ALTA VERAPAZ</td>\n",
       "      <td>2013</td>\n",
       "      <td>4</td>\n",
       "      <td>0.0</td>\n",
       "      <td>DAS</td>\n",
       "      <td>300</td>\n",
       "      <td>ISONIAZIDA</td>\n",
       "      <td>0.0</td>\n",
       "      <td>16</td>\n",
       "    </tr>\n",
       "    <tr>\n",
       "      <th>4</th>\n",
       "      <td>PROGRAMA NACIONAL DE TUBERCULOSIS</td>\n",
       "      <td>ISONIAZIDA, TABLETA DE 300 MG.</td>\n",
       "      <td>RESCO, SOCIEDAD ANONIMA/ OPS</td>\n",
       "      <td>ALTA VERAPAZ</td>\n",
       "      <td>2013</td>\n",
       "      <td>5</td>\n",
       "      <td>3376.0</td>\n",
       "      <td>DAS</td>\n",
       "      <td>300</td>\n",
       "      <td>ISONIAZIDA</td>\n",
       "      <td>0.0</td>\n",
       "      <td>16</td>\n",
       "    </tr>\n",
       "  </tbody>\n",
       "</table>\n",
       "</div>"
      ],
      "text/plain": [
       "                             Program                         Product  \\\n",
       "0  PROGRAMA NACIONAL DE TUBERCULOSIS  ISONIAZIDA, TABLETA DE 300 MG.   \n",
       "1  PROGRAMA NACIONAL DE TUBERCULOSIS  ISONIAZIDA, TABLETA DE 300 MG.   \n",
       "2  PROGRAMA NACIONAL DE TUBERCULOSIS  ISONIAZIDA, TABLETA DE 300 MG.   \n",
       "3  PROGRAMA NACIONAL DE TUBERCULOSIS  ISONIAZIDA, TABLETA DE 300 MG.   \n",
       "4  PROGRAMA NACIONAL DE TUBERCULOSIS  ISONIAZIDA, TABLETA DE 300 MG.   \n",
       "\n",
       "                       Supplier    Department  Year  Month  Amount Recipient  \\\n",
       "0  RESCO, SOCIEDAD ANONIMA/ OPS  ALTA VERAPAZ  2013      1     0.0       DAS   \n",
       "1  RESCO, SOCIEDAD ANONIMA/ OPS  ALTA VERAPAZ  2013      2  2740.0       DAS   \n",
       "2  RESCO, SOCIEDAD ANONIMA/ OPS  ALTA VERAPAZ  2013      3     0.0       DAS   \n",
       "3  RESCO, SOCIEDAD ANONIMA/ OPS  ALTA VERAPAZ  2013      4     0.0       DAS   \n",
       "4  RESCO, SOCIEDAD ANONIMA/ OPS  ALTA VERAPAZ  2013      5  3376.0       DAS   \n",
       "\n",
       "    MG    Medicine   ML  code_dept  \n",
       "0  300  ISONIAZIDA  0.0         16  \n",
       "1  300  ISONIAZIDA  0.0         16  \n",
       "2  300  ISONIAZIDA  0.0         16  \n",
       "3  300  ISONIAZIDA  0.0         16  \n",
       "4  300  ISONIAZIDA  0.0         16  "
      ]
     },
     "execution_count": 175,
     "metadata": {},
     "output_type": "execute_result"
    }
   ],
   "source": [
    "distrMeds.head()"
   ]
  },
  {
   "cell_type": "code",
   "execution_count": 176,
   "metadata": {},
   "outputs": [],
   "source": [
    "meds = distrMeds.groupby([\"Year\", \"code_dept\"]).Amount.sum()\\\n",
    ".rename_axis( index = {\"Year\": \"date\", \"code_dept\": \"department\"})\\\n",
    ".rename(\"Total Drugs Distributed_value_d\")"
   ]
  },
  {
   "cell_type": "code",
   "execution_count": 177,
   "metadata": {},
   "outputs": [
    {
     "data": {
      "text/plain": [
       "array(['ISONIAZIDA', 'RIFAMPICINA', 'PIRAZINAMIDA', 'ETAMBUTOL',\n",
       "       'ESTREPTOMICINA', 'KANAMICINA', 'CICLOCERINA', 'ETHIONAMIDA',\n",
       "       'LEVOFLOXACINA', 'TUBERCULINA', 'CLOFAZIMINE',\n",
       "       'AMOXICILINA/ACIDO CLAVULANICO', 'MOXIFLOXACINA', 'CICLOSERINA',\n",
       "       'CAPREOMICINA', 'ACIDO PARAAMINOSALICILICO', 'LINEZOLID',\n",
       "       'IMIPENEM/CILASTATINA'], dtype=object)"
      ]
     },
     "execution_count": 177,
     "metadata": {},
     "output_type": "execute_result"
    }
   ],
   "source": [
    "distrMeds.Medicine.unique()"
   ]
  },
  {
   "cell_type": "code",
   "execution_count": 178,
   "metadata": {},
   "outputs": [],
   "source": [
    "# Isoniazid Distributed_value\n",
    "isod = distrMeds[distrMeds.Medicine == \"ISONIAZIDA\"].groupby([\"Year\", \"code_dept\"]).Amount.sum()\\\n",
    ".rename_axis( index = {\"Year\": \"date\", \"code_dept\": \"department\"})\\\n",
    ".rename(\"Isoniazid Distributed_value_d\")"
   ]
  },
  {
   "cell_type": "code",
   "execution_count": 179,
   "metadata": {},
   "outputs": [],
   "source": [
    "# PLHIV Screened for TB_value\n",
    "hivtb = \\\n",
    "sicoinRM[(sicoinRM.Programa == \"16-PREVENCIÓN Y CONTROL DE ITS, VIH/SIDA\") &\n",
    "sicoinRM.Resultado.isin(\n",
    "       ['6.0-Paciente VIH positivo, con prueba diagnóstica de tuberculosis',\n",
    "       '6.0-Pacientes VIH positivos, con prueba diagnostica de Tuberculosis']\n",
    ") & (sicoinRM.LugarEjecutado.notna())].assign(date = lambda x: x.Year, municipality = lambda x: x.LugarCod.map(int))\\\n",
    ".assign(department = lambda x: np.floor(x.municipality/100).astype(int) )\\\n",
    ".groupby([\"date\", \"department\", \"municipality\"]).LugarEjecutado.sum()\\\n",
    ".rename(\"PLHIV Screened for TB_value_m\")"
   ]
  },
  {
   "cell_type": "code",
   "execution_count": 181,
   "metadata": {},
   "outputs": [
    {
     "data": {
      "text/plain": [
       "(2014, 7, 713)"
      ]
     },
     "execution_count": 181,
     "metadata": {},
     "output_type": "execute_result"
    }
   ],
   "source": [
    "hivtb.idxmax()"
   ]
  },
  {
   "cell_type": "code",
   "execution_count": 182,
   "metadata": {},
   "outputs": [],
   "source": [
    "# TB Patients Tested for HIV_value\n",
    "tbhivTx = sicoinRM[(sicoinRM.Programa == \"17-PREVENCIÓN Y CONTROL DE LA TUBERCULOSIS\") &\n",
    "sicoinRM.Resultado.isin(\n",
    "       ['7.0-Persona con diagnóstico de tuberculosis con prueba diagnóstica de VIH',\n",
    "       '7.0-Casos de Tuberculosis con prueba diagnóstica de VIH']\n",
    ") & (sicoinRM.LugarEjecutado.notna())].assign(date = lambda x: x.Year, municipality = lambda x: x.LugarCod.map(int))\\\n",
    ".assign(department = lambda x: np.floor(x.municipality/100).astype(int) )\\\n",
    ".groupby([\"date\", \"department\", \"municipality\"]).LugarEjecutado.sum()\\\n",
    ".rename(\"TB Patients Tested for HIV_value_m\")"
   ]
  },
  {
   "cell_type": "code",
   "execution_count": 183,
   "metadata": {},
   "outputs": [],
   "source": [
    "# Number of Cases Screened for MDR_value\n",
    "mdrSx = sicoinRM[(sicoinRM.Programa == \"17-PREVENCIÓN Y CONTROL DE LA TUBERCULOSIS\") &\n",
    "sicoinRM.Resultado.isin(\n",
    "       ['9.0-Persona con diagnóstico de fracasos al tratamiento de tuberculosis con prueba diagnóstica a TB-MDR (tuberculosis multidrogo resistente)',\n",
    "        '9.0-Casos de fracasos a tratamiento de Tuberculosis con prueba diagnóstica a TB-MDR']\n",
    ") & (sicoinRM.LugarEjecutado.notna())].assign(date = lambda x: x.Year, municipality = lambda x: x.LugarCod.map(int))\\\n",
    ".assign(department = lambda x: np.floor(x.municipality/100).astype(int) )\\\n",
    ".groupby([\"date\", \"department\", \"municipality\"]).LugarEjecutado.sum()\\\n",
    ".rename(\"Number of Cases Screened for MDR_value_m\")"
   ]
  },
  {
   "cell_type": "code",
   "execution_count": 184,
   "metadata": {},
   "outputs": [],
   "source": [
    "cohortsExtraD = pd.read_csv(\"../../../Outcome Measurement Data/TUBERCULOSIS/COHORTES/GTM - Tx Cohort Data - Extra tables.csv\")"
   ]
  },
  {
   "cell_type": "code",
   "execution_count": 185,
   "metadata": {},
   "outputs": [
    {
     "data": {
      "text/plain": [
       "Index(['year', 'table', 'das', 'column', 'value', 'col_index', 'deptocode'], dtype='object')"
      ]
     },
     "execution_count": 185,
     "metadata": {},
     "output_type": "execute_result"
    }
   ],
   "source": [
    "cohortsExtraD.columns"
   ]
  },
  {
   "cell_type": "code",
   "execution_count": 186,
   "metadata": {},
   "outputs": [
    {
     "data": {
      "text/plain": [
       "array(['SR', 'Nuevos BK+', 'Nuevos BK-', 'Nuevos Extrapulmonares',\n",
       "       'Pediatricos', 'TB/VIH Iniciaron TARV', 'TB/VIH Tx Preventivo',\n",
       "       'SR Extension Cobertura', 'Nuevos BK+ Extension Cobertura',\n",
       "       'Tamizaje Contactos', 'Contactos con TB', 'Contactos Tx 0-10a',\n",
       "       'Centros de salud EATB', 'Puestos de salud EATB',\n",
       "       'Hospitales EATB', 'Jurisdicciones EATB', 'Otros EATB',\n",
       "       'Laboratorios', 'Laboratorios baciloscopias',\n",
       "       'Laboratorios cultivo', 'Laboratorios sensibilidad drogas',\n",
       "       'Contactos Tx 0-5a', 'VIH Tx Preventivo', 'ExtCob EATB'],\n",
       "      dtype=object)"
      ]
     },
     "execution_count": 186,
     "metadata": {},
     "output_type": "execute_result"
    }
   ],
   "source": [
    "cohortsExtraD.table.unique()"
   ]
  },
  {
   "cell_type": "code",
   "execution_count": 187,
   "metadata": {},
   "outputs": [
    {
     "data": {
      "text/plain": [
       "array(['Nuevos Pulmonares Bact Conf', 'Nuevos Pulmonares Adultos BK+',\n",
       "       'Nuevos Pulmonares Adultos Genexpert',\n",
       "       'Nuevos Pulmonares Adultos Cultivo',\n",
       "       'Nuevos Pulmonares pediatricos Bact Conf',\n",
       "       'Nuevos Pulmonares pediatricos BK+',\n",
       "       'Nuevos Pulmonares pediatricos Cultivo',\n",
       "       'Nuevos Pulmonares pediatricos Genexpert',\n",
       "       'Nuevos Extrapulmonares Bact Conf',\n",
       "       'Nuevos Extrapulmonares Adultos Bact Conf',\n",
       "       'Nuevos Extrapulmonares pediatricos Bact Conf',\n",
       "       'Nuevos Pulmonares Dx Clinico',\n",
       "       'Nuevos Pulmonares Dx Clinico Adultos',\n",
       "       'Nuevos Extrapulmonares Dx Clinico',\n",
       "       'Nuevos Extrapulmonares Dx Clinico Adultos',\n",
       "       'Nuevos Extrapulmonares Dx Clinico pediatricos',\n",
       "       'Nuevos Pulmonares TB/VIH Bact Conf',\n",
       "       'Nuevos Pulmonares TB/VIH BK+',\n",
       "       'Nuevos Pulmonares TB/VIH Genexpert',\n",
       "       'Nuevos Pulmonares TB/VIH Cultivo',\n",
       "       'Nuevos Pulmonares TB/VIH Dx Clinico', 'Retratamiento Bact Conf',\n",
       "       'Retratamiento TB/VIH Bact Conf', 'Retratamiento Dx Clinico',\n",
       "       'Retratamiento Extrapulmonar',\n",
       "       'Retratamiento Extrapulmonar & TB/VIH',\n",
       "       'MDR sensitivity tests on new', 'MDR confirmed cases from new',\n",
       "       'MDR test on previously treated',\n",
       "       'MDR confirmed from previously treated',\n",
       "       'MDR 2nd line treatment begun', 'MDR TB/HIV',\n",
       "       'MDR less than 10 years', 'RR sensitivity tests on new',\n",
       "       'RR confirmed cases from new', 'RR test on previously treated',\n",
       "       'RR confirmed from previously treated',\n",
       "       'RR 2nd line treatment begun', 'RR TB/HIV',\n",
       "       'RR less than 10 years', 'Nuevos Pulmonares Genexpert',\n",
       "       'Nuevos Pulmonares pediatricos BK-', 'Nuevos Extrapulmonares BK+',\n",
       "       'Nuevos Extrapulmonares pediatricos BK+',\n",
       "       'Nuevos Extrapulmonares BK-',\n",
       "       'Nuevos Extrapulmonares pediatricos BK-', 'Retratamiento BK+',\n",
       "       'Retratamiento Recaidas & BK+',\n",
       "       'Retratamiento Abandonos Recuperados & BK+',\n",
       "       'Retratamiento Fracasos & BK+', 'Retratamiento TB/VIH & BK+',\n",
       "       'Retratamiento BK-', 'Retratamiento Recaidas & BK-',\n",
       "       'Retratamiento Abandonos Recuperados & BK-',\n",
       "       'Retratamiento Fracasos & BK-', 'Retratamiento TB/VIH & BK-',\n",
       "       'Nuevos Pulmonares BK+', 'Nuevos Pulmonares BK-',\n",
       "       'Nuevos Extrapulmonares', 'Nuevos Extrapulmonares TB/VIH',\n",
       "       'Nuevos Pediatricos BK+', 'Nuevos Pediatricos BK-',\n",
       "       'Nuevos Pulmonares TB/VIH BK-',\n",
       "       'Nuevos Extrapulmonares Pediatricos',\n",
       "       'Nuevos Pediatricos TB/VIH BK+', 'Nuevos Pediatricos TB/VIH BK-',\n",
       "       'Nuevos Extrapulmonares Pediatricos TB/VIH',\n",
       "       'Retratamiento Pediatricos BK+', 'Retratamiento Pediatricos BK-',\n",
       "       'Retratamiento Pediatricos BK+ TB/VIH',\n",
       "       'Retratamiento Pediatricos BK- TB/VIH', 'Retratamiento BK+ TB/VIH',\n",
       "       'Retratamiento BK- TB/VIH', 'Retratamiento Extrapulmonar TB/VIH',\n",
       "       'Retratamiento Extrapulmonar Pediatricos',\n",
       "       'Retratamiento Extrapulmonar Pediatricos TB/VIH',\n",
       "       'Nuevos Pediatricos', 'Nuevos Pediatricos Extrapulmonares',\n",
       "       'Retratamiento TB/VIH BK+', 'Retratamiento TB/VIH BK-',\n",
       "       'Retratamiento Pediatricos', 'Retratamiento Pediatricos TB/VIH',\n",
       "       'MDR less than 14 years', 'Nuevos TB/VIH', 'Retratamiento'],\n",
       "      dtype=object)"
      ]
     },
     "execution_count": 187,
     "metadata": {},
     "output_type": "execute_result"
    }
   ],
   "source": [
    "cohortes.table.unique()"
   ]
  },
  {
   "cell_type": "code",
   "execution_count": 188,
   "metadata": {},
   "outputs": [
    {
     "data": {
      "text/html": [
       "<div>\n",
       "<style scoped>\n",
       "    .dataframe tbody tr th:only-of-type {\n",
       "        vertical-align: middle;\n",
       "    }\n",
       "\n",
       "    .dataframe tbody tr th {\n",
       "        vertical-align: top;\n",
       "    }\n",
       "\n",
       "    .dataframe thead th {\n",
       "        text-align: right;\n",
       "    }\n",
       "</style>\n",
       "<table border=\"1\" class=\"dataframe\">\n",
       "  <thead>\n",
       "    <tr style=\"text-align: right;\">\n",
       "      <th></th>\n",
       "      <th>Unnamed: 0</th>\n",
       "      <th>col_name</th>\n",
       "      <th>deptocode</th>\n",
       "      <th>row_name</th>\n",
       "      <th>row_name_B</th>\n",
       "      <th>table</th>\n",
       "      <th>value</th>\n",
       "      <th>year</th>\n",
       "    </tr>\n",
       "  </thead>\n",
       "  <tbody>\n",
       "    <tr>\n",
       "      <th>819</th>\n",
       "      <td>819</td>\n",
       "      <td>NaN</td>\n",
       "      <td>0</td>\n",
       "      <td>NaN</td>\n",
       "      <td>NaN</td>\n",
       "      <td>MDR sensitivity tests on new</td>\n",
       "      <td>22.0</td>\n",
       "      <td>2017</td>\n",
       "    </tr>\n",
       "    <tr>\n",
       "      <th>821</th>\n",
       "      <td>821</td>\n",
       "      <td>NaN</td>\n",
       "      <td>0</td>\n",
       "      <td>NaN</td>\n",
       "      <td>NaN</td>\n",
       "      <td>MDR test on previously treated</td>\n",
       "      <td>20.0</td>\n",
       "      <td>2017</td>\n",
       "    </tr>\n",
       "    <tr>\n",
       "      <th>25638</th>\n",
       "      <td>25638</td>\n",
       "      <td>NaN</td>\n",
       "      <td>0</td>\n",
       "      <td>NaN</td>\n",
       "      <td>NaN</td>\n",
       "      <td>MDR sensitivity tests on new</td>\n",
       "      <td>116.0</td>\n",
       "      <td>2016</td>\n",
       "    </tr>\n",
       "    <tr>\n",
       "      <th>25640</th>\n",
       "      <td>25640</td>\n",
       "      <td>NaN</td>\n",
       "      <td>0</td>\n",
       "      <td>NaN</td>\n",
       "      <td>NaN</td>\n",
       "      <td>MDR test on previously treated</td>\n",
       "      <td>65.0</td>\n",
       "      <td>2016</td>\n",
       "    </tr>\n",
       "    <tr>\n",
       "      <th>45432</th>\n",
       "      <td>45432</td>\n",
       "      <td>NaN</td>\n",
       "      <td>0</td>\n",
       "      <td>NaN</td>\n",
       "      <td>NaN</td>\n",
       "      <td>MDR sensitivity tests on new</td>\n",
       "      <td>210.0</td>\n",
       "      <td>2015</td>\n",
       "    </tr>\n",
       "    <tr>\n",
       "      <th>45434</th>\n",
       "      <td>45434</td>\n",
       "      <td>NaN</td>\n",
       "      <td>0</td>\n",
       "      <td>NaN</td>\n",
       "      <td>NaN</td>\n",
       "      <td>MDR test on previously treated</td>\n",
       "      <td>94.0</td>\n",
       "      <td>2015</td>\n",
       "    </tr>\n",
       "    <tr>\n",
       "      <th>63288</th>\n",
       "      <td>63288</td>\n",
       "      <td>NaN</td>\n",
       "      <td>0</td>\n",
       "      <td>NaN</td>\n",
       "      <td>NaN</td>\n",
       "      <td>MDR sensitivity tests on new</td>\n",
       "      <td>22.0</td>\n",
       "      <td>2014</td>\n",
       "    </tr>\n",
       "    <tr>\n",
       "      <th>63290</th>\n",
       "      <td>63290</td>\n",
       "      <td>NaN</td>\n",
       "      <td>0</td>\n",
       "      <td>NaN</td>\n",
       "      <td>NaN</td>\n",
       "      <td>MDR test on previously treated</td>\n",
       "      <td>0.0</td>\n",
       "      <td>2014</td>\n",
       "    </tr>\n",
       "    <tr>\n",
       "      <th>86424</th>\n",
       "      <td>86424</td>\n",
       "      <td>NaN</td>\n",
       "      <td>0</td>\n",
       "      <td>NaN</td>\n",
       "      <td>NaN</td>\n",
       "      <td>MDR sensitivity tests on new</td>\n",
       "      <td>67.0</td>\n",
       "      <td>2013</td>\n",
       "    </tr>\n",
       "    <tr>\n",
       "      <th>86426</th>\n",
       "      <td>86426</td>\n",
       "      <td>NaN</td>\n",
       "      <td>0</td>\n",
       "      <td>NaN</td>\n",
       "      <td>NaN</td>\n",
       "      <td>MDR test on previously treated</td>\n",
       "      <td>72.0</td>\n",
       "      <td>2013</td>\n",
       "    </tr>\n",
       "    <tr>\n",
       "      <th>106254</th>\n",
       "      <td>106254</td>\n",
       "      <td>NaN</td>\n",
       "      <td>0</td>\n",
       "      <td>NaN</td>\n",
       "      <td>NaN</td>\n",
       "      <td>MDR sensitivity tests on new</td>\n",
       "      <td>62.0</td>\n",
       "      <td>2012</td>\n",
       "    </tr>\n",
       "    <tr>\n",
       "      <th>106256</th>\n",
       "      <td>106256</td>\n",
       "      <td>NaN</td>\n",
       "      <td>0</td>\n",
       "      <td>NaN</td>\n",
       "      <td>NaN</td>\n",
       "      <td>MDR test on previously treated</td>\n",
       "      <td>67.0</td>\n",
       "      <td>2012</td>\n",
       "    </tr>\n",
       "  </tbody>\n",
       "</table>\n",
       "</div>"
      ],
      "text/plain": [
       "        Unnamed: 0 col_name  deptocode row_name row_name_B  \\\n",
       "819            819      NaN          0      NaN        NaN   \n",
       "821            821      NaN          0      NaN        NaN   \n",
       "25638        25638      NaN          0      NaN        NaN   \n",
       "25640        25640      NaN          0      NaN        NaN   \n",
       "45432        45432      NaN          0      NaN        NaN   \n",
       "45434        45434      NaN          0      NaN        NaN   \n",
       "63288        63288      NaN          0      NaN        NaN   \n",
       "63290        63290      NaN          0      NaN        NaN   \n",
       "86424        86424      NaN          0      NaN        NaN   \n",
       "86426        86426      NaN          0      NaN        NaN   \n",
       "106254      106254      NaN          0      NaN        NaN   \n",
       "106256      106256      NaN          0      NaN        NaN   \n",
       "\n",
       "                                 table  value  year  \n",
       "819       MDR sensitivity tests on new   22.0  2017  \n",
       "821     MDR test on previously treated   20.0  2017  \n",
       "25638     MDR sensitivity tests on new  116.0  2016  \n",
       "25640   MDR test on previously treated   65.0  2016  \n",
       "45432     MDR sensitivity tests on new  210.0  2015  \n",
       "45434   MDR test on previously treated   94.0  2015  \n",
       "63288     MDR sensitivity tests on new   22.0  2014  \n",
       "63290   MDR test on previously treated    0.0  2014  \n",
       "86424     MDR sensitivity tests on new   67.0  2013  \n",
       "86426   MDR test on previously treated   72.0  2013  \n",
       "106254    MDR sensitivity tests on new   62.0  2012  \n",
       "106256  MDR test on previously treated   67.0  2012  "
      ]
     },
     "execution_count": 188,
     "metadata": {},
     "output_type": "execute_result"
    }
   ],
   "source": [
    "cohortes[cohortes.table.isin(['MDR sensitivity tests on new','MDR test on previously treated']) & \n",
    "        (cohortes.deptocode==0)]"
   ]
  },
  {
   "cell_type": "code",
   "execution_count": 189,
   "metadata": {},
   "outputs": [],
   "source": [
    "mdrSx = cohortes[cohortes.table.isin(['MDR sensitivity tests on new','MDR test on previously treated']) & \n",
    "        (cohortes.deptocode!=0)].groupby([\"year\", \"deptocode\"]).value.sum()\\\n",
    "            .rename_axis(index={ \"year\": \"date\", \"deptocode\": \"department\" })\\\n",
    "            .rename(\"Number of Cases Screened for MDR_value_d\")"
   ]
  },
  {
   "cell_type": "code",
   "execution_count": 190,
   "metadata": {},
   "outputs": [
    {
     "data": {
      "text/plain": [
       "date  department\n",
       "2017  18            8.0\n",
       "      19            0.0\n",
       "      20            0.0\n",
       "      21            0.0\n",
       "      22            0.0\n",
       "Name: Number of Cases Screened for MDR_value_d, dtype: float64"
      ]
     },
     "execution_count": 190,
     "metadata": {},
     "output_type": "execute_result"
    }
   ],
   "source": [
    "mdrSx.tail()"
   ]
  },
  {
   "cell_type": "code",
   "execution_count": 191,
   "metadata": {},
   "outputs": [],
   "source": [
    "# Second Line Drugs Distributed_value"
   ]
  },
  {
   "cell_type": "code",
   "execution_count": 192,
   "metadata": {},
   "outputs": [
    {
     "data": {
      "text/plain": [
       "array(['ISONIAZIDA', 'RIFAMPICINA', 'PIRAZINAMIDA', 'ETAMBUTOL',\n",
       "       'ESTREPTOMICINA', 'KANAMICINA', 'CICLOCERINA', 'ETHIONAMIDA',\n",
       "       'LEVOFLOXACINA', 'TUBERCULINA', 'CLOFAZIMINE',\n",
       "       'AMOXICILINA/ACIDO CLAVULANICO', 'MOXIFLOXACINA', 'CICLOSERINA',\n",
       "       'CAPREOMICINA', 'ACIDO PARAAMINOSALICILICO', 'LINEZOLID',\n",
       "       'IMIPENEM/CILASTATINA'], dtype=object)"
      ]
     },
     "execution_count": 192,
     "metadata": {},
     "output_type": "execute_result"
    }
   ],
   "source": [
    "distrMeds.Medicine.unique()"
   ]
  },
  {
   "cell_type": "code",
   "execution_count": 193,
   "metadata": {},
   "outputs": [],
   "source": [
    "# De acuerdo al manual de tb drogoresistente del programa\n",
    "segundaLinea = [\n",
    "    'LEVOFLOXACINA',\n",
    "    'CAPREOMICINA',\n",
    "    'MOXIFLOXACINA',\n",
    "    'KANAMICINA',\n",
    "    'ESTREPTOMICINA',\n",
    "    'ETHIONAMIDA',\n",
    "    'CICLOCERINA',\n",
    "    'CICLOSERINA',\n",
    "    'LINEZOLID',\n",
    "    'CLOFAZIMINE',\n",
    "    'PIRAZINAMIDA',\n",
    "    'ETAMBUTOL',\n",
    "    'ACIDO PARAAMINOSALICILICO',\n",
    "    'IMIPENEM/CILASTATINA',\n",
    "    'AMOXICILINA/ACIDO CLAVULANICO',\n",
    "]"
   ]
  },
  {
   "cell_type": "code",
   "execution_count": 194,
   "metadata": {},
   "outputs": [],
   "source": [
    "meds2dl = distrMeds[distrMeds.Medicine.isin(segundaLinea)].groupby([\"Year\", \"code_dept\"]).Amount.sum()\\\n",
    ".rename_axis( index = {\"Year\": \"date\", \"code_dept\": \"department\"})\\\n",
    ".rename(\"Second Line Drugs Distributed_value_d\")"
   ]
  },
  {
   "cell_type": "code",
   "execution_count": 202,
   "metadata": {},
   "outputs": [],
   "source": [
    "activities = pd.merge(makeFullIndex(meds), makeFullIndex(isod), left_index=True, right_index=True, how=\"outer\")\\\n",
    "            .merge(makeFullIndex(hivtb), left_index=True, right_index=True, how=\"outer\")\\\n",
    "            .merge(makeFullIndex(tbhivTx), left_index=True, right_index=True, how=\"outer\")\\\n",
    "            .merge(makeFullIndex(mdrSx), left_index=True, right_index=True, how=\"outer\")\\\n",
    "            .merge(makeFullIndex(meds2dl), left_index=True, right_index=True, how=\"outer\")\\\n",
    "            "
   ]
  },
  {
   "cell_type": "code",
   "execution_count": 203,
   "metadata": {},
   "outputs": [
    {
     "data": {
      "text/html": [
       "<div>\n",
       "<style scoped>\n",
       "    .dataframe tbody tr th:only-of-type {\n",
       "        vertical-align: middle;\n",
       "    }\n",
       "\n",
       "    .dataframe tbody tr th {\n",
       "        vertical-align: top;\n",
       "    }\n",
       "\n",
       "    .dataframe thead th {\n",
       "        text-align: right;\n",
       "    }\n",
       "</style>\n",
       "<table border=\"1\" class=\"dataframe\">\n",
       "  <thead>\n",
       "    <tr style=\"text-align: right;\">\n",
       "      <th></th>\n",
       "      <th></th>\n",
       "      <th></th>\n",
       "      <th>Total Drugs Distributed_value_d</th>\n",
       "      <th>Isoniazid Distributed_value_d</th>\n",
       "      <th>PLHIV Screened for TB_value_m</th>\n",
       "      <th>TB Patients Tested for HIV_value_m</th>\n",
       "      <th>Number of Cases Screened for MDR_value_d</th>\n",
       "      <th>Second Line Drugs Distributed_value_d</th>\n",
       "    </tr>\n",
       "    <tr>\n",
       "      <th>date</th>\n",
       "      <th>department</th>\n",
       "      <th>municipality</th>\n",
       "      <th></th>\n",
       "      <th></th>\n",
       "      <th></th>\n",
       "      <th></th>\n",
       "      <th></th>\n",
       "      <th></th>\n",
       "    </tr>\n",
       "  </thead>\n",
       "  <tbody>\n",
       "  </tbody>\n",
       "</table>\n",
       "</div>"
      ],
      "text/plain": [
       "Empty DataFrame\n",
       "Columns: [Total Drugs Distributed_value_d, Isoniazid Distributed_value_d, PLHIV Screened for TB_value_m, TB Patients Tested for HIV_value_m, Number of Cases Screened for MDR_value_d, Second Line Drugs Distributed_value_d]\n",
       "Index: []"
      ]
     },
     "execution_count": 203,
     "metadata": {},
     "output_type": "execute_result"
    }
   ],
   "source": [
    "activities[(activities.index.get_level_values(\"municipality\") == 0) | \n",
    "       (activities.index.get_level_values(\"municipality\") == \"\") | \n",
    "       (activities.index.get_level_values(\"municipality\") == None)]"
   ]
  },
  {
   "cell_type": "code",
   "execution_count": 204,
   "metadata": {},
   "outputs": [],
   "source": [
    "activities.to_csv(\"../../../Impact Evaluation/TB/activities.csv\")"
   ]
  },
  {
   "cell_type": "code",
   "execution_count": 100,
   "metadata": {},
   "outputs": [
    {
     "data": {
      "text/plain": [
       "(Index(['Total Drugs Distributed_value_d', 'Isoniazid Distributed_value_d',\n",
       "        'PLHIV Screened for TB_value_m', 'TB Patients Tested for HIV_value_m',\n",
       "        'Number of Cases Screened for MDR_value_d',\n",
       "        'Second Line Drugs Distributed_value_d'],\n",
       "       dtype='object'), FrozenList(['date', 'department', 'municipality']))"
      ]
     },
     "execution_count": 100,
     "metadata": {},
     "output_type": "execute_result"
    }
   ],
   "source": [
    "activities.columns, activities.index.names"
   ]
  },
  {
   "cell_type": "markdown",
   "metadata": {},
   "source": [
    "# Impact"
   ]
  },
  {
   "cell_type": "markdown",
   "metadata": {},
   "source": [
    "Values:\n",
    "\n",
    " * Case Notification Rate_value\n",
    " * Mortality Rate_value\n",
    " * Treatment Success Rate_value\n",
    " * ~~Case Notification Rate in Prisons_value~~\n",
    " * HIV/TB Treatment Success Rate_value\n",
    " * HIV/TB Mortality Rate_value\n",
    " * ~~MDR Treatment Success Rate_value~~\n",
    " * MDR Probably Cured Rate_value"
   ]
  },
  {
   "cell_type": "code",
   "execution_count": 205,
   "metadata": {},
   "outputs": [],
   "source": [
    "# Worldpop estimations are in the helper functions \n",
    "import os\n",
    "\n",
    "os.chdir(\"../../core/\")\n"
   ]
  },
  {
   "cell_type": "code",
   "execution_count": 206,
   "metadata": {},
   "outputs": [],
   "source": [
    "import GT_helper_functions as hf\n",
    "import GT_load_data as data"
   ]
  },
  {
   "cell_type": "code",
   "execution_count": 210,
   "metadata": {},
   "outputs": [],
   "source": [
    "os.chdir(\"../impact_evaluation/gtm/\")"
   ]
  },
  {
   "cell_type": "code",
   "execution_count": 211,
   "metadata": {},
   "outputs": [
    {
     "data": {
      "image/png": "[encoded data removed]",
      "text/plain": [
       "<Figure size 432x288 with 1 Axes>"
      ]
     },
     "metadata": {
      "needs_background": "light"
     },
     "output_type": "display_data"
    }
   ],
   "source": [
    "plt.plot(list(range(2010,2030) ), [ hf.GTMuniPopulation(101,y) for y in range(2010,2030)] )\n",
    "None"
   ]
  },
  {
   "cell_type": "code",
   "execution_count": 212,
   "metadata": {},
   "outputs": [],
   "source": [
    "notifsRate = casesNotif.reset_index().apply(lambda x: x[\"Cases Notified_value_m\"] / hf.GTMuniPopulation(x.municipality, x.date), 1).iloc[:,0]"
   ]
  },
  {
   "cell_type": "code",
   "execution_count": 213,
   "metadata": {},
   "outputs": [],
   "source": [
    "notifsRate.index = casesNotif.index.copy()"
   ]
  },
  {
   "cell_type": "code",
   "execution_count": 214,
   "metadata": {},
   "outputs": [],
   "source": [
    "notifsRate = notifsRate.rename(\"Case Notification Rate_value_m\")"
   ]
  },
  {
   "cell_type": "code",
   "execution_count": 215,
   "metadata": {},
   "outputs": [],
   "source": [
    "# Mortality Rate_value\n",
    "vrredis =  pd.read_csv(\"../../../Outcome Measurement Data/MULTI/VR/vr_redistributed_collapsed_diseases.csv\", index_col = 0)"
   ]
  },
  {
   "cell_type": "code",
   "execution_count": 216,
   "metadata": {},
   "outputs": [],
   "source": [
    "# munis_ids = pd.read_csv(\"../../Outcome Measurement Data/MULTI/VR/GTM_muni_merges_2009_2016_fixed.csv\", index_col = 0)\n",
    "munis_ids = pd.read_csv(\"../../../Covariates and Other Data/GIS/GTM_muni_merges_2009_2016_fixed.csv\", index_col = 0)"
   ]
  },
  {
   "cell_type": "code",
   "execution_count": 217,
   "metadata": {},
   "outputs": [],
   "source": [
    "vrredis = vrredis.merge(munis_ids[[\"adm2_country_code\", \"adm2_gbd_id\"]], left_on= \"location_id\", right_on=\"adm2_gbd_id\")"
   ]
  },
  {
   "cell_type": "code",
   "execution_count": 218,
   "metadata": {},
   "outputs": [],
   "source": [
    "mortcounts = vrredis[vrredis.disease.isin([\"TB\", \"TB-VIH\"]) & (vrredis.adm2_country_code.notna())]\\\n",
    ".assign(municipality = lambda x: x.adm2_country_code.astype(int), date = lambda x: x.year_id,\n",
    "        department = lambda x: np.floor(x.adm2_country_code/100).astype(int) ) \\\n",
    ".groupby([\"date\", \"department\", \"municipality\"]).deaths.sum().rename(\"mortcounts\")"
   ]
  },
  {
   "cell_type": "code",
   "execution_count": 219,
   "metadata": {},
   "outputs": [],
   "source": [
    "mortrate = mortcounts.reset_index().apply(lambda x: x[\"mortcounts\"] / hf.GTMuniPopulation(x.municipality, x.date), 1).iloc[:,0]"
   ]
  },
  {
   "cell_type": "code",
   "execution_count": 220,
   "metadata": {},
   "outputs": [],
   "source": [
    "mortrate.index = mortcounts.index"
   ]
  },
  {
   "cell_type": "code",
   "execution_count": 221,
   "metadata": {},
   "outputs": [],
   "source": [
    "mortrate = mortrate.rename(\"Mortality Rate_value_m\")"
   ]
  },
  {
   "cell_type": "code",
   "execution_count": 222,
   "metadata": {},
   "outputs": [],
   "source": [
    "#  Treatment Success Rate_value\n",
    "txsrate = pivot_cohortes[\"COMPLETED TREATMENT\"].divide(pivot_cohortes.sum(1))\\\n",
    ".rename_axis(index={\"deptocode\": \"department\", \"year\": \"date\"}).rename(\"Treatment Success Rate_value_d\")"
   ]
  },
  {
   "cell_type": "code",
   "execution_count": 223,
   "metadata": {},
   "outputs": [],
   "source": [
    "# HIV/TB Treatment Success Rate_value\n",
    "pivot_cohortes_tbhiv = cohortes[(cohortes.col_name.isin([\"TOTAL\"])) & \n",
    "       (cohortes.table.isin([\n",
    "           \"Nuevos TB/VIH\",  # year <= 2016\n",
    "           \"Nuevos Pulmonares TB/VIH Bact Conf\", \"Nuevos Pulmonares TB/VIH Dx Clinico\" #2017\n",
    "       ])) &\n",
    "       (cohortes.deptocode!=0)].\\\n",
    "    groupby([\"year\", \"deptocode\", \"row_name_B\"]).value.sum().unstack(2)\n",
    "tbhiv_txsrate = pivot_cohortes_tbhiv[\"COMPLETED TREATMENT\"].divide(pivot_cohortes_tbhiv.sum(1))\\\n",
    ".rename_axis(index={\"deptocode\": \"department\", \"year\": \"date\"}).rename(\"HIV/TB Treatment Success Rate_value_d\")"
   ]
  },
  {
   "cell_type": "code",
   "execution_count": 224,
   "metadata": {},
   "outputs": [],
   "source": [
    "# HIV/TB Mortality Rate_value\n",
    "tbhiv_mortrate = vrredis[vrredis.disease.isin([\"TB\", \"TB-VIH\"]) & (vrredis.adm2_country_code.notna())]\\\n",
    ".assign(municipality = lambda x: x.adm2_country_code.astype(int), date = lambda x: x.year_id,\n",
    "        department = lambda x: np.floor(x.adm2_country_code/100).astype(int) ) \\\n",
    ".groupby([\"date\", \"department\", \"municipality\"]).deaths.sum().rename(\"HIV/TB Mortality Rate_value_m\")"
   ]
  },
  {
   "cell_type": "code",
   "execution_count": 225,
   "metadata": {},
   "outputs": [
    {
     "data": {
      "text/plain": [
       "Index(['Unnamed: 0', 'Age', 'BD_ID', 'DAS', 'DateBk_1', 'DateCulture_1',\n",
       "       'DateCulture_10', 'DateCulture_11', 'DateCulture_12', 'DateCulture_13',\n",
       "       'DateCulture_14', 'DateCulture_15', 'DateCulture_16', 'DateCulture_17',\n",
       "       'DateCulture_18', 'DateCulture_19', 'DateCulture_2', 'DateCulture_20',\n",
       "       'DateCulture_21', 'DateCulture_22', 'DateCulture_23', 'DateCulture_24',\n",
       "       'DateCulture_3', 'DateCulture_4', 'DateCulture_5', 'DateCulture_6',\n",
       "       'DateCulture_7', 'DateCulture_8', 'DateCulture_9', 'DateGXPERT', 'Dead',\n",
       "       'Depto', 'DiabetesMel', 'DxDate', 'ExitCondition', 'ExitDate',\n",
       "       'GENOTYPE', 'Gender', 'HIV', 'ID', 'Modifications', 'Muni',\n",
       "       'Observations', 'PDSDate', 'PDSResult', 'PxCondition', 'PxLost',\n",
       "       'PxNew', 'PxRelapse', 'Referred', 'ResistType', 'ResultBk_1',\n",
       "       'ResultCulture_1', 'ResultCulture_10', 'ResultCulture_11',\n",
       "       'ResultCulture_12', 'ResultCulture_13', 'ResultCulture_14',\n",
       "       'ResultCulture_15', 'ResultCulture_16', 'ResultCulture_17',\n",
       "       'ResultCulture_18', 'ResultCulture_19', 'ResultCulture_2',\n",
       "       'ResultCulture_20', 'ResultCulture_21', 'ResultCulture_22',\n",
       "       'ResultCulture_23', 'ResultCulture_24', 'ResultCulture_3',\n",
       "       'ResultCulture_4', 'ResultCulture_5', 'ResultCulture_6',\n",
       "       'ResultCulture_7', 'ResultCulture_8', 'ResultCulture_9',\n",
       "       'TBExtrapulmonar', 'TBPulmonar', 'TBType', 'TTODate', 'TxDate',\n",
       "       'TxDate2', 'TxFailure', 'X_0', 'X_1', 'X_2', 'X_3', 'X_4', 'Year',\n",
       "       'TxDate_', 'TxDate_Year', 'DxDate_', 'DxDate_Year', 'ExitDate_',\n",
       "       'ExitDate_Year', 'PDSDate_', 'PDSDate_Year', 'GxDate_', 'deptocode'],\n",
       "      dtype='object')"
      ]
     },
     "execution_count": 225,
     "metadata": {},
     "output_type": "execute_result"
    }
   ],
   "source": [
    "# MDR Treatment Success Rate_value\n",
    "mdrtb.columns"
   ]
  },
  {
   "cell_type": "code",
   "execution_count": 226,
   "metadata": {},
   "outputs": [
    {
     "data": {
      "text/plain": [
       "NaN                           86\n",
       "ambulatorio                   23\n",
       "FALLECIDO                      7\n",
       "PERDIDA EN EL SEGUIMIENTO      5\n",
       "AMBULATORIO                    5\n",
       "fallecido                      4\n",
       "FRACASO                        4\n",
       "Fallecido                      4\n",
       "FALLECIDA                      3\n",
       "FUGADO                         2\n",
       "PÉRDIDA EN EL SEGUIMIENTO      2\n",
       "vivo                           2\n",
       "TX. COMPLETO                   2\n",
       "Fallecida                      1\n",
       "FALLECIDA                      1\n",
       " EGRESO CONTRAINDICADO         1\n",
       "Vivo                           1\n",
       "Fallecida                      1\n",
       "CONTRAINDICADO                 1\n",
       "ABANDONÓ                       1\n",
       "viva                           1\n",
       "Name: ExitCondition, dtype: int64"
      ]
     },
     "execution_count": 226,
     "metadata": {},
     "output_type": "execute_result"
    }
   ],
   "source": [
    "mdrtb.ExitCondition.value_counts(dropna=False)"
   ]
  },
  {
   "cell_type": "markdown",
   "metadata": {},
   "source": [
    "#### No hay datos confiables de cura de MDR ni de tratamiento completo.\n",
    "El manual de tx a MDRs menciona que se considera curado a alguien que saca tres pruebas negativas consecutivas. Se puede tomar eso como un proxy de curados."
   ]
  },
  {
   "cell_type": "code",
   "execution_count": 227,
   "metadata": {},
   "outputs": [],
   "source": [
    "results = [\"ResultCulture_\" + str(i) for i in range(1,25)]"
   ]
  },
  {
   "cell_type": "code",
   "execution_count": 228,
   "metadata": {},
   "outputs": [],
   "source": [
    "resultsdata = mdrtb[results].applymap(lambda x: str(x).lower())\\\n",
    ".applymap(lambda x: \\\n",
    "          \"negativo\" if \"neg\" in x else\\\n",
    "          \"positivo\" if (\"pos\" in x) or (\"+\" in x) else\\\n",
    "          \"na\" if (\"cont\" in x) or (\"no \" in x) or (x == \"nan\") or (\"rehus\" in x) or (\"acid\" in x) else x)"
   ]
  },
  {
   "cell_type": "code",
   "execution_count": 229,
   "metadata": {},
   "outputs": [
    {
     "data": {
      "text/plain": [
       "array(['negativo', 'na', 'positivo', '2015-06-24 00:00:00', '1-19 col',\n",
       "       'pr', '20 colonias', 'nr', '1-19 colonias', 'se verificará envio',\n",
       "       'según pcte en hrr', '2017-06-21 00:00:00'], dtype=object)"
      ]
     },
     "execution_count": 229,
     "metadata": {},
     "output_type": "execute_result"
    }
   ],
   "source": [
    "pd.unique(resultsdata.values.flatten())"
   ]
  },
  {
   "cell_type": "code",
   "execution_count": 230,
   "metadata": {},
   "outputs": [],
   "source": [
    "mdrtb[\"mdrProbCured\"] = resultsdata.apply(lambda x:\"\".join(x.values) , 1).apply(lambda x: x.replace(\"na\", \"\").strip(\"-\")[-24:] == \"negativonegativonegativo\")"
   ]
  },
  {
   "cell_type": "code",
   "execution_count": 231,
   "metadata": {},
   "outputs": [
    {
     "data": {
      "text/plain": [
       "False    108\n",
       "True      49\n",
       "Name: mdrProbCured, dtype: int64"
      ]
     },
     "execution_count": 231,
     "metadata": {},
     "output_type": "execute_result"
    }
   ],
   "source": [
    "mdrtb[\"mdrProbCured\"].value_counts()"
   ]
  },
  {
   "cell_type": "code",
   "execution_count": 232,
   "metadata": {},
   "outputs": [
    {
     "data": {
      "text/plain": [
       "0    nnnn-n-n-n-n-n-nn--nnnnn\n",
       "1    nnn--nnn--n-n-n------nn-\n",
       "2    p-nnnnnn----nn-n--------\n",
       "3    nnn-nnnnn-n--n-n----n---\n",
       "4    nnn--nnn--n-n--p-------n\n",
       "dtype: object"
      ]
     },
     "execution_count": 232,
     "metadata": {},
     "output_type": "execute_result"
    }
   ],
   "source": [
    "resultsdata.applymap(lambda x: \\\n",
    "          \"n\" if \"negativo\" == x else\\\n",
    "          \"p\" if x == \"positivo\" else \"-\").apply(lambda x: \"\".join(x.values), 1).head()"
   ]
  },
  {
   "cell_type": "code",
   "execution_count": 233,
   "metadata": {},
   "outputs": [
    {
     "data": {
      "text/plain": [
       "TxYear  BD_ID   \n",
       "2009.0  MDR15-17     1\n",
       "2014.0  MDR14-16    40\n",
       "2015.0  MDR15-17    33\n",
       "2016.0  MDR16-18    53\n",
       "2017.0  MDR16-18     1\n",
       "nan     MDR14-16     1\n",
       "        MDR15-17     6\n",
       "        MDR16-18    22\n",
       "dtype: int64"
      ]
     },
     "execution_count": 233,
     "metadata": {},
     "output_type": "execute_result"
    }
   ],
   "source": [
    "mdrtb.assign(TxYear = lambda x: x.TxDate_Year.astype(str)).groupby([\"TxYear\", \"BD_ID\"], observed=False).apply(len)"
   ]
  },
  {
   "cell_type": "code",
   "execution_count": 234,
   "metadata": {},
   "outputs": [
    {
     "data": {
      "text/plain": [
       "MDR16-18    76\n",
       "MDR14-16    41\n",
       "MDR15-17    40\n",
       "Name: BD_ID, dtype: int64"
      ]
     },
     "execution_count": 234,
     "metadata": {},
     "output_type": "execute_result"
    }
   ],
   "source": [
    "mdrtb.BD_ID.value_counts(dropna=False)"
   ]
  },
  {
   "cell_type": "code",
   "execution_count": 235,
   "metadata": {},
   "outputs": [],
   "source": [
    "mdrcx = mdrtb.assign(date = lambda x: x.Year+2000).groupby([\"date\", \"deptocode\"]).mdrProbCured.apply(lambda x: x.sum() / len(x) if len(x)>0 else 0)\\\n",
    ".rename_axis(index={\"deptocode\": \"department\"}).rename(\"MDR Probably Cured_rate_d\")"
   ]
  },
  {
   "cell_type": "code",
   "execution_count": 236,
   "metadata": {},
   "outputs": [
    {
     "data": {
      "text/plain": [
       "date  department\n",
       "2014  1.0           0.571429\n",
       "      2.0           1.000000\n",
       "      5.0           0.615385\n",
       "      9.0           0.000000\n",
       "      10.0          0.600000\n",
       "      11.0          0.000000\n",
       "      12.0          0.875000\n",
       "      13.0          1.000000\n",
       "      17.0          0.000000\n",
       "2015  1.0           0.250000\n",
       "      5.0           0.111111\n",
       "      9.0           0.333333\n",
       "      10.0          0.333333\n",
       "      11.0          0.500000\n",
       "      12.0          0.666667\n",
       "      13.0          0.250000\n",
       "      15.0          0.000000\n",
       "      18.0          0.500000\n",
       "      21.0          0.000000\n",
       "      22.0          0.000000\n",
       "2016  1.0           0.250000\n",
       "      3.0           0.000000\n",
       "      5.0           0.214286\n",
       "      7.0           0.000000\n",
       "      8.0           0.000000\n",
       "      9.0           0.000000\n",
       "      10.0          0.333333\n",
       "      11.0          0.000000\n",
       "      12.0          0.086957\n",
       "      13.0          0.000000\n",
       "      14.0          0.000000\n",
       "      16.0          0.000000\n",
       "      17.0          0.000000\n",
       "      18.0          0.333333\n",
       "Name: MDR Probably Cured_rate_d, dtype: float64"
      ]
     },
     "execution_count": 236,
     "metadata": {},
     "output_type": "execute_result"
    }
   ],
   "source": [
    "mdrcx"
   ]
  },
  {
   "cell_type": "code",
   "execution_count": 238,
   "metadata": {},
   "outputs": [],
   "source": [
    "impact = pd.merge(makeFullIndex( notifsRate), makeFullIndex(mortrate), left_index=True, right_index=True, how=\"outer\")\\\n",
    "            .merge(makeFullIndex(txsrate), left_index=True, right_index=True, how=\"outer\")\\\n",
    "            .merge(makeFullIndex(tbhiv_txsrate), left_index=True, right_index=True, how=\"outer\")\\\n",
    "            .merge(makeFullIndex(tbhiv_mortrate), left_index=True, right_index=True, how=\"outer\")\\\n",
    "            .merge(makeFullIndex(mdrcx), left_index=True, right_index=True, how=\"outer\")\\\n",
    "            "
   ]
  },
  {
   "cell_type": "code",
   "execution_count": 239,
   "metadata": {},
   "outputs": [],
   "source": [
    "impact.to_csv(\"../../../Impact Evaluation/TB/impact.csv\")"
   ]
  },
  {
   "cell_type": "markdown",
   "metadata": {},
   "source": [
    "# Outcomes\n",
    "\n",
    "* Proportion of Cases Treated_value\n",
    "* Proportion of Cases in Prisons Treated_value\n",
    "* Proportion of HIV/TB Cases Treated_value\n",
    "* Proportion of TB Patients who Received HIV Test_value\n",
    "* ~~Proportion of New HIV Patients Starting IPT_value~~\n",
    "* Proportion of MDR Cases Treated_value\n",
    "* Proportion of Patients Receiving DST_value\n",
    "* ~~Proportion of MDR Cases completing at least 6 mo of therapy_value~~"
   ]
  },
  {
   "cell_type": "code",
   "execution_count": 240,
   "metadata": {},
   "outputs": [
    {
     "data": {
      "text/plain": [
       "count    132.000000\n",
       "mean       0.822073\n",
       "std        0.188971\n",
       "min        0.345455\n",
       "25%        0.702776\n",
       "50%        0.808546\n",
       "75%        0.896875\n",
       "max        1.769231\n",
       "dtype: float64"
      ]
     },
     "execution_count": 240,
     "metadata": {},
     "output_type": "execute_result"
    }
   ],
   "source": [
    "(initiatedTx / casesNotif.reset_index().groupby([\"date\", \"department\"])[\"Cases Notified_value_m\"].sum()).describe()"
   ]
  },
  {
   "cell_type": "code",
   "execution_count": 241,
   "metadata": {},
   "outputs": [
    {
     "data": {
      "text/plain": [
       "array(['ND', 'nd', nan, 'NR', '…', '….', 'MD', 'NRND', 'NE', 'N'],\n",
       "      dtype=object)"
      ]
     },
     "execution_count": 241,
     "metadata": {},
     "output_type": "execute_result"
    }
   ],
   "source": [
    "# FechaInicioTx <= 4 indica fechas inválidas o no disponibles\n",
    "notifs.FECHAINICIOTX[notifs.FECHAINICIOTX.map(lambda x: len(str(x))<=4)].unique()"
   ]
  },
  {
   "cell_type": "code",
   "execution_count": 242,
   "metadata": {},
   "outputs": [],
   "source": [
    "initTxNotifs = notifs[ notifs.FECHAINICIOTX.map(lambda x: len(str(x))<=4) &\n",
    "                     (notifs.Year<2018) & \n",
    "                     notifs.COD_MUNI.notna()].assign(municipality = lambda x: x.COD_MUNI.astype(int)).assign(date=lambda x: x.Year.astype(int))\\\n",
    "        .assign(department = lambda x: (np.floor(x.COD_MUNI/100)).astype(int) )\\\n",
    "        .groupby([\"date\", \"department\", \"municipality\"]).apply(len)"
   ]
  },
  {
   "cell_type": "code",
   "execution_count": 243,
   "metadata": {},
   "outputs": [],
   "source": [
    "initTxNotifs = initTxNotifs[initTxNotifs.index.get_level_values(1)!=0].fillna(0)"
   ]
  },
  {
   "cell_type": "code",
   "execution_count": 244,
   "metadata": {},
   "outputs": [],
   "source": [
    "propCasesTx =  (initTxNotifs / casesNotif).rename(\"Proportion of Cases Treated_value_m\")"
   ]
  },
  {
   "cell_type": "code",
   "execution_count": 245,
   "metadata": {},
   "outputs": [],
   "source": [
    "# Proportion of Cases in Prisons Treated_value\n",
    "propPPLTx = (ppltx / pplcases[\"Cases Notified in Prisons_value\"]).rename(\"Proportion of Cases in Prisons Treated_value_d\")"
   ]
  },
  {
   "cell_type": "code",
   "execution_count": 246,
   "metadata": {},
   "outputs": [],
   "source": [
    "# Proportion of HIV/TB Cases Treated_value\n",
    "temp = notifs[(notifs.FECHAINICIOTX.map(lambda x: len(str(x))<=4)) & (notifs.VIH == \"Reactive\") & (notifs.Year<2018) & notifs.COD_MUNI.notna()]\\\n",
    ".assign(municipality = lambda x: x.COD_MUNI.astype(int)).assign(date=lambda x: x.Year.astype(int))\\\n",
    ".assign(department = lambda x: (np.floor(x.COD_MUNI/100)).astype(int) ).groupby([\"date\", \"department\", \"municipality\"]).apply(len)\n",
    "\n",
    "propHIVTx = (temp / hivcases).rename(\"Proportion of HIV/TB Cases Treated_value_m\")"
   ]
  },
  {
   "cell_type": "code",
   "execution_count": 247,
   "metadata": {},
   "outputs": [],
   "source": [
    "# Proportion of TB Patients who Received HIV Test_value\n",
    "propTbHivDx = (tbhivTx / casesNotif).rename(\"Proportion of TB Patients who Received HIV Test_value\")"
   ]
  },
  {
   "cell_type": "code",
   "execution_count": 248,
   "metadata": {},
   "outputs": [],
   "source": [
    "propHivIPT = \\\n",
    "sicoinRM[(sicoinRM.Programa == \"16-PREVENCIÓN Y CONTROL DE ITS, VIH/SIDA\") &\n",
    "sicoinRM.Resultado.isin(\n",
    "       ['6.0-Paciente VIH positivo, con prueba diagnóstica de tuberculosis',\n",
    "       '6.0-Pacientes VIH positivos, con prueba diagnostica de Tuberculosis']\n",
    ") & (sicoinRM.LugarEjecutado.notna())].assign(date = lambda x: x.Year, municipality = lambda x: x.LugarCod.map(int))\\\n",
    ".assign(department = lambda x: np.floor(x.municipality/100).astype(int) )\\\n",
    ".groupby([\"date\", \"department\", \"municipality\"]).LugarEjecutado.sum()\\\n",
    ".rename(\"PLHIV Screened for TB_value_m\")\n"
   ]
  },
  {
   "cell_type": "code",
   "execution_count": 249,
   "metadata": {},
   "outputs": [],
   "source": [
    "# Proportion of New HIV Patients Starting IPT_value\n",
    "# HIV with IPT :  plhivipt"
   ]
  },
  {
   "cell_type": "code",
   "execution_count": 250,
   "metadata": {},
   "outputs": [
    {
     "data": {
      "text/html": [
       "<div>\n",
       "<style scoped>\n",
       "    .dataframe tbody tr th:only-of-type {\n",
       "        vertical-align: middle;\n",
       "    }\n",
       "\n",
       "    .dataframe tbody tr th {\n",
       "        vertical-align: top;\n",
       "    }\n",
       "\n",
       "    .dataframe thead th {\n",
       "        text-align: right;\n",
       "    }\n",
       "</style>\n",
       "<table border=\"1\" class=\"dataframe\">\n",
       "  <thead>\n",
       "    <tr style=\"text-align: right;\">\n",
       "      <th></th>\n",
       "      <th>Unnamed: 0</th>\n",
       "      <th>Programa</th>\n",
       "      <th>Subprograma</th>\n",
       "      <th>Proyecto</th>\n",
       "      <th>ActOb</th>\n",
       "      <th>Resultado</th>\n",
       "      <th>LugarCod</th>\n",
       "      <th>LocationNombre</th>\n",
       "      <th>Unidades</th>\n",
       "      <th>Inicial</th>\n",
       "      <th>Vigente</th>\n",
       "      <th>LugarEjecutado</th>\n",
       "      <th>Ejecutado</th>\n",
       "      <th>PorcEj</th>\n",
       "      <th>NBeneficiados</th>\n",
       "      <th>Year</th>\n",
       "      <th>Reporte_Programa</th>\n",
       "    </tr>\n",
       "  </thead>\n",
       "  <tbody>\n",
       "    <tr>\n",
       "      <th>1399</th>\n",
       "      <td>1399</td>\n",
       "      <td>16-PREVENCIÓN Y CONTROL DE ITS, VIH/SIDA</td>\n",
       "      <td>00-SIN SUBPROGRAMA</td>\n",
       "      <td>000-SIN PROYECTO</td>\n",
       "      <td>002-000-PERSONA CON DIAGNÓSTICO Y TRATAMIENTO ...</td>\n",
       "      <td>8.0-Paciente VIH positivo con tratamiento ARV</td>\n",
       "      <td>NaN</td>\n",
       "      <td>Paciente VIH positivo con tratamiento ARV</td>\n",
       "      <td>Persona</td>\n",
       "      <td>70496.0</td>\n",
       "      <td>64629.0</td>\n",
       "      <td>NaN</td>\n",
       "      <td>48188.0</td>\n",
       "      <td>74.56</td>\n",
       "      <td>0.0</td>\n",
       "      <td>2017</td>\n",
       "      <td>ENTIDAD = 11130009, PROGRAMA = 16</td>\n",
       "    </tr>\n",
       "    <tr>\n",
       "      <th>10111</th>\n",
       "      <td>10111</td>\n",
       "      <td>16-PREVENCIÓN Y CONTROL DE ITS, VIH/SIDA</td>\n",
       "      <td>00-SIN SUBPROGRAMA</td>\n",
       "      <td>000-SIN PROYECTO</td>\n",
       "      <td>002-000-PERSONA CON DIAGNÓSTICO Y TRATAMIENTO ...</td>\n",
       "      <td>8.0-Paciente VIH positivo con tratamiento ARV</td>\n",
       "      <td>NaN</td>\n",
       "      <td>Paciente VIH positivo con tratamiento ARV</td>\n",
       "      <td>Persona</td>\n",
       "      <td>70496.0</td>\n",
       "      <td>73132.0</td>\n",
       "      <td>NaN</td>\n",
       "      <td>60663.0</td>\n",
       "      <td>82.95</td>\n",
       "      <td>0.0</td>\n",
       "      <td>2018</td>\n",
       "      <td>ENTIDAD = 11130009, PROGRAMA = 16</td>\n",
       "    </tr>\n",
       "  </tbody>\n",
       "</table>\n",
       "</div>"
      ],
      "text/plain": [
       "       Unnamed: 0                                  Programa  \\\n",
       "1399         1399  16-PREVENCIÓN Y CONTROL DE ITS, VIH/SIDA   \n",
       "10111       10111  16-PREVENCIÓN Y CONTROL DE ITS, VIH/SIDA   \n",
       "\n",
       "              Subprograma          Proyecto  \\\n",
       "1399   00-SIN SUBPROGRAMA  000-SIN PROYECTO   \n",
       "10111  00-SIN SUBPROGRAMA  000-SIN PROYECTO   \n",
       "\n",
       "                                                   ActOb  \\\n",
       "1399   002-000-PERSONA CON DIAGNÓSTICO Y TRATAMIENTO ...   \n",
       "10111  002-000-PERSONA CON DIAGNÓSTICO Y TRATAMIENTO ...   \n",
       "\n",
       "                                           Resultado LugarCod  \\\n",
       "1399   8.0-Paciente VIH positivo con tratamiento ARV      NaN   \n",
       "10111  8.0-Paciente VIH positivo con tratamiento ARV      NaN   \n",
       "\n",
       "                                  LocationNombre Unidades  Inicial  Vigente  \\\n",
       "1399   Paciente VIH positivo con tratamiento ARV  Persona  70496.0  64629.0   \n",
       "10111  Paciente VIH positivo con tratamiento ARV  Persona  70496.0  73132.0   \n",
       "\n",
       "       LugarEjecutado  Ejecutado  PorcEj  NBeneficiados  Year  \\\n",
       "1399              NaN    48188.0   74.56            0.0  2017   \n",
       "10111             NaN    60663.0   82.95            0.0  2018   \n",
       "\n",
       "                        Reporte_Programa  \n",
       "1399   ENTIDAD = 11130009, PROGRAMA = 16  \n",
       "10111  ENTIDAD = 11130009, PROGRAMA = 16  "
      ]
     },
     "execution_count": 250,
     "metadata": {},
     "output_type": "execute_result"
    }
   ],
   "source": [
    "sicoinRM[(sicoinRM.Programa == \"16-PREVENCIÓN Y CONTROL DE ITS, VIH/SIDA\") &\n",
    "        sicoinRM.Resultado.isin([      '8.0-Paciente VIH positivo con tratamiento ARV'\n",
    "                                 #'1.0-Persona con diagnóstico y tratamiento de ITS, VIH/SIDA'\n",
    "                                ]) &\n",
    "        sicoinRM.LugarCod.isna()]"
   ]
  },
  {
   "cell_type": "code",
   "execution_count": 251,
   "metadata": {},
   "outputs": [],
   "source": [
    "# There is no data on how many new HIV cases have been found\n",
    "# sicoinRM[(sicoinRM.Programa == \"16-PREVENCIÓN Y CONTROL DE ITS, VIH/SIDA\")].Resultado.unique()"
   ]
  },
  {
   "cell_type": "code",
   "execution_count": 252,
   "metadata": {},
   "outputs": [],
   "source": [
    "# Proportion of MDR Cases Treated_value\n",
    "propMDRTx = ( mdrtx/mdrcases).rename(\"Proportion of MDR Cases Treated_value_d\")"
   ]
  },
  {
   "cell_type": "code",
   "execution_count": 253,
   "metadata": {},
   "outputs": [
    {
     "data": {
      "text/plain": [
       "array(['NOMBRES', 'DIRECCION', 'MUNICIPIO', 'DEPARTAMENTO',\n",
       "       'SERVICIODESALUD', 'SEXO', 'EDAD', 'RANGOEDAD', 'PESOLBS',\n",
       "       'PESOKG', 'CONDICIONINGRESO', 'FECHANOTIFICACION', 'FECHAINICIOTX',\n",
       "       'CLASIFICACION', 'VIH', 'ESQUEMA', 'CONTACTOS', 'OTRASPATOLOGIAS',\n",
       "       'YEAR', 'YearMonth', 'TIPODETBPEDIATRICOS', 'FECHAPRUEBAVIH',\n",
       "       'CONDICIONEGRESO', 'FECHAMUERTE', 'CAUSADEMUERTE',\n",
       "       'PACIENTEPRIVADOLIBERTAD', 'DEPORTADO', 'LOCALIZACIONTB',\n",
       "       'METODODX', 'CONTACTO_000_014', 'CONTACTO_MAYORA_015',\n",
       "       'CASOINDICE', 'DESARROLLOTBCLASIFICACION', 'EMPLEADOMSPAS',\n",
       "       'UNIDADDX', 'FALLECIDOS', 'CORRELATIVO', 'DAS', 'FECHANACIMIENTO',\n",
       "       'FECHAACTUAL', 'EDADDECADA', 'EDUCACION', 'PUEBLO', 'OCUPACION',\n",
       "       'NUEVACONDICIONINGRESO', 'FECHADX', 'NUEVOMETODODX', 'PDS',\n",
       "       'CONTACTO_000_0004', 'CONTACTO_MAYORA_005', 'QUIMIO_VIH',\n",
       "       'DBCATEGORY', 'DISTRITO', 'MIGRACION', 'CONDICIONPX',\n",
       "       'CAUSAMUERTE', 'TipoTB', 'MESNOTIFICACION', 'OTRASPATOLOGIAS_2',\n",
       "       'OTRASPATOLOGIAS_3', 'CONTACTO_000_004', 'CONTACTO_MAYORA005',\n",
       "       'TPC', 'TARV', 'LUGARTARV', 'INICIOTARV', 'REFIERE', 'BXPOSITIVAS',\n",
       "       'RESULTADOPDS', 'FECHAPDS', 'CONTROL2_RESULTADO', 'CONTROL2_FECHA',\n",
       "       'CONTROL4_RESULTADO', 'CONTROL4_FECHA', 'CONTROL6_RESULTADO',\n",
       "       'CONTROL6_FECHA', 'CULTIVO_RESULTADO', 'CULTIVO_FECHA',\n",
       "       'FECHAEGRESO', 'OBSERVACION', 'RESISTENCIA', 'FECHARESULTADOPDS',\n",
       "       'ID', 'X1', 'X2', 'X3', 'X4', 'GENEXPERT', 'FECHAGX', 'DIABETES',\n",
       "       'HIPERTENSION', 'CONTROL1_RESULTADO', 'CONTROL1_FECHA',\n",
       "       'CONTROL2_GX', 'CONTROL3_RESULTADO', 'CONTROL3_FECHA',\n",
       "       'CONTROL3_GX', 'CONTROL4_GX', 'CONTROL5_RESULTADO',\n",
       "       'CONTROL5_FECHA', 'CONTROL5_GX', 'CONTROL6_GX',\n",
       "       'CONTROL7_RESULTADO', 'CONTROL7_FECHA', 'CONTROL7_GX',\n",
       "       'OBSERVACIONES', 'PRIORIZACION', 'PESOLB', 'NotificationDate',\n",
       "       'YearMonth_', 'DEPTO_CORRECTED', 'i', 'COD_DEPT', 'COD_MUNI',\n",
       "       'Year', 'Tx'], dtype=object)"
      ]
     },
     "execution_count": 253,
     "metadata": {},
     "output_type": "execute_result"
    }
   ],
   "source": [
    "# Proportion of Patients Receiving DST_value\n",
    "notifs.columns.values"
   ]
  },
  {
   "cell_type": "code",
   "execution_count": 254,
   "metadata": {},
   "outputs": [],
   "source": [
    "casespds = notifs[ (notifs.FECHAPDS.map(lambda x: len(str(x))>4) | notifs.PDS.notna() | notifs.RESULTADOPDS.notna()) & \n",
    "        (notifs.Year<2018) & notifs.COD_MUNI.notna()\n",
    "      ].assign(municipality = lambda x: x.COD_MUNI).assign(date=lambda x: x.Year.astype(int))\\\n",
    "        .assign(department = lambda x: (np.floor(x.COD_MUNI/100)).astype(int) )\\\n",
    "        .groupby([\"date\", \"department\", \"municipality\"]).apply(len)"
   ]
  },
  {
   "cell_type": "code",
   "execution_count": 255,
   "metadata": {},
   "outputs": [
    {
     "data": {
      "text/plain": [
       "SI                     382\n",
       "SENSIBLE               117\n",
       "RESISTENTE INH          12\n",
       "CONTAMINADO              6\n",
       "RR                       4\n",
       "RESISTENTE R             4\n",
       "RESISTENTE INH,R         3\n",
       "MDR                      2\n",
       "ND                       1\n",
       "REISTENTE A R            1\n",
       "MONORESISTE A INH        1\n",
       "ACIDIFICADO              1\n",
       "ACIDIFICADA              1\n",
       "NO CRECIO                1\n",
       "RESISTENTE INH, STR      1\n",
       "Name: PDS, dtype: int64"
      ]
     },
     "execution_count": 255,
     "metadata": {},
     "output_type": "execute_result"
    }
   ],
   "source": [
    "notifs.PDS.value_counts()"
   ]
  },
  {
   "cell_type": "code",
   "execution_count": 256,
   "metadata": {},
   "outputs": [
    {
     "data": {
      "text/plain": [
       "486"
      ]
     },
     "execution_count": 256,
     "metadata": {},
     "output_type": "execute_result"
    }
   ],
   "source": [
    "casespds.sum()"
   ]
  },
  {
   "cell_type": "code",
   "execution_count": 257,
   "metadata": {},
   "outputs": [],
   "source": [
    "propDST = (casespds/casesNotif).fillna(0).rename(\"Proportion of Patients Receiving DST_value_m\")"
   ]
  },
  {
   "cell_type": "code",
   "execution_count": 258,
   "metadata": {},
   "outputs": [],
   "source": [
    "# Proportion of MDR Cases completing at least 6 mo of therapy_value"
   ]
  },
  {
   "cell_type": "code",
   "execution_count": 259,
   "metadata": {},
   "outputs": [],
   "source": [
    "# There is no information about Tx duration"
   ]
  },
  {
   "cell_type": "code",
   "execution_count": 260,
   "metadata": {},
   "outputs": [],
   "source": [
    "outcomes = pd.merge(makeFullIndex(propCasesTx), propPPLTx, left_index=True, right_index=True, how=\"outer\")\\\n",
    "            .merge(makeFullIndex(propHIVTx), left_index=True, right_index=True, how=\"outer\")\\\n",
    "            .merge(makeFullIndex(propTbHivDx), left_index=True, right_index=True, how=\"outer\")\\\n",
    "            .merge(makeFullIndex(propMDRTx), left_index=True, right_index=True, how=\"outer\")\\\n",
    "            .merge(makeFullIndex(propDST), left_index=True, right_index=True, how=\"outer\")\\\n",
    "            "
   ]
  },
  {
   "cell_type": "code",
   "execution_count": 261,
   "metadata": {},
   "outputs": [
    {
     "data": {
      "text/html": [
       "<div>\n",
       "<style scoped>\n",
       "    .dataframe tbody tr th:only-of-type {\n",
       "        vertical-align: middle;\n",
       "    }\n",
       "\n",
       "    .dataframe tbody tr th {\n",
       "        vertical-align: top;\n",
       "    }\n",
       "\n",
       "    .dataframe thead th {\n",
       "        text-align: right;\n",
       "    }\n",
       "</style>\n",
       "<table border=\"1\" class=\"dataframe\">\n",
       "  <thead>\n",
       "    <tr style=\"text-align: right;\">\n",
       "      <th></th>\n",
       "      <th></th>\n",
       "      <th></th>\n",
       "      <th>Proportion of Cases Treated_value_m</th>\n",
       "      <th>Proportion of Cases in Prisons Treated_value_d</th>\n",
       "      <th>Proportion of HIV/TB Cases Treated_value_m</th>\n",
       "      <th>Proportion of TB Patients who Received HIV Test_value</th>\n",
       "      <th>Proportion of MDR Cases Treated_value_d</th>\n",
       "      <th>Proportion of Patients Receiving DST_value_m</th>\n",
       "    </tr>\n",
       "    <tr>\n",
       "      <th>date</th>\n",
       "      <th>department</th>\n",
       "      <th>municipality</th>\n",
       "      <th></th>\n",
       "      <th></th>\n",
       "      <th></th>\n",
       "      <th></th>\n",
       "      <th></th>\n",
       "      <th></th>\n",
       "    </tr>\n",
       "  </thead>\n",
       "  <tbody>\n",
       "    <tr>\n",
       "      <th rowspan=\"5\" valign=\"top\">2012</th>\n",
       "      <th rowspan=\"5\" valign=\"top\">1</th>\n",
       "      <th>101</th>\n",
       "      <td>0.415094</td>\n",
       "      <td>NaN</td>\n",
       "      <td>0.290323</td>\n",
       "      <td>NaN</td>\n",
       "      <td>NaN</td>\n",
       "      <td>0.0</td>\n",
       "    </tr>\n",
       "    <tr>\n",
       "      <th>102</th>\n",
       "      <td>0.600000</td>\n",
       "      <td>NaN</td>\n",
       "      <td>NaN</td>\n",
       "      <td>NaN</td>\n",
       "      <td>NaN</td>\n",
       "      <td>0.0</td>\n",
       "    </tr>\n",
       "    <tr>\n",
       "      <th>103</th>\n",
       "      <td>0.400000</td>\n",
       "      <td>NaN</td>\n",
       "      <td>0.333333</td>\n",
       "      <td>NaN</td>\n",
       "      <td>NaN</td>\n",
       "      <td>0.0</td>\n",
       "    </tr>\n",
       "    <tr>\n",
       "      <th>104</th>\n",
       "      <td>NaN</td>\n",
       "      <td>NaN</td>\n",
       "      <td>NaN</td>\n",
       "      <td>NaN</td>\n",
       "      <td>NaN</td>\n",
       "      <td>0.0</td>\n",
       "    </tr>\n",
       "    <tr>\n",
       "      <th>105</th>\n",
       "      <td>0.750000</td>\n",
       "      <td>NaN</td>\n",
       "      <td>NaN</td>\n",
       "      <td>NaN</td>\n",
       "      <td>NaN</td>\n",
       "      <td>0.0</td>\n",
       "    </tr>\n",
       "  </tbody>\n",
       "</table>\n",
       "</div>"
      ],
      "text/plain": [
       "                              Proportion of Cases Treated_value_m  \\\n",
       "date department municipality                                        \n",
       "2012 1          101                                      0.415094   \n",
       "                102                                      0.600000   \n",
       "                103                                      0.400000   \n",
       "                104                                           NaN   \n",
       "                105                                      0.750000   \n",
       "\n",
       "                              Proportion of Cases in Prisons Treated_value_d  \\\n",
       "date department municipality                                                   \n",
       "2012 1          101                                                      NaN   \n",
       "                102                                                      NaN   \n",
       "                103                                                      NaN   \n",
       "                104                                                      NaN   \n",
       "                105                                                      NaN   \n",
       "\n",
       "                              Proportion of HIV/TB Cases Treated_value_m  \\\n",
       "date department municipality                                               \n",
       "2012 1          101                                             0.290323   \n",
       "                102                                                  NaN   \n",
       "                103                                             0.333333   \n",
       "                104                                                  NaN   \n",
       "                105                                                  NaN   \n",
       "\n",
       "                              Proportion of TB Patients who Received HIV Test_value  \\\n",
       "date department municipality                                                          \n",
       "2012 1          101                                                         NaN       \n",
       "                102                                                         NaN       \n",
       "                103                                                         NaN       \n",
       "                104                                                         NaN       \n",
       "                105                                                         NaN       \n",
       "\n",
       "                              Proportion of MDR Cases Treated_value_d  \\\n",
       "date department municipality                                            \n",
       "2012 1          101                                               NaN   \n",
       "                102                                               NaN   \n",
       "                103                                               NaN   \n",
       "                104                                               NaN   \n",
       "                105                                               NaN   \n",
       "\n",
       "                              Proportion of Patients Receiving DST_value_m  \n",
       "date department municipality                                                \n",
       "2012 1          101                                                    0.0  \n",
       "                102                                                    0.0  \n",
       "                103                                                    0.0  \n",
       "                104                                                    0.0  \n",
       "                105                                                    0.0  "
      ]
     },
     "execution_count": 261,
     "metadata": {},
     "output_type": "execute_result"
    }
   ],
   "source": [
    "outcomes.head()"
   ]
  },
  {
   "cell_type": "code",
   "execution_count": 262,
   "metadata": {},
   "outputs": [],
   "source": [
    "outcomes.to_csv(\"../../../Impact Evaluation/TB/outcomes.csv\")"
   ]
  },
  {
   "cell_type": "code",
   "execution_count": null,
   "metadata": {},
   "outputs": [],
   "source": []
  },
  {
   "cell_type": "code",
   "execution_count": null,
   "metadata": {},
   "outputs": [],
   "source": []
  }
 ],
 "metadata": {
  "kernelspec": {
   "display_name": "Python 3",
   "language": "python",
   "name": "python3"
  },
  "language_info": {
   "codemirror_mode": {
    "name": "ipython",
    "version": 3
   },
   "file_extension": ".py",
   "mimetype": "text/x-python",
   "name": "python",
   "nbconvert_exporter": "python",
   "pygments_lexer": "ipython3",
   "version": "3.6.8"
  }
 },
 "nbformat": 4,
 "nbformat_minor": 2
}
